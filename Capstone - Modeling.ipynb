{
 "cells": [
  {
   "cell_type": "markdown",
   "id": "c18dad95",
   "metadata": {},
   "source": [
    "# Data Modeling"
   ]
  },
  {
   "cell_type": "markdown",
   "id": "4c6f26aa",
   "metadata": {},
   "source": [
    "In this notebook, I will model the credit risk dataset using three models:\n",
    "\n",
    "    1. Logistic Regression\n",
    "    2. K-Nearest Neighbor Model\n",
    "    3. Decision Tree Classifier\n",
    "    4. Catboost \n",
    "    \n",
    "For each model:\n",
    "\n",
    "    1. The train-test split will be 80%-20% \n",
    "    2. Accuracy of the models will be evaluated using accuracy score, classification report, and confusion matrix\n",
    "    3. Hypertuning of the Parameters will be done using the RandomizedSearchCV\n",
    "    4. For the Logistic Regression and Catboost models Feature Importance will be graphed and calulated\n",
    "    5. Dataset will be filtered to borrowers who haven't defaulted before to see if the accuracy of the models change\n"
   ]
  },
  {
   "cell_type": "code",
   "execution_count": 3,
   "id": "4f1b26a3",
   "metadata": {},
   "outputs": [
    {
     "name": "stdout",
     "output_type": "stream",
     "text": [
      "Requirement already satisfied: catboost in c:\\users\\abhijit pawar\\anaconda3\\lib\\site-packages (1.0.4)\n",
      "Requirement already satisfied: six in c:\\users\\abhijit pawar\\anaconda3\\lib\\site-packages (from catboost) (1.15.0)\n",
      "Requirement already satisfied: matplotlib in c:\\users\\abhijit pawar\\anaconda3\\lib\\site-packages (from catboost) (3.3.4)\n",
      "Requirement already satisfied: graphviz in c:\\users\\abhijit pawar\\anaconda3\\lib\\site-packages (from catboost) (0.19.1)\n",
      "Requirement already satisfied: plotly in c:\\users\\abhijit pawar\\anaconda3\\lib\\site-packages (from catboost) (5.6.0)\n",
      "Requirement already satisfied: pandas>=0.24.0 in c:\\users\\abhijit pawar\\anaconda3\\lib\\site-packages (from catboost) (1.2.4)\n",
      "Requirement already satisfied: scipy in c:\\users\\abhijit pawar\\anaconda3\\lib\\site-packages (from catboost) (1.6.2)\n",
      "Requirement already satisfied: numpy>=1.16.0 in c:\\users\\abhijit pawar\\anaconda3\\lib\\site-packages (from catboost) (1.20.1)\n",
      "Requirement already satisfied: python-dateutil>=2.7.3 in c:\\users\\abhijit pawar\\anaconda3\\lib\\site-packages (from pandas>=0.24.0->catboost) (2.8.1)\n",
      "Requirement already satisfied: pytz>=2017.3 in c:\\users\\abhijit pawar\\anaconda3\\lib\\site-packages (from pandas>=0.24.0->catboost) (2021.1)\n",
      "Requirement already satisfied: pyparsing!=2.0.4,!=2.1.2,!=2.1.6,>=2.0.3 in c:\\users\\abhijit pawar\\anaconda3\\lib\\site-packages (from matplotlib->catboost) (2.4.7)\n",
      "Requirement already satisfied: cycler>=0.10 in c:\\users\\abhijit pawar\\anaconda3\\lib\\site-packages (from matplotlib->catboost) (0.10.0)\n",
      "Requirement already satisfied: kiwisolver>=1.0.1 in c:\\users\\abhijit pawar\\anaconda3\\lib\\site-packages (from matplotlib->catboost) (1.3.1)\n",
      "Requirement already satisfied: pillow>=6.2.0 in c:\\users\\abhijit pawar\\anaconda3\\lib\\site-packages (from matplotlib->catboost) (8.2.0)\n",
      "Requirement already satisfied: tenacity>=6.2.0 in c:\\users\\abhijit pawar\\anaconda3\\lib\\site-packages (from plotly->catboost) (8.0.1)\n"
     ]
    }
   ],
   "source": [
    "! pip install catboost"
   ]
  },
  {
   "cell_type": "markdown",
   "id": "c32d4e63",
   "metadata": {},
   "source": [
    "# The Data & Cleanup"
   ]
  },
  {
   "cell_type": "markdown",
   "id": "b5f62bd4",
   "metadata": {},
   "source": [
    "To start off it is important to important to upload the dataset, clean it, and see the data type of the columns in the dataset. Furthermore it is important to see if any columns have any null values, and ways in which we can fill those null values to make our model give the proper and most accurate results. "
   ]
  },
  {
   "cell_type": "code",
   "execution_count": 4,
   "id": "ff0d8872",
   "metadata": {},
   "outputs": [],
   "source": [
    "import numpy as np\n",
    "import pandas as pd\n",
    "import seaborn as sns\n",
    "import matplotlib.pyplot as plt\n",
    "from sklearn import model_selection,linear_model, metrics, neighbors, tree\n",
    "import pydotplus\n",
    "from catboost import CatBoostClassifier\n"
   ]
  },
  {
   "cell_type": "code",
   "execution_count": 5,
   "id": "4515fdba",
   "metadata": {},
   "outputs": [],
   "source": [
    "from sklearn.preprocessing import StandardScaler\n",
    "from sklearn.model_selection import train_test_split, GridSearchCV, RandomizedSearchCV\n",
    "from sklearn.preprocessing import MinMaxScaler\n",
    "from sklearn.linear_model import LogisticRegression\n",
    "from sklearn.metrics import auc, accuracy_score, confusion_matrix, roc_auc_score, classification_report, roc_curve\n",
    "from sklearn.neighbors import KNeighborsClassifier\n",
    "from sklearn.tree import DecisionTreeClassifier\n",
    "from sklearn.inspection import permutation_importance"
   ]
  },
  {
   "cell_type": "code",
   "execution_count": 6,
   "id": "c1796702",
   "metadata": {},
   "outputs": [],
   "source": [
    "df = pd.read_csv('credit risk.csv')"
   ]
  },
  {
   "cell_type": "code",
   "execution_count": 7,
   "id": "538dffde",
   "metadata": {},
   "outputs": [
    {
     "data": {
      "text/html": [
       "<div>\n",
       "<style scoped>\n",
       "    .dataframe tbody tr th:only-of-type {\n",
       "        vertical-align: middle;\n",
       "    }\n",
       "\n",
       "    .dataframe tbody tr th {\n",
       "        vertical-align: top;\n",
       "    }\n",
       "\n",
       "    .dataframe thead th {\n",
       "        text-align: right;\n",
       "    }\n",
       "</style>\n",
       "<table border=\"1\" class=\"dataframe\">\n",
       "  <thead>\n",
       "    <tr style=\"text-align: right;\">\n",
       "      <th></th>\n",
       "      <th>person_age</th>\n",
       "      <th>person_income</th>\n",
       "      <th>person_home_ownership</th>\n",
       "      <th>person_emp_length</th>\n",
       "      <th>loan_intent</th>\n",
       "      <th>loan_grade</th>\n",
       "      <th>loan_amnt</th>\n",
       "      <th>loan_int_rate</th>\n",
       "      <th>loan_status</th>\n",
       "      <th>loan_percent_income</th>\n",
       "      <th>cb_person_default_on_file</th>\n",
       "      <th>cb_person_cred_hist_length</th>\n",
       "    </tr>\n",
       "  </thead>\n",
       "  <tbody>\n",
       "    <tr>\n",
       "      <th>0</th>\n",
       "      <td>22</td>\n",
       "      <td>59000</td>\n",
       "      <td>RENT</td>\n",
       "      <td>123.0</td>\n",
       "      <td>PERSONAL</td>\n",
       "      <td>D</td>\n",
       "      <td>35000</td>\n",
       "      <td>16.02</td>\n",
       "      <td>1</td>\n",
       "      <td>0.59</td>\n",
       "      <td>Y</td>\n",
       "      <td>3</td>\n",
       "    </tr>\n",
       "    <tr>\n",
       "      <th>1</th>\n",
       "      <td>21</td>\n",
       "      <td>9600</td>\n",
       "      <td>OWN</td>\n",
       "      <td>5.0</td>\n",
       "      <td>EDUCATION</td>\n",
       "      <td>B</td>\n",
       "      <td>1000</td>\n",
       "      <td>11.14</td>\n",
       "      <td>0</td>\n",
       "      <td>0.10</td>\n",
       "      <td>N</td>\n",
       "      <td>2</td>\n",
       "    </tr>\n",
       "    <tr>\n",
       "      <th>2</th>\n",
       "      <td>25</td>\n",
       "      <td>9600</td>\n",
       "      <td>MORTGAGE</td>\n",
       "      <td>1.0</td>\n",
       "      <td>MEDICAL</td>\n",
       "      <td>C</td>\n",
       "      <td>5500</td>\n",
       "      <td>12.87</td>\n",
       "      <td>1</td>\n",
       "      <td>0.57</td>\n",
       "      <td>N</td>\n",
       "      <td>3</td>\n",
       "    </tr>\n",
       "    <tr>\n",
       "      <th>3</th>\n",
       "      <td>23</td>\n",
       "      <td>65500</td>\n",
       "      <td>RENT</td>\n",
       "      <td>4.0</td>\n",
       "      <td>MEDICAL</td>\n",
       "      <td>C</td>\n",
       "      <td>35000</td>\n",
       "      <td>15.23</td>\n",
       "      <td>1</td>\n",
       "      <td>0.53</td>\n",
       "      <td>N</td>\n",
       "      <td>2</td>\n",
       "    </tr>\n",
       "    <tr>\n",
       "      <th>4</th>\n",
       "      <td>24</td>\n",
       "      <td>54400</td>\n",
       "      <td>RENT</td>\n",
       "      <td>8.0</td>\n",
       "      <td>MEDICAL</td>\n",
       "      <td>C</td>\n",
       "      <td>35000</td>\n",
       "      <td>14.27</td>\n",
       "      <td>1</td>\n",
       "      <td>0.55</td>\n",
       "      <td>Y</td>\n",
       "      <td>4</td>\n",
       "    </tr>\n",
       "  </tbody>\n",
       "</table>\n",
       "</div>"
      ],
      "text/plain": [
       "   person_age  person_income person_home_ownership  person_emp_length  \\\n",
       "0          22          59000                  RENT              123.0   \n",
       "1          21           9600                   OWN                5.0   \n",
       "2          25           9600              MORTGAGE                1.0   \n",
       "3          23          65500                  RENT                4.0   \n",
       "4          24          54400                  RENT                8.0   \n",
       "\n",
       "  loan_intent loan_grade  loan_amnt  loan_int_rate  loan_status  \\\n",
       "0    PERSONAL          D      35000          16.02            1   \n",
       "1   EDUCATION          B       1000          11.14            0   \n",
       "2     MEDICAL          C       5500          12.87            1   \n",
       "3     MEDICAL          C      35000          15.23            1   \n",
       "4     MEDICAL          C      35000          14.27            1   \n",
       "\n",
       "   loan_percent_income cb_person_default_on_file  cb_person_cred_hist_length  \n",
       "0                 0.59                         Y                           3  \n",
       "1                 0.10                         N                           2  \n",
       "2                 0.57                         N                           3  \n",
       "3                 0.53                         N                           2  \n",
       "4                 0.55                         Y                           4  "
      ]
     },
     "execution_count": 7,
     "metadata": {},
     "output_type": "execute_result"
    }
   ],
   "source": [
    "df.head()"
   ]
  },
  {
   "cell_type": "code",
   "execution_count": 8,
   "id": "0e302489",
   "metadata": {},
   "outputs": [],
   "source": [
    "# Renaming Columns\n",
    "df = df.rename(index=str, columns={\"person_age\":\"Age\", \"person_income\":\"Income\", \"person_home_ownership\":\"home ownership\", \"person_emp_length\":\"Years_Employed\",\"loan_intent\":\"intent\",\"loan_amnt\":\"Amount\",\"loan_int_rate\":\"Rate\",\"loan_status\":\"Default\",\"loan_percent_income\":\"Loan_Percent_Income\",\"cb_person_default_on_file\":\"default on file\",\"cb_person_cred_hist_length\":\"Credit_History\",\"loan_grade\":\"grade\"})"
   ]
  },
  {
   "cell_type": "code",
   "execution_count": 9,
   "id": "56e9900b",
   "metadata": {},
   "outputs": [
    {
     "data": {
      "text/html": [
       "<div>\n",
       "<style scoped>\n",
       "    .dataframe tbody tr th:only-of-type {\n",
       "        vertical-align: middle;\n",
       "    }\n",
       "\n",
       "    .dataframe tbody tr th {\n",
       "        vertical-align: top;\n",
       "    }\n",
       "\n",
       "    .dataframe thead th {\n",
       "        text-align: right;\n",
       "    }\n",
       "</style>\n",
       "<table border=\"1\" class=\"dataframe\">\n",
       "  <thead>\n",
       "    <tr style=\"text-align: right;\">\n",
       "      <th></th>\n",
       "      <th>Age</th>\n",
       "      <th>Income</th>\n",
       "      <th>home ownership</th>\n",
       "      <th>Years_Employed</th>\n",
       "      <th>intent</th>\n",
       "      <th>grade</th>\n",
       "      <th>Amount</th>\n",
       "      <th>Rate</th>\n",
       "      <th>Default</th>\n",
       "      <th>Loan_Percent_Income</th>\n",
       "      <th>default on file</th>\n",
       "      <th>Credit_History</th>\n",
       "    </tr>\n",
       "  </thead>\n",
       "  <tbody>\n",
       "    <tr>\n",
       "      <th>0</th>\n",
       "      <td>22</td>\n",
       "      <td>59000</td>\n",
       "      <td>RENT</td>\n",
       "      <td>123.0</td>\n",
       "      <td>PERSONAL</td>\n",
       "      <td>D</td>\n",
       "      <td>35000</td>\n",
       "      <td>16.02</td>\n",
       "      <td>1</td>\n",
       "      <td>0.59</td>\n",
       "      <td>Y</td>\n",
       "      <td>3</td>\n",
       "    </tr>\n",
       "    <tr>\n",
       "      <th>1</th>\n",
       "      <td>21</td>\n",
       "      <td>9600</td>\n",
       "      <td>OWN</td>\n",
       "      <td>5.0</td>\n",
       "      <td>EDUCATION</td>\n",
       "      <td>B</td>\n",
       "      <td>1000</td>\n",
       "      <td>11.14</td>\n",
       "      <td>0</td>\n",
       "      <td>0.10</td>\n",
       "      <td>N</td>\n",
       "      <td>2</td>\n",
       "    </tr>\n",
       "    <tr>\n",
       "      <th>2</th>\n",
       "      <td>25</td>\n",
       "      <td>9600</td>\n",
       "      <td>MORTGAGE</td>\n",
       "      <td>1.0</td>\n",
       "      <td>MEDICAL</td>\n",
       "      <td>C</td>\n",
       "      <td>5500</td>\n",
       "      <td>12.87</td>\n",
       "      <td>1</td>\n",
       "      <td>0.57</td>\n",
       "      <td>N</td>\n",
       "      <td>3</td>\n",
       "    </tr>\n",
       "    <tr>\n",
       "      <th>3</th>\n",
       "      <td>23</td>\n",
       "      <td>65500</td>\n",
       "      <td>RENT</td>\n",
       "      <td>4.0</td>\n",
       "      <td>MEDICAL</td>\n",
       "      <td>C</td>\n",
       "      <td>35000</td>\n",
       "      <td>15.23</td>\n",
       "      <td>1</td>\n",
       "      <td>0.53</td>\n",
       "      <td>N</td>\n",
       "      <td>2</td>\n",
       "    </tr>\n",
       "    <tr>\n",
       "      <th>4</th>\n",
       "      <td>24</td>\n",
       "      <td>54400</td>\n",
       "      <td>RENT</td>\n",
       "      <td>8.0</td>\n",
       "      <td>MEDICAL</td>\n",
       "      <td>C</td>\n",
       "      <td>35000</td>\n",
       "      <td>14.27</td>\n",
       "      <td>1</td>\n",
       "      <td>0.55</td>\n",
       "      <td>Y</td>\n",
       "      <td>4</td>\n",
       "    </tr>\n",
       "  </tbody>\n",
       "</table>\n",
       "</div>"
      ],
      "text/plain": [
       "   Age  Income home ownership  Years_Employed     intent grade  Amount   Rate  \\\n",
       "0   22   59000           RENT           123.0   PERSONAL     D   35000  16.02   \n",
       "1   21    9600            OWN             5.0  EDUCATION     B    1000  11.14   \n",
       "2   25    9600       MORTGAGE             1.0    MEDICAL     C    5500  12.87   \n",
       "3   23   65500           RENT             4.0    MEDICAL     C   35000  15.23   \n",
       "4   24   54400           RENT             8.0    MEDICAL     C   35000  14.27   \n",
       "\n",
       "   Default  Loan_Percent_Income default on file  Credit_History  \n",
       "0        1                 0.59               Y               3  \n",
       "1        0                 0.10               N               2  \n",
       "2        1                 0.57               N               3  \n",
       "3        1                 0.53               N               2  \n",
       "4        1                 0.55               Y               4  "
      ]
     },
     "execution_count": 9,
     "metadata": {},
     "output_type": "execute_result"
    }
   ],
   "source": [
    "df.head()"
   ]
  },
  {
   "cell_type": "code",
   "execution_count": 10,
   "id": "7dc90d80",
   "metadata": {},
   "outputs": [
    {
     "name": "stdout",
     "output_type": "stream",
     "text": [
      "       Age  Income home ownership  Years_Employed           intent grade  \\\n",
      "0       22   59000           RENT           123.0         PERSONAL     D   \n",
      "1       21    9600            OWN             5.0        EDUCATION     B   \n",
      "2       25    9600       MORTGAGE             1.0          MEDICAL     C   \n",
      "3       23   65500           RENT             4.0          MEDICAL     C   \n",
      "4       24   54400           RENT             8.0          MEDICAL     C   \n",
      "...    ...     ...            ...             ...              ...   ...   \n",
      "32576   57   53000       MORTGAGE             1.0         PERSONAL     C   \n",
      "32577   54  120000       MORTGAGE             4.0         PERSONAL     A   \n",
      "32578   65   76000           RENT             3.0  HOMEIMPROVEMENT     B   \n",
      "32579   56  150000       MORTGAGE             5.0         PERSONAL     B   \n",
      "32580   66   42000           RENT             2.0          MEDICAL     B   \n",
      "\n",
      "       Amount   Rate  Default  Loan_Percent_Income default on file  \\\n",
      "0       35000  16.02        1                 0.59               Y   \n",
      "1        1000  11.14        0                 0.10               N   \n",
      "2        5500  12.87        1                 0.57               N   \n",
      "3       35000  15.23        1                 0.53               N   \n",
      "4       35000  14.27        1                 0.55               Y   \n",
      "...       ...    ...      ...                  ...             ...   \n",
      "32576    5800  13.16        0                 0.11               N   \n",
      "32577   17625   7.49        0                 0.15               N   \n",
      "32578   35000  10.99        1                 0.46               N   \n",
      "32579   15000  11.48        0                 0.10               N   \n",
      "32580    6475   9.99        0                 0.15               N   \n",
      "\n",
      "       Credit_History  \n",
      "0                   3  \n",
      "1                   2  \n",
      "2                   3  \n",
      "3                   2  \n",
      "4                   4  \n",
      "...               ...  \n",
      "32576              30  \n",
      "32577              19  \n",
      "32578              28  \n",
      "32579              26  \n",
      "32580              30  \n",
      "\n",
      "[32581 rows x 12 columns]\n"
     ]
    }
   ],
   "source": [
    "print(df)"
   ]
  },
  {
   "cell_type": "code",
   "execution_count": 11,
   "id": "770df0f5",
   "metadata": {},
   "outputs": [
    {
     "data": {
      "text/plain": [
       "Age                      int64\n",
       "Income                   int64\n",
       "home ownership          object\n",
       "Years_Employed         float64\n",
       "intent                  object\n",
       "grade                   object\n",
       "Amount                   int64\n",
       "Rate                   float64\n",
       "Default                  int64\n",
       "Loan_Percent_Income    float64\n",
       "default on file         object\n",
       "Credit_History           int64\n",
       "dtype: object"
      ]
     },
     "execution_count": 11,
     "metadata": {},
     "output_type": "execute_result"
    }
   ],
   "source": [
    "df.dtypes"
   ]
  },
  {
   "cell_type": "code",
   "execution_count": 14,
   "id": "0176e4a5",
   "metadata": {},
   "outputs": [],
   "source": [
    "df['Rate'].fillna((df['Rate'].median()), inplace=True)\n",
    "df['Years_Employed'].fillna((df['Years_Employed'].median()), inplace=True)"
   ]
  },
  {
   "cell_type": "code",
   "execution_count": 15,
   "id": "682eabaa",
   "metadata": {},
   "outputs": [],
   "source": [
    "df = df[df['Age']<100]"
   ]
  },
  {
   "cell_type": "code",
   "execution_count": 16,
   "id": "ab3bfb8f",
   "metadata": {},
   "outputs": [],
   "source": [
    "df = df[df['Years_Employed']<=40]"
   ]
  },
  {
   "cell_type": "code",
   "execution_count": 17,
   "id": "83a710c4",
   "metadata": {},
   "outputs": [
    {
     "name": "stdout",
     "output_type": "stream",
     "text": [
      "       Age  Income home ownership  Years_Employed           intent grade  \\\n",
      "1       21    9600            OWN             5.0        EDUCATION     B   \n",
      "2       25    9600       MORTGAGE             1.0          MEDICAL     C   \n",
      "3       23   65500           RENT             4.0          MEDICAL     C   \n",
      "4       24   54400           RENT             8.0          MEDICAL     C   \n",
      "5       21    9900            OWN             2.0          VENTURE     A   \n",
      "...    ...     ...            ...             ...              ...   ...   \n",
      "32576   57   53000       MORTGAGE             1.0         PERSONAL     C   \n",
      "32577   54  120000       MORTGAGE             4.0         PERSONAL     A   \n",
      "32578   65   76000           RENT             3.0  HOMEIMPROVEMENT     B   \n",
      "32579   56  150000       MORTGAGE             5.0         PERSONAL     B   \n",
      "32580   66   42000           RENT             2.0          MEDICAL     B   \n",
      "\n",
      "       Amount   Rate  Default  Loan_Percent_Income default on file  \\\n",
      "1        1000  11.14        0                 0.10               N   \n",
      "2        5500  12.87        1                 0.57               N   \n",
      "3       35000  15.23        1                 0.53               N   \n",
      "4       35000  14.27        1                 0.55               Y   \n",
      "5        2500   7.14        1                 0.25               N   \n",
      "...       ...    ...      ...                  ...             ...   \n",
      "32576    5800  13.16        0                 0.11               N   \n",
      "32577   17625   7.49        0                 0.15               N   \n",
      "32578   35000  10.99        1                 0.46               N   \n",
      "32579   15000  11.48        0                 0.10               N   \n",
      "32580    6475   9.99        0                 0.15               N   \n",
      "\n",
      "       Credit_History  \n",
      "1                   2  \n",
      "2                   3  \n",
      "3                   2  \n",
      "4                   4  \n",
      "5                   2  \n",
      "...               ...  \n",
      "32576              30  \n",
      "32577              19  \n",
      "32578              28  \n",
      "32579              26  \n",
      "32580              30  \n",
      "\n",
      "[32573 rows x 12 columns]\n"
     ]
    }
   ],
   "source": [
    "print(df)"
   ]
  },
  {
   "cell_type": "markdown",
   "id": "409951a2",
   "metadata": {},
   "source": [
    "# Creating Dummy Variables"
   ]
  },
  {
   "cell_type": "markdown",
   "id": "0e8962b7",
   "metadata": {},
   "source": [
    "By Looking at the data types of the columns in this dataset there are four columns that aren't numerical. They are intent, home ownership, grade, and default of file. These are the columns for which dummy variables will need to be created. Before doing that it important to see the value counts for these columns."
   ]
  },
  {
   "cell_type": "code",
   "execution_count": 30,
   "id": "3c7a5471",
   "metadata": {},
   "outputs": [
    {
     "name": "stdout",
     "output_type": "stream",
     "text": [
      "A    10775\n",
      "B    10448\n",
      "C     6456\n",
      "D     3625\n",
      "E      964\n",
      "F      241\n",
      "G       64\n",
      "Name: grade, dtype: int64\n"
     ]
    }
   ],
   "source": [
    "print(df['grade'].value_counts())"
   ]
  },
  {
   "cell_type": "code",
   "execution_count": 31,
   "id": "e3134047",
   "metadata": {},
   "outputs": [
    {
     "name": "stdout",
     "output_type": "stream",
     "text": [
      "EDUCATION            6451\n",
      "MEDICAL              6070\n",
      "VENTURE              5716\n",
      "PERSONAL             5519\n",
      "DEBTCONSOLIDATION    5212\n",
      "HOMEIMPROVEMENT      3605\n",
      "Name: intent, dtype: int64\n"
     ]
    }
   ],
   "source": [
    "print(df['intent'].value_counts())"
   ]
  },
  {
   "cell_type": "code",
   "execution_count": 32,
   "id": "598a3994",
   "metadata": {},
   "outputs": [
    {
     "name": "stdout",
     "output_type": "stream",
     "text": [
      "RENT        16441\n",
      "MORTGAGE    13441\n",
      "OWN          2584\n",
      "OTHER         107\n",
      "Name: home ownership, dtype: int64\n"
     ]
    }
   ],
   "source": [
    "print(df['home ownership'].value_counts())"
   ]
  },
  {
   "cell_type": "code",
   "execution_count": 33,
   "id": "ad68928b",
   "metadata": {},
   "outputs": [
    {
     "name": "stdout",
     "output_type": "stream",
     "text": [
      "N    26829\n",
      "Y     5744\n",
      "Name: default on file, dtype: int64\n"
     ]
    }
   ],
   "source": [
    "print(df['default on file'].value_counts())"
   ]
  },
  {
   "cell_type": "code",
   "execution_count": 34,
   "id": "52a364e3",
   "metadata": {},
   "outputs": [],
   "source": [
    "Features = ['grade', 'intent', 'home ownership', 'default on file']\n",
    "df_features = df[Features]"
   ]
  },
  {
   "cell_type": "code",
   "execution_count": 36,
   "id": "ace5ef7a",
   "metadata": {},
   "outputs": [],
   "source": [
    "dummy = pd.get_dummies(df_features, drop_first=True)"
   ]
  },
  {
   "cell_type": "code",
   "execution_count": 37,
   "id": "8b464c97",
   "metadata": {},
   "outputs": [
    {
     "data": {
      "text/html": [
       "<div>\n",
       "<style scoped>\n",
       "    .dataframe tbody tr th:only-of-type {\n",
       "        vertical-align: middle;\n",
       "    }\n",
       "\n",
       "    .dataframe tbody tr th {\n",
       "        vertical-align: top;\n",
       "    }\n",
       "\n",
       "    .dataframe thead th {\n",
       "        text-align: right;\n",
       "    }\n",
       "</style>\n",
       "<table border=\"1\" class=\"dataframe\">\n",
       "  <thead>\n",
       "    <tr style=\"text-align: right;\">\n",
       "      <th></th>\n",
       "      <th>grade_B</th>\n",
       "      <th>grade_C</th>\n",
       "      <th>grade_D</th>\n",
       "      <th>grade_E</th>\n",
       "      <th>grade_F</th>\n",
       "      <th>grade_G</th>\n",
       "      <th>intent_EDUCATION</th>\n",
       "      <th>intent_HOMEIMPROVEMENT</th>\n",
       "      <th>intent_MEDICAL</th>\n",
       "      <th>intent_PERSONAL</th>\n",
       "      <th>intent_VENTURE</th>\n",
       "      <th>home ownership_OTHER</th>\n",
       "      <th>home ownership_OWN</th>\n",
       "      <th>home ownership_RENT</th>\n",
       "      <th>default on file_Y</th>\n",
       "    </tr>\n",
       "  </thead>\n",
       "  <tbody>\n",
       "    <tr>\n",
       "      <th>1</th>\n",
       "      <td>1</td>\n",
       "      <td>0</td>\n",
       "      <td>0</td>\n",
       "      <td>0</td>\n",
       "      <td>0</td>\n",
       "      <td>0</td>\n",
       "      <td>1</td>\n",
       "      <td>0</td>\n",
       "      <td>0</td>\n",
       "      <td>0</td>\n",
       "      <td>0</td>\n",
       "      <td>0</td>\n",
       "      <td>1</td>\n",
       "      <td>0</td>\n",
       "      <td>0</td>\n",
       "    </tr>\n",
       "    <tr>\n",
       "      <th>2</th>\n",
       "      <td>0</td>\n",
       "      <td>1</td>\n",
       "      <td>0</td>\n",
       "      <td>0</td>\n",
       "      <td>0</td>\n",
       "      <td>0</td>\n",
       "      <td>0</td>\n",
       "      <td>0</td>\n",
       "      <td>1</td>\n",
       "      <td>0</td>\n",
       "      <td>0</td>\n",
       "      <td>0</td>\n",
       "      <td>0</td>\n",
       "      <td>0</td>\n",
       "      <td>0</td>\n",
       "    </tr>\n",
       "    <tr>\n",
       "      <th>3</th>\n",
       "      <td>0</td>\n",
       "      <td>1</td>\n",
       "      <td>0</td>\n",
       "      <td>0</td>\n",
       "      <td>0</td>\n",
       "      <td>0</td>\n",
       "      <td>0</td>\n",
       "      <td>0</td>\n",
       "      <td>1</td>\n",
       "      <td>0</td>\n",
       "      <td>0</td>\n",
       "      <td>0</td>\n",
       "      <td>0</td>\n",
       "      <td>1</td>\n",
       "      <td>0</td>\n",
       "    </tr>\n",
       "    <tr>\n",
       "      <th>4</th>\n",
       "      <td>0</td>\n",
       "      <td>1</td>\n",
       "      <td>0</td>\n",
       "      <td>0</td>\n",
       "      <td>0</td>\n",
       "      <td>0</td>\n",
       "      <td>0</td>\n",
       "      <td>0</td>\n",
       "      <td>1</td>\n",
       "      <td>0</td>\n",
       "      <td>0</td>\n",
       "      <td>0</td>\n",
       "      <td>0</td>\n",
       "      <td>1</td>\n",
       "      <td>1</td>\n",
       "    </tr>\n",
       "    <tr>\n",
       "      <th>5</th>\n",
       "      <td>0</td>\n",
       "      <td>0</td>\n",
       "      <td>0</td>\n",
       "      <td>0</td>\n",
       "      <td>0</td>\n",
       "      <td>0</td>\n",
       "      <td>0</td>\n",
       "      <td>0</td>\n",
       "      <td>0</td>\n",
       "      <td>0</td>\n",
       "      <td>1</td>\n",
       "      <td>0</td>\n",
       "      <td>1</td>\n",
       "      <td>0</td>\n",
       "      <td>0</td>\n",
       "    </tr>\n",
       "  </tbody>\n",
       "</table>\n",
       "</div>"
      ],
      "text/plain": [
       "   grade_B  grade_C  grade_D  grade_E  grade_F  grade_G  intent_EDUCATION  \\\n",
       "1        1        0        0        0        0        0                 1   \n",
       "2        0        1        0        0        0        0                 0   \n",
       "3        0        1        0        0        0        0                 0   \n",
       "4        0        1        0        0        0        0                 0   \n",
       "5        0        0        0        0        0        0                 0   \n",
       "\n",
       "   intent_HOMEIMPROVEMENT  intent_MEDICAL  intent_PERSONAL  intent_VENTURE  \\\n",
       "1                       0               0                0               0   \n",
       "2                       0               1                0               0   \n",
       "3                       0               1                0               0   \n",
       "4                       0               1                0               0   \n",
       "5                       0               0                0               1   \n",
       "\n",
       "   home ownership_OTHER  home ownership_OWN  home ownership_RENT  \\\n",
       "1                     0                   1                    0   \n",
       "2                     0                   0                    0   \n",
       "3                     0                   0                    1   \n",
       "4                     0                   0                    1   \n",
       "5                     0                   1                    0   \n",
       "\n",
       "   default on file_Y  \n",
       "1                  0  \n",
       "2                  0  \n",
       "3                  0  \n",
       "4                  1  \n",
       "5                  0  "
      ]
     },
     "execution_count": 37,
     "metadata": {},
     "output_type": "execute_result"
    }
   ],
   "source": [
    "dummy.head()"
   ]
  },
  {
   "cell_type": "code",
   "execution_count": 38,
   "id": "2cf9c1e7",
   "metadata": {},
   "outputs": [],
   "source": [
    "df = pd.concat([df, dummy], axis=1)"
   ]
  },
  {
   "cell_type": "code",
   "execution_count": 39,
   "id": "9ae4522c",
   "metadata": {},
   "outputs": [
    {
     "name": "stdout",
     "output_type": "stream",
     "text": [
      "       Age  Income home ownership  Years_Employed           intent grade  \\\n",
      "1       21    9600            OWN             5.0        EDUCATION     B   \n",
      "2       25    9600       MORTGAGE             1.0          MEDICAL     C   \n",
      "3       23   65500           RENT             4.0          MEDICAL     C   \n",
      "4       24   54400           RENT             8.0          MEDICAL     C   \n",
      "5       21    9900            OWN             2.0          VENTURE     A   \n",
      "...    ...     ...            ...             ...              ...   ...   \n",
      "32576   57   53000       MORTGAGE             1.0         PERSONAL     C   \n",
      "32577   54  120000       MORTGAGE             4.0         PERSONAL     A   \n",
      "32578   65   76000           RENT             3.0  HOMEIMPROVEMENT     B   \n",
      "32579   56  150000       MORTGAGE             5.0         PERSONAL     B   \n",
      "32580   66   42000           RENT             2.0          MEDICAL     B   \n",
      "\n",
      "       Amount   Rate  Default  Loan_Percent_Income  ... grade_G  \\\n",
      "1        1000  11.14        0                 0.10  ...       0   \n",
      "2        5500  12.87        1                 0.57  ...       0   \n",
      "3       35000  15.23        1                 0.53  ...       0   \n",
      "4       35000  14.27        1                 0.55  ...       0   \n",
      "5        2500   7.14        1                 0.25  ...       0   \n",
      "...       ...    ...      ...                  ...  ...     ...   \n",
      "32576    5800  13.16        0                 0.11  ...       0   \n",
      "32577   17625   7.49        0                 0.15  ...       0   \n",
      "32578   35000  10.99        1                 0.46  ...       0   \n",
      "32579   15000  11.48        0                 0.10  ...       0   \n",
      "32580    6475   9.99        0                 0.15  ...       0   \n",
      "\n",
      "       intent_EDUCATION  intent_HOMEIMPROVEMENT  intent_MEDICAL  \\\n",
      "1                     1                       0               0   \n",
      "2                     0                       0               1   \n",
      "3                     0                       0               1   \n",
      "4                     0                       0               1   \n",
      "5                     0                       0               0   \n",
      "...                 ...                     ...             ...   \n",
      "32576                 0                       0               0   \n",
      "32577                 0                       0               0   \n",
      "32578                 0                       1               0   \n",
      "32579                 0                       0               0   \n",
      "32580                 0                       0               1   \n",
      "\n",
      "       intent_PERSONAL  intent_VENTURE  home ownership_OTHER  \\\n",
      "1                    0               0                     0   \n",
      "2                    0               0                     0   \n",
      "3                    0               0                     0   \n",
      "4                    0               0                     0   \n",
      "5                    0               1                     0   \n",
      "...                ...             ...                   ...   \n",
      "32576                1               0                     0   \n",
      "32577                1               0                     0   \n",
      "32578                0               0                     0   \n",
      "32579                1               0                     0   \n",
      "32580                0               0                     0   \n",
      "\n",
      "       home ownership_OWN  home ownership_RENT  default on file_Y  \n",
      "1                       1                    0                  0  \n",
      "2                       0                    0                  0  \n",
      "3                       0                    1                  0  \n",
      "4                       0                    1                  1  \n",
      "5                       1                    0                  0  \n",
      "...                   ...                  ...                ...  \n",
      "32576                   0                    0                  0  \n",
      "32577                   0                    0                  0  \n",
      "32578                   0                    1                  0  \n",
      "32579                   0                    0                  0  \n",
      "32580                   0                    1                  0  \n",
      "\n",
      "[32573 rows x 27 columns]\n"
     ]
    }
   ],
   "source": [
    "print(df)"
   ]
  },
  {
   "cell_type": "code",
   "execution_count": 40,
   "id": "5b38b1d4",
   "metadata": {},
   "outputs": [
    {
     "name": "stdout",
     "output_type": "stream",
     "text": [
      "Default                   1.000000\n",
      "grade_D                   0.318865\n",
      "Loan_Percent_Income       0.316034\n",
      "Rate                      0.297993\n",
      "home ownership_RENT       0.238437\n",
      "grade_E                   0.180128\n",
      "default on file_Y         0.178995\n",
      "grade_F                   0.101845\n",
      "Amount                    0.083970\n",
      "grade_G                   0.082311\n",
      "intent_MEDICAL            0.056620\n",
      "intent_HOMEIMPROVEMENT    0.036591\n",
      "home ownership_OTHER      0.012541\n",
      "grade_C                  -0.012980\n",
      "intent_PERSONAL          -0.021236\n",
      "Credit_History           -0.023736\n",
      "Age                      -0.033144\n",
      "intent_EDUCATION         -0.055307\n",
      "intent_VENTURE           -0.078197\n",
      "grade_B                  -0.092144\n",
      "Years_Employed           -0.094748\n",
      "home ownership_OWN       -0.101986\n",
      "Income                   -0.272089\n",
      "Name: Default, dtype: float64\n"
     ]
    }
   ],
   "source": [
    "cor = df.corr(method = 'spearman')['Default'].sort_values(ascending =False)\n",
    "print(cor)"
   ]
  },
  {
   "cell_type": "markdown",
   "id": "141424c3",
   "metadata": {},
   "source": [
    "# Data Distribution"
   ]
  },
  {
   "cell_type": "markdown",
   "id": "b93c7931",
   "metadata": {},
   "source": [
    "The next step is to see how the nuemrical data is distributed and see if what if any kind of scalling is necessary for pre-processing."
   ]
  },
  {
   "cell_type": "code",
   "execution_count": 41,
   "id": "6b8acdf5",
   "metadata": {},
   "outputs": [
    {
     "data": {
      "text/plain": [
       "array([[<AxesSubplot:title={'center':'Age'}>]], dtype=object)"
      ]
     },
     "execution_count": 41,
     "metadata": {},
     "output_type": "execute_result"
    },
    {
     "data": {
      "image/png": "[encoded data removed]",
      "text/plain": [
       "<Figure size 432x288 with 1 Axes>"
      ]
     },
     "metadata": {
      "needs_background": "light"
     },
     "output_type": "display_data"
    }
   ],
   "source": [
    "df.hist(column = 'Age')"
   ]
  },
  {
   "cell_type": "code",
   "execution_count": 42,
   "id": "d13d1a80",
   "metadata": {},
   "outputs": [
    {
     "data": {
      "text/plain": [
       "array([[<AxesSubplot:title={'center':'Years_Employed'}>]], dtype=object)"
      ]
     },
     "execution_count": 42,
     "metadata": {},
     "output_type": "execute_result"
    },
    {
     "data": {
      "image/png": "[encoded data removed]",
      "text/plain": [
       "<Figure size 432x288 with 1 Axes>"
      ]
     },
     "metadata": {
      "needs_background": "light"
     },
     "output_type": "display_data"
    }
   ],
   "source": [
    "df.hist(column = 'Years_Employed')"
   ]
  },
  {
   "cell_type": "code",
   "execution_count": 43,
   "id": "67c7d62c",
   "metadata": {},
   "outputs": [
    {
     "data": {
      "text/plain": [
       "array([[<AxesSubplot:title={'center':'Rate'}>]], dtype=object)"
      ]
     },
     "execution_count": 43,
     "metadata": {},
     "output_type": "execute_result"
    },
    {
     "data": {
      "image/png": "[encoded data removed]",
      "text/plain": [
       "<Figure size 432x288 with 1 Axes>"
      ]
     },
     "metadata": {
      "needs_background": "light"
     },
     "output_type": "display_data"
    }
   ],
   "source": [
    "df.hist(column = 'Rate')"
   ]
  },
  {
   "cell_type": "code",
   "execution_count": 44,
   "id": "6eb624c8",
   "metadata": {},
   "outputs": [
    {
     "data": {
      "text/plain": [
       "array([[<AxesSubplot:title={'center':'Credit_History'}>]], dtype=object)"
      ]
     },
     "execution_count": 44,
     "metadata": {},
     "output_type": "execute_result"
    },
    {
     "data": {
      "image/png": "[encoded data removed]",
      "text/plain": [
       "<Figure size 432x288 with 1 Axes>"
      ]
     },
     "metadata": {
      "needs_background": "light"
     },
     "output_type": "display_data"
    }
   ],
   "source": [
    "df.hist(column = 'Credit_History')"
   ]
  },
  {
   "cell_type": "code",
   "execution_count": 45,
   "id": "d4492d43",
   "metadata": {},
   "outputs": [
    {
     "data": {
      "text/plain": [
       "array([[<AxesSubplot:title={'center':'Amount'}>]], dtype=object)"
      ]
     },
     "execution_count": 45,
     "metadata": {},
     "output_type": "execute_result"
    },
    {
     "data": {
      "image/png": "[encoded data removed]",
      "text/plain": [
       "<Figure size 432x288 with 1 Axes>"
      ]
     },
     "metadata": {
      "needs_background": "light"
     },
     "output_type": "display_data"
    }
   ],
   "source": [
    "df.hist(column = 'Amount')"
   ]
  },
  {
   "cell_type": "code",
   "execution_count": 46,
   "id": "35d3ea2e",
   "metadata": {},
   "outputs": [
    {
     "data": {
      "text/plain": [
       "array([[<AxesSubplot:title={'center':'Loan_Percent_Income'}>]],\n",
       "      dtype=object)"
      ]
     },
     "execution_count": 46,
     "metadata": {},
     "output_type": "execute_result"
    },
    {
     "data": {
      "image/png": "[encoded data removed]",
      "text/plain": [
       "<Figure size 432x288 with 1 Axes>"
      ]
     },
     "metadata": {
      "needs_background": "light"
     },
     "output_type": "display_data"
    }
   ],
   "source": [
    "df.hist(column = 'Loan_Percent_Income')"
   ]
  },
  {
   "cell_type": "code",
   "execution_count": 47,
   "id": "23222651",
   "metadata": {},
   "outputs": [
    {
     "data": {
      "text/plain": [
       "array([[<AxesSubplot:title={'center':'Income'}>]], dtype=object)"
      ]
     },
     "execution_count": 47,
     "metadata": {},
     "output_type": "execute_result"
    },
    {
     "data": {
      "image/png": "[encoded data removed]",
      "text/plain": [
       "<Figure size 432x288 with 1 Axes>"
      ]
     },
     "metadata": {
      "needs_background": "light"
     },
     "output_type": "display_data"
    }
   ],
   "source": [
    "df.hist(column = 'Income')"
   ]
  },
  {
   "cell_type": "code",
   "execution_count": 49,
   "id": "6fea2442",
   "metadata": {},
   "outputs": [
    {
     "data": {
      "text/html": [
       "<div>\n",
       "<style scoped>\n",
       "    .dataframe tbody tr th:only-of-type {\n",
       "        vertical-align: middle;\n",
       "    }\n",
       "\n",
       "    .dataframe tbody tr th {\n",
       "        vertical-align: top;\n",
       "    }\n",
       "\n",
       "    .dataframe thead th {\n",
       "        text-align: right;\n",
       "    }\n",
       "</style>\n",
       "<table border=\"1\" class=\"dataframe\">\n",
       "  <thead>\n",
       "    <tr style=\"text-align: right;\">\n",
       "      <th></th>\n",
       "      <th>Age</th>\n",
       "      <th>Income</th>\n",
       "      <th>Years_Employed</th>\n",
       "      <th>Amount</th>\n",
       "      <th>Rate</th>\n",
       "      <th>Default</th>\n",
       "      <th>Loan_Percent_Income</th>\n",
       "      <th>Credit_History</th>\n",
       "      <th>grade_B</th>\n",
       "      <th>grade_C</th>\n",
       "      <th>...</th>\n",
       "      <th>grade_G</th>\n",
       "      <th>intent_EDUCATION</th>\n",
       "      <th>intent_HOMEIMPROVEMENT</th>\n",
       "      <th>intent_MEDICAL</th>\n",
       "      <th>intent_PERSONAL</th>\n",
       "      <th>intent_VENTURE</th>\n",
       "      <th>home ownership_OTHER</th>\n",
       "      <th>home ownership_OWN</th>\n",
       "      <th>home ownership_RENT</th>\n",
       "      <th>default on file_Y</th>\n",
       "    </tr>\n",
       "  </thead>\n",
       "  <tbody>\n",
       "    <tr>\n",
       "      <th>count</th>\n",
       "      <td>32573.000000</td>\n",
       "      <td>3.257300e+04</td>\n",
       "      <td>32573.000000</td>\n",
       "      <td>32573.000000</td>\n",
       "      <td>32573.000000</td>\n",
       "      <td>32573.000000</td>\n",
       "      <td>32573.000000</td>\n",
       "      <td>32573.000000</td>\n",
       "      <td>32573.000000</td>\n",
       "      <td>32573.000000</td>\n",
       "      <td>...</td>\n",
       "      <td>32573.000000</td>\n",
       "      <td>32573.000000</td>\n",
       "      <td>32573.000000</td>\n",
       "      <td>32573.000000</td>\n",
       "      <td>32573.000000</td>\n",
       "      <td>32573.000000</td>\n",
       "      <td>32573.000000</td>\n",
       "      <td>32573.000000</td>\n",
       "      <td>32573.000000</td>\n",
       "      <td>32573.000000</td>\n",
       "    </tr>\n",
       "    <tr>\n",
       "      <th>mean</th>\n",
       "      <td>27.716882</td>\n",
       "      <td>6.587903e+04</td>\n",
       "      <td>4.781161</td>\n",
       "      <td>9588.220305</td>\n",
       "      <td>11.009577</td>\n",
       "      <td>0.218187</td>\n",
       "      <td>0.170205</td>\n",
       "      <td>5.803518</td>\n",
       "      <td>0.320756</td>\n",
       "      <td>0.198201</td>\n",
       "      <td>...</td>\n",
       "      <td>0.001965</td>\n",
       "      <td>0.198047</td>\n",
       "      <td>0.110674</td>\n",
       "      <td>0.186351</td>\n",
       "      <td>0.169435</td>\n",
       "      <td>0.175483</td>\n",
       "      <td>0.003285</td>\n",
       "      <td>0.079330</td>\n",
       "      <td>0.504743</td>\n",
       "      <td>0.176342</td>\n",
       "    </tr>\n",
       "    <tr>\n",
       "      <th>std</th>\n",
       "      <td>6.198825</td>\n",
       "      <td>5.253265e+04</td>\n",
       "      <td>3.974126</td>\n",
       "      <td>6320.241199</td>\n",
       "      <td>3.081650</td>\n",
       "      <td>0.413021</td>\n",
       "      <td>0.106755</td>\n",
       "      <td>4.052540</td>\n",
       "      <td>0.466775</td>\n",
       "      <td>0.398650</td>\n",
       "      <td>...</td>\n",
       "      <td>0.044283</td>\n",
       "      <td>0.398534</td>\n",
       "      <td>0.313733</td>\n",
       "      <td>0.389395</td>\n",
       "      <td>0.375141</td>\n",
       "      <td>0.380385</td>\n",
       "      <td>0.057221</td>\n",
       "      <td>0.270257</td>\n",
       "      <td>0.499985</td>\n",
       "      <td>0.381117</td>\n",
       "    </tr>\n",
       "    <tr>\n",
       "      <th>min</th>\n",
       "      <td>20.000000</td>\n",
       "      <td>4.000000e+03</td>\n",
       "      <td>0.000000</td>\n",
       "      <td>500.000000</td>\n",
       "      <td>5.420000</td>\n",
       "      <td>0.000000</td>\n",
       "      <td>0.000000</td>\n",
       "      <td>2.000000</td>\n",
       "      <td>0.000000</td>\n",
       "      <td>0.000000</td>\n",
       "      <td>...</td>\n",
       "      <td>0.000000</td>\n",
       "      <td>0.000000</td>\n",
       "      <td>0.000000</td>\n",
       "      <td>0.000000</td>\n",
       "      <td>0.000000</td>\n",
       "      <td>0.000000</td>\n",
       "      <td>0.000000</td>\n",
       "      <td>0.000000</td>\n",
       "      <td>0.000000</td>\n",
       "      <td>0.000000</td>\n",
       "    </tr>\n",
       "    <tr>\n",
       "      <th>25%</th>\n",
       "      <td>23.000000</td>\n",
       "      <td>3.850000e+04</td>\n",
       "      <td>2.000000</td>\n",
       "      <td>5000.000000</td>\n",
       "      <td>8.490000</td>\n",
       "      <td>0.000000</td>\n",
       "      <td>0.090000</td>\n",
       "      <td>3.000000</td>\n",
       "      <td>0.000000</td>\n",
       "      <td>0.000000</td>\n",
       "      <td>...</td>\n",
       "      <td>0.000000</td>\n",
       "      <td>0.000000</td>\n",
       "      <td>0.000000</td>\n",
       "      <td>0.000000</td>\n",
       "      <td>0.000000</td>\n",
       "      <td>0.000000</td>\n",
       "      <td>0.000000</td>\n",
       "      <td>0.000000</td>\n",
       "      <td>0.000000</td>\n",
       "      <td>0.000000</td>\n",
       "    </tr>\n",
       "    <tr>\n",
       "      <th>50%</th>\n",
       "      <td>26.000000</td>\n",
       "      <td>5.500000e+04</td>\n",
       "      <td>4.000000</td>\n",
       "      <td>8000.000000</td>\n",
       "      <td>10.990000</td>\n",
       "      <td>0.000000</td>\n",
       "      <td>0.150000</td>\n",
       "      <td>4.000000</td>\n",
       "      <td>0.000000</td>\n",
       "      <td>0.000000</td>\n",
       "      <td>...</td>\n",
       "      <td>0.000000</td>\n",
       "      <td>0.000000</td>\n",
       "      <td>0.000000</td>\n",
       "      <td>0.000000</td>\n",
       "      <td>0.000000</td>\n",
       "      <td>0.000000</td>\n",
       "      <td>0.000000</td>\n",
       "      <td>0.000000</td>\n",
       "      <td>1.000000</td>\n",
       "      <td>0.000000</td>\n",
       "    </tr>\n",
       "    <tr>\n",
       "      <th>75%</th>\n",
       "      <td>30.000000</td>\n",
       "      <td>7.920000e+04</td>\n",
       "      <td>7.000000</td>\n",
       "      <td>12200.000000</td>\n",
       "      <td>13.110000</td>\n",
       "      <td>0.000000</td>\n",
       "      <td>0.230000</td>\n",
       "      <td>8.000000</td>\n",
       "      <td>1.000000</td>\n",
       "      <td>0.000000</td>\n",
       "      <td>...</td>\n",
       "      <td>0.000000</td>\n",
       "      <td>0.000000</td>\n",
       "      <td>0.000000</td>\n",
       "      <td>0.000000</td>\n",
       "      <td>0.000000</td>\n",
       "      <td>0.000000</td>\n",
       "      <td>0.000000</td>\n",
       "      <td>0.000000</td>\n",
       "      <td>1.000000</td>\n",
       "      <td>0.000000</td>\n",
       "    </tr>\n",
       "    <tr>\n",
       "      <th>max</th>\n",
       "      <td>94.000000</td>\n",
       "      <td>2.039784e+06</td>\n",
       "      <td>38.000000</td>\n",
       "      <td>35000.000000</td>\n",
       "      <td>23.220000</td>\n",
       "      <td>1.000000</td>\n",
       "      <td>0.830000</td>\n",
       "      <td>30.000000</td>\n",
       "      <td>1.000000</td>\n",
       "      <td>1.000000</td>\n",
       "      <td>...</td>\n",
       "      <td>1.000000</td>\n",
       "      <td>1.000000</td>\n",
       "      <td>1.000000</td>\n",
       "      <td>1.000000</td>\n",
       "      <td>1.000000</td>\n",
       "      <td>1.000000</td>\n",
       "      <td>1.000000</td>\n",
       "      <td>1.000000</td>\n",
       "      <td>1.000000</td>\n",
       "      <td>1.000000</td>\n",
       "    </tr>\n",
       "  </tbody>\n",
       "</table>\n",
       "<p>8 rows × 23 columns</p>\n",
       "</div>"
      ],
      "text/plain": [
       "                Age        Income  Years_Employed        Amount          Rate  \\\n",
       "count  32573.000000  3.257300e+04    32573.000000  32573.000000  32573.000000   \n",
       "mean      27.716882  6.587903e+04        4.781161   9588.220305     11.009577   \n",
       "std        6.198825  5.253265e+04        3.974126   6320.241199      3.081650   \n",
       "min       20.000000  4.000000e+03        0.000000    500.000000      5.420000   \n",
       "25%       23.000000  3.850000e+04        2.000000   5000.000000      8.490000   \n",
       "50%       26.000000  5.500000e+04        4.000000   8000.000000     10.990000   \n",
       "75%       30.000000  7.920000e+04        7.000000  12200.000000     13.110000   \n",
       "max       94.000000  2.039784e+06       38.000000  35000.000000     23.220000   \n",
       "\n",
       "            Default  Loan_Percent_Income  Credit_History       grade_B  \\\n",
       "count  32573.000000         32573.000000    32573.000000  32573.000000   \n",
       "mean       0.218187             0.170205        5.803518      0.320756   \n",
       "std        0.413021             0.106755        4.052540      0.466775   \n",
       "min        0.000000             0.000000        2.000000      0.000000   \n",
       "25%        0.000000             0.090000        3.000000      0.000000   \n",
       "50%        0.000000             0.150000        4.000000      0.000000   \n",
       "75%        0.000000             0.230000        8.000000      1.000000   \n",
       "max        1.000000             0.830000       30.000000      1.000000   \n",
       "\n",
       "            grade_C  ...       grade_G  intent_EDUCATION  \\\n",
       "count  32573.000000  ...  32573.000000      32573.000000   \n",
       "mean       0.198201  ...      0.001965          0.198047   \n",
       "std        0.398650  ...      0.044283          0.398534   \n",
       "min        0.000000  ...      0.000000          0.000000   \n",
       "25%        0.000000  ...      0.000000          0.000000   \n",
       "50%        0.000000  ...      0.000000          0.000000   \n",
       "75%        0.000000  ...      0.000000          0.000000   \n",
       "max        1.000000  ...      1.000000          1.000000   \n",
       "\n",
       "       intent_HOMEIMPROVEMENT  intent_MEDICAL  intent_PERSONAL  \\\n",
       "count            32573.000000    32573.000000     32573.000000   \n",
       "mean                 0.110674        0.186351         0.169435   \n",
       "std                  0.313733        0.389395         0.375141   \n",
       "min                  0.000000        0.000000         0.000000   \n",
       "25%                  0.000000        0.000000         0.000000   \n",
       "50%                  0.000000        0.000000         0.000000   \n",
       "75%                  0.000000        0.000000         0.000000   \n",
       "max                  1.000000        1.000000         1.000000   \n",
       "\n",
       "       intent_VENTURE  home ownership_OTHER  home ownership_OWN  \\\n",
       "count    32573.000000          32573.000000        32573.000000   \n",
       "mean         0.175483              0.003285            0.079330   \n",
       "std          0.380385              0.057221            0.270257   \n",
       "min          0.000000              0.000000            0.000000   \n",
       "25%          0.000000              0.000000            0.000000   \n",
       "50%          0.000000              0.000000            0.000000   \n",
       "75%          0.000000              0.000000            0.000000   \n",
       "max          1.000000              1.000000            1.000000   \n",
       "\n",
       "       home ownership_RENT  default on file_Y  \n",
       "count         32573.000000       32573.000000  \n",
       "mean              0.504743           0.176342  \n",
       "std               0.499985           0.381117  \n",
       "min               0.000000           0.000000  \n",
       "25%               0.000000           0.000000  \n",
       "50%               1.000000           0.000000  \n",
       "75%               1.000000           0.000000  \n",
       "max               1.000000           1.000000  \n",
       "\n",
       "[8 rows x 23 columns]"
      ]
     },
     "execution_count": 49,
     "metadata": {},
     "output_type": "execute_result"
    }
   ],
   "source": [
    "df.describe()"
   ]
  },
  {
   "cell_type": "markdown",
   "id": "56329324",
   "metadata": {},
   "source": [
    "# Data Modeling"
   ]
  },
  {
   "cell_type": "markdown",
   "id": "a159d2e6",
   "metadata": {},
   "source": [
    "## Train/Split Data"
   ]
  },
  {
   "cell_type": "markdown",
   "id": "254200c2",
   "metadata": {},
   "source": [
    "Before we model out data it is import to split the data into train and test sets. I will use a 80-20 Train-test split."
   ]
  },
  {
   "cell_type": "code",
   "execution_count": 78,
   "id": "430bb237",
   "metadata": {},
   "outputs": [],
   "source": [
    "X_train, X_test, y_train, y_test = train_test_split(df.drop(columns='Default'), \n",
    "                                                    df.Default, test_size=0.2, \n",
    "                                                    random_state=50)"
   ]
  },
  {
   "cell_type": "code",
   "execution_count": 79,
   "id": "fcc05a44",
   "metadata": {},
   "outputs": [
    {
     "data": {
      "text/plain": [
       "Age                         int64\n",
       "Income                      int64\n",
       "home ownership             object\n",
       "Years_Employed            float64\n",
       "intent                     object\n",
       "grade                      object\n",
       "Amount                      int64\n",
       "Rate                      float64\n",
       "Loan_Percent_Income       float64\n",
       "default on file            object\n",
       "Credit_History              int64\n",
       "grade_B                     uint8\n",
       "grade_C                     uint8\n",
       "grade_D                     uint8\n",
       "grade_E                     uint8\n",
       "grade_F                     uint8\n",
       "grade_G                     uint8\n",
       "intent_EDUCATION            uint8\n",
       "intent_HOMEIMPROVEMENT      uint8\n",
       "intent_MEDICAL              uint8\n",
       "intent_PERSONAL             uint8\n",
       "intent_VENTURE              uint8\n",
       "home ownership_OTHER        uint8\n",
       "home ownership_OWN          uint8\n",
       "home ownership_RENT         uint8\n",
       "default on file_Y           uint8\n",
       "dtype: object"
      ]
     },
     "execution_count": 79,
     "metadata": {},
     "output_type": "execute_result"
    }
   ],
   "source": [
    "X_train.dtypes\n"
   ]
  },
  {
   "cell_type": "code",
   "execution_count": 80,
   "id": "da583a3c",
   "metadata": {},
   "outputs": [
    {
     "data": {
      "text/plain": [
       "Age                         int64\n",
       "Income                      int64\n",
       "home ownership             object\n",
       "Years_Employed            float64\n",
       "intent                     object\n",
       "grade                      object\n",
       "Amount                      int64\n",
       "Rate                      float64\n",
       "Loan_Percent_Income       float64\n",
       "default on file            object\n",
       "Credit_History              int64\n",
       "grade_B                     uint8\n",
       "grade_C                     uint8\n",
       "grade_D                     uint8\n",
       "grade_E                     uint8\n",
       "grade_F                     uint8\n",
       "grade_G                     uint8\n",
       "intent_EDUCATION            uint8\n",
       "intent_HOMEIMPROVEMENT      uint8\n",
       "intent_MEDICAL              uint8\n",
       "intent_PERSONAL             uint8\n",
       "intent_VENTURE              uint8\n",
       "home ownership_OTHER        uint8\n",
       "home ownership_OWN          uint8\n",
       "home ownership_RENT         uint8\n",
       "default on file_Y           uint8\n",
       "dtype: object"
      ]
     },
     "execution_count": 80,
     "metadata": {},
     "output_type": "execute_result"
    }
   ],
   "source": [
    "X_test.dtypes"
   ]
  },
  {
   "cell_type": "code",
   "execution_count": 81,
   "id": "d0c684e4",
   "metadata": {},
   "outputs": [],
   "source": [
    "# Dropping object columns\n",
    "names_list = ['home ownership', 'intent', 'grade', 'default on file']\n",
    "names_train = X_train[names_list]\n",
    "names_test = X_test[names_list]\n",
    "X_train.drop(columns=names_list, inplace=True)\n",
    "X_test.drop(columns=names_list, inplace=True)\n"
   ]
  },
  {
   "cell_type": "markdown",
   "id": "f47f0e78",
   "metadata": {},
   "source": [
    "## Logistic Regression"
   ]
  },
  {
   "cell_type": "code",
   "execution_count": 82,
   "id": "f90f7a90",
   "metadata": {},
   "outputs": [
    {
     "data": {
      "text/plain": [
       "LogisticRegression()"
      ]
     },
     "execution_count": 82,
     "metadata": {},
     "output_type": "execute_result"
    }
   ],
   "source": [
    "LG = LogisticRegression()\n",
    "\n",
    "LG.fit(X_train, y_train)\n",
    "\n"
   ]
  },
  {
   "cell_type": "code",
   "execution_count": 83,
   "id": "16511441",
   "metadata": {},
   "outputs": [
    {
     "data": {
      "text/plain": [
       "-2.148416749067799e-09"
      ]
     },
     "execution_count": 83,
     "metadata": {},
     "output_type": "execute_result"
    }
   ],
   "source": [
    "# Intercept of Logistic Regression\n",
    "\n",
    "LG.intercept_[0]"
   ]
  },
  {
   "cell_type": "code",
   "execution_count": 84,
   "id": "8c596811",
   "metadata": {},
   "outputs": [
    {
     "data": {
      "text/plain": [
       "array([-5.18931663e-08, -4.06783915e-05, -2.45179014e-08,  1.06479971e-04,\n",
       "        8.48250139e-08,  2.62841269e-09, -7.56052227e-09, -5.55508467e-09,\n",
       "       -1.22181467e-09,  1.08548397e-08,  3.38420324e-09,  9.89860446e-10,\n",
       "        4.05365643e-10, -2.91035222e-09,  1.68541017e-09,  1.23392867e-09,\n",
       "       -1.06083726e-09, -3.65533973e-09,  9.67316755e-11, -4.04728858e-09,\n",
       "        8.18999973e-09,  7.02606159e-09])"
      ]
     },
     "execution_count": 84,
     "metadata": {},
     "output_type": "execute_result"
    }
   ],
   "source": [
    "# Coefficients of Logistic Regression\n",
    "\n",
    "LG.coef_[0]"
   ]
  },
  {
   "cell_type": "code",
   "execution_count": 85,
   "id": "552f771f",
   "metadata": {},
   "outputs": [
    {
     "data": {
      "text/plain": [
       "0.8033768227168073"
      ]
     },
     "execution_count": 85,
     "metadata": {},
     "output_type": "execute_result"
    }
   ],
   "source": [
    "LG.score(X_test, y_test)"
   ]
  },
  {
   "cell_type": "code",
   "execution_count": 86,
   "id": "f4d30215",
   "metadata": {},
   "outputs": [
    {
     "name": "stdout",
     "output_type": "stream",
     "text": [
      "[[5005   90]\n",
      " [1191  229]]\n"
     ]
    }
   ],
   "source": [
    "# Confusion Matrix For Logistic Regression\n",
    "y_LG_Pred = LG.predict(X_test)\n",
    "LG_CM = confusion_matrix(y_test, y_LG_Pred)\n",
    "print(LG_CM)"
   ]
  },
  {
   "cell_type": "code",
   "execution_count": 87,
   "id": "3eca9445",
   "metadata": {},
   "outputs": [
    {
     "name": "stdout",
     "output_type": "stream",
     "text": [
      "              precision    recall  f1-score   support\n",
      "\n",
      "           0       0.81      0.98      0.89      5095\n",
      "           1       0.72      0.16      0.26      1420\n",
      "\n",
      "    accuracy                           0.80      6515\n",
      "   macro avg       0.76      0.57      0.57      6515\n",
      "weighted avg       0.79      0.80      0.75      6515\n",
      "\n"
     ]
    }
   ],
   "source": [
    "# Classfication Report for Logistic Regression\n",
    "\n",
    "print(classification_report(y_test,y_LG_Pred))"
   ]
  },
  {
   "cell_type": "code",
   "execution_count": 88,
   "id": "f05fcfaf",
   "metadata": {},
   "outputs": [
    {
     "name": "stdout",
     "output_type": "stream",
     "text": [
      "Training accuracy of Logistic Regression model is:0.80\n",
      "Testing accuracy of Logistic Regression model is:0.80\n"
     ]
    }
   ],
   "source": [
    "# Training and Test Accuracy for Logistic regression\n",
    "\n",
    "Training_accuracy = LG.score(X_train, y_train)\n",
    "Testing_accuracy = LG.score(X_test, y_test)\n",
    "\n",
    "print(\"Training accuracy of Logistic Regression model is:{:0.2f}\".format(Training_accuracy))\n",
    "\n",
    "print(\"Testing accuracy of Logistic Regression model is:{:0.2f}\".format(Testing_accuracy))\n",
    "\n",
    "\n"
   ]
  },
  {
   "cell_type": "code",
   "execution_count": 89,
   "id": "3a63fa50",
   "metadata": {},
   "outputs": [
    {
     "data": {
      "text/plain": [
       "Text(0.5, 1.0, 'Permutation Importance')"
      ]
     },
     "execution_count": 89,
     "metadata": {},
     "output_type": "execute_result"
    },
    {
     "data": {
      "image/png": "[encoded data removed]",
      "text/plain": [
       "<Figure size 1440x432 with 1 Axes>"
      ]
     },
     "metadata": {
      "needs_background": "light"
     },
     "output_type": "display_data"
    }
   ],
   "source": [
    "# Feature Importance For Logistic Regression\n",
    "\n",
    "model_LG = LG.fit(X_train, y_train)\n",
    "\n",
    "FI_LG =  permutation_importance(model_LG, X_test, y_test, n_repeats=30, random_state=0)\n",
    "\n",
    "sorted_idx_LG = FI_LG.importances_mean.argsort()\n",
    "\n",
    "\n",
    "fig = plt.figure(figsize=(20, 6))\n",
    "plt.barh(range(len(sorted_idx_LG)), FI_LG.importances_mean[sorted_idx_LG], align='center')\n",
    "plt.yticks(range(len(sorted_idx_LG)), np.array(X_test.columns)[sorted_idx_LG])\n",
    "plt.title('Permutation Importance')\n"
   ]
  },
  {
   "cell_type": "markdown",
   "id": "d808ae44",
   "metadata": {},
   "source": [
    "Based on the results of the accuracy score, it seems that our Logistic Regression model, give us 80% accuracy. While this is a relative high accuracy, it is also important to explore other models to see if they would have a higher accuracy. The Logistic Regression model also relies heavily on the income of borrower and loan amount to make accurate prediction about default."
   ]
  },
  {
   "cell_type": "markdown",
   "id": "84b262d3",
   "metadata": {},
   "source": [
    "## kNN Model"
   ]
  },
  {
   "cell_type": "code",
   "execution_count": 90,
   "id": "56cdc9eb",
   "metadata": {},
   "outputs": [
    {
     "data": {
      "text/plain": [
       "KNeighborsClassifier(n_neighbors=150)"
      ]
     },
     "execution_count": 90,
     "metadata": {},
     "output_type": "execute_result"
    }
   ],
   "source": [
    "kNN = KNeighborsClassifier(n_neighbors=150)\n",
    "\n",
    "kNN.fit(X_train, y_train)\n",
    "\n"
   ]
  },
  {
   "cell_type": "code",
   "execution_count": 91,
   "id": "8953ed83",
   "metadata": {},
   "outputs": [
    {
     "data": {
      "text/plain": [
       "0.8359171143514965"
      ]
     },
     "execution_count": 91,
     "metadata": {},
     "output_type": "execute_result"
    }
   ],
   "source": [
    "kNN.score(X_test, y_test)"
   ]
  },
  {
   "cell_type": "code",
   "execution_count": 92,
   "id": "c1c97daf",
   "metadata": {},
   "outputs": [
    {
     "name": "stdout",
     "output_type": "stream",
     "text": [
      "[[4901  194]\n",
      " [ 875  545]]\n"
     ]
    }
   ],
   "source": [
    "y_kNN_Pred = kNN.predict(X_test)\n",
    "kNN_CM = confusion_matrix(y_test, y_kNN_Pred)\n",
    "print(kNN_CM)"
   ]
  },
  {
   "cell_type": "code",
   "execution_count": 93,
   "id": "edf1cac4",
   "metadata": {},
   "outputs": [
    {
     "name": "stdout",
     "output_type": "stream",
     "text": [
      "              precision    recall  f1-score   support\n",
      "\n",
      "           0       0.85      0.96      0.90      5095\n",
      "           1       0.74      0.38      0.50      1420\n",
      "\n",
      "    accuracy                           0.84      6515\n",
      "   macro avg       0.79      0.67      0.70      6515\n",
      "weighted avg       0.82      0.84      0.82      6515\n",
      "\n"
     ]
    }
   ],
   "source": [
    "print(classification_report(y_test,y_kNN_Pred))"
   ]
  },
  {
   "cell_type": "code",
   "execution_count": 94,
   "id": "b051f5f4",
   "metadata": {},
   "outputs": [
    {
     "name": "stdout",
     "output_type": "stream",
     "text": [
      "Training accuracy of kNN model is:0.84\n",
      "Testing accuracy of kNN model is:0.84\n"
     ]
    }
   ],
   "source": [
    "# Training and Test Accuracy for kNN\n",
    "\n",
    "Training_accuracy_kNN = kNN.score(X_train, y_train)\n",
    "Testing_accuracy_kNN = kNN.score(X_test, y_test)\n",
    "\n",
    "print(\"Training accuracy of kNN model is:{:0.2f}\".format(Training_accuracy_kNN))\n",
    "\n",
    "print(\"Testing accuracy of kNN model is:{:0.2f}\".format(Testing_accuracy_kNN))\n",
    "\n",
    "\n"
   ]
  },
  {
   "cell_type": "markdown",
   "id": "b30be0d7",
   "metadata": {},
   "source": [
    "Based on the results of the accuracy score, it seems that the kNN model, give us 84% accuracy. While this is higher than the Logistic Regression Model, it is important to test out the Decision Tree Classifier model."
   ]
  },
  {
   "cell_type": "markdown",
   "id": "fe46a053",
   "metadata": {},
   "source": [
    "## Decision Tree Classifier"
   ]
  },
  {
   "cell_type": "markdown",
   "id": "19c0a94b",
   "metadata": {},
   "source": [
    "For the Decision Tree, two models will be used: Entrophy and Gini. "
   ]
  },
  {
   "cell_type": "code",
   "execution_count": 95,
   "id": "732256ca",
   "metadata": {},
   "outputs": [
    {
     "data": {
      "text/plain": [
       "DecisionTreeClassifier(criterion='entropy', random_state=1234)"
      ]
     },
     "execution_count": 95,
     "metadata": {},
     "output_type": "execute_result"
    }
   ],
   "source": [
    "# entrophy Decision Tree\n",
    "DT_1 = DecisionTreeClassifier(criterion=\"entropy\", random_state = 1234)\n",
    "\n",
    "DT_1.fit(X_train, y_train)\n",
    "\n"
   ]
  },
  {
   "cell_type": "code",
   "execution_count": 96,
   "id": "50b18518",
   "metadata": {},
   "outputs": [
    {
     "data": {
      "text/plain": [
       "0.8990023023791252"
      ]
     },
     "execution_count": 96,
     "metadata": {},
     "output_type": "execute_result"
    }
   ],
   "source": [
    "DT_1.score(X_test, y_test)"
   ]
  },
  {
   "cell_type": "code",
   "execution_count": 97,
   "id": "095d52ed",
   "metadata": {},
   "outputs": [
    {
     "name": "stdout",
     "output_type": "stream",
     "text": [
      "[[4746  349]\n",
      " [ 309 1111]]\n"
     ]
    }
   ],
   "source": [
    "y_DT_1_Pred = DT_1.predict(X_test)\n",
    "DT_1_CM = confusion_matrix(y_test, y_DT_1_Pred)\n",
    "print(DT_1_CM)"
   ]
  },
  {
   "cell_type": "code",
   "execution_count": 98,
   "id": "ac83a302",
   "metadata": {},
   "outputs": [
    {
     "name": "stdout",
     "output_type": "stream",
     "text": [
      "              precision    recall  f1-score   support\n",
      "\n",
      "           0       0.94      0.93      0.94      5095\n",
      "           1       0.76      0.78      0.77      1420\n",
      "\n",
      "    accuracy                           0.90      6515\n",
      "   macro avg       0.85      0.86      0.85      6515\n",
      "weighted avg       0.90      0.90      0.90      6515\n",
      "\n"
     ]
    }
   ],
   "source": [
    "print(classification_report(y_test,y_DT_1_Pred))"
   ]
  },
  {
   "cell_type": "code",
   "execution_count": 99,
   "id": "d5bcba00",
   "metadata": {},
   "outputs": [
    {
     "name": "stdout",
     "output_type": "stream",
     "text": [
      "Training accuracy of Decision Tree with Entrophy model is:1.00\n",
      "Testing accuracy of Decision Tree with Entrophy model is:0.90\n"
     ]
    }
   ],
   "source": [
    "\n",
    "Training_accuracy_DT_1 = DT_1.score(X_train, y_train)\n",
    "Testing_accuracy_DT_1 = DT_1.score(X_test, y_test)\n",
    "\n",
    "print(\"Training accuracy of Decision Tree with Entrophy model is:{:0.2f}\".format(Training_accuracy_DT_1))\n",
    "\n",
    "print(\"Testing accuracy of Decision Tree with Entrophy model is:{:0.2f}\".format(Testing_accuracy_DT_1))\n",
    "\n",
    "\n"
   ]
  },
  {
   "cell_type": "markdown",
   "id": "5998fd08",
   "metadata": {},
   "source": [
    "Using the Decision Tree classifier with the entrophy method has an accuracy of 90%"
   ]
  },
  {
   "cell_type": "code",
   "execution_count": 100,
   "id": "75ce5766",
   "metadata": {},
   "outputs": [
    {
     "data": {
      "text/plain": [
       "DecisionTreeClassifier(random_state=1234)"
      ]
     },
     "execution_count": 100,
     "metadata": {},
     "output_type": "execute_result"
    }
   ],
   "source": [
    "#Gini Decision Tree\n",
    "\n",
    "# entrophy Decision Tree\n",
    "DT_2 = DecisionTreeClassifier(criterion=\"gini\", random_state = 1234)\n",
    "\n",
    "DT_2.fit(X_train, y_train)"
   ]
  },
  {
   "cell_type": "code",
   "execution_count": 101,
   "id": "fb4d4304",
   "metadata": {},
   "outputs": [
    {
     "data": {
      "text/plain": [
       "0.8867229470452801"
      ]
     },
     "execution_count": 101,
     "metadata": {},
     "output_type": "execute_result"
    }
   ],
   "source": [
    "DT_2.score(X_test, y_test)"
   ]
  },
  {
   "cell_type": "code",
   "execution_count": 102,
   "id": "8e6f3755",
   "metadata": {},
   "outputs": [
    {
     "name": "stdout",
     "output_type": "stream",
     "text": [
      "[[4691  404]\n",
      " [ 334 1086]]\n"
     ]
    }
   ],
   "source": [
    "y_DT_2_Pred = DT_2.predict(X_test)\n",
    "DT_2_CM = confusion_matrix(y_test, y_DT_2_Pred)\n",
    "print(DT_2_CM)"
   ]
  },
  {
   "cell_type": "code",
   "execution_count": 103,
   "id": "1a796b45",
   "metadata": {},
   "outputs": [
    {
     "name": "stdout",
     "output_type": "stream",
     "text": [
      "              precision    recall  f1-score   support\n",
      "\n",
      "           0       0.93      0.92      0.93      5095\n",
      "           1       0.73      0.76      0.75      1420\n",
      "\n",
      "    accuracy                           0.89      6515\n",
      "   macro avg       0.83      0.84      0.84      6515\n",
      "weighted avg       0.89      0.89      0.89      6515\n",
      "\n"
     ]
    }
   ],
   "source": [
    "print(classification_report(y_test,y_DT_2_Pred))"
   ]
  },
  {
   "cell_type": "code",
   "execution_count": 104,
   "id": "250fde71",
   "metadata": {},
   "outputs": [
    {
     "name": "stdout",
     "output_type": "stream",
     "text": [
      "Training accuracy of Decision Tree with Gini model is:1.00\n",
      "Testing accuracy of Decision Tree with Gini model is:0.89\n"
     ]
    }
   ],
   "source": [
    "Training_accuracy_DT_2 = DT_2.score(X_train, y_train)\n",
    "Testing_accuracy_DT_2 = DT_2.score(X_test, y_test)\n",
    "\n",
    "print(\"Training accuracy of Decision Tree with Gini model is:{:0.2f}\".format(Training_accuracy_DT_2))\n",
    "\n",
    "print(\"Testing accuracy of Decision Tree with Gini model is:{:0.2f}\".format(Testing_accuracy_DT_2))"
   ]
  },
  {
   "cell_type": "markdown",
   "id": "da1e2e98",
   "metadata": {},
   "source": [
    "It seems that the decision tree model, is the most accurate of the three."
   ]
  },
  {
   "cell_type": "markdown",
   "id": "4e78ab80",
   "metadata": {},
   "source": [
    "## Catboost"
   ]
  },
  {
   "cell_type": "code",
   "execution_count": 108,
   "id": "f4651598",
   "metadata": {},
   "outputs": [
    {
     "name": "stdout",
     "output_type": "stream",
     "text": [
      "Learning rate set to 0.078268\n",
      "0:\tlearn: 0.5660278\ttotal: 15ms\tremaining: 7.47s\n",
      "100:\tlearn: 0.7167223\ttotal: 957ms\tremaining: 3.78s\n",
      "200:\tlearn: 0.7309654\ttotal: 1.85s\tremaining: 2.76s\n",
      "300:\tlearn: 0.7438017\ttotal: 2.77s\tremaining: 1.83s\n",
      "400:\tlearn: 0.7578688\ttotal: 3.69s\tremaining: 910ms\n",
      "499:\tlearn: 0.7708810\ttotal: 4.56s\tremaining: 0us\n"
     ]
    },
    {
     "data": {
      "text/plain": [
       "<catboost.core.CatBoostClassifier at 0x1e110bc5760>"
      ]
     },
     "execution_count": 108,
     "metadata": {},
     "output_type": "execute_result"
    }
   ],
   "source": [
    "cat = CatBoostClassifier(iterations=500, verbose=100,eval_metric=\"Recall\")\n",
    "\n",
    "cat.fit(X_train, y_train)"
   ]
  },
  {
   "cell_type": "code",
   "execution_count": 109,
   "id": "9f307d4c",
   "metadata": {},
   "outputs": [
    {
     "data": {
      "text/plain": [
       "0.9364543361473523"
      ]
     },
     "execution_count": 109,
     "metadata": {},
     "output_type": "execute_result"
    }
   ],
   "source": [
    "cat.score(X_test, y_test)"
   ]
  },
  {
   "cell_type": "code",
   "execution_count": 110,
   "id": "5a52409c",
   "metadata": {},
   "outputs": [
    {
     "name": "stdout",
     "output_type": "stream",
     "text": [
      "[[5067   28]\n",
      " [ 386 1034]]\n"
     ]
    }
   ],
   "source": [
    "y_cat_Pred = cat.predict(X_test)\n",
    "cat_CM = confusion_matrix(y_test, y_cat_Pred)\n",
    "print(cat_CM)"
   ]
  },
  {
   "cell_type": "code",
   "execution_count": 111,
   "id": "86d8bcce",
   "metadata": {},
   "outputs": [
    {
     "name": "stdout",
     "output_type": "stream",
     "text": [
      "              precision    recall  f1-score   support\n",
      "\n",
      "           0       0.93      0.99      0.96      5095\n",
      "           1       0.97      0.73      0.83      1420\n",
      "\n",
      "    accuracy                           0.94      6515\n",
      "   macro avg       0.95      0.86      0.90      6515\n",
      "weighted avg       0.94      0.94      0.93      6515\n",
      "\n"
     ]
    }
   ],
   "source": [
    "print(classification_report(y_test,y_cat_Pred))"
   ]
  },
  {
   "cell_type": "code",
   "execution_count": 113,
   "id": "a92c920c",
   "metadata": {},
   "outputs": [
    {
     "name": "stdout",
     "output_type": "stream",
     "text": [
      "Training accuracy of CatBoost is:0.95\n",
      "Testing accuracy of CatBoost is:0.94\n"
     ]
    }
   ],
   "source": [
    "Training_accuracy_cat = cat.score(X_train, y_train)\n",
    "Testing_accuracy_cat = cat.score(X_test, y_test)\n",
    "\n",
    "print(\"Training accuracy of CatBoost is:{:0.2f}\".format(Training_accuracy_cat))\n",
    "\n",
    "print(\"Testing accuracy of CatBoost is:{:0.2f}\".format(Testing_accuracy_cat))"
   ]
  },
  {
   "cell_type": "code",
   "execution_count": 114,
   "id": "4820b958",
   "metadata": {},
   "outputs": [
    {
     "name": "stdout",
     "output_type": "stream",
     "text": [
      "Learning rate set to 0.078268\n",
      "0:\tlearn: 0.5660278\ttotal: 9.79ms\tremaining: 4.89s\n",
      "100:\tlearn: 0.7167223\ttotal: 932ms\tremaining: 3.68s\n",
      "200:\tlearn: 0.7309654\ttotal: 1.84s\tremaining: 2.73s\n",
      "300:\tlearn: 0.7438017\ttotal: 2.74s\tremaining: 1.81s\n",
      "400:\tlearn: 0.7578688\ttotal: 3.63s\tremaining: 896ms\n",
      "499:\tlearn: 0.7708810\ttotal: 4.53s\tremaining: 0us\n"
     ]
    },
    {
     "data": {
      "text/plain": [
       "Text(0.5, 1.0, 'Permutation Importance')"
      ]
     },
     "execution_count": 114,
     "metadata": {},
     "output_type": "execute_result"
    },
    {
     "data": {
      "image/png": "[encoded data removed]",
      "text/plain": [
       "<Figure size 1440x432 with 1 Axes>"
      ]
     },
     "metadata": {
      "needs_background": "light"
     },
     "output_type": "display_data"
    }
   ],
   "source": [
    "#Feature Importance of CatBoost\n",
    "\n",
    "model_cat = cat.fit(X_train, y_train)\n",
    "\n",
    "FI_cat =  permutation_importance(model_cat, X_test, y_test, n_repeats=30, random_state=0)\n",
    "\n",
    "sorted_idx_cat = FI_cat.importances_mean.argsort()\n",
    "\n",
    "\n",
    "fig = plt.figure(figsize=(20, 6))\n",
    "plt.barh(range(len(sorted_idx_cat)), FI_cat.importances_mean[sorted_idx_cat], align='center')\n",
    "plt.yticks(range(len(sorted_idx_cat)), np.array(X_test.columns)[sorted_idx_cat])\n",
    "plt.title('Permutation Importance')\n"
   ]
  },
  {
   "cell_type": "markdown",
   "id": "c6cd3a0b",
   "metadata": {},
   "source": [
    "With Catboost the accuracy is even higher at 95%. Furthermore, it has more features than the Logistic Regression model that are important. Loan(% of Income), Income, Interest rate, Age, whether or not the loan was a D, and Years employed, seem to have the most importance in this model. Surprisingly years of Credit History and whether or not a person defaulted on a loan before do not."
   ]
  },
  {
   "cell_type": "markdown",
   "id": "4430003b",
   "metadata": {},
   "source": [
    "## ROC-AUC Curves"
   ]
  },
  {
   "cell_type": "code",
   "execution_count": 137,
   "id": "ae037457",
   "metadata": {},
   "outputs": [
    {
     "data": {
      "image/png": "[encoded data removed]",
      "text/plain": [
       "<Figure size 432x288 with 1 Axes>"
      ]
     },
     "metadata": {
      "needs_background": "light"
     },
     "output_type": "display_data"
    }
   ],
   "source": [
    "#ROC-AUC For all models\n",
    "\n",
    "# Logistic Regression\n",
    "Log_ROC = roc_auc_score(y_test, y_LG_Pred)\n",
    "fpr, tpr, thresh = metrics.roc_curve(y_test, LG.predict_proba(X_test)[:,1])\n",
    "plt.plot(fpr, tpr, label=f'Logistic Regression, AUC = {str(round(Log_ROC,3))}')\n",
    "\n",
    "#kNN\n",
    "kNN_ROC = roc_auc_score(y_test, y_kNN_Pred)\n",
    "fpr, tpr, thresh = metrics.roc_curve(y_test, kNN.predict_proba(X_test)[:,1])\n",
    "plt.plot(fpr, tpr, label=f'kNN, AUC = {str(round(kNN_ROC,3))}')\n",
    "\n",
    "#Decision Tree with entrophy\n",
    "DT_1_ROC = roc_auc_score(y_test, y_DT_1_Pred)\n",
    "fpr, tpr, thresh = metrics.roc_curve(y_test, DT_1.predict_proba(X_test)[:,1])\n",
    "plt.plot(fpr, tpr, label=f'Decision Tree (Entrophy), AUC = {str(round(DT_1_ROC,3))}')\n",
    "\n",
    "#Decision Tree with gini\n",
    "DT_2_ROC = roc_auc_score(y_test, y_DT_2_Pred)\n",
    "fpr, tpr, thresh = metrics.roc_curve(y_test, DT_2.predict_proba(X_test)[:,1])\n",
    "plt.plot(fpr, tpr, label=f'Decision Tree (Gini), AUC = {str(round(DT_2_ROC,3))}')\n",
    "\n",
    "\n",
    "#CatBoost\n",
    "Cat_ROC = roc_auc_score(y_test, y_cat_Pred)\n",
    "fpr, tpr, thresh = metrics.roc_curve(y_test, cat.predict_proba(X_test)[:,1])\n",
    "plt.plot(fpr, tpr, label=f'CatBoost, AUC = {str(round(Cat_ROC,3))}')\n",
    "\n",
    "\n",
    "plt.ylabel(\"True Positive Rate\", fontsize=12)\n",
    "plt.xlabel(\"False Positive Rate\", fontsize=12)\n",
    "plt.title(\"ROC curve\")\n",
    "plt.legend()\n",
    "plt.show()"
   ]
  },
  {
   "cell_type": "markdown",
   "id": "30a1f5cf",
   "metadata": {},
   "source": [
    "Based on the ROC-AUC Curve shown is seems that the best model is the CatBoost model."
   ]
  },
  {
   "cell_type": "markdown",
   "id": "3c72bc01",
   "metadata": {},
   "source": [
    "# Hypertuning Parameters"
   ]
  },
  {
   "cell_type": "code",
   "execution_count": 76,
   "id": "d3581b5e",
   "metadata": {},
   "outputs": [
    {
     "name": "stderr",
     "output_type": "stream",
     "text": [
      "C:\\Users\\Abhijit Pawar\\anaconda3\\lib\\site-packages\\sklearn\\model_selection\\_validation.py:610: FitFailedWarning: Estimator fit failed. The score on this train-test partition for these parameters will be set to nan. Details: \n",
      "Traceback (most recent call last):\n",
      "  File \"C:\\Users\\Abhijit Pawar\\anaconda3\\lib\\site-packages\\sklearn\\model_selection\\_validation.py\", line 593, in _fit_and_score\n",
      "    estimator.fit(X_train, y_train, **fit_params)\n",
      "  File \"C:\\Users\\Abhijit Pawar\\anaconda3\\lib\\site-packages\\sklearn\\linear_model\\_logistic.py\", line 1306, in fit\n",
      "    solver = _check_solver(self.solver, self.penalty, self.dual)\n",
      "  File \"C:\\Users\\Abhijit Pawar\\anaconda3\\lib\\site-packages\\sklearn\\linear_model\\_logistic.py\", line 443, in _check_solver\n",
      "    raise ValueError(\"Solver %s supports only 'l2' or 'none' penalties, \"\n",
      "ValueError: Solver lbfgs supports only 'l2' or 'none' penalties, got l1 penalty.\n",
      "\n",
      "  warnings.warn(\"Estimator fit failed. The score on this train-test\"\n",
      "C:\\Users\\Abhijit Pawar\\anaconda3\\lib\\site-packages\\sklearn\\model_selection\\_validation.py:610: FitFailedWarning: Estimator fit failed. The score on this train-test partition for these parameters will be set to nan. Details: \n",
      "Traceback (most recent call last):\n",
      "  File \"C:\\Users\\Abhijit Pawar\\anaconda3\\lib\\site-packages\\sklearn\\model_selection\\_validation.py\", line 593, in _fit_and_score\n",
      "    estimator.fit(X_train, y_train, **fit_params)\n",
      "  File \"C:\\Users\\Abhijit Pawar\\anaconda3\\lib\\site-packages\\sklearn\\linear_model\\_logistic.py\", line 1306, in fit\n",
      "    solver = _check_solver(self.solver, self.penalty, self.dual)\n",
      "  File \"C:\\Users\\Abhijit Pawar\\anaconda3\\lib\\site-packages\\sklearn\\linear_model\\_logistic.py\", line 443, in _check_solver\n",
      "    raise ValueError(\"Solver %s supports only 'l2' or 'none' penalties, \"\n",
      "ValueError: Solver lbfgs supports only 'l2' or 'none' penalties, got l1 penalty.\n",
      "\n",
      "  warnings.warn(\"Estimator fit failed. The score on this train-test\"\n",
      "C:\\Users\\Abhijit Pawar\\anaconda3\\lib\\site-packages\\sklearn\\model_selection\\_validation.py:610: FitFailedWarning: Estimator fit failed. The score on this train-test partition for these parameters will be set to nan. Details: \n",
      "Traceback (most recent call last):\n",
      "  File \"C:\\Users\\Abhijit Pawar\\anaconda3\\lib\\site-packages\\sklearn\\model_selection\\_validation.py\", line 593, in _fit_and_score\n",
      "    estimator.fit(X_train, y_train, **fit_params)\n",
      "  File \"C:\\Users\\Abhijit Pawar\\anaconda3\\lib\\site-packages\\sklearn\\linear_model\\_logistic.py\", line 1306, in fit\n",
      "    solver = _check_solver(self.solver, self.penalty, self.dual)\n",
      "  File \"C:\\Users\\Abhijit Pawar\\anaconda3\\lib\\site-packages\\sklearn\\linear_model\\_logistic.py\", line 443, in _check_solver\n",
      "    raise ValueError(\"Solver %s supports only 'l2' or 'none' penalties, \"\n",
      "ValueError: Solver lbfgs supports only 'l2' or 'none' penalties, got l1 penalty.\n",
      "\n",
      "  warnings.warn(\"Estimator fit failed. The score on this train-test\"\n",
      "C:\\Users\\Abhijit Pawar\\anaconda3\\lib\\site-packages\\sklearn\\model_selection\\_validation.py:610: FitFailedWarning: Estimator fit failed. The score on this train-test partition for these parameters will be set to nan. Details: \n",
      "Traceback (most recent call last):\n",
      "  File \"C:\\Users\\Abhijit Pawar\\anaconda3\\lib\\site-packages\\sklearn\\model_selection\\_validation.py\", line 593, in _fit_and_score\n",
      "    estimator.fit(X_train, y_train, **fit_params)\n",
      "  File \"C:\\Users\\Abhijit Pawar\\anaconda3\\lib\\site-packages\\sklearn\\linear_model\\_logistic.py\", line 1306, in fit\n",
      "    solver = _check_solver(self.solver, self.penalty, self.dual)\n",
      "  File \"C:\\Users\\Abhijit Pawar\\anaconda3\\lib\\site-packages\\sklearn\\linear_model\\_logistic.py\", line 443, in _check_solver\n",
      "    raise ValueError(\"Solver %s supports only 'l2' or 'none' penalties, \"\n",
      "ValueError: Solver lbfgs supports only 'l2' or 'none' penalties, got l1 penalty.\n",
      "\n",
      "  warnings.warn(\"Estimator fit failed. The score on this train-test\"\n",
      "C:\\Users\\Abhijit Pawar\\anaconda3\\lib\\site-packages\\sklearn\\model_selection\\_validation.py:610: FitFailedWarning: Estimator fit failed. The score on this train-test partition for these parameters will be set to nan. Details: \n",
      "Traceback (most recent call last):\n",
      "  File \"C:\\Users\\Abhijit Pawar\\anaconda3\\lib\\site-packages\\sklearn\\model_selection\\_validation.py\", line 593, in _fit_and_score\n",
      "    estimator.fit(X_train, y_train, **fit_params)\n",
      "  File \"C:\\Users\\Abhijit Pawar\\anaconda3\\lib\\site-packages\\sklearn\\linear_model\\_logistic.py\", line 1306, in fit\n",
      "    solver = _check_solver(self.solver, self.penalty, self.dual)\n",
      "  File \"C:\\Users\\Abhijit Pawar\\anaconda3\\lib\\site-packages\\sklearn\\linear_model\\_logistic.py\", line 443, in _check_solver\n",
      "    raise ValueError(\"Solver %s supports only 'l2' or 'none' penalties, \"\n",
      "ValueError: Solver lbfgs supports only 'l2' or 'none' penalties, got l1 penalty.\n",
      "\n",
      "  warnings.warn(\"Estimator fit failed. The score on this train-test\"\n",
      "C:\\Users\\Abhijit Pawar\\anaconda3\\lib\\site-packages\\sklearn\\model_selection\\_validation.py:610: FitFailedWarning: Estimator fit failed. The score on this train-test partition for these parameters will be set to nan. Details: \n",
      "Traceback (most recent call last):\n",
      "  File \"C:\\Users\\Abhijit Pawar\\anaconda3\\lib\\site-packages\\sklearn\\model_selection\\_validation.py\", line 593, in _fit_and_score\n",
      "    estimator.fit(X_train, y_train, **fit_params)\n",
      "  File \"C:\\Users\\Abhijit Pawar\\anaconda3\\lib\\site-packages\\sklearn\\linear_model\\_logistic.py\", line 1306, in fit\n",
      "    solver = _check_solver(self.solver, self.penalty, self.dual)\n",
      "  File \"C:\\Users\\Abhijit Pawar\\anaconda3\\lib\\site-packages\\sklearn\\linear_model\\_logistic.py\", line 443, in _check_solver\n",
      "    raise ValueError(\"Solver %s supports only 'l2' or 'none' penalties, \"\n",
      "ValueError: Solver lbfgs supports only 'l2' or 'none' penalties, got l1 penalty.\n",
      "\n",
      "  warnings.warn(\"Estimator fit failed. The score on this train-test\"\n",
      "C:\\Users\\Abhijit Pawar\\anaconda3\\lib\\site-packages\\sklearn\\model_selection\\_validation.py:610: FitFailedWarning: Estimator fit failed. The score on this train-test partition for these parameters will be set to nan. Details: \n",
      "Traceback (most recent call last):\n",
      "  File \"C:\\Users\\Abhijit Pawar\\anaconda3\\lib\\site-packages\\sklearn\\model_selection\\_validation.py\", line 593, in _fit_and_score\n",
      "    estimator.fit(X_train, y_train, **fit_params)\n",
      "  File \"C:\\Users\\Abhijit Pawar\\anaconda3\\lib\\site-packages\\sklearn\\linear_model\\_logistic.py\", line 1306, in fit\n",
      "    solver = _check_solver(self.solver, self.penalty, self.dual)\n",
      "  File \"C:\\Users\\Abhijit Pawar\\anaconda3\\lib\\site-packages\\sklearn\\linear_model\\_logistic.py\", line 443, in _check_solver\n",
      "    raise ValueError(\"Solver %s supports only 'l2' or 'none' penalties, \"\n",
      "ValueError: Solver lbfgs supports only 'l2' or 'none' penalties, got l1 penalty.\n",
      "\n",
      "  warnings.warn(\"Estimator fit failed. The score on this train-test\"\n",
      "C:\\Users\\Abhijit Pawar\\anaconda3\\lib\\site-packages\\sklearn\\model_selection\\_validation.py:610: FitFailedWarning: Estimator fit failed. The score on this train-test partition for these parameters will be set to nan. Details: \n",
      "Traceback (most recent call last):\n",
      "  File \"C:\\Users\\Abhijit Pawar\\anaconda3\\lib\\site-packages\\sklearn\\model_selection\\_validation.py\", line 593, in _fit_and_score\n",
      "    estimator.fit(X_train, y_train, **fit_params)\n",
      "  File \"C:\\Users\\Abhijit Pawar\\anaconda3\\lib\\site-packages\\sklearn\\linear_model\\_logistic.py\", line 1306, in fit\n",
      "    solver = _check_solver(self.solver, self.penalty, self.dual)\n",
      "  File \"C:\\Users\\Abhijit Pawar\\anaconda3\\lib\\site-packages\\sklearn\\linear_model\\_logistic.py\", line 443, in _check_solver\n",
      "    raise ValueError(\"Solver %s supports only 'l2' or 'none' penalties, \"\n",
      "ValueError: Solver lbfgs supports only 'l2' or 'none' penalties, got l1 penalty.\n",
      "\n",
      "  warnings.warn(\"Estimator fit failed. The score on this train-test\"\n",
      "C:\\Users\\Abhijit Pawar\\anaconda3\\lib\\site-packages\\sklearn\\model_selection\\_validation.py:610: FitFailedWarning: Estimator fit failed. The score on this train-test partition for these parameters will be set to nan. Details: \n",
      "Traceback (most recent call last):\n",
      "  File \"C:\\Users\\Abhijit Pawar\\anaconda3\\lib\\site-packages\\sklearn\\model_selection\\_validation.py\", line 593, in _fit_and_score\n",
      "    estimator.fit(X_train, y_train, **fit_params)\n",
      "  File \"C:\\Users\\Abhijit Pawar\\anaconda3\\lib\\site-packages\\sklearn\\linear_model\\_logistic.py\", line 1306, in fit\n",
      "    solver = _check_solver(self.solver, self.penalty, self.dual)\n",
      "  File \"C:\\Users\\Abhijit Pawar\\anaconda3\\lib\\site-packages\\sklearn\\linear_model\\_logistic.py\", line 443, in _check_solver\n",
      "    raise ValueError(\"Solver %s supports only 'l2' or 'none' penalties, \"\n",
      "ValueError: Solver lbfgs supports only 'l2' or 'none' penalties, got l1 penalty.\n",
      "\n",
      "  warnings.warn(\"Estimator fit failed. The score on this train-test\"\n",
      "C:\\Users\\Abhijit Pawar\\anaconda3\\lib\\site-packages\\sklearn\\model_selection\\_validation.py:610: FitFailedWarning: Estimator fit failed. The score on this train-test partition for these parameters will be set to nan. Details: \n",
      "Traceback (most recent call last):\n",
      "  File \"C:\\Users\\Abhijit Pawar\\anaconda3\\lib\\site-packages\\sklearn\\model_selection\\_validation.py\", line 593, in _fit_and_score\n",
      "    estimator.fit(X_train, y_train, **fit_params)\n",
      "  File \"C:\\Users\\Abhijit Pawar\\anaconda3\\lib\\site-packages\\sklearn\\linear_model\\_logistic.py\", line 1306, in fit\n",
      "    solver = _check_solver(self.solver, self.penalty, self.dual)\n",
      "  File \"C:\\Users\\Abhijit Pawar\\anaconda3\\lib\\site-packages\\sklearn\\linear_model\\_logistic.py\", line 443, in _check_solver\n",
      "    raise ValueError(\"Solver %s supports only 'l2' or 'none' penalties, \"\n",
      "ValueError: Solver lbfgs supports only 'l2' or 'none' penalties, got l1 penalty.\n",
      "\n",
      "  warnings.warn(\"Estimator fit failed. The score on this train-test\"\n"
     ]
    },
    {
     "name": "stderr",
     "output_type": "stream",
     "text": [
      "C:\\Users\\Abhijit Pawar\\anaconda3\\lib\\site-packages\\sklearn\\model_selection\\_validation.py:610: FitFailedWarning: Estimator fit failed. The score on this train-test partition for these parameters will be set to nan. Details: \n",
      "Traceback (most recent call last):\n",
      "  File \"C:\\Users\\Abhijit Pawar\\anaconda3\\lib\\site-packages\\sklearn\\model_selection\\_validation.py\", line 593, in _fit_and_score\n",
      "    estimator.fit(X_train, y_train, **fit_params)\n",
      "  File \"C:\\Users\\Abhijit Pawar\\anaconda3\\lib\\site-packages\\sklearn\\linear_model\\_logistic.py\", line 1306, in fit\n",
      "    solver = _check_solver(self.solver, self.penalty, self.dual)\n",
      "  File \"C:\\Users\\Abhijit Pawar\\anaconda3\\lib\\site-packages\\sklearn\\linear_model\\_logistic.py\", line 443, in _check_solver\n",
      "    raise ValueError(\"Solver %s supports only 'l2' or 'none' penalties, \"\n",
      "ValueError: Solver lbfgs supports only 'l2' or 'none' penalties, got l1 penalty.\n",
      "\n",
      "  warnings.warn(\"Estimator fit failed. The score on this train-test\"\n",
      "C:\\Users\\Abhijit Pawar\\anaconda3\\lib\\site-packages\\sklearn\\model_selection\\_validation.py:610: FitFailedWarning: Estimator fit failed. The score on this train-test partition for these parameters will be set to nan. Details: \n",
      "Traceback (most recent call last):\n",
      "  File \"C:\\Users\\Abhijit Pawar\\anaconda3\\lib\\site-packages\\sklearn\\model_selection\\_validation.py\", line 593, in _fit_and_score\n",
      "    estimator.fit(X_train, y_train, **fit_params)\n",
      "  File \"C:\\Users\\Abhijit Pawar\\anaconda3\\lib\\site-packages\\sklearn\\linear_model\\_logistic.py\", line 1306, in fit\n",
      "    solver = _check_solver(self.solver, self.penalty, self.dual)\n",
      "  File \"C:\\Users\\Abhijit Pawar\\anaconda3\\lib\\site-packages\\sklearn\\linear_model\\_logistic.py\", line 443, in _check_solver\n",
      "    raise ValueError(\"Solver %s supports only 'l2' or 'none' penalties, \"\n",
      "ValueError: Solver lbfgs supports only 'l2' or 'none' penalties, got l1 penalty.\n",
      "\n",
      "  warnings.warn(\"Estimator fit failed. The score on this train-test\"\n",
      "C:\\Users\\Abhijit Pawar\\anaconda3\\lib\\site-packages\\sklearn\\model_selection\\_validation.py:610: FitFailedWarning: Estimator fit failed. The score on this train-test partition for these parameters will be set to nan. Details: \n",
      "Traceback (most recent call last):\n",
      "  File \"C:\\Users\\Abhijit Pawar\\anaconda3\\lib\\site-packages\\sklearn\\model_selection\\_validation.py\", line 593, in _fit_and_score\n",
      "    estimator.fit(X_train, y_train, **fit_params)\n",
      "  File \"C:\\Users\\Abhijit Pawar\\anaconda3\\lib\\site-packages\\sklearn\\linear_model\\_logistic.py\", line 1306, in fit\n",
      "    solver = _check_solver(self.solver, self.penalty, self.dual)\n",
      "  File \"C:\\Users\\Abhijit Pawar\\anaconda3\\lib\\site-packages\\sklearn\\linear_model\\_logistic.py\", line 443, in _check_solver\n",
      "    raise ValueError(\"Solver %s supports only 'l2' or 'none' penalties, \"\n",
      "ValueError: Solver lbfgs supports only 'l2' or 'none' penalties, got l1 penalty.\n",
      "\n",
      "  warnings.warn(\"Estimator fit failed. The score on this train-test\"\n",
      "C:\\Users\\Abhijit Pawar\\anaconda3\\lib\\site-packages\\sklearn\\model_selection\\_validation.py:610: FitFailedWarning: Estimator fit failed. The score on this train-test partition for these parameters will be set to nan. Details: \n",
      "Traceback (most recent call last):\n",
      "  File \"C:\\Users\\Abhijit Pawar\\anaconda3\\lib\\site-packages\\sklearn\\model_selection\\_validation.py\", line 593, in _fit_and_score\n",
      "    estimator.fit(X_train, y_train, **fit_params)\n",
      "  File \"C:\\Users\\Abhijit Pawar\\anaconda3\\lib\\site-packages\\sklearn\\linear_model\\_logistic.py\", line 1306, in fit\n",
      "    solver = _check_solver(self.solver, self.penalty, self.dual)\n",
      "  File \"C:\\Users\\Abhijit Pawar\\anaconda3\\lib\\site-packages\\sklearn\\linear_model\\_logistic.py\", line 443, in _check_solver\n",
      "    raise ValueError(\"Solver %s supports only 'l2' or 'none' penalties, \"\n",
      "ValueError: Solver lbfgs supports only 'l2' or 'none' penalties, got l1 penalty.\n",
      "\n",
      "  warnings.warn(\"Estimator fit failed. The score on this train-test\"\n",
      "C:\\Users\\Abhijit Pawar\\anaconda3\\lib\\site-packages\\sklearn\\model_selection\\_validation.py:610: FitFailedWarning: Estimator fit failed. The score on this train-test partition for these parameters will be set to nan. Details: \n",
      "Traceback (most recent call last):\n",
      "  File \"C:\\Users\\Abhijit Pawar\\anaconda3\\lib\\site-packages\\sklearn\\model_selection\\_validation.py\", line 593, in _fit_and_score\n",
      "    estimator.fit(X_train, y_train, **fit_params)\n",
      "  File \"C:\\Users\\Abhijit Pawar\\anaconda3\\lib\\site-packages\\sklearn\\linear_model\\_logistic.py\", line 1306, in fit\n",
      "    solver = _check_solver(self.solver, self.penalty, self.dual)\n",
      "  File \"C:\\Users\\Abhijit Pawar\\anaconda3\\lib\\site-packages\\sklearn\\linear_model\\_logistic.py\", line 443, in _check_solver\n",
      "    raise ValueError(\"Solver %s supports only 'l2' or 'none' penalties, \"\n",
      "ValueError: Solver lbfgs supports only 'l2' or 'none' penalties, got l1 penalty.\n",
      "\n",
      "  warnings.warn(\"Estimator fit failed. The score on this train-test\"\n",
      "C:\\Users\\Abhijit Pawar\\anaconda3\\lib\\site-packages\\sklearn\\model_selection\\_validation.py:610: FitFailedWarning: Estimator fit failed. The score on this train-test partition for these parameters will be set to nan. Details: \n",
      "Traceback (most recent call last):\n",
      "  File \"C:\\Users\\Abhijit Pawar\\anaconda3\\lib\\site-packages\\sklearn\\model_selection\\_validation.py\", line 593, in _fit_and_score\n",
      "    estimator.fit(X_train, y_train, **fit_params)\n",
      "  File \"C:\\Users\\Abhijit Pawar\\anaconda3\\lib\\site-packages\\sklearn\\linear_model\\_logistic.py\", line 1306, in fit\n",
      "    solver = _check_solver(self.solver, self.penalty, self.dual)\n",
      "  File \"C:\\Users\\Abhijit Pawar\\anaconda3\\lib\\site-packages\\sklearn\\linear_model\\_logistic.py\", line 443, in _check_solver\n",
      "    raise ValueError(\"Solver %s supports only 'l2' or 'none' penalties, \"\n",
      "ValueError: Solver lbfgs supports only 'l2' or 'none' penalties, got l1 penalty.\n",
      "\n",
      "  warnings.warn(\"Estimator fit failed. The score on this train-test\"\n",
      "C:\\Users\\Abhijit Pawar\\anaconda3\\lib\\site-packages\\sklearn\\model_selection\\_validation.py:610: FitFailedWarning: Estimator fit failed. The score on this train-test partition for these parameters will be set to nan. Details: \n",
      "Traceback (most recent call last):\n",
      "  File \"C:\\Users\\Abhijit Pawar\\anaconda3\\lib\\site-packages\\sklearn\\model_selection\\_validation.py\", line 593, in _fit_and_score\n",
      "    estimator.fit(X_train, y_train, **fit_params)\n",
      "  File \"C:\\Users\\Abhijit Pawar\\anaconda3\\lib\\site-packages\\sklearn\\linear_model\\_logistic.py\", line 1306, in fit\n",
      "    solver = _check_solver(self.solver, self.penalty, self.dual)\n",
      "  File \"C:\\Users\\Abhijit Pawar\\anaconda3\\lib\\site-packages\\sklearn\\linear_model\\_logistic.py\", line 443, in _check_solver\n",
      "    raise ValueError(\"Solver %s supports only 'l2' or 'none' penalties, \"\n",
      "ValueError: Solver lbfgs supports only 'l2' or 'none' penalties, got l1 penalty.\n",
      "\n",
      "  warnings.warn(\"Estimator fit failed. The score on this train-test\"\n",
      "C:\\Users\\Abhijit Pawar\\anaconda3\\lib\\site-packages\\sklearn\\model_selection\\_validation.py:610: FitFailedWarning: Estimator fit failed. The score on this train-test partition for these parameters will be set to nan. Details: \n",
      "Traceback (most recent call last):\n",
      "  File \"C:\\Users\\Abhijit Pawar\\anaconda3\\lib\\site-packages\\sklearn\\model_selection\\_validation.py\", line 593, in _fit_and_score\n",
      "    estimator.fit(X_train, y_train, **fit_params)\n",
      "  File \"C:\\Users\\Abhijit Pawar\\anaconda3\\lib\\site-packages\\sklearn\\linear_model\\_logistic.py\", line 1306, in fit\n",
      "    solver = _check_solver(self.solver, self.penalty, self.dual)\n",
      "  File \"C:\\Users\\Abhijit Pawar\\anaconda3\\lib\\site-packages\\sklearn\\linear_model\\_logistic.py\", line 443, in _check_solver\n",
      "    raise ValueError(\"Solver %s supports only 'l2' or 'none' penalties, \"\n",
      "ValueError: Solver lbfgs supports only 'l2' or 'none' penalties, got l1 penalty.\n",
      "\n",
      "  warnings.warn(\"Estimator fit failed. The score on this train-test\"\n",
      "C:\\Users\\Abhijit Pawar\\anaconda3\\lib\\site-packages\\sklearn\\model_selection\\_validation.py:610: FitFailedWarning: Estimator fit failed. The score on this train-test partition for these parameters will be set to nan. Details: \n",
      "Traceback (most recent call last):\n",
      "  File \"C:\\Users\\Abhijit Pawar\\anaconda3\\lib\\site-packages\\sklearn\\model_selection\\_validation.py\", line 593, in _fit_and_score\n",
      "    estimator.fit(X_train, y_train, **fit_params)\n",
      "  File \"C:\\Users\\Abhijit Pawar\\anaconda3\\lib\\site-packages\\sklearn\\linear_model\\_logistic.py\", line 1306, in fit\n",
      "    solver = _check_solver(self.solver, self.penalty, self.dual)\n",
      "  File \"C:\\Users\\Abhijit Pawar\\anaconda3\\lib\\site-packages\\sklearn\\linear_model\\_logistic.py\", line 443, in _check_solver\n",
      "    raise ValueError(\"Solver %s supports only 'l2' or 'none' penalties, \"\n",
      "ValueError: Solver lbfgs supports only 'l2' or 'none' penalties, got l1 penalty.\n",
      "\n",
      "  warnings.warn(\"Estimator fit failed. The score on this train-test\"\n",
      "C:\\Users\\Abhijit Pawar\\anaconda3\\lib\\site-packages\\sklearn\\model_selection\\_validation.py:610: FitFailedWarning: Estimator fit failed. The score on this train-test partition for these parameters will be set to nan. Details: \n",
      "Traceback (most recent call last):\n",
      "  File \"C:\\Users\\Abhijit Pawar\\anaconda3\\lib\\site-packages\\sklearn\\model_selection\\_validation.py\", line 593, in _fit_and_score\n",
      "    estimator.fit(X_train, y_train, **fit_params)\n",
      "  File \"C:\\Users\\Abhijit Pawar\\anaconda3\\lib\\site-packages\\sklearn\\linear_model\\_logistic.py\", line 1306, in fit\n",
      "    solver = _check_solver(self.solver, self.penalty, self.dual)\n",
      "  File \"C:\\Users\\Abhijit Pawar\\anaconda3\\lib\\site-packages\\sklearn\\linear_model\\_logistic.py\", line 443, in _check_solver\n",
      "    raise ValueError(\"Solver %s supports only 'l2' or 'none' penalties, \"\n",
      "ValueError: Solver lbfgs supports only 'l2' or 'none' penalties, got l1 penalty.\n",
      "\n",
      "  warnings.warn(\"Estimator fit failed. The score on this train-test\"\n"
     ]
    },
    {
     "name": "stderr",
     "output_type": "stream",
     "text": [
      "C:\\Users\\Abhijit Pawar\\anaconda3\\lib\\site-packages\\sklearn\\model_selection\\_validation.py:610: FitFailedWarning: Estimator fit failed. The score on this train-test partition for these parameters will be set to nan. Details: \n",
      "Traceback (most recent call last):\n",
      "  File \"C:\\Users\\Abhijit Pawar\\anaconda3\\lib\\site-packages\\sklearn\\model_selection\\_validation.py\", line 593, in _fit_and_score\n",
      "    estimator.fit(X_train, y_train, **fit_params)\n",
      "  File \"C:\\Users\\Abhijit Pawar\\anaconda3\\lib\\site-packages\\sklearn\\linear_model\\_logistic.py\", line 1306, in fit\n",
      "    solver = _check_solver(self.solver, self.penalty, self.dual)\n",
      "  File \"C:\\Users\\Abhijit Pawar\\anaconda3\\lib\\site-packages\\sklearn\\linear_model\\_logistic.py\", line 443, in _check_solver\n",
      "    raise ValueError(\"Solver %s supports only 'l2' or 'none' penalties, \"\n",
      "ValueError: Solver lbfgs supports only 'l2' or 'none' penalties, got l1 penalty.\n",
      "\n",
      "  warnings.warn(\"Estimator fit failed. The score on this train-test\"\n",
      "C:\\Users\\Abhijit Pawar\\anaconda3\\lib\\site-packages\\sklearn\\model_selection\\_validation.py:610: FitFailedWarning: Estimator fit failed. The score on this train-test partition for these parameters will be set to nan. Details: \n",
      "Traceback (most recent call last):\n",
      "  File \"C:\\Users\\Abhijit Pawar\\anaconda3\\lib\\site-packages\\sklearn\\model_selection\\_validation.py\", line 593, in _fit_and_score\n",
      "    estimator.fit(X_train, y_train, **fit_params)\n",
      "  File \"C:\\Users\\Abhijit Pawar\\anaconda3\\lib\\site-packages\\sklearn\\linear_model\\_logistic.py\", line 1306, in fit\n",
      "    solver = _check_solver(self.solver, self.penalty, self.dual)\n",
      "  File \"C:\\Users\\Abhijit Pawar\\anaconda3\\lib\\site-packages\\sklearn\\linear_model\\_logistic.py\", line 443, in _check_solver\n",
      "    raise ValueError(\"Solver %s supports only 'l2' or 'none' penalties, \"\n",
      "ValueError: Solver lbfgs supports only 'l2' or 'none' penalties, got l1 penalty.\n",
      "\n",
      "  warnings.warn(\"Estimator fit failed. The score on this train-test\"\n",
      "C:\\Users\\Abhijit Pawar\\anaconda3\\lib\\site-packages\\sklearn\\model_selection\\_validation.py:610: FitFailedWarning: Estimator fit failed. The score on this train-test partition for these parameters will be set to nan. Details: \n",
      "Traceback (most recent call last):\n",
      "  File \"C:\\Users\\Abhijit Pawar\\anaconda3\\lib\\site-packages\\sklearn\\model_selection\\_validation.py\", line 593, in _fit_and_score\n",
      "    estimator.fit(X_train, y_train, **fit_params)\n",
      "  File \"C:\\Users\\Abhijit Pawar\\anaconda3\\lib\\site-packages\\sklearn\\linear_model\\_logistic.py\", line 1306, in fit\n",
      "    solver = _check_solver(self.solver, self.penalty, self.dual)\n",
      "  File \"C:\\Users\\Abhijit Pawar\\anaconda3\\lib\\site-packages\\sklearn\\linear_model\\_logistic.py\", line 443, in _check_solver\n",
      "    raise ValueError(\"Solver %s supports only 'l2' or 'none' penalties, \"\n",
      "ValueError: Solver lbfgs supports only 'l2' or 'none' penalties, got l1 penalty.\n",
      "\n",
      "  warnings.warn(\"Estimator fit failed. The score on this train-test\"\n",
      "C:\\Users\\Abhijit Pawar\\anaconda3\\lib\\site-packages\\sklearn\\model_selection\\_validation.py:610: FitFailedWarning: Estimator fit failed. The score on this train-test partition for these parameters will be set to nan. Details: \n",
      "Traceback (most recent call last):\n",
      "  File \"C:\\Users\\Abhijit Pawar\\anaconda3\\lib\\site-packages\\sklearn\\model_selection\\_validation.py\", line 593, in _fit_and_score\n",
      "    estimator.fit(X_train, y_train, **fit_params)\n",
      "  File \"C:\\Users\\Abhijit Pawar\\anaconda3\\lib\\site-packages\\sklearn\\linear_model\\_logistic.py\", line 1306, in fit\n",
      "    solver = _check_solver(self.solver, self.penalty, self.dual)\n",
      "  File \"C:\\Users\\Abhijit Pawar\\anaconda3\\lib\\site-packages\\sklearn\\linear_model\\_logistic.py\", line 443, in _check_solver\n",
      "    raise ValueError(\"Solver %s supports only 'l2' or 'none' penalties, \"\n",
      "ValueError: Solver lbfgs supports only 'l2' or 'none' penalties, got l1 penalty.\n",
      "\n",
      "  warnings.warn(\"Estimator fit failed. The score on this train-test\"\n",
      "C:\\Users\\Abhijit Pawar\\anaconda3\\lib\\site-packages\\sklearn\\model_selection\\_validation.py:610: FitFailedWarning: Estimator fit failed. The score on this train-test partition for these parameters will be set to nan. Details: \n",
      "Traceback (most recent call last):\n",
      "  File \"C:\\Users\\Abhijit Pawar\\anaconda3\\lib\\site-packages\\sklearn\\model_selection\\_validation.py\", line 593, in _fit_and_score\n",
      "    estimator.fit(X_train, y_train, **fit_params)\n",
      "  File \"C:\\Users\\Abhijit Pawar\\anaconda3\\lib\\site-packages\\sklearn\\linear_model\\_logistic.py\", line 1306, in fit\n",
      "    solver = _check_solver(self.solver, self.penalty, self.dual)\n",
      "  File \"C:\\Users\\Abhijit Pawar\\anaconda3\\lib\\site-packages\\sklearn\\linear_model\\_logistic.py\", line 443, in _check_solver\n",
      "    raise ValueError(\"Solver %s supports only 'l2' or 'none' penalties, \"\n",
      "ValueError: Solver lbfgs supports only 'l2' or 'none' penalties, got l1 penalty.\n",
      "\n",
      "  warnings.warn(\"Estimator fit failed. The score on this train-test\"\n",
      "C:\\Users\\Abhijit Pawar\\anaconda3\\lib\\site-packages\\sklearn\\model_selection\\_search.py:918: UserWarning: One or more of the test scores are non-finite: [       nan 0.80393723        nan 0.80393723        nan 0.80393723\n",
      "        nan 0.80393723        nan 0.80393723]\n",
      "  warnings.warn(\n"
     ]
    },
    {
     "data": {
      "text/plain": [
       "0.8039372332539954"
      ]
     },
     "execution_count": 76,
     "metadata": {},
     "output_type": "execute_result"
    }
   ],
   "source": [
    "#Logistic Regression\n",
    "param_grid = {'penalty': ['l1','l2'], 'C': [0.001, 0.1, 1, 10, 100]}\n",
    "\n",
    "LG_cv = RandomizedSearchCV(LG, param_grid, cv=5)\n",
    "\n",
    "LG_cv.fit(X_train, y_train)\n",
    "\n",
    "LG_cv.best_params_\n",
    "\n",
    "LG_cv.best_score_"
   ]
  },
  {
   "cell_type": "code",
   "execution_count": 79,
   "id": "02c569d3",
   "metadata": {},
   "outputs": [
    {
     "name": "stdout",
     "output_type": "stream",
     "text": [
      "Best Score:0.8394735264692598\n",
      "Best Parameters: {'n_neighbors': 42}\n"
     ]
    }
   ],
   "source": [
    "#kNN\n",
    "param_grid_knn = {'n_neighbors':np.arange(1,50)}\n",
    "KNN = KNeighborsClassifier()\n",
    "kNN_CV = RandomizedSearchCV(KNN, param_grid_knn, cv=5)\n",
    "kNN_CV.fit(X_train, y_train)\n",
    "\n",
    "print(\"Best Score:\" + str(kNN_CV.best_score_))\n",
    "print(\"Best Parameters: \" + str(kNN_CV.best_params_))\n"
   ]
  },
  {
   "cell_type": "code",
   "execution_count": 78,
   "id": "7033f2cf",
   "metadata": {},
   "outputs": [
    {
     "name": "stdout",
     "output_type": "stream",
     "text": [
      "Best Score:0.9219052308763576\n",
      "Best Parameters: {'min_samples_leaf': 20, 'max_depth': 10, 'criterion': 'gini'}\n"
     ]
    }
   ],
   "source": [
    "# Decision Tree\n",
    "\n",
    "param_grid_DT = {'max_depth': [2, 3, 5, 10, 20],'min_samples_leaf': [5, 10, 20, 50, 100],'criterion': [\"gini\", \"entropy\"]}\n",
    "\n",
    "\n",
    "DT = DecisionTreeClassifier()\n",
    "DT_CV = RandomizedSearchCV(DT, param_grid_DT, cv=5)\n",
    "DT_CV.fit(X_train, y_train)\n",
    "\n",
    "\n",
    "print(\"Best Score:\" + str(DT_CV.best_score_))\n",
    "print(\"Best Parameters: \" + str(DT_CV.best_params_))\n"
   ]
  },
  {
   "cell_type": "code",
   "execution_count": 117,
   "id": "692944ce",
   "metadata": {},
   "outputs": [
    {
     "name": "stdout",
     "output_type": "stream",
     "text": [
      "0:\tlearn: 0.5936543\ttotal: 18.1ms\tremaining: 1.79s\n",
      "1:\tlearn: 0.5130868\ttotal: 69.8ms\tremaining: 3.42s\n",
      "2:\tlearn: 0.4473068\ttotal: 119ms\tremaining: 3.84s\n",
      "3:\tlearn: 0.3988298\ttotal: 173ms\tremaining: 4.16s\n",
      "4:\tlearn: 0.3706903\ttotal: 222ms\tremaining: 4.22s\n",
      "5:\tlearn: 0.3423076\ttotal: 263ms\tremaining: 4.12s\n",
      "6:\tlearn: 0.3217056\ttotal: 325ms\tremaining: 4.31s\n",
      "7:\tlearn: 0.3021748\ttotal: 369ms\tremaining: 4.24s\n",
      "8:\tlearn: 0.2897889\ttotal: 418ms\tremaining: 4.22s\n",
      "9:\tlearn: 0.2779882\ttotal: 454ms\tremaining: 4.08s\n",
      "10:\tlearn: 0.2673024\ttotal: 485ms\tremaining: 3.93s\n",
      "11:\tlearn: 0.2594228\ttotal: 516ms\tremaining: 3.78s\n",
      "12:\tlearn: 0.2541920\ttotal: 541ms\tremaining: 3.62s\n",
      "13:\tlearn: 0.2484879\ttotal: 565ms\tremaining: 3.47s\n",
      "14:\tlearn: 0.2433457\ttotal: 591ms\tremaining: 3.35s\n",
      "15:\tlearn: 0.2399727\ttotal: 616ms\tremaining: 3.23s\n",
      "16:\tlearn: 0.2353416\ttotal: 642ms\tremaining: 3.13s\n",
      "17:\tlearn: 0.2321869\ttotal: 667ms\tremaining: 3.04s\n",
      "18:\tlearn: 0.2295432\ttotal: 694ms\tremaining: 2.96s\n",
      "19:\tlearn: 0.2267518\ttotal: 720ms\tremaining: 2.88s\n",
      "20:\tlearn: 0.2248502\ttotal: 747ms\tremaining: 2.81s\n",
      "21:\tlearn: 0.2231553\ttotal: 777ms\tremaining: 2.75s\n",
      "22:\tlearn: 0.2210476\ttotal: 810ms\tremaining: 2.71s\n",
      "23:\tlearn: 0.2194656\ttotal: 839ms\tremaining: 2.65s\n",
      "24:\tlearn: 0.2183054\ttotal: 865ms\tremaining: 2.59s\n",
      "25:\tlearn: 0.2158129\ttotal: 891ms\tremaining: 2.54s\n",
      "26:\tlearn: 0.2149262\ttotal: 924ms\tremaining: 2.5s\n",
      "27:\tlearn: 0.2138051\ttotal: 958ms\tremaining: 2.46s\n",
      "28:\tlearn: 0.2116281\ttotal: 989ms\tremaining: 2.42s\n",
      "29:\tlearn: 0.2107039\ttotal: 1.02s\tremaining: 2.37s\n",
      "30:\tlearn: 0.2094276\ttotal: 1.05s\tremaining: 2.33s\n",
      "31:\tlearn: 0.2083948\ttotal: 1.08s\tremaining: 2.29s\n",
      "32:\tlearn: 0.2076067\ttotal: 1.1s\tremaining: 2.24s\n",
      "33:\tlearn: 0.2052484\ttotal: 1.13s\tremaining: 2.2s\n",
      "34:\tlearn: 0.2037194\ttotal: 1.16s\tremaining: 2.15s\n",
      "35:\tlearn: 0.2028111\ttotal: 1.19s\tremaining: 2.11s\n",
      "36:\tlearn: 0.2023493\ttotal: 1.21s\tremaining: 2.07s\n",
      "37:\tlearn: 0.2011240\ttotal: 1.24s\tremaining: 2.02s\n",
      "38:\tlearn: 0.2008330\ttotal: 1.24s\tremaining: 1.95s\n",
      "39:\tlearn: 0.2003586\ttotal: 1.27s\tremaining: 1.91s\n",
      "40:\tlearn: 0.1995323\ttotal: 1.3s\tremaining: 1.87s\n",
      "41:\tlearn: 0.1985164\ttotal: 1.33s\tremaining: 1.83s\n",
      "42:\tlearn: 0.1967735\ttotal: 1.35s\tremaining: 1.8s\n",
      "43:\tlearn: 0.1957083\ttotal: 1.38s\tremaining: 1.76s\n",
      "44:\tlearn: 0.1948512\ttotal: 1.41s\tremaining: 1.72s\n",
      "45:\tlearn: 0.1939381\ttotal: 1.44s\tremaining: 1.69s\n",
      "46:\tlearn: 0.1937489\ttotal: 1.46s\tremaining: 1.65s\n",
      "47:\tlearn: 0.1932312\ttotal: 1.5s\tremaining: 1.62s\n",
      "48:\tlearn: 0.1923050\ttotal: 1.52s\tremaining: 1.58s\n",
      "49:\tlearn: 0.1915069\ttotal: 1.55s\tremaining: 1.55s\n",
      "50:\tlearn: 0.1908950\ttotal: 1.58s\tremaining: 1.52s\n",
      "51:\tlearn: 0.1900137\ttotal: 1.61s\tremaining: 1.49s\n",
      "52:\tlearn: 0.1895271\ttotal: 1.64s\tremaining: 1.45s\n",
      "53:\tlearn: 0.1891554\ttotal: 1.66s\tremaining: 1.42s\n",
      "54:\tlearn: 0.1886629\ttotal: 1.69s\tremaining: 1.38s\n",
      "55:\tlearn: 0.1876041\ttotal: 1.71s\tremaining: 1.35s\n",
      "56:\tlearn: 0.1872748\ttotal: 1.74s\tremaining: 1.31s\n",
      "57:\tlearn: 0.1866735\ttotal: 1.76s\tremaining: 1.28s\n",
      "58:\tlearn: 0.1860363\ttotal: 1.8s\tremaining: 1.25s\n",
      "59:\tlearn: 0.1855463\ttotal: 1.83s\tremaining: 1.22s\n",
      "60:\tlearn: 0.1849508\ttotal: 1.87s\tremaining: 1.19s\n",
      "61:\tlearn: 0.1848920\ttotal: 1.87s\tremaining: 1.15s\n",
      "62:\tlearn: 0.1844943\ttotal: 1.9s\tremaining: 1.11s\n",
      "63:\tlearn: 0.1840028\ttotal: 1.93s\tremaining: 1.08s\n",
      "64:\tlearn: 0.1831707\ttotal: 1.96s\tremaining: 1.06s\n",
      "65:\tlearn: 0.1826392\ttotal: 1.99s\tremaining: 1.02s\n",
      "66:\tlearn: 0.1821386\ttotal: 2.02s\tremaining: 994ms\n",
      "67:\tlearn: 0.1818507\ttotal: 2.05s\tremaining: 964ms\n",
      "68:\tlearn: 0.1813661\ttotal: 2.08s\tremaining: 934ms\n",
      "69:\tlearn: 0.1805099\ttotal: 2.11s\tremaining: 903ms\n",
      "70:\tlearn: 0.1794938\ttotal: 2.13s\tremaining: 872ms\n",
      "71:\tlearn: 0.1788512\ttotal: 2.16s\tremaining: 840ms\n",
      "72:\tlearn: 0.1781843\ttotal: 2.19s\tremaining: 810ms\n",
      "73:\tlearn: 0.1777068\ttotal: 2.22s\tremaining: 779ms\n",
      "74:\tlearn: 0.1770994\ttotal: 2.24s\tremaining: 748ms\n",
      "75:\tlearn: 0.1763719\ttotal: 2.27s\tremaining: 717ms\n",
      "76:\tlearn: 0.1759745\ttotal: 2.29s\tremaining: 686ms\n",
      "77:\tlearn: 0.1756663\ttotal: 2.32s\tremaining: 655ms\n",
      "78:\tlearn: 0.1744928\ttotal: 2.35s\tremaining: 624ms\n",
      "79:\tlearn: 0.1737806\ttotal: 2.37s\tremaining: 593ms\n",
      "80:\tlearn: 0.1731123\ttotal: 2.4s\tremaining: 563ms\n",
      "81:\tlearn: 0.1724962\ttotal: 2.43s\tremaining: 533ms\n",
      "82:\tlearn: 0.1721617\ttotal: 2.45s\tremaining: 502ms\n",
      "83:\tlearn: 0.1716069\ttotal: 2.48s\tremaining: 472ms\n",
      "84:\tlearn: 0.1710871\ttotal: 2.5s\tremaining: 442ms\n",
      "85:\tlearn: 0.1704386\ttotal: 2.53s\tremaining: 412ms\n",
      "86:\tlearn: 0.1700691\ttotal: 2.55s\tremaining: 382ms\n",
      "87:\tlearn: 0.1696379\ttotal: 2.58s\tremaining: 352ms\n",
      "88:\tlearn: 0.1693327\ttotal: 2.61s\tremaining: 322ms\n",
      "89:\tlearn: 0.1687919\ttotal: 2.63s\tremaining: 293ms\n",
      "90:\tlearn: 0.1681424\ttotal: 2.66s\tremaining: 263ms\n",
      "91:\tlearn: 0.1674701\ttotal: 2.69s\tremaining: 234ms\n",
      "92:\tlearn: 0.1667745\ttotal: 2.71s\tremaining: 204ms\n",
      "93:\tlearn: 0.1665564\ttotal: 2.74s\tremaining: 175ms\n",
      "94:\tlearn: 0.1659678\ttotal: 2.76s\tremaining: 145ms\n",
      "95:\tlearn: 0.1654415\ttotal: 2.8s\tremaining: 117ms\n",
      "96:\tlearn: 0.1651679\ttotal: 2.83s\tremaining: 87.4ms\n",
      "97:\tlearn: 0.1644641\ttotal: 2.85s\tremaining: 58.2ms\n",
      "98:\tlearn: 0.1641806\ttotal: 2.88s\tremaining: 29ms\n",
      "99:\tlearn: 0.1636029\ttotal: 2.9s\tremaining: 0us\n",
      "Best Score:0.9318059712948039\n",
      "Best Parameters: {'learning_rate': 0.1, 'iterations': 100, 'depth': 10}\n"
     ]
    }
   ],
   "source": [
    "# CatBoost\n",
    "\n",
    "param_grid_cat = {'depth':[6,8,10], 'learning_rate':[0.01, 0.05, 0.1],'iterations':[30, 50, 100]}\n",
    "\n",
    "\n",
    "CAT = CatBoostClassifier()\n",
    "CAT_CV = RandomizedSearchCV(CAT, param_grid_cat, cv = 2, n_jobs=-1)\n",
    "CAT_CV.fit(X_train, y_train)\n",
    "\n",
    "\n",
    "print(\"Best Score:\" + str(CAT_CV.best_score_))\n",
    "print(\"Best Parameters: \" + str(CAT_CV.best_params_))\n",
    "\n"
   ]
  },
  {
   "cell_type": "markdown",
   "id": "90c49c07",
   "metadata": {},
   "source": [
    "Based on the Hyperparameter Tuning using Randomized Grid Search CV, the following conclusions can be drawn:\n",
    "\n",
    "1. Even with hyperparameter tuning, the best accuracy that the Logistic Regression can have is 80%. Which means that the Logistic Regression used is the best one\n",
    "\n",
    "2. For the Decision Tree classifier the best method to use is entropy with a max depth of 20\n",
    "\n",
    "3. For kNN the best number of neighbors is 32\n",
    "\n",
    "4. For CatBoost the best score is 93%, the best learning rate is 0.1 with 100 iterations and a depth of 10"
   ]
  },
  {
   "cell_type": "markdown",
   "id": "b1cc4dbf",
   "metadata": {},
   "source": [
    "# Alternate Modeling Excluding Borrowers Who Defaulted Before"
   ]
  },
  {
   "cell_type": "markdown",
   "id": "6a49a8f1",
   "metadata": {},
   "source": [
    "The previous models included all borrowers, even those that had defaulted before. Therefore it important to model borrowers that didn't default before only. It is important to this type of modeling as these are borrowers who either have little to no credit history or have haven't defaulted. This will give us true representation of what the risk is associated with loans given out to borrower, as we don't know for certain if that borrower will default or not."
   ]
  },
  {
   "cell_type": "code",
   "execution_count": 119,
   "id": "ad9a4bc2",
   "metadata": {},
   "outputs": [
    {
     "data": {
      "text/html": [
       "<div>\n",
       "<style scoped>\n",
       "    .dataframe tbody tr th:only-of-type {\n",
       "        vertical-align: middle;\n",
       "    }\n",
       "\n",
       "    .dataframe tbody tr th {\n",
       "        vertical-align: top;\n",
       "    }\n",
       "\n",
       "    .dataframe thead th {\n",
       "        text-align: right;\n",
       "    }\n",
       "</style>\n",
       "<table border=\"1\" class=\"dataframe\">\n",
       "  <thead>\n",
       "    <tr style=\"text-align: right;\">\n",
       "      <th></th>\n",
       "      <th>Age</th>\n",
       "      <th>Income</th>\n",
       "      <th>home ownership</th>\n",
       "      <th>Years_Employed</th>\n",
       "      <th>intent</th>\n",
       "      <th>grade</th>\n",
       "      <th>Amount</th>\n",
       "      <th>Rate</th>\n",
       "      <th>Default</th>\n",
       "      <th>Loan_Percent_Income</th>\n",
       "      <th>...</th>\n",
       "      <th>grade_G</th>\n",
       "      <th>intent_EDUCATION</th>\n",
       "      <th>intent_HOMEIMPROVEMENT</th>\n",
       "      <th>intent_MEDICAL</th>\n",
       "      <th>intent_PERSONAL</th>\n",
       "      <th>intent_VENTURE</th>\n",
       "      <th>home ownership_OTHER</th>\n",
       "      <th>home ownership_OWN</th>\n",
       "      <th>home ownership_RENT</th>\n",
       "      <th>default on file_Y</th>\n",
       "    </tr>\n",
       "  </thead>\n",
       "  <tbody>\n",
       "    <tr>\n",
       "      <th>1</th>\n",
       "      <td>21</td>\n",
       "      <td>9600</td>\n",
       "      <td>OWN</td>\n",
       "      <td>5.0</td>\n",
       "      <td>EDUCATION</td>\n",
       "      <td>B</td>\n",
       "      <td>1000</td>\n",
       "      <td>11.14</td>\n",
       "      <td>0</td>\n",
       "      <td>0.10</td>\n",
       "      <td>...</td>\n",
       "      <td>0</td>\n",
       "      <td>1</td>\n",
       "      <td>0</td>\n",
       "      <td>0</td>\n",
       "      <td>0</td>\n",
       "      <td>0</td>\n",
       "      <td>0</td>\n",
       "      <td>1</td>\n",
       "      <td>0</td>\n",
       "      <td>0</td>\n",
       "    </tr>\n",
       "    <tr>\n",
       "      <th>2</th>\n",
       "      <td>25</td>\n",
       "      <td>9600</td>\n",
       "      <td>MORTGAGE</td>\n",
       "      <td>1.0</td>\n",
       "      <td>MEDICAL</td>\n",
       "      <td>C</td>\n",
       "      <td>5500</td>\n",
       "      <td>12.87</td>\n",
       "      <td>1</td>\n",
       "      <td>0.57</td>\n",
       "      <td>...</td>\n",
       "      <td>0</td>\n",
       "      <td>0</td>\n",
       "      <td>0</td>\n",
       "      <td>1</td>\n",
       "      <td>0</td>\n",
       "      <td>0</td>\n",
       "      <td>0</td>\n",
       "      <td>0</td>\n",
       "      <td>0</td>\n",
       "      <td>0</td>\n",
       "    </tr>\n",
       "    <tr>\n",
       "      <th>3</th>\n",
       "      <td>23</td>\n",
       "      <td>65500</td>\n",
       "      <td>RENT</td>\n",
       "      <td>4.0</td>\n",
       "      <td>MEDICAL</td>\n",
       "      <td>C</td>\n",
       "      <td>35000</td>\n",
       "      <td>15.23</td>\n",
       "      <td>1</td>\n",
       "      <td>0.53</td>\n",
       "      <td>...</td>\n",
       "      <td>0</td>\n",
       "      <td>0</td>\n",
       "      <td>0</td>\n",
       "      <td>1</td>\n",
       "      <td>0</td>\n",
       "      <td>0</td>\n",
       "      <td>0</td>\n",
       "      <td>0</td>\n",
       "      <td>1</td>\n",
       "      <td>0</td>\n",
       "    </tr>\n",
       "    <tr>\n",
       "      <th>4</th>\n",
       "      <td>24</td>\n",
       "      <td>54400</td>\n",
       "      <td>RENT</td>\n",
       "      <td>8.0</td>\n",
       "      <td>MEDICAL</td>\n",
       "      <td>C</td>\n",
       "      <td>35000</td>\n",
       "      <td>14.27</td>\n",
       "      <td>1</td>\n",
       "      <td>0.55</td>\n",
       "      <td>...</td>\n",
       "      <td>0</td>\n",
       "      <td>0</td>\n",
       "      <td>0</td>\n",
       "      <td>1</td>\n",
       "      <td>0</td>\n",
       "      <td>0</td>\n",
       "      <td>0</td>\n",
       "      <td>0</td>\n",
       "      <td>1</td>\n",
       "      <td>1</td>\n",
       "    </tr>\n",
       "    <tr>\n",
       "      <th>5</th>\n",
       "      <td>21</td>\n",
       "      <td>9900</td>\n",
       "      <td>OWN</td>\n",
       "      <td>2.0</td>\n",
       "      <td>VENTURE</td>\n",
       "      <td>A</td>\n",
       "      <td>2500</td>\n",
       "      <td>7.14</td>\n",
       "      <td>1</td>\n",
       "      <td>0.25</td>\n",
       "      <td>...</td>\n",
       "      <td>0</td>\n",
       "      <td>0</td>\n",
       "      <td>0</td>\n",
       "      <td>0</td>\n",
       "      <td>0</td>\n",
       "      <td>1</td>\n",
       "      <td>0</td>\n",
       "      <td>1</td>\n",
       "      <td>0</td>\n",
       "      <td>0</td>\n",
       "    </tr>\n",
       "  </tbody>\n",
       "</table>\n",
       "<p>5 rows × 27 columns</p>\n",
       "</div>"
      ],
      "text/plain": [
       "   Age  Income home ownership  Years_Employed     intent grade  Amount   Rate  \\\n",
       "1   21    9600            OWN             5.0  EDUCATION     B    1000  11.14   \n",
       "2   25    9600       MORTGAGE             1.0    MEDICAL     C    5500  12.87   \n",
       "3   23   65500           RENT             4.0    MEDICAL     C   35000  15.23   \n",
       "4   24   54400           RENT             8.0    MEDICAL     C   35000  14.27   \n",
       "5   21    9900            OWN             2.0    VENTURE     A    2500   7.14   \n",
       "\n",
       "   Default  Loan_Percent_Income  ... grade_G  intent_EDUCATION  \\\n",
       "1        0                 0.10  ...       0                 1   \n",
       "2        1                 0.57  ...       0                 0   \n",
       "3        1                 0.53  ...       0                 0   \n",
       "4        1                 0.55  ...       0                 0   \n",
       "5        1                 0.25  ...       0                 0   \n",
       "\n",
       "   intent_HOMEIMPROVEMENT  intent_MEDICAL  intent_PERSONAL  intent_VENTURE  \\\n",
       "1                       0               0                0               0   \n",
       "2                       0               1                0               0   \n",
       "3                       0               1                0               0   \n",
       "4                       0               1                0               0   \n",
       "5                       0               0                0               1   \n",
       "\n",
       "   home ownership_OTHER  home ownership_OWN  home ownership_RENT  \\\n",
       "1                     0                   1                    0   \n",
       "2                     0                   0                    0   \n",
       "3                     0                   0                    1   \n",
       "4                     0                   0                    1   \n",
       "5                     0                   1                    0   \n",
       "\n",
       "   default on file_Y  \n",
       "1                  0  \n",
       "2                  0  \n",
       "3                  0  \n",
       "4                  1  \n",
       "5                  0  \n",
       "\n",
       "[5 rows x 27 columns]"
      ]
     },
     "execution_count": 119,
     "metadata": {},
     "output_type": "execute_result"
    }
   ],
   "source": [
    "df.head()"
   ]
  },
  {
   "cell_type": "code",
   "execution_count": 120,
   "id": "87715ad7",
   "metadata": {},
   "outputs": [],
   "source": [
    "df_ND = df[df['default on file_Y'] == 0]"
   ]
  },
  {
   "cell_type": "code",
   "execution_count": 121,
   "id": "6b20d074",
   "metadata": {},
   "outputs": [
    {
     "name": "stdout",
     "output_type": "stream",
     "text": [
      "       Age  Income home ownership  Years_Employed           intent grade  \\\n",
      "1       21    9600            OWN             5.0        EDUCATION     B   \n",
      "2       25    9600       MORTGAGE             1.0          MEDICAL     C   \n",
      "3       23   65500           RENT             4.0          MEDICAL     C   \n",
      "5       21    9900            OWN             2.0          VENTURE     A   \n",
      "6       26   77100           RENT             8.0        EDUCATION     B   \n",
      "...    ...     ...            ...             ...              ...   ...   \n",
      "32576   57   53000       MORTGAGE             1.0         PERSONAL     C   \n",
      "32577   54  120000       MORTGAGE             4.0         PERSONAL     A   \n",
      "32578   65   76000           RENT             3.0  HOMEIMPROVEMENT     B   \n",
      "32579   56  150000       MORTGAGE             5.0         PERSONAL     B   \n",
      "32580   66   42000           RENT             2.0          MEDICAL     B   \n",
      "\n",
      "       Amount   Rate  Default  Loan_Percent_Income  ... grade_G  \\\n",
      "1        1000  11.14        0                 0.10  ...       0   \n",
      "2        5500  12.87        1                 0.57  ...       0   \n",
      "3       35000  15.23        1                 0.53  ...       0   \n",
      "5        2500   7.14        1                 0.25  ...       0   \n",
      "6       35000  12.42        1                 0.45  ...       0   \n",
      "...       ...    ...      ...                  ...  ...     ...   \n",
      "32576    5800  13.16        0                 0.11  ...       0   \n",
      "32577   17625   7.49        0                 0.15  ...       0   \n",
      "32578   35000  10.99        1                 0.46  ...       0   \n",
      "32579   15000  11.48        0                 0.10  ...       0   \n",
      "32580    6475   9.99        0                 0.15  ...       0   \n",
      "\n",
      "       intent_EDUCATION  intent_HOMEIMPROVEMENT  intent_MEDICAL  \\\n",
      "1                     1                       0               0   \n",
      "2                     0                       0               1   \n",
      "3                     0                       0               1   \n",
      "5                     0                       0               0   \n",
      "6                     1                       0               0   \n",
      "...                 ...                     ...             ...   \n",
      "32576                 0                       0               0   \n",
      "32577                 0                       0               0   \n",
      "32578                 0                       1               0   \n",
      "32579                 0                       0               0   \n",
      "32580                 0                       0               1   \n",
      "\n",
      "       intent_PERSONAL  intent_VENTURE  home ownership_OTHER  \\\n",
      "1                    0               0                     0   \n",
      "2                    0               0                     0   \n",
      "3                    0               0                     0   \n",
      "5                    0               1                     0   \n",
      "6                    0               0                     0   \n",
      "...                ...             ...                   ...   \n",
      "32576                1               0                     0   \n",
      "32577                1               0                     0   \n",
      "32578                0               0                     0   \n",
      "32579                1               0                     0   \n",
      "32580                0               0                     0   \n",
      "\n",
      "       home ownership_OWN  home ownership_RENT  default on file_Y  \n",
      "1                       1                    0                  0  \n",
      "2                       0                    0                  0  \n",
      "3                       0                    1                  0  \n",
      "5                       1                    0                  0  \n",
      "6                       0                    1                  0  \n",
      "...                   ...                  ...                ...  \n",
      "32576                   0                    0                  0  \n",
      "32577                   0                    0                  0  \n",
      "32578                   0                    1                  0  \n",
      "32579                   0                    0                  0  \n",
      "32580                   0                    1                  0  \n",
      "\n",
      "[26829 rows x 27 columns]\n"
     ]
    }
   ],
   "source": [
    "print(df_ND)"
   ]
  },
  {
   "cell_type": "code",
   "execution_count": 122,
   "id": "49c80e8b",
   "metadata": {},
   "outputs": [],
   "source": [
    "X_ND_train, X_ND_test, y_ND_train, y_ND_test = train_test_split(df_ND.drop(columns='Default'), \n",
    "                                                    df_ND.Default, test_size=0.2, \n",
    "                                                    random_state=50)"
   ]
  },
  {
   "cell_type": "code",
   "execution_count": 123,
   "id": "9907a90c",
   "metadata": {},
   "outputs": [],
   "source": [
    "names_list = ['home ownership', 'intent', 'grade', 'default on file']\n",
    "names_train = X_ND_train[names_list]\n",
    "names_test = X_ND_test[names_list]\n",
    "X_ND_train.drop(columns=names_list, inplace=True)\n",
    "X_ND_test.drop(columns=names_list, inplace=True)\n"
   ]
  },
  {
   "cell_type": "markdown",
   "id": "682fa21b",
   "metadata": {},
   "source": [
    "## Logistic Regression For Non-Deafult"
   ]
  },
  {
   "cell_type": "code",
   "execution_count": 124,
   "id": "4c9fed9c",
   "metadata": {},
   "outputs": [
    {
     "data": {
      "text/plain": [
       "LogisticRegression()"
      ]
     },
     "execution_count": 124,
     "metadata": {},
     "output_type": "execute_result"
    }
   ],
   "source": [
    "# Logistic Regression\n",
    "\n",
    "LG_ND = LogisticRegression()\n",
    "\n",
    "LG_ND.fit(X_ND_train, y_ND_train)"
   ]
  },
  {
   "cell_type": "code",
   "execution_count": 125,
   "id": "6b1420f1",
   "metadata": {},
   "outputs": [
    {
     "data": {
      "text/plain": [
       "0.8524040253447633"
      ]
     },
     "execution_count": 125,
     "metadata": {},
     "output_type": "execute_result"
    }
   ],
   "source": [
    "# Accuracy score for logistic Regression for non-default borrowers\n",
    "\n",
    "LG_ND.score(X_ND_test, y_ND_test)"
   ]
  },
  {
   "cell_type": "code",
   "execution_count": 126,
   "id": "eb089e08",
   "metadata": {},
   "outputs": [
    {
     "name": "stdout",
     "output_type": "stream",
     "text": [
      "[[4328   95]\n",
      " [ 697  246]]\n"
     ]
    }
   ],
   "source": [
    "# Confusion Matrix for Logistic Regression for non-default borrowers\n",
    "\n",
    "y_LG_ND_Pred = LG_ND.predict(X_ND_test)\n",
    "LG_ND_CM = confusion_matrix(y_ND_test, y_LG_ND_Pred)\n",
    "print(LG_ND_CM)"
   ]
  },
  {
   "cell_type": "code",
   "execution_count": 127,
   "id": "63fb3359",
   "metadata": {},
   "outputs": [
    {
     "name": "stdout",
     "output_type": "stream",
     "text": [
      "              precision    recall  f1-score   support\n",
      "\n",
      "           0       0.86      0.98      0.92      4423\n",
      "           1       0.72      0.26      0.38       943\n",
      "\n",
      "    accuracy                           0.85      5366\n",
      "   macro avg       0.79      0.62      0.65      5366\n",
      "weighted avg       0.84      0.85      0.82      5366\n",
      "\n"
     ]
    }
   ],
   "source": [
    "# Classification Report for Logistic Regression for non-default borrowers\n",
    "print(classification_report(y_ND_test,y_LG_ND_Pred))\n"
   ]
  },
  {
   "cell_type": "code",
   "execution_count": 129,
   "id": "1e652323",
   "metadata": {},
   "outputs": [
    {
     "data": {
      "text/plain": [
       "Text(0.5, 1.0, 'Permutation Importance')"
      ]
     },
     "execution_count": 129,
     "metadata": {},
     "output_type": "execute_result"
    },
    {
     "data": {
      "image/png": "[encoded data removed]",
      "text/plain": [
       "<Figure size 1440x432 with 1 Axes>"
      ]
     },
     "metadata": {
      "needs_background": "light"
     },
     "output_type": "display_data"
    }
   ],
   "source": [
    "model_ND_LG = LG.fit(X_ND_train, y_ND_train)\n",
    "\n",
    "FI_LG_ND =  permutation_importance(model_ND_LG, X_ND_test, y_ND_test, n_repeats=30, random_state=0)\n",
    "\n",
    "sorted_idx_LG_ND = FI_LG_ND.importances_mean.argsort()\n",
    "\n",
    "\n",
    "fig = plt.figure(figsize=(20, 6))\n",
    "plt.barh(range(len(sorted_idx_LG_ND)), FI_LG_ND.importances_mean[sorted_idx_LG_ND], align='center')\n",
    "plt.yticks(range(len(sorted_idx_LG_ND)), np.array(X_ND_test.columns)[sorted_idx_LG_ND])\n",
    "plt.title('Permutation Importance')"
   ]
  },
  {
   "cell_type": "markdown",
   "id": "4c886d1f",
   "metadata": {},
   "source": [
    "By excluding borrowers who have defaulted before the accuracy of the Logistic Regression increased. In addition, other fetures are now important such as credit history, interest rate, years employed and whether or not the borrower is renting."
   ]
  },
  {
   "cell_type": "markdown",
   "id": "85f6a76f",
   "metadata": {},
   "source": [
    "## kNN For Non-Defaulters "
   ]
  },
  {
   "cell_type": "code",
   "execution_count": 139,
   "id": "e5ae35d4",
   "metadata": {},
   "outputs": [
    {
     "data": {
      "text/plain": [
       "KNeighborsClassifier(n_neighbors=150)"
      ]
     },
     "execution_count": 139,
     "metadata": {},
     "output_type": "execute_result"
    }
   ],
   "source": [
    "# fitting kNN TO Non-default borrowers\n",
    "kNN.fit(X_ND_train, y_ND_train)"
   ]
  },
  {
   "cell_type": "code",
   "execution_count": 140,
   "id": "943efce8",
   "metadata": {},
   "outputs": [
    {
     "data": {
      "text/plain": [
       "0.8715989563920984"
      ]
     },
     "execution_count": 140,
     "metadata": {},
     "output_type": "execute_result"
    }
   ],
   "source": [
    "# Accuracy score of kNN for non-default borrowers\n",
    "\n",
    "kNN.score(X_ND_test, y_ND_test)"
   ]
  },
  {
   "cell_type": "code",
   "execution_count": 141,
   "id": "189eacce",
   "metadata": {},
   "outputs": [
    {
     "name": "stdout",
     "output_type": "stream",
     "text": [
      "[[4269  154]\n",
      " [ 535  408]]\n"
     ]
    }
   ],
   "source": [
    "# Confusion Matrix for kNN  for non-default borrowers\n",
    "\n",
    "y_kNN_ND_Pred = kNN.predict(X_ND_test)\n",
    "kNN_ND_CM = confusion_matrix(y_ND_test, y_kNN_ND_Pred)\n",
    "print(kNN_ND_CM)"
   ]
  },
  {
   "cell_type": "code",
   "execution_count": 142,
   "id": "6e8e0357",
   "metadata": {},
   "outputs": [
    {
     "name": "stdout",
     "output_type": "stream",
     "text": [
      "              precision    recall  f1-score   support\n",
      "\n",
      "           0       0.89      0.97      0.93      4423\n",
      "           1       0.73      0.43      0.54       943\n",
      "\n",
      "    accuracy                           0.87      5366\n",
      "   macro avg       0.81      0.70      0.73      5366\n",
      "weighted avg       0.86      0.87      0.86      5366\n",
      "\n"
     ]
    }
   ],
   "source": [
    "# Classification Report for kNN for non-default borrowers\n",
    "print(classification_report(y_ND_test,y_kNN_ND_Pred))\n"
   ]
  },
  {
   "cell_type": "markdown",
   "id": "10b31ff0",
   "metadata": {},
   "source": [
    "## Decision Tree Models for Non-Defaulters"
   ]
  },
  {
   "cell_type": "code",
   "execution_count": 143,
   "id": "69b5b239",
   "metadata": {},
   "outputs": [
    {
     "data": {
      "text/plain": [
       "DecisionTreeClassifier(criterion='entropy', random_state=1234)"
      ]
     },
     "execution_count": 143,
     "metadata": {},
     "output_type": "execute_result"
    }
   ],
   "source": [
    "# fitting Decision Tree with entropy To Non-default borrowers\n",
    "DT_1.fit(X_ND_train, y_ND_train)"
   ]
  },
  {
   "cell_type": "code",
   "execution_count": 144,
   "id": "50d56ad0",
   "metadata": {},
   "outputs": [
    {
     "data": {
      "text/plain": [
       "0.9030935519940365"
      ]
     },
     "execution_count": 144,
     "metadata": {},
     "output_type": "execute_result"
    }
   ],
   "source": [
    "# Accuracy score of Decision Tree with entropy for non-default borrowers\n",
    "\n",
    "DT_1.score(X_ND_test, y_ND_test)"
   ]
  },
  {
   "cell_type": "code",
   "execution_count": 145,
   "id": "ffe453be",
   "metadata": {},
   "outputs": [
    {
     "name": "stdout",
     "output_type": "stream",
     "text": [
      "[[4144  279]\n",
      " [ 241  702]]\n"
     ]
    }
   ],
   "source": [
    "# Confusion Matrix of Decision Tree with entropy for non-default borrowers\n",
    "\n",
    "y_DT_1_ND_Pred = DT_1.predict(X_ND_test)\n",
    "DT_1_ND_CM = confusion_matrix(y_ND_test, y_DT_1_ND_Pred)\n",
    "print(DT_1_ND_CM)"
   ]
  },
  {
   "cell_type": "code",
   "execution_count": 146,
   "id": "8ba6f7d7",
   "metadata": {},
   "outputs": [
    {
     "name": "stdout",
     "output_type": "stream",
     "text": [
      "              precision    recall  f1-score   support\n",
      "\n",
      "           0       0.95      0.94      0.94      4423\n",
      "           1       0.72      0.74      0.73       943\n",
      "\n",
      "    accuracy                           0.90      5366\n",
      "   macro avg       0.83      0.84      0.84      5366\n",
      "weighted avg       0.90      0.90      0.90      5366\n",
      "\n"
     ]
    }
   ],
   "source": [
    "# Classification Report of Decision Tree with entropy for non-default borrowers\n",
    "print(classification_report(y_ND_test,y_DT_1_ND_Pred))\n"
   ]
  },
  {
   "cell_type": "code",
   "execution_count": 147,
   "id": "68aacae6",
   "metadata": {},
   "outputs": [
    {
     "data": {
      "text/plain": [
       "DecisionTreeClassifier(random_state=1234)"
      ]
     },
     "execution_count": 147,
     "metadata": {},
     "output_type": "execute_result"
    }
   ],
   "source": [
    "# fitting Decision Tree with Gini To Non-default borrowers\n",
    "DT_2.fit(X_ND_train, y_ND_train)"
   ]
  },
  {
   "cell_type": "code",
   "execution_count": 148,
   "id": "782dd442",
   "metadata": {},
   "outputs": [
    {
     "data": {
      "text/plain": [
       "0.8956392098397317"
      ]
     },
     "execution_count": 148,
     "metadata": {},
     "output_type": "execute_result"
    }
   ],
   "source": [
    "# Accuracy score of Decision Tree with Gini for non-default borrowers\n",
    "\n",
    "DT_2.score(X_ND_test, y_ND_test)"
   ]
  },
  {
   "cell_type": "code",
   "execution_count": 149,
   "id": "4b25bd30",
   "metadata": {},
   "outputs": [
    {
     "name": "stdout",
     "output_type": "stream",
     "text": [
      "[[4094  329]\n",
      " [ 231  712]]\n"
     ]
    }
   ],
   "source": [
    "# Confusion Matrix of Decision Tree with Gini for non-default borrowers\n",
    "\n",
    "y_DT_2_ND_Pred = DT_2.predict(X_ND_test)\n",
    "DT_2_ND_CM = confusion_matrix(y_ND_test, y_DT_2_ND_Pred)\n",
    "print(DT_2_ND_CM)"
   ]
  },
  {
   "cell_type": "code",
   "execution_count": 150,
   "id": "e4667d20",
   "metadata": {},
   "outputs": [
    {
     "name": "stdout",
     "output_type": "stream",
     "text": [
      "              precision    recall  f1-score   support\n",
      "\n",
      "           0       0.95      0.93      0.94      4423\n",
      "           1       0.68      0.76      0.72       943\n",
      "\n",
      "    accuracy                           0.90      5366\n",
      "   macro avg       0.82      0.84      0.83      5366\n",
      "weighted avg       0.90      0.90      0.90      5366\n",
      "\n"
     ]
    }
   ],
   "source": [
    "# Classification Report of Decision Tree with Gini for non-default borrowers\n",
    "print(classification_report(y_ND_test,y_DT_2_ND_Pred))\n"
   ]
  },
  {
   "cell_type": "markdown",
   "id": "c06c0cfd",
   "metadata": {},
   "source": [
    "## CatBoost For Non-Defaulters "
   ]
  },
  {
   "cell_type": "code",
   "execution_count": 130,
   "id": "34c1d11a",
   "metadata": {},
   "outputs": [
    {
     "name": "stdout",
     "output_type": "stream",
     "text": [
      "Learning rate set to 0.072046\n",
      "0:\tlearn: 0.5351866\ttotal: 13.5ms\tremaining: 6.71s\n",
      "100:\tlearn: 0.6972201\ttotal: 556ms\tremaining: 2.2s\n",
      "200:\tlearn: 0.7150013\ttotal: 1.13s\tremaining: 1.68s\n",
      "300:\tlearn: 0.7277736\ttotal: 1.7s\tremaining: 1.12s\n",
      "400:\tlearn: 0.7407964\ttotal: 2.3s\tremaining: 567ms\n",
      "499:\tlearn: 0.7535687\ttotal: 2.88s\tremaining: 0us\n"
     ]
    },
    {
     "data": {
      "text/plain": [
       "<catboost.core.CatBoostClassifier at 0x1e110bc5760>"
      ]
     },
     "execution_count": 130,
     "metadata": {},
     "output_type": "execute_result"
    }
   ],
   "source": [
    "cat.fit(X_ND_train, y_ND_train)"
   ]
  },
  {
   "cell_type": "code",
   "execution_count": 131,
   "id": "f521d4b7",
   "metadata": {},
   "outputs": [
    {
     "data": {
      "text/plain": [
       "0.9459560193812896"
      ]
     },
     "execution_count": 131,
     "metadata": {},
     "output_type": "execute_result"
    }
   ],
   "source": [
    "cat.score(X_ND_test, y_ND_test)"
   ]
  },
  {
   "cell_type": "code",
   "execution_count": 132,
   "id": "5e024a9d",
   "metadata": {},
   "outputs": [
    {
     "name": "stdout",
     "output_type": "stream",
     "text": [
      "[[4410   13]\n",
      " [ 277  666]]\n"
     ]
    }
   ],
   "source": [
    "y_cat_ND_Pred = cat.predict(X_ND_test)\n",
    "cat_ND_CM = confusion_matrix(y_ND_test, y_cat_ND_Pred)\n",
    "print(cat_ND_CM)"
   ]
  },
  {
   "cell_type": "code",
   "execution_count": 133,
   "id": "e1fb6176",
   "metadata": {},
   "outputs": [
    {
     "name": "stdout",
     "output_type": "stream",
     "text": [
      "              precision    recall  f1-score   support\n",
      "\n",
      "           0       0.94      1.00      0.97      4423\n",
      "           1       0.98      0.71      0.82       943\n",
      "\n",
      "    accuracy                           0.95      5366\n",
      "   macro avg       0.96      0.85      0.89      5366\n",
      "weighted avg       0.95      0.95      0.94      5366\n",
      "\n"
     ]
    }
   ],
   "source": [
    "print(classification_report(y_ND_test,y_cat_ND_Pred))"
   ]
  },
  {
   "cell_type": "code",
   "execution_count": 134,
   "id": "a13e2e45",
   "metadata": {},
   "outputs": [
    {
     "name": "stdout",
     "output_type": "stream",
     "text": [
      "Training accuracy of CatBoost for non-defaulters is:0.95\n",
      "Testing accuracy of CatBoost for non-defaulters is:0.95\n"
     ]
    }
   ],
   "source": [
    "Training_accuracy_cat_ND = cat.score(X_ND_train, y_ND_train)\n",
    "Testing_accuracy_cat_ND = cat.score(X_ND_test, y_ND_test)\n",
    "\n",
    "print(\"Training accuracy of CatBoost for non-defaulters is:{:0.2f}\".format(Training_accuracy_cat_ND))\n",
    "\n",
    "print(\"Testing accuracy of CatBoost for non-defaulters is:{:0.2f}\".format(Testing_accuracy_cat_ND))"
   ]
  },
  {
   "cell_type": "code",
   "execution_count": 136,
   "id": "be1d424e",
   "metadata": {},
   "outputs": [
    {
     "name": "stdout",
     "output_type": "stream",
     "text": [
      "Learning rate set to 0.072046\n",
      "0:\tlearn: 0.5351866\ttotal: 10.6ms\tremaining: 5.26s\n",
      "100:\tlearn: 0.6972201\ttotal: 574ms\tremaining: 2.27s\n",
      "200:\tlearn: 0.7150013\ttotal: 1.14s\tremaining: 1.7s\n",
      "300:\tlearn: 0.7277736\ttotal: 1.7s\tremaining: 1.12s\n",
      "400:\tlearn: 0.7407964\ttotal: 2.27s\tremaining: 561ms\n",
      "499:\tlearn: 0.7535687\ttotal: 2.83s\tremaining: 0us\n"
     ]
    },
    {
     "data": {
      "text/plain": [
       "Text(0.5, 1.0, 'Permutation Importance')"
      ]
     },
     "execution_count": 136,
     "metadata": {},
     "output_type": "execute_result"
    },
    {
     "data": {
      "image/png": "[encoded data removed]",
      "text/plain": [
       "<Figure size 1440x432 with 1 Axes>"
      ]
     },
     "metadata": {
      "needs_background": "light"
     },
     "output_type": "display_data"
    }
   ],
   "source": [
    "#Feature Importance of CatBoost for non-defaulters\n",
    "\n",
    "model_cat_ND = cat.fit(X_ND_train, y_ND_train)\n",
    "\n",
    "FI_cat_ND =  permutation_importance(model_cat_ND, X_ND_test, y_ND_test, n_repeats=30, random_state=0)\n",
    "\n",
    "sorted_idx_cat_ND = FI_cat_ND.importances_mean.argsort()\n",
    "\n",
    "\n",
    "fig = plt.figure(figsize=(20, 6))\n",
    "plt.barh(range(len(sorted_idx_cat)), FI_cat_ND.importances_mean[sorted_idx_cat_ND], align='center')\n",
    "plt.yticks(range(len(sorted_idx_cat_ND)), np.array(X_ND_test.columns)[sorted_idx_cat_ND])\n",
    "plt.title('Permutation Importance')\n"
   ]
  },
  {
   "cell_type": "markdown",
   "id": "ee322ebd",
   "metadata": {},
   "source": [
    "For CatBoost Model, the accuracy doesn't change much nor does the feature importance of any of features. "
   ]
  },
  {
   "cell_type": "code",
   "execution_count": 151,
   "id": "137de648",
   "metadata": {},
   "outputs": [
    {
     "data": {
      "image/png": "[encoded data removed]",
      "text/plain": [
       "<Figure size 432x288 with 1 Axes>"
      ]
     },
     "metadata": {
      "needs_background": "light"
     },
     "output_type": "display_data"
    }
   ],
   "source": [
    "# ROC-AUC Curve for Non-Deafult borrowers\n",
    "\n",
    "# Logistic Regression\n",
    "Log_ND_ROC = roc_auc_score(y_ND_test, y_LG_ND_Pred)\n",
    "fpr, tpr, thresh = metrics.roc_curve(y_ND_test, LG.predict_proba(X_ND_test)[:,1])\n",
    "plt.plot(fpr, tpr, label=f'Logistic Regression, AUC = {str(round(Log_ND_ROC,3))}')\n",
    "\n",
    "#kNN\n",
    "kNN_ND_ROC = roc_auc_score(y_ND_test, y_kNN_ND_Pred)\n",
    "fpr, tpr, thresh = metrics.roc_curve(y_ND_test, kNN.predict_proba(X_ND_test)[:,1])\n",
    "plt.plot(fpr, tpr, label=f'kNN, AUC = {str(round(kNN_ND_ROC,3))}')\n",
    "\n",
    "#Decision Tree with entrophy\n",
    "DT_1_ND_ROC = roc_auc_score(y_ND_test, y_DT_1_ND_Pred)\n",
    "fpr, tpr, thresh = metrics.roc_curve(y_ND_test, DT_1.predict_proba(X_ND_test)[:,1])\n",
    "plt.plot(fpr, tpr, label=f'Decision Tree (Entrophy), AUC = {str(round(DT_1_ND_ROC,3))}')\n",
    "\n",
    "#Decision Tree with gini\n",
    "DT_2_ND_ROC = roc_auc_score(y_ND_test, y_DT_2_ND_Pred)\n",
    "fpr, tpr, thresh = metrics.roc_curve(y_ND_test, DT_2.predict_proba(X_ND_test)[:,1])\n",
    "plt.plot(fpr, tpr, label=f'Decision Tree (Gini), AUC = {str(round(DT_2_ND_ROC,3))}')\n",
    "\n",
    "#CatBoost\n",
    "Cat_ND_ROC = roc_auc_score(y_ND_test, y_cat_ND_Pred)\n",
    "fpr, tpr, thresh = metrics.roc_curve(y_ND_test, cat.predict_proba(X_ND_test)[:,1])\n",
    "plt.plot(fpr, tpr, label=f'CatBoost, AUC = {str(round(Cat_ND_ROC,3))}')\n",
    "\n",
    "\n",
    "\n",
    "\n",
    "plt.ylabel(\"True Positive Rate\", fontsize=12)\n",
    "plt.xlabel(\"False Positive Rate\", fontsize=12)\n",
    "plt.title(\"ROC curve\")\n",
    "plt.legend()\n",
    "plt.show()"
   ]
  },
  {
   "cell_type": "markdown",
   "id": "0371b8d6",
   "metadata": {},
   "source": [
    "Removing the borrowers who had defaulted before improved the accuracy of the Logistic Regression and the nearest neighbor models. The accuracy of the decision tree models and CatBoost have remained the same."
   ]
  },
  {
   "cell_type": "markdown",
   "id": "f434a939",
   "metadata": {},
   "source": [
    "## Hypertuning Parameters For non-deafulters"
   ]
  },
  {
   "cell_type": "code",
   "execution_count": 102,
   "id": "2d903243",
   "metadata": {},
   "outputs": [
    {
     "name": "stderr",
     "output_type": "stream",
     "text": [
      "C:\\Users\\Abhijit Pawar\\anaconda3\\lib\\site-packages\\sklearn\\model_selection\\_validation.py:610: FitFailedWarning: Estimator fit failed. The score on this train-test partition for these parameters will be set to nan. Details: \n",
      "Traceback (most recent call last):\n",
      "  File \"C:\\Users\\Abhijit Pawar\\anaconda3\\lib\\site-packages\\sklearn\\model_selection\\_validation.py\", line 593, in _fit_and_score\n",
      "    estimator.fit(X_train, y_train, **fit_params)\n",
      "  File \"C:\\Users\\Abhijit Pawar\\anaconda3\\lib\\site-packages\\sklearn\\linear_model\\_logistic.py\", line 1306, in fit\n",
      "    solver = _check_solver(self.solver, self.penalty, self.dual)\n",
      "  File \"C:\\Users\\Abhijit Pawar\\anaconda3\\lib\\site-packages\\sklearn\\linear_model\\_logistic.py\", line 443, in _check_solver\n",
      "    raise ValueError(\"Solver %s supports only 'l2' or 'none' penalties, \"\n",
      "ValueError: Solver lbfgs supports only 'l2' or 'none' penalties, got l1 penalty.\n",
      "\n",
      "  warnings.warn(\"Estimator fit failed. The score on this train-test\"\n",
      "C:\\Users\\Abhijit Pawar\\anaconda3\\lib\\site-packages\\sklearn\\model_selection\\_validation.py:610: FitFailedWarning: Estimator fit failed. The score on this train-test partition for these parameters will be set to nan. Details: \n",
      "Traceback (most recent call last):\n",
      "  File \"C:\\Users\\Abhijit Pawar\\anaconda3\\lib\\site-packages\\sklearn\\model_selection\\_validation.py\", line 593, in _fit_and_score\n",
      "    estimator.fit(X_train, y_train, **fit_params)\n",
      "  File \"C:\\Users\\Abhijit Pawar\\anaconda3\\lib\\site-packages\\sklearn\\linear_model\\_logistic.py\", line 1306, in fit\n",
      "    solver = _check_solver(self.solver, self.penalty, self.dual)\n",
      "  File \"C:\\Users\\Abhijit Pawar\\anaconda3\\lib\\site-packages\\sklearn\\linear_model\\_logistic.py\", line 443, in _check_solver\n",
      "    raise ValueError(\"Solver %s supports only 'l2' or 'none' penalties, \"\n",
      "ValueError: Solver lbfgs supports only 'l2' or 'none' penalties, got l1 penalty.\n",
      "\n",
      "  warnings.warn(\"Estimator fit failed. The score on this train-test\"\n",
      "C:\\Users\\Abhijit Pawar\\anaconda3\\lib\\site-packages\\sklearn\\model_selection\\_validation.py:610: FitFailedWarning: Estimator fit failed. The score on this train-test partition for these parameters will be set to nan. Details: \n",
      "Traceback (most recent call last):\n",
      "  File \"C:\\Users\\Abhijit Pawar\\anaconda3\\lib\\site-packages\\sklearn\\model_selection\\_validation.py\", line 593, in _fit_and_score\n",
      "    estimator.fit(X_train, y_train, **fit_params)\n",
      "  File \"C:\\Users\\Abhijit Pawar\\anaconda3\\lib\\site-packages\\sklearn\\linear_model\\_logistic.py\", line 1306, in fit\n",
      "    solver = _check_solver(self.solver, self.penalty, self.dual)\n",
      "  File \"C:\\Users\\Abhijit Pawar\\anaconda3\\lib\\site-packages\\sklearn\\linear_model\\_logistic.py\", line 443, in _check_solver\n",
      "    raise ValueError(\"Solver %s supports only 'l2' or 'none' penalties, \"\n",
      "ValueError: Solver lbfgs supports only 'l2' or 'none' penalties, got l1 penalty.\n",
      "\n",
      "  warnings.warn(\"Estimator fit failed. The score on this train-test\"\n",
      "C:\\Users\\Abhijit Pawar\\anaconda3\\lib\\site-packages\\sklearn\\model_selection\\_validation.py:610: FitFailedWarning: Estimator fit failed. The score on this train-test partition for these parameters will be set to nan. Details: \n",
      "Traceback (most recent call last):\n",
      "  File \"C:\\Users\\Abhijit Pawar\\anaconda3\\lib\\site-packages\\sklearn\\model_selection\\_validation.py\", line 593, in _fit_and_score\n",
      "    estimator.fit(X_train, y_train, **fit_params)\n",
      "  File \"C:\\Users\\Abhijit Pawar\\anaconda3\\lib\\site-packages\\sklearn\\linear_model\\_logistic.py\", line 1306, in fit\n",
      "    solver = _check_solver(self.solver, self.penalty, self.dual)\n",
      "  File \"C:\\Users\\Abhijit Pawar\\anaconda3\\lib\\site-packages\\sklearn\\linear_model\\_logistic.py\", line 443, in _check_solver\n",
      "    raise ValueError(\"Solver %s supports only 'l2' or 'none' penalties, \"\n",
      "ValueError: Solver lbfgs supports only 'l2' or 'none' penalties, got l1 penalty.\n",
      "\n",
      "  warnings.warn(\"Estimator fit failed. The score on this train-test\"\n",
      "C:\\Users\\Abhijit Pawar\\anaconda3\\lib\\site-packages\\sklearn\\model_selection\\_validation.py:610: FitFailedWarning: Estimator fit failed. The score on this train-test partition for these parameters will be set to nan. Details: \n",
      "Traceback (most recent call last):\n",
      "  File \"C:\\Users\\Abhijit Pawar\\anaconda3\\lib\\site-packages\\sklearn\\model_selection\\_validation.py\", line 593, in _fit_and_score\n",
      "    estimator.fit(X_train, y_train, **fit_params)\n",
      "  File \"C:\\Users\\Abhijit Pawar\\anaconda3\\lib\\site-packages\\sklearn\\linear_model\\_logistic.py\", line 1306, in fit\n",
      "    solver = _check_solver(self.solver, self.penalty, self.dual)\n",
      "  File \"C:\\Users\\Abhijit Pawar\\anaconda3\\lib\\site-packages\\sklearn\\linear_model\\_logistic.py\", line 443, in _check_solver\n",
      "    raise ValueError(\"Solver %s supports only 'l2' or 'none' penalties, \"\n",
      "ValueError: Solver lbfgs supports only 'l2' or 'none' penalties, got l1 penalty.\n",
      "\n",
      "  warnings.warn(\"Estimator fit failed. The score on this train-test\"\n",
      "C:\\Users\\Abhijit Pawar\\anaconda3\\lib\\site-packages\\sklearn\\model_selection\\_validation.py:610: FitFailedWarning: Estimator fit failed. The score on this train-test partition for these parameters will be set to nan. Details: \n",
      "Traceback (most recent call last):\n",
      "  File \"C:\\Users\\Abhijit Pawar\\anaconda3\\lib\\site-packages\\sklearn\\model_selection\\_validation.py\", line 593, in _fit_and_score\n",
      "    estimator.fit(X_train, y_train, **fit_params)\n",
      "  File \"C:\\Users\\Abhijit Pawar\\anaconda3\\lib\\site-packages\\sklearn\\linear_model\\_logistic.py\", line 1306, in fit\n",
      "    solver = _check_solver(self.solver, self.penalty, self.dual)\n",
      "  File \"C:\\Users\\Abhijit Pawar\\anaconda3\\lib\\site-packages\\sklearn\\linear_model\\_logistic.py\", line 443, in _check_solver\n",
      "    raise ValueError(\"Solver %s supports only 'l2' or 'none' penalties, \"\n",
      "ValueError: Solver lbfgs supports only 'l2' or 'none' penalties, got l1 penalty.\n",
      "\n",
      "  warnings.warn(\"Estimator fit failed. The score on this train-test\"\n",
      "C:\\Users\\Abhijit Pawar\\anaconda3\\lib\\site-packages\\sklearn\\model_selection\\_validation.py:610: FitFailedWarning: Estimator fit failed. The score on this train-test partition for these parameters will be set to nan. Details: \n",
      "Traceback (most recent call last):\n",
      "  File \"C:\\Users\\Abhijit Pawar\\anaconda3\\lib\\site-packages\\sklearn\\model_selection\\_validation.py\", line 593, in _fit_and_score\n",
      "    estimator.fit(X_train, y_train, **fit_params)\n",
      "  File \"C:\\Users\\Abhijit Pawar\\anaconda3\\lib\\site-packages\\sklearn\\linear_model\\_logistic.py\", line 1306, in fit\n",
      "    solver = _check_solver(self.solver, self.penalty, self.dual)\n",
      "  File \"C:\\Users\\Abhijit Pawar\\anaconda3\\lib\\site-packages\\sklearn\\linear_model\\_logistic.py\", line 443, in _check_solver\n",
      "    raise ValueError(\"Solver %s supports only 'l2' or 'none' penalties, \"\n",
      "ValueError: Solver lbfgs supports only 'l2' or 'none' penalties, got l1 penalty.\n",
      "\n",
      "  warnings.warn(\"Estimator fit failed. The score on this train-test\"\n",
      "C:\\Users\\Abhijit Pawar\\anaconda3\\lib\\site-packages\\sklearn\\model_selection\\_validation.py:610: FitFailedWarning: Estimator fit failed. The score on this train-test partition for these parameters will be set to nan. Details: \n",
      "Traceback (most recent call last):\n",
      "  File \"C:\\Users\\Abhijit Pawar\\anaconda3\\lib\\site-packages\\sklearn\\model_selection\\_validation.py\", line 593, in _fit_and_score\n",
      "    estimator.fit(X_train, y_train, **fit_params)\n",
      "  File \"C:\\Users\\Abhijit Pawar\\anaconda3\\lib\\site-packages\\sklearn\\linear_model\\_logistic.py\", line 1306, in fit\n",
      "    solver = _check_solver(self.solver, self.penalty, self.dual)\n",
      "  File \"C:\\Users\\Abhijit Pawar\\anaconda3\\lib\\site-packages\\sklearn\\linear_model\\_logistic.py\", line 443, in _check_solver\n",
      "    raise ValueError(\"Solver %s supports only 'l2' or 'none' penalties, \"\n",
      "ValueError: Solver lbfgs supports only 'l2' or 'none' penalties, got l1 penalty.\n",
      "\n",
      "  warnings.warn(\"Estimator fit failed. The score on this train-test\"\n",
      "C:\\Users\\Abhijit Pawar\\anaconda3\\lib\\site-packages\\sklearn\\model_selection\\_validation.py:610: FitFailedWarning: Estimator fit failed. The score on this train-test partition for these parameters will be set to nan. Details: \n",
      "Traceback (most recent call last):\n",
      "  File \"C:\\Users\\Abhijit Pawar\\anaconda3\\lib\\site-packages\\sklearn\\model_selection\\_validation.py\", line 593, in _fit_and_score\n",
      "    estimator.fit(X_train, y_train, **fit_params)\n",
      "  File \"C:\\Users\\Abhijit Pawar\\anaconda3\\lib\\site-packages\\sklearn\\linear_model\\_logistic.py\", line 1306, in fit\n",
      "    solver = _check_solver(self.solver, self.penalty, self.dual)\n",
      "  File \"C:\\Users\\Abhijit Pawar\\anaconda3\\lib\\site-packages\\sklearn\\linear_model\\_logistic.py\", line 443, in _check_solver\n",
      "    raise ValueError(\"Solver %s supports only 'l2' or 'none' penalties, \"\n",
      "ValueError: Solver lbfgs supports only 'l2' or 'none' penalties, got l1 penalty.\n",
      "\n",
      "  warnings.warn(\"Estimator fit failed. The score on this train-test\"\n",
      "C:\\Users\\Abhijit Pawar\\anaconda3\\lib\\site-packages\\sklearn\\model_selection\\_validation.py:610: FitFailedWarning: Estimator fit failed. The score on this train-test partition for these parameters will be set to nan. Details: \n",
      "Traceback (most recent call last):\n",
      "  File \"C:\\Users\\Abhijit Pawar\\anaconda3\\lib\\site-packages\\sklearn\\model_selection\\_validation.py\", line 593, in _fit_and_score\n",
      "    estimator.fit(X_train, y_train, **fit_params)\n",
      "  File \"C:\\Users\\Abhijit Pawar\\anaconda3\\lib\\site-packages\\sklearn\\linear_model\\_logistic.py\", line 1306, in fit\n",
      "    solver = _check_solver(self.solver, self.penalty, self.dual)\n",
      "  File \"C:\\Users\\Abhijit Pawar\\anaconda3\\lib\\site-packages\\sklearn\\linear_model\\_logistic.py\", line 443, in _check_solver\n",
      "    raise ValueError(\"Solver %s supports only 'l2' or 'none' penalties, \"\n",
      "ValueError: Solver lbfgs supports only 'l2' or 'none' penalties, got l1 penalty.\n",
      "\n",
      "  warnings.warn(\"Estimator fit failed. The score on this train-test\"\n"
     ]
    },
    {
     "name": "stderr",
     "output_type": "stream",
     "text": [
      "C:\\Users\\Abhijit Pawar\\anaconda3\\lib\\site-packages\\sklearn\\model_selection\\_validation.py:610: FitFailedWarning: Estimator fit failed. The score on this train-test partition for these parameters will be set to nan. Details: \n",
      "Traceback (most recent call last):\n",
      "  File \"C:\\Users\\Abhijit Pawar\\anaconda3\\lib\\site-packages\\sklearn\\model_selection\\_validation.py\", line 593, in _fit_and_score\n",
      "    estimator.fit(X_train, y_train, **fit_params)\n",
      "  File \"C:\\Users\\Abhijit Pawar\\anaconda3\\lib\\site-packages\\sklearn\\linear_model\\_logistic.py\", line 1306, in fit\n",
      "    solver = _check_solver(self.solver, self.penalty, self.dual)\n",
      "  File \"C:\\Users\\Abhijit Pawar\\anaconda3\\lib\\site-packages\\sklearn\\linear_model\\_logistic.py\", line 443, in _check_solver\n",
      "    raise ValueError(\"Solver %s supports only 'l2' or 'none' penalties, \"\n",
      "ValueError: Solver lbfgs supports only 'l2' or 'none' penalties, got l1 penalty.\n",
      "\n",
      "  warnings.warn(\"Estimator fit failed. The score on this train-test\"\n",
      "C:\\Users\\Abhijit Pawar\\anaconda3\\lib\\site-packages\\sklearn\\model_selection\\_validation.py:610: FitFailedWarning: Estimator fit failed. The score on this train-test partition for these parameters will be set to nan. Details: \n",
      "Traceback (most recent call last):\n",
      "  File \"C:\\Users\\Abhijit Pawar\\anaconda3\\lib\\site-packages\\sklearn\\model_selection\\_validation.py\", line 593, in _fit_and_score\n",
      "    estimator.fit(X_train, y_train, **fit_params)\n",
      "  File \"C:\\Users\\Abhijit Pawar\\anaconda3\\lib\\site-packages\\sklearn\\linear_model\\_logistic.py\", line 1306, in fit\n",
      "    solver = _check_solver(self.solver, self.penalty, self.dual)\n",
      "  File \"C:\\Users\\Abhijit Pawar\\anaconda3\\lib\\site-packages\\sklearn\\linear_model\\_logistic.py\", line 443, in _check_solver\n",
      "    raise ValueError(\"Solver %s supports only 'l2' or 'none' penalties, \"\n",
      "ValueError: Solver lbfgs supports only 'l2' or 'none' penalties, got l1 penalty.\n",
      "\n",
      "  warnings.warn(\"Estimator fit failed. The score on this train-test\"\n",
      "C:\\Users\\Abhijit Pawar\\anaconda3\\lib\\site-packages\\sklearn\\model_selection\\_validation.py:610: FitFailedWarning: Estimator fit failed. The score on this train-test partition for these parameters will be set to nan. Details: \n",
      "Traceback (most recent call last):\n",
      "  File \"C:\\Users\\Abhijit Pawar\\anaconda3\\lib\\site-packages\\sklearn\\model_selection\\_validation.py\", line 593, in _fit_and_score\n",
      "    estimator.fit(X_train, y_train, **fit_params)\n",
      "  File \"C:\\Users\\Abhijit Pawar\\anaconda3\\lib\\site-packages\\sklearn\\linear_model\\_logistic.py\", line 1306, in fit\n",
      "    solver = _check_solver(self.solver, self.penalty, self.dual)\n",
      "  File \"C:\\Users\\Abhijit Pawar\\anaconda3\\lib\\site-packages\\sklearn\\linear_model\\_logistic.py\", line 443, in _check_solver\n",
      "    raise ValueError(\"Solver %s supports only 'l2' or 'none' penalties, \"\n",
      "ValueError: Solver lbfgs supports only 'l2' or 'none' penalties, got l1 penalty.\n",
      "\n",
      "  warnings.warn(\"Estimator fit failed. The score on this train-test\"\n",
      "C:\\Users\\Abhijit Pawar\\anaconda3\\lib\\site-packages\\sklearn\\model_selection\\_validation.py:610: FitFailedWarning: Estimator fit failed. The score on this train-test partition for these parameters will be set to nan. Details: \n",
      "Traceback (most recent call last):\n",
      "  File \"C:\\Users\\Abhijit Pawar\\anaconda3\\lib\\site-packages\\sklearn\\model_selection\\_validation.py\", line 593, in _fit_and_score\n",
      "    estimator.fit(X_train, y_train, **fit_params)\n",
      "  File \"C:\\Users\\Abhijit Pawar\\anaconda3\\lib\\site-packages\\sklearn\\linear_model\\_logistic.py\", line 1306, in fit\n",
      "    solver = _check_solver(self.solver, self.penalty, self.dual)\n",
      "  File \"C:\\Users\\Abhijit Pawar\\anaconda3\\lib\\site-packages\\sklearn\\linear_model\\_logistic.py\", line 443, in _check_solver\n",
      "    raise ValueError(\"Solver %s supports only 'l2' or 'none' penalties, \"\n",
      "ValueError: Solver lbfgs supports only 'l2' or 'none' penalties, got l1 penalty.\n",
      "\n",
      "  warnings.warn(\"Estimator fit failed. The score on this train-test\"\n",
      "C:\\Users\\Abhijit Pawar\\anaconda3\\lib\\site-packages\\sklearn\\model_selection\\_validation.py:610: FitFailedWarning: Estimator fit failed. The score on this train-test partition for these parameters will be set to nan. Details: \n",
      "Traceback (most recent call last):\n",
      "  File \"C:\\Users\\Abhijit Pawar\\anaconda3\\lib\\site-packages\\sklearn\\model_selection\\_validation.py\", line 593, in _fit_and_score\n",
      "    estimator.fit(X_train, y_train, **fit_params)\n",
      "  File \"C:\\Users\\Abhijit Pawar\\anaconda3\\lib\\site-packages\\sklearn\\linear_model\\_logistic.py\", line 1306, in fit\n",
      "    solver = _check_solver(self.solver, self.penalty, self.dual)\n",
      "  File \"C:\\Users\\Abhijit Pawar\\anaconda3\\lib\\site-packages\\sklearn\\linear_model\\_logistic.py\", line 443, in _check_solver\n",
      "    raise ValueError(\"Solver %s supports only 'l2' or 'none' penalties, \"\n",
      "ValueError: Solver lbfgs supports only 'l2' or 'none' penalties, got l1 penalty.\n",
      "\n",
      "  warnings.warn(\"Estimator fit failed. The score on this train-test\"\n",
      "C:\\Users\\Abhijit Pawar\\anaconda3\\lib\\site-packages\\sklearn\\model_selection\\_validation.py:610: FitFailedWarning: Estimator fit failed. The score on this train-test partition for these parameters will be set to nan. Details: \n",
      "Traceback (most recent call last):\n",
      "  File \"C:\\Users\\Abhijit Pawar\\anaconda3\\lib\\site-packages\\sklearn\\model_selection\\_validation.py\", line 593, in _fit_and_score\n",
      "    estimator.fit(X_train, y_train, **fit_params)\n",
      "  File \"C:\\Users\\Abhijit Pawar\\anaconda3\\lib\\site-packages\\sklearn\\linear_model\\_logistic.py\", line 1306, in fit\n",
      "    solver = _check_solver(self.solver, self.penalty, self.dual)\n",
      "  File \"C:\\Users\\Abhijit Pawar\\anaconda3\\lib\\site-packages\\sklearn\\linear_model\\_logistic.py\", line 443, in _check_solver\n",
      "    raise ValueError(\"Solver %s supports only 'l2' or 'none' penalties, \"\n",
      "ValueError: Solver lbfgs supports only 'l2' or 'none' penalties, got l1 penalty.\n",
      "\n",
      "  warnings.warn(\"Estimator fit failed. The score on this train-test\"\n",
      "C:\\Users\\Abhijit Pawar\\anaconda3\\lib\\site-packages\\sklearn\\model_selection\\_validation.py:610: FitFailedWarning: Estimator fit failed. The score on this train-test partition for these parameters will be set to nan. Details: \n",
      "Traceback (most recent call last):\n",
      "  File \"C:\\Users\\Abhijit Pawar\\anaconda3\\lib\\site-packages\\sklearn\\model_selection\\_validation.py\", line 593, in _fit_and_score\n",
      "    estimator.fit(X_train, y_train, **fit_params)\n",
      "  File \"C:\\Users\\Abhijit Pawar\\anaconda3\\lib\\site-packages\\sklearn\\linear_model\\_logistic.py\", line 1306, in fit\n",
      "    solver = _check_solver(self.solver, self.penalty, self.dual)\n",
      "  File \"C:\\Users\\Abhijit Pawar\\anaconda3\\lib\\site-packages\\sklearn\\linear_model\\_logistic.py\", line 443, in _check_solver\n",
      "    raise ValueError(\"Solver %s supports only 'l2' or 'none' penalties, \"\n",
      "ValueError: Solver lbfgs supports only 'l2' or 'none' penalties, got l1 penalty.\n",
      "\n",
      "  warnings.warn(\"Estimator fit failed. The score on this train-test\"\n",
      "C:\\Users\\Abhijit Pawar\\anaconda3\\lib\\site-packages\\sklearn\\model_selection\\_validation.py:610: FitFailedWarning: Estimator fit failed. The score on this train-test partition for these parameters will be set to nan. Details: \n",
      "Traceback (most recent call last):\n",
      "  File \"C:\\Users\\Abhijit Pawar\\anaconda3\\lib\\site-packages\\sklearn\\model_selection\\_validation.py\", line 593, in _fit_and_score\n",
      "    estimator.fit(X_train, y_train, **fit_params)\n",
      "  File \"C:\\Users\\Abhijit Pawar\\anaconda3\\lib\\site-packages\\sklearn\\linear_model\\_logistic.py\", line 1306, in fit\n",
      "    solver = _check_solver(self.solver, self.penalty, self.dual)\n",
      "  File \"C:\\Users\\Abhijit Pawar\\anaconda3\\lib\\site-packages\\sklearn\\linear_model\\_logistic.py\", line 443, in _check_solver\n",
      "    raise ValueError(\"Solver %s supports only 'l2' or 'none' penalties, \"\n",
      "ValueError: Solver lbfgs supports only 'l2' or 'none' penalties, got l1 penalty.\n",
      "\n",
      "  warnings.warn(\"Estimator fit failed. The score on this train-test\"\n",
      "C:\\Users\\Abhijit Pawar\\anaconda3\\lib\\site-packages\\sklearn\\model_selection\\_validation.py:610: FitFailedWarning: Estimator fit failed. The score on this train-test partition for these parameters will be set to nan. Details: \n",
      "Traceback (most recent call last):\n",
      "  File \"C:\\Users\\Abhijit Pawar\\anaconda3\\lib\\site-packages\\sklearn\\model_selection\\_validation.py\", line 593, in _fit_and_score\n",
      "    estimator.fit(X_train, y_train, **fit_params)\n",
      "  File \"C:\\Users\\Abhijit Pawar\\anaconda3\\lib\\site-packages\\sklearn\\linear_model\\_logistic.py\", line 1306, in fit\n",
      "    solver = _check_solver(self.solver, self.penalty, self.dual)\n",
      "  File \"C:\\Users\\Abhijit Pawar\\anaconda3\\lib\\site-packages\\sklearn\\linear_model\\_logistic.py\", line 443, in _check_solver\n",
      "    raise ValueError(\"Solver %s supports only 'l2' or 'none' penalties, \"\n",
      "ValueError: Solver lbfgs supports only 'l2' or 'none' penalties, got l1 penalty.\n",
      "\n",
      "  warnings.warn(\"Estimator fit failed. The score on this train-test\"\n",
      "C:\\Users\\Abhijit Pawar\\anaconda3\\lib\\site-packages\\sklearn\\model_selection\\_validation.py:610: FitFailedWarning: Estimator fit failed. The score on this train-test partition for these parameters will be set to nan. Details: \n",
      "Traceback (most recent call last):\n",
      "  File \"C:\\Users\\Abhijit Pawar\\anaconda3\\lib\\site-packages\\sklearn\\model_selection\\_validation.py\", line 593, in _fit_and_score\n",
      "    estimator.fit(X_train, y_train, **fit_params)\n",
      "  File \"C:\\Users\\Abhijit Pawar\\anaconda3\\lib\\site-packages\\sklearn\\linear_model\\_logistic.py\", line 1306, in fit\n",
      "    solver = _check_solver(self.solver, self.penalty, self.dual)\n",
      "  File \"C:\\Users\\Abhijit Pawar\\anaconda3\\lib\\site-packages\\sklearn\\linear_model\\_logistic.py\", line 443, in _check_solver\n",
      "    raise ValueError(\"Solver %s supports only 'l2' or 'none' penalties, \"\n",
      "ValueError: Solver lbfgs supports only 'l2' or 'none' penalties, got l1 penalty.\n",
      "\n",
      "  warnings.warn(\"Estimator fit failed. The score on this train-test\"\n"
     ]
    },
    {
     "name": "stderr",
     "output_type": "stream",
     "text": [
      "C:\\Users\\Abhijit Pawar\\anaconda3\\lib\\site-packages\\sklearn\\model_selection\\_validation.py:610: FitFailedWarning: Estimator fit failed. The score on this train-test partition for these parameters will be set to nan. Details: \n",
      "Traceback (most recent call last):\n",
      "  File \"C:\\Users\\Abhijit Pawar\\anaconda3\\lib\\site-packages\\sklearn\\model_selection\\_validation.py\", line 593, in _fit_and_score\n",
      "    estimator.fit(X_train, y_train, **fit_params)\n",
      "  File \"C:\\Users\\Abhijit Pawar\\anaconda3\\lib\\site-packages\\sklearn\\linear_model\\_logistic.py\", line 1306, in fit\n",
      "    solver = _check_solver(self.solver, self.penalty, self.dual)\n",
      "  File \"C:\\Users\\Abhijit Pawar\\anaconda3\\lib\\site-packages\\sklearn\\linear_model\\_logistic.py\", line 443, in _check_solver\n",
      "    raise ValueError(\"Solver %s supports only 'l2' or 'none' penalties, \"\n",
      "ValueError: Solver lbfgs supports only 'l2' or 'none' penalties, got l1 penalty.\n",
      "\n",
      "  warnings.warn(\"Estimator fit failed. The score on this train-test\"\n",
      "C:\\Users\\Abhijit Pawar\\anaconda3\\lib\\site-packages\\sklearn\\model_selection\\_validation.py:610: FitFailedWarning: Estimator fit failed. The score on this train-test partition for these parameters will be set to nan. Details: \n",
      "Traceback (most recent call last):\n",
      "  File \"C:\\Users\\Abhijit Pawar\\anaconda3\\lib\\site-packages\\sklearn\\model_selection\\_validation.py\", line 593, in _fit_and_score\n",
      "    estimator.fit(X_train, y_train, **fit_params)\n",
      "  File \"C:\\Users\\Abhijit Pawar\\anaconda3\\lib\\site-packages\\sklearn\\linear_model\\_logistic.py\", line 1306, in fit\n",
      "    solver = _check_solver(self.solver, self.penalty, self.dual)\n",
      "  File \"C:\\Users\\Abhijit Pawar\\anaconda3\\lib\\site-packages\\sklearn\\linear_model\\_logistic.py\", line 443, in _check_solver\n",
      "    raise ValueError(\"Solver %s supports only 'l2' or 'none' penalties, \"\n",
      "ValueError: Solver lbfgs supports only 'l2' or 'none' penalties, got l1 penalty.\n",
      "\n",
      "  warnings.warn(\"Estimator fit failed. The score on this train-test\"\n",
      "C:\\Users\\Abhijit Pawar\\anaconda3\\lib\\site-packages\\sklearn\\model_selection\\_validation.py:610: FitFailedWarning: Estimator fit failed. The score on this train-test partition for these parameters will be set to nan. Details: \n",
      "Traceback (most recent call last):\n",
      "  File \"C:\\Users\\Abhijit Pawar\\anaconda3\\lib\\site-packages\\sklearn\\model_selection\\_validation.py\", line 593, in _fit_and_score\n",
      "    estimator.fit(X_train, y_train, **fit_params)\n",
      "  File \"C:\\Users\\Abhijit Pawar\\anaconda3\\lib\\site-packages\\sklearn\\linear_model\\_logistic.py\", line 1306, in fit\n",
      "    solver = _check_solver(self.solver, self.penalty, self.dual)\n",
      "  File \"C:\\Users\\Abhijit Pawar\\anaconda3\\lib\\site-packages\\sklearn\\linear_model\\_logistic.py\", line 443, in _check_solver\n",
      "    raise ValueError(\"Solver %s supports only 'l2' or 'none' penalties, \"\n",
      "ValueError: Solver lbfgs supports only 'l2' or 'none' penalties, got l1 penalty.\n",
      "\n",
      "  warnings.warn(\"Estimator fit failed. The score on this train-test\"\n",
      "C:\\Users\\Abhijit Pawar\\anaconda3\\lib\\site-packages\\sklearn\\model_selection\\_validation.py:610: FitFailedWarning: Estimator fit failed. The score on this train-test partition for these parameters will be set to nan. Details: \n",
      "Traceback (most recent call last):\n",
      "  File \"C:\\Users\\Abhijit Pawar\\anaconda3\\lib\\site-packages\\sklearn\\model_selection\\_validation.py\", line 593, in _fit_and_score\n",
      "    estimator.fit(X_train, y_train, **fit_params)\n",
      "  File \"C:\\Users\\Abhijit Pawar\\anaconda3\\lib\\site-packages\\sklearn\\linear_model\\_logistic.py\", line 1306, in fit\n",
      "    solver = _check_solver(self.solver, self.penalty, self.dual)\n",
      "  File \"C:\\Users\\Abhijit Pawar\\anaconda3\\lib\\site-packages\\sklearn\\linear_model\\_logistic.py\", line 443, in _check_solver\n",
      "    raise ValueError(\"Solver %s supports only 'l2' or 'none' penalties, \"\n",
      "ValueError: Solver lbfgs supports only 'l2' or 'none' penalties, got l1 penalty.\n",
      "\n",
      "  warnings.warn(\"Estimator fit failed. The score on this train-test\"\n",
      "C:\\Users\\Abhijit Pawar\\anaconda3\\lib\\site-packages\\sklearn\\model_selection\\_validation.py:610: FitFailedWarning: Estimator fit failed. The score on this train-test partition for these parameters will be set to nan. Details: \n",
      "Traceback (most recent call last):\n",
      "  File \"C:\\Users\\Abhijit Pawar\\anaconda3\\lib\\site-packages\\sklearn\\model_selection\\_validation.py\", line 593, in _fit_and_score\n",
      "    estimator.fit(X_train, y_train, **fit_params)\n",
      "  File \"C:\\Users\\Abhijit Pawar\\anaconda3\\lib\\site-packages\\sklearn\\linear_model\\_logistic.py\", line 1306, in fit\n",
      "    solver = _check_solver(self.solver, self.penalty, self.dual)\n",
      "  File \"C:\\Users\\Abhijit Pawar\\anaconda3\\lib\\site-packages\\sklearn\\linear_model\\_logistic.py\", line 443, in _check_solver\n",
      "    raise ValueError(\"Solver %s supports only 'l2' or 'none' penalties, \"\n",
      "ValueError: Solver lbfgs supports only 'l2' or 'none' penalties, got l1 penalty.\n",
      "\n",
      "  warnings.warn(\"Estimator fit failed. The score on this train-test\"\n",
      "C:\\Users\\Abhijit Pawar\\anaconda3\\lib\\site-packages\\sklearn\\model_selection\\_search.py:918: UserWarning: One or more of the test scores are non-finite: [       nan 0.84177447        nan 0.84312572        nan 0.84317232\n",
      "        nan 0.84317232        nan 0.84317232]\n",
      "  warnings.warn(\n"
     ]
    },
    {
     "data": {
      "text/plain": [
       "0.8431723200103161"
      ]
     },
     "execution_count": 102,
     "metadata": {},
     "output_type": "execute_result"
    }
   ],
   "source": [
    "#Logistic Regression\n",
    "param_grid = {'penalty': ['l1','l2'], 'C': [0.001, 0.1, 1, 10, 100]}\n",
    "\n",
    "LG_cv = RandomizedSearchCV(LG, param_grid, cv=5)\n",
    "\n",
    "LG_cv.fit(X_ND_train, y_ND_train)\n",
    "\n",
    "LG_cv.best_params_\n",
    "\n",
    "LG_cv.best_score_"
   ]
  },
  {
   "cell_type": "code",
   "execution_count": 103,
   "id": "104a16eb",
   "metadata": {},
   "outputs": [
    {
     "name": "stdout",
     "output_type": "stream",
     "text": [
      "Best Score:0.8659556976191112\n",
      "Best Parameters: {'n_neighbors': 39}\n"
     ]
    }
   ],
   "source": [
    "#kNN\n",
    "param_grid_knn = {'n_neighbors':np.arange(1,50)}\n",
    "KNN = KNeighborsClassifier()\n",
    "kNN_CV = RandomizedSearchCV(KNN, param_grid_knn, cv=5)\n",
    "kNN_CV.fit(X_ND_train, y_ND_train)\n",
    "\n",
    "print(\"Best Score:\" + str(kNN_CV.best_score_))\n",
    "print(\"Best Parameters: \" + str(kNN_CV.best_params_))"
   ]
  },
  {
   "cell_type": "code",
   "execution_count": 104,
   "id": "1efbb19c",
   "metadata": {},
   "outputs": [
    {
     "name": "stdout",
     "output_type": "stream",
     "text": [
      "Best Score:0.9296932912092313\n",
      "Best Parameters: {'min_samples_leaf': 10, 'max_depth': 10, 'criterion': 'gini'}\n"
     ]
    }
   ],
   "source": [
    "# Decision Tree\n",
    "\n",
    "param_grid_DT = {'max_depth': [2, 3, 5, 10, 20],'min_samples_leaf': [5, 10, 20, 50, 100],'criterion': [\"gini\", \"entropy\"]}\n",
    "\n",
    "\n",
    "DT = DecisionTreeClassifier()\n",
    "DT_CV = RandomizedSearchCV(DT, param_grid_DT, cv=5)\n",
    "DT_CV.fit(X_ND_train, y_ND_train)\n",
    "\n",
    "\n",
    "print(\"Best Score:\" + str(DT_CV.best_score_))\n",
    "print(\"Best Parameters: \" + str(DT_CV.best_params_))\n"
   ]
  },
  {
   "cell_type": "code",
   "execution_count": 152,
   "id": "172ecfdb",
   "metadata": {},
   "outputs": [
    {
     "name": "stdout",
     "output_type": "stream",
     "text": [
      "0:\tlearn: 0.6329643\ttotal: 35.3ms\tremaining: 3.5s\n",
      "1:\tlearn: 0.5875705\ttotal: 41.9ms\tremaining: 2.05s\n",
      "2:\tlearn: 0.5408329\ttotal: 82.7ms\tremaining: 2.67s\n",
      "3:\tlearn: 0.5007643\ttotal: 120ms\tremaining: 2.87s\n",
      "4:\tlearn: 0.4683824\ttotal: 163ms\tremaining: 3.09s\n",
      "5:\tlearn: 0.4395725\ttotal: 215ms\tremaining: 3.36s\n",
      "6:\tlearn: 0.4158216\ttotal: 274ms\tremaining: 3.63s\n",
      "7:\tlearn: 0.3942084\ttotal: 329ms\tremaining: 3.78s\n",
      "8:\tlearn: 0.3727966\ttotal: 368ms\tremaining: 3.72s\n",
      "9:\tlearn: 0.3509227\ttotal: 414ms\tremaining: 3.72s\n",
      "10:\tlearn: 0.3364666\ttotal: 458ms\tremaining: 3.7s\n",
      "11:\tlearn: 0.3245744\ttotal: 492ms\tremaining: 3.61s\n",
      "12:\tlearn: 0.3118545\ttotal: 528ms\tremaining: 3.53s\n",
      "13:\tlearn: 0.3019421\ttotal: 564ms\tremaining: 3.46s\n",
      "14:\tlearn: 0.2934964\ttotal: 598ms\tremaining: 3.39s\n",
      "15:\tlearn: 0.2851300\ttotal: 630ms\tremaining: 3.31s\n",
      "16:\tlearn: 0.2777068\ttotal: 664ms\tremaining: 3.24s\n",
      "17:\tlearn: 0.2689542\ttotal: 700ms\tremaining: 3.19s\n",
      "18:\tlearn: 0.2632948\ttotal: 740ms\tremaining: 3.15s\n",
      "19:\tlearn: 0.2578123\ttotal: 777ms\tremaining: 3.11s\n",
      "20:\tlearn: 0.2516932\ttotal: 814ms\tremaining: 3.06s\n",
      "21:\tlearn: 0.2477324\ttotal: 849ms\tremaining: 3.01s\n",
      "22:\tlearn: 0.2440755\ttotal: 885ms\tremaining: 2.96s\n",
      "23:\tlearn: 0.2406170\ttotal: 917ms\tremaining: 2.9s\n",
      "24:\tlearn: 0.2378737\ttotal: 950ms\tremaining: 2.85s\n",
      "25:\tlearn: 0.2351072\ttotal: 982ms\tremaining: 2.79s\n",
      "26:\tlearn: 0.2317762\ttotal: 1.02s\tremaining: 2.75s\n",
      "27:\tlearn: 0.2282429\ttotal: 1.05s\tremaining: 2.7s\n",
      "28:\tlearn: 0.2261698\ttotal: 1.08s\tremaining: 2.65s\n",
      "29:\tlearn: 0.2239211\ttotal: 1.11s\tremaining: 2.6s\n",
      "30:\tlearn: 0.2218796\ttotal: 1.15s\tremaining: 2.55s\n",
      "31:\tlearn: 0.2198632\ttotal: 1.18s\tremaining: 2.5s\n",
      "32:\tlearn: 0.2189939\ttotal: 1.19s\tremaining: 2.41s\n",
      "33:\tlearn: 0.2173232\ttotal: 1.22s\tremaining: 2.37s\n",
      "34:\tlearn: 0.2167112\ttotal: 1.23s\tremaining: 2.28s\n",
      "35:\tlearn: 0.2147964\ttotal: 1.26s\tremaining: 2.25s\n",
      "36:\tlearn: 0.2129812\ttotal: 1.3s\tremaining: 2.22s\n",
      "37:\tlearn: 0.2116219\ttotal: 1.34s\tremaining: 2.19s\n",
      "38:\tlearn: 0.2105869\ttotal: 1.38s\tremaining: 2.15s\n",
      "39:\tlearn: 0.2093821\ttotal: 1.41s\tremaining: 2.12s\n",
      "40:\tlearn: 0.2077606\ttotal: 1.45s\tremaining: 2.08s\n",
      "41:\tlearn: 0.2066211\ttotal: 1.48s\tremaining: 2.05s\n",
      "42:\tlearn: 0.2059099\ttotal: 1.52s\tremaining: 2.02s\n",
      "43:\tlearn: 0.2049390\ttotal: 1.55s\tremaining: 1.98s\n",
      "44:\tlearn: 0.2040954\ttotal: 1.59s\tremaining: 1.94s\n",
      "45:\tlearn: 0.2034920\ttotal: 1.62s\tremaining: 1.9s\n",
      "46:\tlearn: 0.2026913\ttotal: 1.65s\tremaining: 1.86s\n",
      "47:\tlearn: 0.2018133\ttotal: 1.68s\tremaining: 1.82s\n",
      "48:\tlearn: 0.2007417\ttotal: 1.71s\tremaining: 1.78s\n",
      "49:\tlearn: 0.2000110\ttotal: 1.74s\tremaining: 1.74s\n",
      "50:\tlearn: 0.1993117\ttotal: 1.77s\tremaining: 1.7s\n",
      "51:\tlearn: 0.1984555\ttotal: 1.8s\tremaining: 1.66s\n",
      "52:\tlearn: 0.1976302\ttotal: 1.82s\tremaining: 1.62s\n",
      "53:\tlearn: 0.1973138\ttotal: 1.85s\tremaining: 1.58s\n",
      "54:\tlearn: 0.1963497\ttotal: 1.88s\tremaining: 1.54s\n",
      "55:\tlearn: 0.1955982\ttotal: 1.91s\tremaining: 1.5s\n",
      "56:\tlearn: 0.1946243\ttotal: 1.94s\tremaining: 1.46s\n",
      "57:\tlearn: 0.1942391\ttotal: 1.97s\tremaining: 1.42s\n",
      "58:\tlearn: 0.1937164\ttotal: 1.99s\tremaining: 1.39s\n",
      "59:\tlearn: 0.1933183\ttotal: 2.02s\tremaining: 1.35s\n",
      "60:\tlearn: 0.1928782\ttotal: 2.05s\tremaining: 1.31s\n",
      "61:\tlearn: 0.1923585\ttotal: 2.08s\tremaining: 1.27s\n",
      "62:\tlearn: 0.1914206\ttotal: 2.11s\tremaining: 1.24s\n",
      "63:\tlearn: 0.1906745\ttotal: 2.13s\tremaining: 1.2s\n",
      "64:\tlearn: 0.1900498\ttotal: 2.16s\tremaining: 1.16s\n",
      "65:\tlearn: 0.1895827\ttotal: 2.19s\tremaining: 1.13s\n",
      "66:\tlearn: 0.1889686\ttotal: 2.22s\tremaining: 1.09s\n",
      "67:\tlearn: 0.1886434\ttotal: 2.24s\tremaining: 1.06s\n",
      "68:\tlearn: 0.1881922\ttotal: 2.27s\tremaining: 1.02s\n",
      "69:\tlearn: 0.1875905\ttotal: 2.3s\tremaining: 987ms\n",
      "70:\tlearn: 0.1871940\ttotal: 2.33s\tremaining: 952ms\n",
      "71:\tlearn: 0.1869711\ttotal: 2.36s\tremaining: 917ms\n",
      "72:\tlearn: 0.1865441\ttotal: 2.38s\tremaining: 882ms\n",
      "73:\tlearn: 0.1859179\ttotal: 2.42s\tremaining: 849ms\n",
      "74:\tlearn: 0.1854046\ttotal: 2.44s\tremaining: 815ms\n",
      "75:\tlearn: 0.1849462\ttotal: 2.47s\tremaining: 781ms\n",
      "76:\tlearn: 0.1843930\ttotal: 2.5s\tremaining: 748ms\n",
      "77:\tlearn: 0.1837755\ttotal: 2.54s\tremaining: 715ms\n",
      "78:\tlearn: 0.1835658\ttotal: 2.56s\tremaining: 682ms\n",
      "79:\tlearn: 0.1832998\ttotal: 2.6s\tremaining: 649ms\n",
      "80:\tlearn: 0.1829492\ttotal: 2.63s\tremaining: 618ms\n",
      "81:\tlearn: 0.1826123\ttotal: 2.67s\tremaining: 585ms\n",
      "82:\tlearn: 0.1822596\ttotal: 2.72s\tremaining: 557ms\n",
      "83:\tlearn: 0.1819860\ttotal: 2.76s\tremaining: 525ms\n",
      "84:\tlearn: 0.1816505\ttotal: 2.8s\tremaining: 494ms\n",
      "85:\tlearn: 0.1812057\ttotal: 2.84s\tremaining: 462ms\n",
      "86:\tlearn: 0.1807454\ttotal: 2.88s\tremaining: 431ms\n",
      "87:\tlearn: 0.1803289\ttotal: 2.92s\tremaining: 399ms\n",
      "88:\tlearn: 0.1799252\ttotal: 2.96s\tremaining: 366ms\n",
      "89:\tlearn: 0.1796602\ttotal: 3s\tremaining: 334ms\n",
      "90:\tlearn: 0.1794164\ttotal: 3.04s\tremaining: 301ms\n",
      "91:\tlearn: 0.1790621\ttotal: 3.08s\tremaining: 268ms\n",
      "92:\tlearn: 0.1786716\ttotal: 3.11s\tremaining: 234ms\n",
      "93:\tlearn: 0.1783751\ttotal: 3.16s\tremaining: 201ms\n",
      "94:\tlearn: 0.1783541\ttotal: 3.16s\tremaining: 166ms\n",
      "95:\tlearn: 0.1779183\ttotal: 3.2s\tremaining: 133ms\n",
      "96:\tlearn: 0.1774661\ttotal: 3.24s\tremaining: 100ms\n",
      "97:\tlearn: 0.1770546\ttotal: 3.28s\tremaining: 67ms\n",
      "98:\tlearn: 0.1768596\ttotal: 3.32s\tremaining: 33.5ms\n",
      "99:\tlearn: 0.1765673\ttotal: 3.35s\tremaining: 0us\n",
      "Best Score:0.9369147727507567\n",
      "Best Parameters: {'learning_rate': 0.05, 'iterations': 100, 'depth': 10}\n"
     ]
    }
   ],
   "source": [
    "#CatBoost\n",
    "param_grid_cat = {'depth':[6,8,10], 'learning_rate':[0.01, 0.05, 0.1],'iterations':[30, 50, 100]}\n",
    "\n",
    "\n",
    "CAT = CatBoostClassifier()\n",
    "CAT_CV = RandomizedSearchCV(CAT, param_grid_cat, cv = 2, n_jobs=-1)\n",
    "CAT_CV.fit(X_ND_train, y_ND_train)\n",
    "\n",
    "\n",
    "print(\"Best Score:\" + str(CAT_CV.best_score_))\n",
    "print(\"Best Parameters: \" + str(CAT_CV.best_params_))\n"
   ]
  },
  {
   "cell_type": "markdown",
   "id": "aa34dfaf",
   "metadata": {},
   "source": [
    "Hypertuning the parameters for the non-default set, the results are similar but with few differences:\n",
    "\n",
    "1. For the kNN Model the number of neighbors decreased to 39 and the best scorce increased to 87%\n",
    "\n",
    "2. For the Decision Tree models the best score increased to 93% and the best criterion to use is gini\n",
    "\n",
    "3. For CatBoost the best score is 90% with a learning rate of 5% with 100 iterations and depth of 10"
   ]
  },
  {
   "cell_type": "markdown",
   "id": "0ebc08b0",
   "metadata": {},
   "source": [
    "# Conclusion"
   ]
  },
  {
   "cell_type": "markdown",
   "id": "d391f9de",
   "metadata": {},
   "source": [
    "Based on the three models that was run for the entire dataset and for borrowers who didn't default before, the following conclusions can be drawn:\n",
    "\n",
    "1. Logistic Regression Model is more accurate for borrowers who haven't defaulted before than for all the borrowers. While its accuracry is 80% it is the least accurate relative to the other four models.\n",
    "\n",
    "2. The Closest Neighbor model(kNN) has the second highest accuracy, but like the Logistic regression model its accuracy drastically improves when borrowers who haven't before are filtered out.\n",
    "\n",
    "3. The Decision Tree models are the second most accurate model\n",
    "\n",
    "4. CatBoost model is the most accurate"
   ]
  },
  {
   "cell_type": "markdown",
   "id": "32b7630d",
   "metadata": {},
   "source": [
    "# Next Steps"
   ]
  },
  {
   "cell_type": "markdown",
   "id": "64fe45e1",
   "metadata": {},
   "source": [
    "After identifying the most accurate models, the next step will be create a program that will allow the user the to enter in information on a potential borrower that will generate a prediction if the borrower will default or not. Furthermore it will allow the user to increase or decrease some of the inputs such as loan amount and interest rate, to see which loan can be given to the borrower so that the borrower will not default."
   ]
  },
  {
   "cell_type": "code",
   "execution_count": null,
   "id": "b1844769",
   "metadata": {},
   "outputs": [],
   "source": []
  }
 ],
 "metadata": {
  "kernelspec": {
   "display_name": "Python 3",
   "language": "python",
   "name": "python3"
  },
  "language_info": {
   "codemirror_mode": {
    "name": "ipython",
    "version": 3
   },
   "file_extension": ".py",
   "mimetype": "text/x-python",
   "name": "python",
   "nbconvert_exporter": "python",
   "pygments_lexer": "ipython3",
   "version": "3.8.8"
  }
 },
 "nbformat": 4,
 "nbformat_minor": 5
}
