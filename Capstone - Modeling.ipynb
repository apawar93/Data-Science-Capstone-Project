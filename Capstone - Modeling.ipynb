{
 "cells": [
  {
   "cell_type": "markdown",
   "id": "c18dad95",
   "metadata": {},
   "source": [
    "# Data Modeling"
   ]
  },
  {
   "cell_type": "markdown",
   "id": "4c6f26aa",
   "metadata": {},
   "source": [
    "In this notebook, I will model the credit risk dataset using three models:\n",
    "\n",
    "    1. Logistic Regression\n",
    "    2. K-Nearest Neighbor Model\n",
    "    3. Decision Tree Classifier\n",
    "    \n",
    "The reason for using these models is because the main dependent variable, default, is binary. For each model I will perform a train-test split of 80%-20% and evaluate the accuracy of the model using accuracy score, classification report, and confusion matrix, to find the most accurate model. Additionally I will fine tune the parameters of the model using RandomizedSearchCV. \n",
    "In addition to modeling the entire dataset, I will also model the data by removing borrowers who have defaulted before to see if this improves the accuracy of any of the three models.\n"
   ]
  },
  {
   "cell_type": "markdown",
   "id": "c32d4e63",
   "metadata": {},
   "source": [
    "# The Data & Cleanup"
   ]
  },
  {
   "cell_type": "markdown",
   "id": "b5f62bd4",
   "metadata": {},
   "source": [
    "To start off it is important to important to upload the dataset, clean it, and see the data type of the columns in the dataset. Furthermore it is important to see if any columns have any null values, and ways in which we can fill those null values to make our model give the proper and most accurate results. "
   ]
  },
  {
   "cell_type": "code",
   "execution_count": 79,
   "id": "ff0d8872",
   "metadata": {},
   "outputs": [],
   "source": [
    "import numpy as np\n",
    "import pandas as pd\n",
    "import seaborn as sns\n",
    "import matplotlib.pyplot as plt\n",
    "from sklearn import model_selection,linear_model, metrics, neighbors, tree\n",
    "import pydotplus\n",
    "\n"
   ]
  },
  {
   "cell_type": "code",
   "execution_count": 83,
   "id": "4515fdba",
   "metadata": {},
   "outputs": [],
   "source": [
    "from sklearn.preprocessing import StandardScaler\n",
    "from sklearn.model_selection import train_test_split, GridSearchCV, RandomizedSearchCV\n",
    "from sklearn.preprocessing import MinMaxScaler\n",
    "from sklearn.linear_model import LogisticRegression\n",
    "from sklearn.metrics import auc, accuracy_score, confusion_matrix, roc_auc_score, classification_report, roc_curve\n",
    "from sklearn.neighbors import KNeighborsClassifier\n",
    "from sklearn.tree import DecisionTreeClassifier\n"
   ]
  },
  {
   "cell_type": "code",
   "execution_count": 86,
   "id": "c1796702",
   "metadata": {},
   "outputs": [],
   "source": [
    "df = pd.read_csv('credit risk.csv')"
   ]
  },
  {
   "cell_type": "code",
   "execution_count": 87,
   "id": "538dffde",
   "metadata": {},
   "outputs": [
    {
     "data": {
      "text/html": [
       "<div>\n",
       "<style scoped>\n",
       "    .dataframe tbody tr th:only-of-type {\n",
       "        vertical-align: middle;\n",
       "    }\n",
       "\n",
       "    .dataframe tbody tr th {\n",
       "        vertical-align: top;\n",
       "    }\n",
       "\n",
       "    .dataframe thead th {\n",
       "        text-align: right;\n",
       "    }\n",
       "</style>\n",
       "<table border=\"1\" class=\"dataframe\">\n",
       "  <thead>\n",
       "    <tr style=\"text-align: right;\">\n",
       "      <th></th>\n",
       "      <th>person_age</th>\n",
       "      <th>person_income</th>\n",
       "      <th>person_home_ownership</th>\n",
       "      <th>person_emp_length</th>\n",
       "      <th>loan_intent</th>\n",
       "      <th>loan_grade</th>\n",
       "      <th>loan_amnt</th>\n",
       "      <th>loan_int_rate</th>\n",
       "      <th>loan_status</th>\n",
       "      <th>loan_percent_income</th>\n",
       "      <th>cb_person_default_on_file</th>\n",
       "      <th>cb_person_cred_hist_length</th>\n",
       "    </tr>\n",
       "  </thead>\n",
       "  <tbody>\n",
       "    <tr>\n",
       "      <th>0</th>\n",
       "      <td>22</td>\n",
       "      <td>59000</td>\n",
       "      <td>RENT</td>\n",
       "      <td>123.0</td>\n",
       "      <td>PERSONAL</td>\n",
       "      <td>D</td>\n",
       "      <td>35000</td>\n",
       "      <td>16.02</td>\n",
       "      <td>1</td>\n",
       "      <td>0.59</td>\n",
       "      <td>Y</td>\n",
       "      <td>3</td>\n",
       "    </tr>\n",
       "    <tr>\n",
       "      <th>1</th>\n",
       "      <td>21</td>\n",
       "      <td>9600</td>\n",
       "      <td>OWN</td>\n",
       "      <td>5.0</td>\n",
       "      <td>EDUCATION</td>\n",
       "      <td>B</td>\n",
       "      <td>1000</td>\n",
       "      <td>11.14</td>\n",
       "      <td>0</td>\n",
       "      <td>0.10</td>\n",
       "      <td>N</td>\n",
       "      <td>2</td>\n",
       "    </tr>\n",
       "    <tr>\n",
       "      <th>2</th>\n",
       "      <td>25</td>\n",
       "      <td>9600</td>\n",
       "      <td>MORTGAGE</td>\n",
       "      <td>1.0</td>\n",
       "      <td>MEDICAL</td>\n",
       "      <td>C</td>\n",
       "      <td>5500</td>\n",
       "      <td>12.87</td>\n",
       "      <td>1</td>\n",
       "      <td>0.57</td>\n",
       "      <td>N</td>\n",
       "      <td>3</td>\n",
       "    </tr>\n",
       "    <tr>\n",
       "      <th>3</th>\n",
       "      <td>23</td>\n",
       "      <td>65500</td>\n",
       "      <td>RENT</td>\n",
       "      <td>4.0</td>\n",
       "      <td>MEDICAL</td>\n",
       "      <td>C</td>\n",
       "      <td>35000</td>\n",
       "      <td>15.23</td>\n",
       "      <td>1</td>\n",
       "      <td>0.53</td>\n",
       "      <td>N</td>\n",
       "      <td>2</td>\n",
       "    </tr>\n",
       "    <tr>\n",
       "      <th>4</th>\n",
       "      <td>24</td>\n",
       "      <td>54400</td>\n",
       "      <td>RENT</td>\n",
       "      <td>8.0</td>\n",
       "      <td>MEDICAL</td>\n",
       "      <td>C</td>\n",
       "      <td>35000</td>\n",
       "      <td>14.27</td>\n",
       "      <td>1</td>\n",
       "      <td>0.55</td>\n",
       "      <td>Y</td>\n",
       "      <td>4</td>\n",
       "    </tr>\n",
       "  </tbody>\n",
       "</table>\n",
       "</div>"
      ],
      "text/plain": [
       "   person_age  person_income person_home_ownership  person_emp_length  \\\n",
       "0          22          59000                  RENT              123.0   \n",
       "1          21           9600                   OWN                5.0   \n",
       "2          25           9600              MORTGAGE                1.0   \n",
       "3          23          65500                  RENT                4.0   \n",
       "4          24          54400                  RENT                8.0   \n",
       "\n",
       "  loan_intent loan_grade  loan_amnt  loan_int_rate  loan_status  \\\n",
       "0    PERSONAL          D      35000          16.02            1   \n",
       "1   EDUCATION          B       1000          11.14            0   \n",
       "2     MEDICAL          C       5500          12.87            1   \n",
       "3     MEDICAL          C      35000          15.23            1   \n",
       "4     MEDICAL          C      35000          14.27            1   \n",
       "\n",
       "   loan_percent_income cb_person_default_on_file  cb_person_cred_hist_length  \n",
       "0                 0.59                         Y                           3  \n",
       "1                 0.10                         N                           2  \n",
       "2                 0.57                         N                           3  \n",
       "3                 0.53                         N                           2  \n",
       "4                 0.55                         Y                           4  "
      ]
     },
     "execution_count": 87,
     "metadata": {},
     "output_type": "execute_result"
    }
   ],
   "source": [
    "df.head()"
   ]
  },
  {
   "cell_type": "code",
   "execution_count": 88,
   "id": "0e302489",
   "metadata": {},
   "outputs": [],
   "source": [
    "# Renaming Columns\n",
    "df = df.rename(index=str, columns={\"person_age\":\"Age\", \"person_income\":\"Income\", \"person_home_ownership\":\"home ownership\", \"person_emp_length\":\"Years_Employed\",\"loan_intent\":\"intent\",\"loan_amnt\":\"Amount\",\"loan_int_rate\":\"Rate\",\"loan_status\":\"Default\",\"loan_percent_income\":\"Loan_Percent_Income\",\"cb_person_default_on_file\":\"default on file\",\"cb_person_cred_hist_length\":\"Credit_History\",\"loan_grade\":\"grade\"})"
   ]
  },
  {
   "cell_type": "code",
   "execution_count": 89,
   "id": "56e9900b",
   "metadata": {},
   "outputs": [
    {
     "data": {
      "text/html": [
       "<div>\n",
       "<style scoped>\n",
       "    .dataframe tbody tr th:only-of-type {\n",
       "        vertical-align: middle;\n",
       "    }\n",
       "\n",
       "    .dataframe tbody tr th {\n",
       "        vertical-align: top;\n",
       "    }\n",
       "\n",
       "    .dataframe thead th {\n",
       "        text-align: right;\n",
       "    }\n",
       "</style>\n",
       "<table border=\"1\" class=\"dataframe\">\n",
       "  <thead>\n",
       "    <tr style=\"text-align: right;\">\n",
       "      <th></th>\n",
       "      <th>Age</th>\n",
       "      <th>Income</th>\n",
       "      <th>home ownership</th>\n",
       "      <th>Years_Employed</th>\n",
       "      <th>intent</th>\n",
       "      <th>grade</th>\n",
       "      <th>Amount</th>\n",
       "      <th>Rate</th>\n",
       "      <th>Default</th>\n",
       "      <th>Loan_Percent_Income</th>\n",
       "      <th>default on file</th>\n",
       "      <th>Credit_History</th>\n",
       "    </tr>\n",
       "  </thead>\n",
       "  <tbody>\n",
       "    <tr>\n",
       "      <th>0</th>\n",
       "      <td>22</td>\n",
       "      <td>59000</td>\n",
       "      <td>RENT</td>\n",
       "      <td>123.0</td>\n",
       "      <td>PERSONAL</td>\n",
       "      <td>D</td>\n",
       "      <td>35000</td>\n",
       "      <td>16.02</td>\n",
       "      <td>1</td>\n",
       "      <td>0.59</td>\n",
       "      <td>Y</td>\n",
       "      <td>3</td>\n",
       "    </tr>\n",
       "    <tr>\n",
       "      <th>1</th>\n",
       "      <td>21</td>\n",
       "      <td>9600</td>\n",
       "      <td>OWN</td>\n",
       "      <td>5.0</td>\n",
       "      <td>EDUCATION</td>\n",
       "      <td>B</td>\n",
       "      <td>1000</td>\n",
       "      <td>11.14</td>\n",
       "      <td>0</td>\n",
       "      <td>0.10</td>\n",
       "      <td>N</td>\n",
       "      <td>2</td>\n",
       "    </tr>\n",
       "    <tr>\n",
       "      <th>2</th>\n",
       "      <td>25</td>\n",
       "      <td>9600</td>\n",
       "      <td>MORTGAGE</td>\n",
       "      <td>1.0</td>\n",
       "      <td>MEDICAL</td>\n",
       "      <td>C</td>\n",
       "      <td>5500</td>\n",
       "      <td>12.87</td>\n",
       "      <td>1</td>\n",
       "      <td>0.57</td>\n",
       "      <td>N</td>\n",
       "      <td>3</td>\n",
       "    </tr>\n",
       "    <tr>\n",
       "      <th>3</th>\n",
       "      <td>23</td>\n",
       "      <td>65500</td>\n",
       "      <td>RENT</td>\n",
       "      <td>4.0</td>\n",
       "      <td>MEDICAL</td>\n",
       "      <td>C</td>\n",
       "      <td>35000</td>\n",
       "      <td>15.23</td>\n",
       "      <td>1</td>\n",
       "      <td>0.53</td>\n",
       "      <td>N</td>\n",
       "      <td>2</td>\n",
       "    </tr>\n",
       "    <tr>\n",
       "      <th>4</th>\n",
       "      <td>24</td>\n",
       "      <td>54400</td>\n",
       "      <td>RENT</td>\n",
       "      <td>8.0</td>\n",
       "      <td>MEDICAL</td>\n",
       "      <td>C</td>\n",
       "      <td>35000</td>\n",
       "      <td>14.27</td>\n",
       "      <td>1</td>\n",
       "      <td>0.55</td>\n",
       "      <td>Y</td>\n",
       "      <td>4</td>\n",
       "    </tr>\n",
       "  </tbody>\n",
       "</table>\n",
       "</div>"
      ],
      "text/plain": [
       "   Age  Income home ownership  Years_Employed     intent grade  Amount   Rate  \\\n",
       "0   22   59000           RENT           123.0   PERSONAL     D   35000  16.02   \n",
       "1   21    9600            OWN             5.0  EDUCATION     B    1000  11.14   \n",
       "2   25    9600       MORTGAGE             1.0    MEDICAL     C    5500  12.87   \n",
       "3   23   65500           RENT             4.0    MEDICAL     C   35000  15.23   \n",
       "4   24   54400           RENT             8.0    MEDICAL     C   35000  14.27   \n",
       "\n",
       "   Default  Loan_Percent_Income default on file  Credit_History  \n",
       "0        1                 0.59               Y               3  \n",
       "1        0                 0.10               N               2  \n",
       "2        1                 0.57               N               3  \n",
       "3        1                 0.53               N               2  \n",
       "4        1                 0.55               Y               4  "
      ]
     },
     "execution_count": 89,
     "metadata": {},
     "output_type": "execute_result"
    }
   ],
   "source": [
    "df.head()"
   ]
  },
  {
   "cell_type": "code",
   "execution_count": 90,
   "id": "7dc90d80",
   "metadata": {},
   "outputs": [
    {
     "name": "stdout",
     "output_type": "stream",
     "text": [
      "       Age  Income home ownership  Years_Employed           intent grade  \\\n",
      "0       22   59000           RENT           123.0         PERSONAL     D   \n",
      "1       21    9600            OWN             5.0        EDUCATION     B   \n",
      "2       25    9600       MORTGAGE             1.0          MEDICAL     C   \n",
      "3       23   65500           RENT             4.0          MEDICAL     C   \n",
      "4       24   54400           RENT             8.0          MEDICAL     C   \n",
      "...    ...     ...            ...             ...              ...   ...   \n",
      "32576   57   53000       MORTGAGE             1.0         PERSONAL     C   \n",
      "32577   54  120000       MORTGAGE             4.0         PERSONAL     A   \n",
      "32578   65   76000           RENT             3.0  HOMEIMPROVEMENT     B   \n",
      "32579   56  150000       MORTGAGE             5.0         PERSONAL     B   \n",
      "32580   66   42000           RENT             2.0          MEDICAL     B   \n",
      "\n",
      "       Amount   Rate  Default  Loan_Percent_Income default on file  \\\n",
      "0       35000  16.02        1                 0.59               Y   \n",
      "1        1000  11.14        0                 0.10               N   \n",
      "2        5500  12.87        1                 0.57               N   \n",
      "3       35000  15.23        1                 0.53               N   \n",
      "4       35000  14.27        1                 0.55               Y   \n",
      "...       ...    ...      ...                  ...             ...   \n",
      "32576    5800  13.16        0                 0.11               N   \n",
      "32577   17625   7.49        0                 0.15               N   \n",
      "32578   35000  10.99        1                 0.46               N   \n",
      "32579   15000  11.48        0                 0.10               N   \n",
      "32580    6475   9.99        0                 0.15               N   \n",
      "\n",
      "       Credit_History  \n",
      "0                   3  \n",
      "1                   2  \n",
      "2                   3  \n",
      "3                   2  \n",
      "4                   4  \n",
      "...               ...  \n",
      "32576              30  \n",
      "32577              19  \n",
      "32578              28  \n",
      "32579              26  \n",
      "32580              30  \n",
      "\n",
      "[32581 rows x 12 columns]\n"
     ]
    }
   ],
   "source": [
    "print(df)"
   ]
  },
  {
   "cell_type": "code",
   "execution_count": 91,
   "id": "770df0f5",
   "metadata": {},
   "outputs": [
    {
     "data": {
      "text/plain": [
       "Age                      int64\n",
       "Income                   int64\n",
       "home ownership          object\n",
       "Years_Employed         float64\n",
       "intent                  object\n",
       "grade                   object\n",
       "Amount                   int64\n",
       "Rate                   float64\n",
       "Default                  int64\n",
       "Loan_Percent_Income    float64\n",
       "default on file         object\n",
       "Credit_History           int64\n",
       "dtype: object"
      ]
     },
     "execution_count": 91,
     "metadata": {},
     "output_type": "execute_result"
    }
   ],
   "source": [
    "df.dtypes"
   ]
  },
  {
   "cell_type": "code",
   "execution_count": 92,
   "id": "f708e027",
   "metadata": {},
   "outputs": [
    {
     "data": {
      "text/plain": [
       "True"
      ]
     },
     "execution_count": 92,
     "metadata": {},
     "output_type": "execute_result"
    }
   ],
   "source": [
    "df.isnull().values.any()"
   ]
  },
  {
   "cell_type": "code",
   "execution_count": 93,
   "id": "35c6a22d",
   "metadata": {},
   "outputs": [
    {
     "data": {
      "text/html": [
       "<div>\n",
       "<style scoped>\n",
       "    .dataframe tbody tr th:only-of-type {\n",
       "        vertical-align: middle;\n",
       "    }\n",
       "\n",
       "    .dataframe tbody tr th {\n",
       "        vertical-align: top;\n",
       "    }\n",
       "\n",
       "    .dataframe thead th {\n",
       "        text-align: right;\n",
       "    }\n",
       "</style>\n",
       "<table border=\"1\" class=\"dataframe\">\n",
       "  <thead>\n",
       "    <tr style=\"text-align: right;\">\n",
       "      <th></th>\n",
       "      <th>VarName</th>\n",
       "      <th>NullCount</th>\n",
       "    </tr>\n",
       "  </thead>\n",
       "  <tbody>\n",
       "    <tr>\n",
       "      <th>0</th>\n",
       "      <td>Rate</td>\n",
       "      <td>3116</td>\n",
       "    </tr>\n",
       "    <tr>\n",
       "      <th>1</th>\n",
       "      <td>Years_Employed</td>\n",
       "      <td>895</td>\n",
       "    </tr>\n",
       "  </tbody>\n",
       "</table>\n",
       "</div>"
      ],
      "text/plain": [
       "          VarName  NullCount\n",
       "0            Rate       3116\n",
       "1  Years_Employed        895"
      ]
     },
     "execution_count": 93,
     "metadata": {},
     "output_type": "execute_result"
    }
   ],
   "source": [
    "na_df=pd.DataFrame(df.isnull().sum().sort_values(ascending=False)).reset_index()\n",
    "na_df.columns = ['VarName', 'NullCount']\n",
    "na_df[(na_df['NullCount']>0)]"
   ]
  },
  {
   "cell_type": "markdown",
   "id": "4d93ac36",
   "metadata": {},
   "source": [
    "From the results above it can be seen that Rate and Years Employed are the only two columns with null values in this data set."
   ]
  },
  {
   "cell_type": "markdown",
   "id": "142388c5",
   "metadata": {},
   "source": [
    "# Handling Missing Values"
   ]
  },
  {
   "cell_type": "markdown",
   "id": "13230831",
   "metadata": {},
   "source": [
    "Before proceeding with modeling the data it is important, to fill in the null values in the interest rate (Rate) and years employed column so that model can be accurate. Even before that it important to see what rows in the set have null values. "
   ]
  },
  {
   "cell_type": "code",
   "execution_count": 94,
   "id": "25084ec5",
   "metadata": {},
   "outputs": [
    {
     "data": {
      "text/html": [
       "<div>\n",
       "<style scoped>\n",
       "    .dataframe tbody tr th:only-of-type {\n",
       "        vertical-align: middle;\n",
       "    }\n",
       "\n",
       "    .dataframe tbody tr th {\n",
       "        vertical-align: top;\n",
       "    }\n",
       "\n",
       "    .dataframe thead th {\n",
       "        text-align: right;\n",
       "    }\n",
       "</style>\n",
       "<table border=\"1\" class=\"dataframe\">\n",
       "  <thead>\n",
       "    <tr style=\"text-align: right;\">\n",
       "      <th></th>\n",
       "      <th>Age</th>\n",
       "      <th>Income</th>\n",
       "      <th>home ownership</th>\n",
       "      <th>Years_Employed</th>\n",
       "      <th>intent</th>\n",
       "      <th>grade</th>\n",
       "      <th>Amount</th>\n",
       "      <th>Rate</th>\n",
       "      <th>Default</th>\n",
       "      <th>Loan_Percent_Income</th>\n",
       "      <th>default on file</th>\n",
       "      <th>Credit_History</th>\n",
       "    </tr>\n",
       "  </thead>\n",
       "  <tbody>\n",
       "    <tr>\n",
       "      <th>39</th>\n",
       "      <td>23</td>\n",
       "      <td>71500</td>\n",
       "      <td>RENT</td>\n",
       "      <td>3.0</td>\n",
       "      <td>DEBTCONSOLIDATION</td>\n",
       "      <td>D</td>\n",
       "      <td>30000</td>\n",
       "      <td>NaN</td>\n",
       "      <td>1</td>\n",
       "      <td>0.42</td>\n",
       "      <td>N</td>\n",
       "      <td>4</td>\n",
       "    </tr>\n",
       "    <tr>\n",
       "      <th>50</th>\n",
       "      <td>24</td>\n",
       "      <td>78000</td>\n",
       "      <td>RENT</td>\n",
       "      <td>4.0</td>\n",
       "      <td>DEBTCONSOLIDATION</td>\n",
       "      <td>D</td>\n",
       "      <td>30000</td>\n",
       "      <td>NaN</td>\n",
       "      <td>1</td>\n",
       "      <td>0.38</td>\n",
       "      <td>Y</td>\n",
       "      <td>4</td>\n",
       "    </tr>\n",
       "    <tr>\n",
       "      <th>57</th>\n",
       "      <td>23</td>\n",
       "      <td>277000</td>\n",
       "      <td>OWN</td>\n",
       "      <td>3.0</td>\n",
       "      <td>PERSONAL</td>\n",
       "      <td>A</td>\n",
       "      <td>35000</td>\n",
       "      <td>NaN</td>\n",
       "      <td>0</td>\n",
       "      <td>0.13</td>\n",
       "      <td>N</td>\n",
       "      <td>4</td>\n",
       "    </tr>\n",
       "    <tr>\n",
       "      <th>59</th>\n",
       "      <td>24</td>\n",
       "      <td>12000</td>\n",
       "      <td>OWN</td>\n",
       "      <td>2.0</td>\n",
       "      <td>VENTURE</td>\n",
       "      <td>E</td>\n",
       "      <td>1750</td>\n",
       "      <td>NaN</td>\n",
       "      <td>0</td>\n",
       "      <td>0.15</td>\n",
       "      <td>Y</td>\n",
       "      <td>3</td>\n",
       "    </tr>\n",
       "    <tr>\n",
       "      <th>62</th>\n",
       "      <td>26</td>\n",
       "      <td>263000</td>\n",
       "      <td>MORTGAGE</td>\n",
       "      <td>0.0</td>\n",
       "      <td>EDUCATION</td>\n",
       "      <td>B</td>\n",
       "      <td>10000</td>\n",
       "      <td>NaN</td>\n",
       "      <td>1</td>\n",
       "      <td>0.04</td>\n",
       "      <td>N</td>\n",
       "      <td>4</td>\n",
       "    </tr>\n",
       "    <tr>\n",
       "      <th>...</th>\n",
       "      <td>...</td>\n",
       "      <td>...</td>\n",
       "      <td>...</td>\n",
       "      <td>...</td>\n",
       "      <td>...</td>\n",
       "      <td>...</td>\n",
       "      <td>...</td>\n",
       "      <td>...</td>\n",
       "      <td>...</td>\n",
       "      <td>...</td>\n",
       "      <td>...</td>\n",
       "      <td>...</td>\n",
       "    </tr>\n",
       "    <tr>\n",
       "      <th>32547</th>\n",
       "      <td>53</td>\n",
       "      <td>4888</td>\n",
       "      <td>OWN</td>\n",
       "      <td>0.0</td>\n",
       "      <td>VENTURE</td>\n",
       "      <td>C</td>\n",
       "      <td>1400</td>\n",
       "      <td>NaN</td>\n",
       "      <td>1</td>\n",
       "      <td>0.29</td>\n",
       "      <td>Y</td>\n",
       "      <td>28</td>\n",
       "    </tr>\n",
       "    <tr>\n",
       "      <th>32552</th>\n",
       "      <td>65</td>\n",
       "      <td>45900</td>\n",
       "      <td>RENT</td>\n",
       "      <td>2.0</td>\n",
       "      <td>EDUCATION</td>\n",
       "      <td>C</td>\n",
       "      <td>10000</td>\n",
       "      <td>NaN</td>\n",
       "      <td>0</td>\n",
       "      <td>0.22</td>\n",
       "      <td>Y</td>\n",
       "      <td>19</td>\n",
       "    </tr>\n",
       "    <tr>\n",
       "      <th>32553</th>\n",
       "      <td>54</td>\n",
       "      <td>20000</td>\n",
       "      <td>RENT</td>\n",
       "      <td>2.0</td>\n",
       "      <td>MEDICAL</td>\n",
       "      <td>C</td>\n",
       "      <td>5000</td>\n",
       "      <td>NaN</td>\n",
       "      <td>0</td>\n",
       "      <td>0.25</td>\n",
       "      <td>N</td>\n",
       "      <td>28</td>\n",
       "    </tr>\n",
       "    <tr>\n",
       "      <th>32569</th>\n",
       "      <td>51</td>\n",
       "      <td>60000</td>\n",
       "      <td>MORTGAGE</td>\n",
       "      <td>1.0</td>\n",
       "      <td>PERSONAL</td>\n",
       "      <td>A</td>\n",
       "      <td>7500</td>\n",
       "      <td>NaN</td>\n",
       "      <td>0</td>\n",
       "      <td>0.13</td>\n",
       "      <td>N</td>\n",
       "      <td>23</td>\n",
       "    </tr>\n",
       "    <tr>\n",
       "      <th>32570</th>\n",
       "      <td>58</td>\n",
       "      <td>72000</td>\n",
       "      <td>RENT</td>\n",
       "      <td>5.0</td>\n",
       "      <td>HOMEIMPROVEMENT</td>\n",
       "      <td>B</td>\n",
       "      <td>4500</td>\n",
       "      <td>NaN</td>\n",
       "      <td>0</td>\n",
       "      <td>0.06</td>\n",
       "      <td>N</td>\n",
       "      <td>23</td>\n",
       "    </tr>\n",
       "  </tbody>\n",
       "</table>\n",
       "<p>3116 rows × 12 columns</p>\n",
       "</div>"
      ],
      "text/plain": [
       "       Age  Income home ownership  Years_Employed             intent grade  \\\n",
       "39      23   71500           RENT             3.0  DEBTCONSOLIDATION     D   \n",
       "50      24   78000           RENT             4.0  DEBTCONSOLIDATION     D   \n",
       "57      23  277000            OWN             3.0           PERSONAL     A   \n",
       "59      24   12000            OWN             2.0            VENTURE     E   \n",
       "62      26  263000       MORTGAGE             0.0          EDUCATION     B   \n",
       "...    ...     ...            ...             ...                ...   ...   \n",
       "32547   53    4888            OWN             0.0            VENTURE     C   \n",
       "32552   65   45900           RENT             2.0          EDUCATION     C   \n",
       "32553   54   20000           RENT             2.0            MEDICAL     C   \n",
       "32569   51   60000       MORTGAGE             1.0           PERSONAL     A   \n",
       "32570   58   72000           RENT             5.0    HOMEIMPROVEMENT     B   \n",
       "\n",
       "       Amount  Rate  Default  Loan_Percent_Income default on file  \\\n",
       "39      30000   NaN        1                 0.42               N   \n",
       "50      30000   NaN        1                 0.38               Y   \n",
       "57      35000   NaN        0                 0.13               N   \n",
       "59       1750   NaN        0                 0.15               Y   \n",
       "62      10000   NaN        1                 0.04               N   \n",
       "...       ...   ...      ...                  ...             ...   \n",
       "32547    1400   NaN        1                 0.29               Y   \n",
       "32552   10000   NaN        0                 0.22               Y   \n",
       "32553    5000   NaN        0                 0.25               N   \n",
       "32569    7500   NaN        0                 0.13               N   \n",
       "32570    4500   NaN        0                 0.06               N   \n",
       "\n",
       "       Credit_History  \n",
       "39                  4  \n",
       "50                  4  \n",
       "57                  4  \n",
       "59                  3  \n",
       "62                  4  \n",
       "...               ...  \n",
       "32547              28  \n",
       "32552              19  \n",
       "32553              28  \n",
       "32569              23  \n",
       "32570              23  \n",
       "\n",
       "[3116 rows x 12 columns]"
      ]
     },
     "execution_count": 94,
     "metadata": {},
     "output_type": "execute_result"
    }
   ],
   "source": [
    "df[df['Rate'].isna()]"
   ]
  },
  {
   "cell_type": "code",
   "execution_count": 95,
   "id": "a6c1fdd9",
   "metadata": {},
   "outputs": [
    {
     "data": {
      "text/html": [
       "<div>\n",
       "<style scoped>\n",
       "    .dataframe tbody tr th:only-of-type {\n",
       "        vertical-align: middle;\n",
       "    }\n",
       "\n",
       "    .dataframe tbody tr th {\n",
       "        vertical-align: top;\n",
       "    }\n",
       "\n",
       "    .dataframe thead th {\n",
       "        text-align: right;\n",
       "    }\n",
       "</style>\n",
       "<table border=\"1\" class=\"dataframe\">\n",
       "  <thead>\n",
       "    <tr style=\"text-align: right;\">\n",
       "      <th></th>\n",
       "      <th>Age</th>\n",
       "      <th>Income</th>\n",
       "      <th>home ownership</th>\n",
       "      <th>Years_Employed</th>\n",
       "      <th>intent</th>\n",
       "      <th>grade</th>\n",
       "      <th>Amount</th>\n",
       "      <th>Rate</th>\n",
       "      <th>Default</th>\n",
       "      <th>Loan_Percent_Income</th>\n",
       "      <th>default on file</th>\n",
       "      <th>Credit_History</th>\n",
       "    </tr>\n",
       "  </thead>\n",
       "  <tbody>\n",
       "    <tr>\n",
       "      <th>105</th>\n",
       "      <td>22</td>\n",
       "      <td>12600</td>\n",
       "      <td>MORTGAGE</td>\n",
       "      <td>NaN</td>\n",
       "      <td>PERSONAL</td>\n",
       "      <td>A</td>\n",
       "      <td>2000</td>\n",
       "      <td>5.42</td>\n",
       "      <td>1</td>\n",
       "      <td>0.16</td>\n",
       "      <td>N</td>\n",
       "      <td>4</td>\n",
       "    </tr>\n",
       "    <tr>\n",
       "      <th>222</th>\n",
       "      <td>24</td>\n",
       "      <td>185000</td>\n",
       "      <td>MORTGAGE</td>\n",
       "      <td>NaN</td>\n",
       "      <td>EDUCATION</td>\n",
       "      <td>B</td>\n",
       "      <td>35000</td>\n",
       "      <td>12.42</td>\n",
       "      <td>0</td>\n",
       "      <td>0.19</td>\n",
       "      <td>N</td>\n",
       "      <td>2</td>\n",
       "    </tr>\n",
       "    <tr>\n",
       "      <th>379</th>\n",
       "      <td>24</td>\n",
       "      <td>16800</td>\n",
       "      <td>MORTGAGE</td>\n",
       "      <td>NaN</td>\n",
       "      <td>DEBTCONSOLIDATION</td>\n",
       "      <td>A</td>\n",
       "      <td>3900</td>\n",
       "      <td>NaN</td>\n",
       "      <td>1</td>\n",
       "      <td>0.23</td>\n",
       "      <td>N</td>\n",
       "      <td>3</td>\n",
       "    </tr>\n",
       "    <tr>\n",
       "      <th>407</th>\n",
       "      <td>25</td>\n",
       "      <td>52000</td>\n",
       "      <td>RENT</td>\n",
       "      <td>NaN</td>\n",
       "      <td>PERSONAL</td>\n",
       "      <td>B</td>\n",
       "      <td>24000</td>\n",
       "      <td>10.74</td>\n",
       "      <td>1</td>\n",
       "      <td>0.46</td>\n",
       "      <td>N</td>\n",
       "      <td>2</td>\n",
       "    </tr>\n",
       "    <tr>\n",
       "      <th>408</th>\n",
       "      <td>22</td>\n",
       "      <td>17352</td>\n",
       "      <td>MORTGAGE</td>\n",
       "      <td>NaN</td>\n",
       "      <td>EDUCATION</td>\n",
       "      <td>C</td>\n",
       "      <td>2250</td>\n",
       "      <td>15.27</td>\n",
       "      <td>0</td>\n",
       "      <td>0.13</td>\n",
       "      <td>Y</td>\n",
       "      <td>3</td>\n",
       "    </tr>\n",
       "    <tr>\n",
       "      <th>...</th>\n",
       "      <td>...</td>\n",
       "      <td>...</td>\n",
       "      <td>...</td>\n",
       "      <td>...</td>\n",
       "      <td>...</td>\n",
       "      <td>...</td>\n",
       "      <td>...</td>\n",
       "      <td>...</td>\n",
       "      <td>...</td>\n",
       "      <td>...</td>\n",
       "      <td>...</td>\n",
       "      <td>...</td>\n",
       "    </tr>\n",
       "    <tr>\n",
       "      <th>32285</th>\n",
       "      <td>38</td>\n",
       "      <td>12000</td>\n",
       "      <td>OWN</td>\n",
       "      <td>NaN</td>\n",
       "      <td>EDUCATION</td>\n",
       "      <td>A</td>\n",
       "      <td>4800</td>\n",
       "      <td>7.29</td>\n",
       "      <td>1</td>\n",
       "      <td>0.40</td>\n",
       "      <td>N</td>\n",
       "      <td>12</td>\n",
       "    </tr>\n",
       "    <tr>\n",
       "      <th>32328</th>\n",
       "      <td>51</td>\n",
       "      <td>18408</td>\n",
       "      <td>RENT</td>\n",
       "      <td>NaN</td>\n",
       "      <td>PERSONAL</td>\n",
       "      <td>C</td>\n",
       "      <td>1000</td>\n",
       "      <td>14.65</td>\n",
       "      <td>1</td>\n",
       "      <td>0.05</td>\n",
       "      <td>Y</td>\n",
       "      <td>20</td>\n",
       "    </tr>\n",
       "    <tr>\n",
       "      <th>32360</th>\n",
       "      <td>70</td>\n",
       "      <td>39996</td>\n",
       "      <td>RENT</td>\n",
       "      <td>NaN</td>\n",
       "      <td>MEDICAL</td>\n",
       "      <td>C</td>\n",
       "      <td>3600</td>\n",
       "      <td>15.23</td>\n",
       "      <td>0</td>\n",
       "      <td>0.09</td>\n",
       "      <td>Y</td>\n",
       "      <td>19</td>\n",
       "    </tr>\n",
       "    <tr>\n",
       "      <th>32453</th>\n",
       "      <td>56</td>\n",
       "      <td>32400</td>\n",
       "      <td>RENT</td>\n",
       "      <td>NaN</td>\n",
       "      <td>MEDICAL</td>\n",
       "      <td>A</td>\n",
       "      <td>8575</td>\n",
       "      <td>7.51</td>\n",
       "      <td>0</td>\n",
       "      <td>0.26</td>\n",
       "      <td>N</td>\n",
       "      <td>18</td>\n",
       "    </tr>\n",
       "    <tr>\n",
       "      <th>32471</th>\n",
       "      <td>53</td>\n",
       "      <td>54000</td>\n",
       "      <td>RENT</td>\n",
       "      <td>NaN</td>\n",
       "      <td>MEDICAL</td>\n",
       "      <td>D</td>\n",
       "      <td>10000</td>\n",
       "      <td>14.59</td>\n",
       "      <td>1</td>\n",
       "      <td>0.19</td>\n",
       "      <td>Y</td>\n",
       "      <td>27</td>\n",
       "    </tr>\n",
       "  </tbody>\n",
       "</table>\n",
       "<p>895 rows × 12 columns</p>\n",
       "</div>"
      ],
      "text/plain": [
       "       Age  Income home ownership  Years_Employed             intent grade  \\\n",
       "105     22   12600       MORTGAGE             NaN           PERSONAL     A   \n",
       "222     24  185000       MORTGAGE             NaN          EDUCATION     B   \n",
       "379     24   16800       MORTGAGE             NaN  DEBTCONSOLIDATION     A   \n",
       "407     25   52000           RENT             NaN           PERSONAL     B   \n",
       "408     22   17352       MORTGAGE             NaN          EDUCATION     C   \n",
       "...    ...     ...            ...             ...                ...   ...   \n",
       "32285   38   12000            OWN             NaN          EDUCATION     A   \n",
       "32328   51   18408           RENT             NaN           PERSONAL     C   \n",
       "32360   70   39996           RENT             NaN            MEDICAL     C   \n",
       "32453   56   32400           RENT             NaN            MEDICAL     A   \n",
       "32471   53   54000           RENT             NaN            MEDICAL     D   \n",
       "\n",
       "       Amount   Rate  Default  Loan_Percent_Income default on file  \\\n",
       "105      2000   5.42        1                 0.16               N   \n",
       "222     35000  12.42        0                 0.19               N   \n",
       "379      3900    NaN        1                 0.23               N   \n",
       "407     24000  10.74        1                 0.46               N   \n",
       "408      2250  15.27        0                 0.13               Y   \n",
       "...       ...    ...      ...                  ...             ...   \n",
       "32285    4800   7.29        1                 0.40               N   \n",
       "32328    1000  14.65        1                 0.05               Y   \n",
       "32360    3600  15.23        0                 0.09               Y   \n",
       "32453    8575   7.51        0                 0.26               N   \n",
       "32471   10000  14.59        1                 0.19               Y   \n",
       "\n",
       "       Credit_History  \n",
       "105                 4  \n",
       "222                 2  \n",
       "379                 3  \n",
       "407                 2  \n",
       "408                 3  \n",
       "...               ...  \n",
       "32285              12  \n",
       "32328              20  \n",
       "32360              19  \n",
       "32453              18  \n",
       "32471              27  \n",
       "\n",
       "[895 rows x 12 columns]"
      ]
     },
     "execution_count": 95,
     "metadata": {},
     "output_type": "execute_result"
    }
   ],
   "source": [
    "df[df['Years_Employed'].isna()]"
   ]
  },
  {
   "cell_type": "markdown",
   "id": "f0ab3a5e",
   "metadata": {},
   "source": [
    "To fill in the null values, it is important to see the distribution for Years_Employed and rate to see if they are normally distributed. This way I can decide if I want to use the mean for the null value. Fortunately, I already have these results from another notebook, in which it was shown that these two columns aren't normally distributed. "
   ]
  },
  {
   "cell_type": "code",
   "execution_count": 96,
   "id": "61c57fa1",
   "metadata": {},
   "outputs": [
    {
     "data": {
      "text/plain": [
       "array([[<AxesSubplot:title={'center':'Rate'}>]], dtype=object)"
      ]
     },
     "execution_count": 96,
     "metadata": {},
     "output_type": "execute_result"
    },
    {
     "data": {
      "image/png": "[encoded data removed]",
      "text/plain": [
       "<Figure size 432x288 with 1 Axes>"
      ]
     },
     "metadata": {
      "needs_background": "light"
     },
     "output_type": "display_data"
    }
   ],
   "source": [
    "df.hist(column = 'Rate')"
   ]
  },
  {
   "cell_type": "code",
   "execution_count": 97,
   "id": "cbc75845",
   "metadata": {},
   "outputs": [
    {
     "data": {
      "text/plain": [
       "array([[<AxesSubplot:title={'center':'Years_Employed'}>]], dtype=object)"
      ]
     },
     "execution_count": 97,
     "metadata": {},
     "output_type": "execute_result"
    },
    {
     "data": {
      "image/png": "[encoded data removed]",
      "text/plain": [
       "<Figure size 432x288 with 1 Axes>"
      ]
     },
     "metadata": {
      "needs_background": "light"
     },
     "output_type": "display_data"
    }
   ],
   "source": [
    "df.hist(column = 'Years_Employed')"
   ]
  },
  {
   "cell_type": "code",
   "execution_count": 98,
   "id": "ea119090",
   "metadata": {},
   "outputs": [
    {
     "data": {
      "text/plain": [
       "array([[<AxesSubplot:title={'center':'Age'}>]], dtype=object)"
      ]
     },
     "execution_count": 98,
     "metadata": {},
     "output_type": "execute_result"
    },
    {
     "data": {
      "image/png": "[encoded data removed]",
      "text/plain": [
       "<Figure size 432x288 with 1 Axes>"
      ]
     },
     "metadata": {
      "needs_background": "light"
     },
     "output_type": "display_data"
    }
   ],
   "source": [
    "df.hist(column = 'Age')"
   ]
  },
  {
   "cell_type": "markdown",
   "id": "fd417c2e",
   "metadata": {},
   "source": [
    "Since neither of these columns are normally distributed, I can't use the mean to fill in the null values, and will instead use the median."
   ]
  },
  {
   "cell_type": "code",
   "execution_count": 99,
   "id": "0176e4a5",
   "metadata": {},
   "outputs": [],
   "source": [
    "df['Rate'].fillna((df['Rate'].median()), inplace=True)\n",
    "df['Years_Employed'].fillna((df['Years_Employed'].mean()), inplace=True)"
   ]
  },
  {
   "cell_type": "code",
   "execution_count": 100,
   "id": "d6a8c592",
   "metadata": {},
   "outputs": [
    {
     "data": {
      "text/html": [
       "<div>\n",
       "<style scoped>\n",
       "    .dataframe tbody tr th:only-of-type {\n",
       "        vertical-align: middle;\n",
       "    }\n",
       "\n",
       "    .dataframe tbody tr th {\n",
       "        vertical-align: top;\n",
       "    }\n",
       "\n",
       "    .dataframe thead th {\n",
       "        text-align: right;\n",
       "    }\n",
       "</style>\n",
       "<table border=\"1\" class=\"dataframe\">\n",
       "  <thead>\n",
       "    <tr style=\"text-align: right;\">\n",
       "      <th></th>\n",
       "      <th>VarName</th>\n",
       "      <th>NullCount</th>\n",
       "    </tr>\n",
       "  </thead>\n",
       "  <tbody>\n",
       "  </tbody>\n",
       "</table>\n",
       "</div>"
      ],
      "text/plain": [
       "Empty DataFrame\n",
       "Columns: [VarName, NullCount]\n",
       "Index: []"
      ]
     },
     "execution_count": 100,
     "metadata": {},
     "output_type": "execute_result"
    }
   ],
   "source": [
    "na_df=pd.DataFrame(df.isnull().sum().sort_values(ascending=False)).reset_index()\n",
    "na_df.columns = ['VarName', 'NullCount']\n",
    "na_df[(na_df['NullCount']>0)]"
   ]
  },
  {
   "cell_type": "code",
   "execution_count": 101,
   "id": "4cd2da0b",
   "metadata": {},
   "outputs": [
    {
     "name": "stdout",
     "output_type": "stream",
     "text": [
      "23     3889\n",
      "22     3633\n",
      "24     3549\n",
      "25     3037\n",
      "26     2477\n",
      "27     2138\n",
      "28     1854\n",
      "29     1687\n",
      "30     1316\n",
      "21     1229\n",
      "31     1142\n",
      "32      964\n",
      "33      856\n",
      "34      709\n",
      "35      620\n",
      "36      548\n",
      "37      478\n",
      "38      373\n",
      "39      302\n",
      "40      271\n",
      "41      241\n",
      "42      188\n",
      "43      164\n",
      "44      141\n",
      "45      108\n",
      "47       94\n",
      "46       94\n",
      "48       75\n",
      "50       52\n",
      "49       49\n",
      "51       39\n",
      "52       36\n",
      "53       30\n",
      "54       24\n",
      "55       20\n",
      "58       19\n",
      "56       15\n",
      "20       15\n",
      "57       15\n",
      "60       15\n",
      "66        9\n",
      "65        9\n",
      "61        9\n",
      "62        7\n",
      "64        7\n",
      "70        7\n",
      "59        5\n",
      "69        5\n",
      "73        3\n",
      "144       3\n",
      "63        3\n",
      "123       2\n",
      "80        1\n",
      "76        1\n",
      "78        1\n",
      "94        1\n",
      "67        1\n",
      "84        1\n",
      "Name: Age, dtype: int64\n"
     ]
    }
   ],
   "source": [
    "print(df['Age'].value_counts())"
   ]
  },
  {
   "cell_type": "markdown",
   "id": "97c6fe4f",
   "metadata": {},
   "source": [
    "By looking at the value count of age, it seems that while most borrowers are in their 20s, there are some odd borrowers who are more than 100 years old. This is clearly a mistake and needs to corrected before inputing the dataset in the model."
   ]
  },
  {
   "cell_type": "code",
   "execution_count": 102,
   "id": "55615cdd",
   "metadata": {},
   "outputs": [],
   "source": [
    "df = df[df['Age']<100]"
   ]
  },
  {
   "cell_type": "code",
   "execution_count": 103,
   "id": "4d6ff11a",
   "metadata": {},
   "outputs": [
    {
     "name": "stdout",
     "output_type": "stream",
     "text": [
      "23    3889\n",
      "22    3633\n",
      "24    3549\n",
      "25    3037\n",
      "26    2477\n",
      "27    2138\n",
      "28    1854\n",
      "29    1687\n",
      "30    1316\n",
      "21    1229\n",
      "31    1142\n",
      "32     964\n",
      "33     856\n",
      "34     709\n",
      "35     620\n",
      "36     548\n",
      "37     478\n",
      "38     373\n",
      "39     302\n",
      "40     271\n",
      "41     241\n",
      "42     188\n",
      "43     164\n",
      "44     141\n",
      "45     108\n",
      "46      94\n",
      "47      94\n",
      "48      75\n",
      "50      52\n",
      "49      49\n",
      "51      39\n",
      "52      36\n",
      "53      30\n",
      "54      24\n",
      "55      20\n",
      "58      19\n",
      "56      15\n",
      "20      15\n",
      "57      15\n",
      "60      15\n",
      "65       9\n",
      "66       9\n",
      "61       9\n",
      "64       7\n",
      "62       7\n",
      "70       7\n",
      "59       5\n",
      "69       5\n",
      "73       3\n",
      "63       3\n",
      "80       1\n",
      "78       1\n",
      "94       1\n",
      "76       1\n",
      "84       1\n",
      "67       1\n",
      "Name: Age, dtype: int64\n"
     ]
    }
   ],
   "source": [
    "print(df['Age'].value_counts())"
   ]
  },
  {
   "cell_type": "code",
   "execution_count": 104,
   "id": "4040baf9",
   "metadata": {},
   "outputs": [
    {
     "name": "stdout",
     "output_type": "stream",
     "text": [
      "0.000000      4105\n",
      "2.000000      3848\n",
      "3.000000      3456\n",
      "5.000000      2946\n",
      "1.000000      2915\n",
      "4.000000      2872\n",
      "6.000000      2666\n",
      "7.000000      2195\n",
      "8.000000      1687\n",
      "9.000000      1367\n",
      "4.789686       895\n",
      "11.000000      740\n",
      "10.000000      696\n",
      "12.000000      574\n",
      "13.000000      426\n",
      "14.000000      335\n",
      "15.000000      238\n",
      "16.000000      165\n",
      "17.000000      129\n",
      "18.000000      104\n",
      "19.000000       64\n",
      "20.000000       42\n",
      "21.000000       38\n",
      "22.000000       19\n",
      "24.000000       10\n",
      "23.000000       10\n",
      "25.000000        8\n",
      "26.000000        6\n",
      "27.000000        5\n",
      "31.000000        4\n",
      "28.000000        3\n",
      "123.000000       2\n",
      "30.000000        2\n",
      "34.000000        1\n",
      "29.000000        1\n",
      "41.000000        1\n",
      "38.000000        1\n",
      "Name: Years_Employed, dtype: int64\n"
     ]
    }
   ],
   "source": [
    "print(df['Years_Employed'].value_counts())"
   ]
  },
  {
   "cell_type": "markdown",
   "id": "aa54d54e",
   "metadata": {},
   "source": [
    "Looking at Years employed numbers it seems that there borrowers who have more than 40 Years of employment. we need to also get rid of those borrowers from the dataset."
   ]
  },
  {
   "cell_type": "code",
   "execution_count": 105,
   "id": "ab3bfb8f",
   "metadata": {},
   "outputs": [],
   "source": [
    "df = df[df['Years_Employed']<=40]"
   ]
  },
  {
   "cell_type": "code",
   "execution_count": 106,
   "id": "83a710c4",
   "metadata": {},
   "outputs": [
    {
     "name": "stdout",
     "output_type": "stream",
     "text": [
      "       Age  Income home ownership  Years_Employed           intent grade  \\\n",
      "1       21    9600            OWN             5.0        EDUCATION     B   \n",
      "2       25    9600       MORTGAGE             1.0          MEDICAL     C   \n",
      "3       23   65500           RENT             4.0          MEDICAL     C   \n",
      "4       24   54400           RENT             8.0          MEDICAL     C   \n",
      "5       21    9900            OWN             2.0          VENTURE     A   \n",
      "...    ...     ...            ...             ...              ...   ...   \n",
      "32576   57   53000       MORTGAGE             1.0         PERSONAL     C   \n",
      "32577   54  120000       MORTGAGE             4.0         PERSONAL     A   \n",
      "32578   65   76000           RENT             3.0  HOMEIMPROVEMENT     B   \n",
      "32579   56  150000       MORTGAGE             5.0         PERSONAL     B   \n",
      "32580   66   42000           RENT             2.0          MEDICAL     B   \n",
      "\n",
      "       Amount   Rate  Default  Loan_Percent_Income default on file  \\\n",
      "1        1000  11.14        0                 0.10               N   \n",
      "2        5500  12.87        1                 0.57               N   \n",
      "3       35000  15.23        1                 0.53               N   \n",
      "4       35000  14.27        1                 0.55               Y   \n",
      "5        2500   7.14        1                 0.25               N   \n",
      "...       ...    ...      ...                  ...             ...   \n",
      "32576    5800  13.16        0                 0.11               N   \n",
      "32577   17625   7.49        0                 0.15               N   \n",
      "32578   35000  10.99        1                 0.46               N   \n",
      "32579   15000  11.48        0                 0.10               N   \n",
      "32580    6475   9.99        0                 0.15               N   \n",
      "\n",
      "       Credit_History  \n",
      "1                   2  \n",
      "2                   3  \n",
      "3                   2  \n",
      "4                   4  \n",
      "5                   2  \n",
      "...               ...  \n",
      "32576              30  \n",
      "32577              19  \n",
      "32578              28  \n",
      "32579              26  \n",
      "32580              30  \n",
      "\n",
      "[32573 rows x 12 columns]\n"
     ]
    }
   ],
   "source": [
    "print(df)"
   ]
  },
  {
   "cell_type": "markdown",
   "id": "adb57638",
   "metadata": {},
   "source": [
    "# General Trends"
   ]
  },
  {
   "cell_type": "markdown",
   "id": "2bb668fb",
   "metadata": {},
   "source": [
    "Common trends of the dataset as it relates to age, years employed, credit history, default, and rate."
   ]
  },
  {
   "cell_type": "code",
   "execution_count": 107,
   "id": "0b37a550",
   "metadata": {},
   "outputs": [
    {
     "data": {
      "text/plain": [
       "<AxesSubplot:xlabel='Age', ylabel='Rate'>"
      ]
     },
     "execution_count": 107,
     "metadata": {},
     "output_type": "execute_result"
    },
    {
     "data": {
      "image/png": "[encoded data removed]",
      "text/plain": [
       "<Figure size 432x288 with 1 Axes>"
      ]
     },
     "metadata": {
      "needs_background": "light"
     },
     "output_type": "display_data"
    }
   ],
   "source": [
    "sns.scatterplot(data=df, x=\"Age\", y=\"Rate\", hue=\"Default\")"
   ]
  },
  {
   "cell_type": "code",
   "execution_count": 108,
   "id": "f8d5392f",
   "metadata": {},
   "outputs": [
    {
     "data": {
      "text/plain": [
       "<AxesSubplot:xlabel='Years_Employed', ylabel='Rate'>"
      ]
     },
     "execution_count": 108,
     "metadata": {},
     "output_type": "execute_result"
    },
    {
     "data": {
      "image/png": "[encoded data removed]",
      "text/plain": [
       "<Figure size 432x288 with 1 Axes>"
      ]
     },
     "metadata": {
      "needs_background": "light"
     },
     "output_type": "display_data"
    }
   ],
   "source": [
    "sns.scatterplot(data=df, x=\"Years_Employed\", y=\"Rate\", hue=\"Default\")"
   ]
  },
  {
   "cell_type": "code",
   "execution_count": 109,
   "id": "6a296e71",
   "metadata": {},
   "outputs": [
    {
     "data": {
      "text/plain": [
       "<AxesSubplot:xlabel='Credit_History', ylabel='Rate'>"
      ]
     },
     "execution_count": 109,
     "metadata": {},
     "output_type": "execute_result"
    },
    {
     "data": {
      "image/png": "[encoded data removed]",
      "text/plain": [
       "<Figure size 432x288 with 1 Axes>"
      ]
     },
     "metadata": {
      "needs_background": "light"
     },
     "output_type": "display_data"
    }
   ],
   "source": [
    "sns.scatterplot(data=df, x=\"Credit_History\", y=\"Rate\", hue=\"Default\")"
   ]
  },
  {
   "cell_type": "code",
   "execution_count": 110,
   "id": "73404b2a",
   "metadata": {},
   "outputs": [
    {
     "data": {
      "text/plain": [
       "<AxesSubplot:xlabel='Amount', ylabel='Rate'>"
      ]
     },
     "execution_count": 110,
     "metadata": {},
     "output_type": "execute_result"
    },
    {
     "data": {
      "image/png": "[encoded data removed]",
      "text/plain": [
       "<Figure size 432x288 with 1 Axes>"
      ]
     },
     "metadata": {
      "needs_background": "light"
     },
     "output_type": "display_data"
    }
   ],
   "source": [
    "sns.scatterplot(data=df, x=\"Amount\", y=\"Rate\", hue=\"Default\")"
   ]
  },
  {
   "cell_type": "markdown",
   "id": "c7190fc9",
   "metadata": {},
   "source": [
    "From the trends above it can be seen that those that had more credit history, were older, and had more years of employment generally tended to get loans with lower interest rates. Also loans with higher amounts had lower rates"
   ]
  },
  {
   "cell_type": "code",
   "execution_count": 111,
   "id": "6071355a",
   "metadata": {},
   "outputs": [
    {
     "data": {
      "text/plain": [
       "<AxesSubplot:>"
      ]
     },
     "execution_count": 111,
     "metadata": {},
     "output_type": "execute_result"
    },
    {
     "data": {
      "image/png": "[encoded data removed]",
      "text/plain": [
       "<Figure size 432x288 with 2 Axes>"
      ]
     },
     "metadata": {
      "needs_background": "light"
     },
     "output_type": "display_data"
    }
   ],
   "source": [
    "sns.heatmap(df.corr(), annot = True)"
   ]
  },
  {
   "cell_type": "markdown",
   "id": "4c7a1e87",
   "metadata": {},
   "source": [
    "From the Correlation map above the following obervations can be made:\n",
    "\n",
    "1. Income, Credit History, Years Employed, and Age have a negative correlation with default which means that the higher these are the less likely a person is going to default\n",
    "\n",
    "2. Loan(% Income), Rate, and amount of loan have a positive correlation with default which means that the higher these are the more likely a person is going to default"
   ]
  },
  {
   "cell_type": "markdown",
   "id": "409951a2",
   "metadata": {},
   "source": [
    "# Creating Dummy Variables"
   ]
  },
  {
   "cell_type": "markdown",
   "id": "0e8962b7",
   "metadata": {},
   "source": [
    "By Looking at the data types of the columns in this dataset there are four columns that aren't numerical. They are intent, home ownership, grade, and default of file. These are the columns for which dummy variables will need to be created. Before doing that it important to see the value counts for these columns."
   ]
  },
  {
   "cell_type": "code",
   "execution_count": 112,
   "id": "3c7a5471",
   "metadata": {},
   "outputs": [
    {
     "name": "stdout",
     "output_type": "stream",
     "text": [
      "A    10775\n",
      "B    10448\n",
      "C     6456\n",
      "D     3625\n",
      "E      964\n",
      "F      241\n",
      "G       64\n",
      "Name: grade, dtype: int64\n"
     ]
    }
   ],
   "source": [
    "print(df['grade'].value_counts())"
   ]
  },
  {
   "cell_type": "code",
   "execution_count": 113,
   "id": "e3134047",
   "metadata": {},
   "outputs": [
    {
     "name": "stdout",
     "output_type": "stream",
     "text": [
      "EDUCATION            6451\n",
      "MEDICAL              6070\n",
      "VENTURE              5716\n",
      "PERSONAL             5519\n",
      "DEBTCONSOLIDATION    5212\n",
      "HOMEIMPROVEMENT      3605\n",
      "Name: intent, dtype: int64\n"
     ]
    }
   ],
   "source": [
    "print(df['intent'].value_counts())"
   ]
  },
  {
   "cell_type": "code",
   "execution_count": 114,
   "id": "598a3994",
   "metadata": {},
   "outputs": [
    {
     "name": "stdout",
     "output_type": "stream",
     "text": [
      "RENT        16441\n",
      "MORTGAGE    13441\n",
      "OWN          2584\n",
      "OTHER         107\n",
      "Name: home ownership, dtype: int64\n"
     ]
    }
   ],
   "source": [
    "print(df['home ownership'].value_counts())"
   ]
  },
  {
   "cell_type": "code",
   "execution_count": 115,
   "id": "ad68928b",
   "metadata": {},
   "outputs": [
    {
     "name": "stdout",
     "output_type": "stream",
     "text": [
      "N    26829\n",
      "Y     5744\n",
      "Name: default on file, dtype: int64\n"
     ]
    }
   ],
   "source": [
    "print(df['default on file'].value_counts())"
   ]
  },
  {
   "cell_type": "code",
   "execution_count": 116,
   "id": "52a364e3",
   "metadata": {},
   "outputs": [],
   "source": [
    "Features = ['grade', 'intent', 'home ownership', 'default on file']\n",
    "df_features = df[Features]"
   ]
  },
  {
   "cell_type": "code",
   "execution_count": 117,
   "id": "ace5ef7a",
   "metadata": {},
   "outputs": [],
   "source": [
    "dummy = pd.get_dummies(df_features, drop_first=True)"
   ]
  },
  {
   "cell_type": "code",
   "execution_count": 118,
   "id": "8b464c97",
   "metadata": {},
   "outputs": [
    {
     "data": {
      "text/html": [
       "<div>\n",
       "<style scoped>\n",
       "    .dataframe tbody tr th:only-of-type {\n",
       "        vertical-align: middle;\n",
       "    }\n",
       "\n",
       "    .dataframe tbody tr th {\n",
       "        vertical-align: top;\n",
       "    }\n",
       "\n",
       "    .dataframe thead th {\n",
       "        text-align: right;\n",
       "    }\n",
       "</style>\n",
       "<table border=\"1\" class=\"dataframe\">\n",
       "  <thead>\n",
       "    <tr style=\"text-align: right;\">\n",
       "      <th></th>\n",
       "      <th>grade_B</th>\n",
       "      <th>grade_C</th>\n",
       "      <th>grade_D</th>\n",
       "      <th>grade_E</th>\n",
       "      <th>grade_F</th>\n",
       "      <th>grade_G</th>\n",
       "      <th>intent_EDUCATION</th>\n",
       "      <th>intent_HOMEIMPROVEMENT</th>\n",
       "      <th>intent_MEDICAL</th>\n",
       "      <th>intent_PERSONAL</th>\n",
       "      <th>intent_VENTURE</th>\n",
       "      <th>home ownership_OTHER</th>\n",
       "      <th>home ownership_OWN</th>\n",
       "      <th>home ownership_RENT</th>\n",
       "      <th>default on file_Y</th>\n",
       "    </tr>\n",
       "  </thead>\n",
       "  <tbody>\n",
       "    <tr>\n",
       "      <th>1</th>\n",
       "      <td>1</td>\n",
       "      <td>0</td>\n",
       "      <td>0</td>\n",
       "      <td>0</td>\n",
       "      <td>0</td>\n",
       "      <td>0</td>\n",
       "      <td>1</td>\n",
       "      <td>0</td>\n",
       "      <td>0</td>\n",
       "      <td>0</td>\n",
       "      <td>0</td>\n",
       "      <td>0</td>\n",
       "      <td>1</td>\n",
       "      <td>0</td>\n",
       "      <td>0</td>\n",
       "    </tr>\n",
       "    <tr>\n",
       "      <th>2</th>\n",
       "      <td>0</td>\n",
       "      <td>1</td>\n",
       "      <td>0</td>\n",
       "      <td>0</td>\n",
       "      <td>0</td>\n",
       "      <td>0</td>\n",
       "      <td>0</td>\n",
       "      <td>0</td>\n",
       "      <td>1</td>\n",
       "      <td>0</td>\n",
       "      <td>0</td>\n",
       "      <td>0</td>\n",
       "      <td>0</td>\n",
       "      <td>0</td>\n",
       "      <td>0</td>\n",
       "    </tr>\n",
       "    <tr>\n",
       "      <th>3</th>\n",
       "      <td>0</td>\n",
       "      <td>1</td>\n",
       "      <td>0</td>\n",
       "      <td>0</td>\n",
       "      <td>0</td>\n",
       "      <td>0</td>\n",
       "      <td>0</td>\n",
       "      <td>0</td>\n",
       "      <td>1</td>\n",
       "      <td>0</td>\n",
       "      <td>0</td>\n",
       "      <td>0</td>\n",
       "      <td>0</td>\n",
       "      <td>1</td>\n",
       "      <td>0</td>\n",
       "    </tr>\n",
       "    <tr>\n",
       "      <th>4</th>\n",
       "      <td>0</td>\n",
       "      <td>1</td>\n",
       "      <td>0</td>\n",
       "      <td>0</td>\n",
       "      <td>0</td>\n",
       "      <td>0</td>\n",
       "      <td>0</td>\n",
       "      <td>0</td>\n",
       "      <td>1</td>\n",
       "      <td>0</td>\n",
       "      <td>0</td>\n",
       "      <td>0</td>\n",
       "      <td>0</td>\n",
       "      <td>1</td>\n",
       "      <td>1</td>\n",
       "    </tr>\n",
       "    <tr>\n",
       "      <th>5</th>\n",
       "      <td>0</td>\n",
       "      <td>0</td>\n",
       "      <td>0</td>\n",
       "      <td>0</td>\n",
       "      <td>0</td>\n",
       "      <td>0</td>\n",
       "      <td>0</td>\n",
       "      <td>0</td>\n",
       "      <td>0</td>\n",
       "      <td>0</td>\n",
       "      <td>1</td>\n",
       "      <td>0</td>\n",
       "      <td>1</td>\n",
       "      <td>0</td>\n",
       "      <td>0</td>\n",
       "    </tr>\n",
       "  </tbody>\n",
       "</table>\n",
       "</div>"
      ],
      "text/plain": [
       "   grade_B  grade_C  grade_D  grade_E  grade_F  grade_G  intent_EDUCATION  \\\n",
       "1        1        0        0        0        0        0                 1   \n",
       "2        0        1        0        0        0        0                 0   \n",
       "3        0        1        0        0        0        0                 0   \n",
       "4        0        1        0        0        0        0                 0   \n",
       "5        0        0        0        0        0        0                 0   \n",
       "\n",
       "   intent_HOMEIMPROVEMENT  intent_MEDICAL  intent_PERSONAL  intent_VENTURE  \\\n",
       "1                       0               0                0               0   \n",
       "2                       0               1                0               0   \n",
       "3                       0               1                0               0   \n",
       "4                       0               1                0               0   \n",
       "5                       0               0                0               1   \n",
       "\n",
       "   home ownership_OTHER  home ownership_OWN  home ownership_RENT  \\\n",
       "1                     0                   1                    0   \n",
       "2                     0                   0                    0   \n",
       "3                     0                   0                    1   \n",
       "4                     0                   0                    1   \n",
       "5                     0                   1                    0   \n",
       "\n",
       "   default on file_Y  \n",
       "1                  0  \n",
       "2                  0  \n",
       "3                  0  \n",
       "4                  1  \n",
       "5                  0  "
      ]
     },
     "execution_count": 118,
     "metadata": {},
     "output_type": "execute_result"
    }
   ],
   "source": [
    "dummy.head()"
   ]
  },
  {
   "cell_type": "code",
   "execution_count": 119,
   "id": "2cf9c1e7",
   "metadata": {},
   "outputs": [],
   "source": [
    "df = pd.concat([df, dummy], axis=1)"
   ]
  },
  {
   "cell_type": "code",
   "execution_count": 120,
   "id": "9ae4522c",
   "metadata": {},
   "outputs": [
    {
     "name": "stdout",
     "output_type": "stream",
     "text": [
      "       Age  Income home ownership  Years_Employed           intent grade  \\\n",
      "1       21    9600            OWN             5.0        EDUCATION     B   \n",
      "2       25    9600       MORTGAGE             1.0          MEDICAL     C   \n",
      "3       23   65500           RENT             4.0          MEDICAL     C   \n",
      "4       24   54400           RENT             8.0          MEDICAL     C   \n",
      "5       21    9900            OWN             2.0          VENTURE     A   \n",
      "...    ...     ...            ...             ...              ...   ...   \n",
      "32576   57   53000       MORTGAGE             1.0         PERSONAL     C   \n",
      "32577   54  120000       MORTGAGE             4.0         PERSONAL     A   \n",
      "32578   65   76000           RENT             3.0  HOMEIMPROVEMENT     B   \n",
      "32579   56  150000       MORTGAGE             5.0         PERSONAL     B   \n",
      "32580   66   42000           RENT             2.0          MEDICAL     B   \n",
      "\n",
      "       Amount   Rate  Default  Loan_Percent_Income  ... grade_G  \\\n",
      "1        1000  11.14        0                 0.10  ...       0   \n",
      "2        5500  12.87        1                 0.57  ...       0   \n",
      "3       35000  15.23        1                 0.53  ...       0   \n",
      "4       35000  14.27        1                 0.55  ...       0   \n",
      "5        2500   7.14        1                 0.25  ...       0   \n",
      "...       ...    ...      ...                  ...  ...     ...   \n",
      "32576    5800  13.16        0                 0.11  ...       0   \n",
      "32577   17625   7.49        0                 0.15  ...       0   \n",
      "32578   35000  10.99        1                 0.46  ...       0   \n",
      "32579   15000  11.48        0                 0.10  ...       0   \n",
      "32580    6475   9.99        0                 0.15  ...       0   \n",
      "\n",
      "       intent_EDUCATION  intent_HOMEIMPROVEMENT  intent_MEDICAL  \\\n",
      "1                     1                       0               0   \n",
      "2                     0                       0               1   \n",
      "3                     0                       0               1   \n",
      "4                     0                       0               1   \n",
      "5                     0                       0               0   \n",
      "...                 ...                     ...             ...   \n",
      "32576                 0                       0               0   \n",
      "32577                 0                       0               0   \n",
      "32578                 0                       1               0   \n",
      "32579                 0                       0               0   \n",
      "32580                 0                       0               1   \n",
      "\n",
      "       intent_PERSONAL  intent_VENTURE  home ownership_OTHER  \\\n",
      "1                    0               0                     0   \n",
      "2                    0               0                     0   \n",
      "3                    0               0                     0   \n",
      "4                    0               0                     0   \n",
      "5                    0               1                     0   \n",
      "...                ...             ...                   ...   \n",
      "32576                1               0                     0   \n",
      "32577                1               0                     0   \n",
      "32578                0               0                     0   \n",
      "32579                1               0                     0   \n",
      "32580                0               0                     0   \n",
      "\n",
      "       home ownership_OWN  home ownership_RENT  default on file_Y  \n",
      "1                       1                    0                  0  \n",
      "2                       0                    0                  0  \n",
      "3                       0                    1                  0  \n",
      "4                       0                    1                  1  \n",
      "5                       1                    0                  0  \n",
      "...                   ...                  ...                ...  \n",
      "32576                   0                    0                  0  \n",
      "32577                   0                    0                  0  \n",
      "32578                   0                    1                  0  \n",
      "32579                   0                    0                  0  \n",
      "32580                   0                    1                  0  \n",
      "\n",
      "[32573 rows x 27 columns]\n"
     ]
    }
   ],
   "source": [
    "print(df)"
   ]
  },
  {
   "cell_type": "code",
   "execution_count": 121,
   "id": "5b38b1d4",
   "metadata": {},
   "outputs": [
    {
     "name": "stdout",
     "output_type": "stream",
     "text": [
      "Default                   1.000000\n",
      "grade_D                   0.318865\n",
      "Loan_Percent_Income       0.316034\n",
      "Rate                      0.297993\n",
      "home ownership_RENT       0.238437\n",
      "grade_E                   0.180128\n",
      "default on file_Y         0.178995\n",
      "grade_F                   0.101845\n",
      "Amount                    0.083970\n",
      "grade_G                   0.082311\n",
      "intent_MEDICAL            0.056620\n",
      "intent_HOMEIMPROVEMENT    0.036591\n",
      "home ownership_OTHER      0.012541\n",
      "grade_C                  -0.012980\n",
      "intent_PERSONAL          -0.021236\n",
      "Credit_History           -0.023736\n",
      "Age                      -0.033144\n",
      "intent_EDUCATION         -0.055307\n",
      "intent_VENTURE           -0.078197\n",
      "grade_B                  -0.092144\n",
      "Years_Employed           -0.094748\n",
      "home ownership_OWN       -0.101986\n",
      "Income                   -0.272089\n",
      "Name: Default, dtype: float64\n"
     ]
    }
   ],
   "source": [
    "cor = df.corr(method = 'spearman')['Default'].sort_values(ascending =False)\n",
    "print(cor)"
   ]
  },
  {
   "cell_type": "markdown",
   "id": "141424c3",
   "metadata": {},
   "source": [
    "# Data Distribution"
   ]
  },
  {
   "cell_type": "markdown",
   "id": "b93c7931",
   "metadata": {},
   "source": [
    "The next step is to see how the nuemrical data is distributed and see if what if any kind of scalling is necessary for pre-processing."
   ]
  },
  {
   "cell_type": "code",
   "execution_count": 122,
   "id": "6b8acdf5",
   "metadata": {},
   "outputs": [
    {
     "data": {
      "text/plain": [
       "array([[<AxesSubplot:title={'center':'Age'}>]], dtype=object)"
      ]
     },
     "execution_count": 122,
     "metadata": {},
     "output_type": "execute_result"
    },
    {
     "data": {
      "image/png": "[encoded data removed]",
      "text/plain": [
       "<Figure size 432x288 with 1 Axes>"
      ]
     },
     "metadata": {
      "needs_background": "light"
     },
     "output_type": "display_data"
    }
   ],
   "source": [
    "df.hist(column = 'Age')"
   ]
  },
  {
   "cell_type": "code",
   "execution_count": 123,
   "id": "d13d1a80",
   "metadata": {},
   "outputs": [
    {
     "data": {
      "text/plain": [
       "array([[<AxesSubplot:title={'center':'Years_Employed'}>]], dtype=object)"
      ]
     },
     "execution_count": 123,
     "metadata": {},
     "output_type": "execute_result"
    },
    {
     "data": {
      "image/png": "[encoded data removed]",
      "text/plain": [
       "<Figure size 432x288 with 1 Axes>"
      ]
     },
     "metadata": {
      "needs_background": "light"
     },
     "output_type": "display_data"
    }
   ],
   "source": [
    "df.hist(column = 'Years_Employed')"
   ]
  },
  {
   "cell_type": "code",
   "execution_count": 124,
   "id": "67c7d62c",
   "metadata": {},
   "outputs": [
    {
     "data": {
      "text/plain": [
       "array([[<AxesSubplot:title={'center':'Rate'}>]], dtype=object)"
      ]
     },
     "execution_count": 124,
     "metadata": {},
     "output_type": "execute_result"
    },
    {
     "data": {
      "image/png": "[encoded data removed]",
      "text/plain": [
       "<Figure size 432x288 with 1 Axes>"
      ]
     },
     "metadata": {
      "needs_background": "light"
     },
     "output_type": "display_data"
    }
   ],
   "source": [
    "df.hist(column = 'Rate')"
   ]
  },
  {
   "cell_type": "code",
   "execution_count": 125,
   "id": "6eb624c8",
   "metadata": {},
   "outputs": [
    {
     "data": {
      "text/plain": [
       "array([[<AxesSubplot:title={'center':'Credit_History'}>]], dtype=object)"
      ]
     },
     "execution_count": 125,
     "metadata": {},
     "output_type": "execute_result"
    },
    {
     "data": {
      "image/png": "[encoded data removed]",
      "text/plain": [
       "<Figure size 432x288 with 1 Axes>"
      ]
     },
     "metadata": {
      "needs_background": "light"
     },
     "output_type": "display_data"
    }
   ],
   "source": [
    "df.hist(column = 'Credit_History')"
   ]
  },
  {
   "cell_type": "code",
   "execution_count": 126,
   "id": "d4492d43",
   "metadata": {},
   "outputs": [
    {
     "data": {
      "text/plain": [
       "array([[<AxesSubplot:title={'center':'Amount'}>]], dtype=object)"
      ]
     },
     "execution_count": 126,
     "metadata": {},
     "output_type": "execute_result"
    },
    {
     "data": {
      "image/png": "[encoded data removed]",
      "text/plain": [
       "<Figure size 432x288 with 1 Axes>"
      ]
     },
     "metadata": {
      "needs_background": "light"
     },
     "output_type": "display_data"
    }
   ],
   "source": [
    "df.hist(column = 'Amount')"
   ]
  },
  {
   "cell_type": "code",
   "execution_count": 127,
   "id": "35d3ea2e",
   "metadata": {},
   "outputs": [
    {
     "data": {
      "text/plain": [
       "array([[<AxesSubplot:title={'center':'Loan_Percent_Income'}>]],\n",
       "      dtype=object)"
      ]
     },
     "execution_count": 127,
     "metadata": {},
     "output_type": "execute_result"
    },
    {
     "data": {
      "image/png": "[encoded data removed]",
      "text/plain": [
       "<Figure size 432x288 with 1 Axes>"
      ]
     },
     "metadata": {
      "needs_background": "light"
     },
     "output_type": "display_data"
    }
   ],
   "source": [
    "df.hist(column = 'Loan_Percent_Income')"
   ]
  },
  {
   "cell_type": "code",
   "execution_count": 128,
   "id": "23222651",
   "metadata": {},
   "outputs": [
    {
     "data": {
      "text/plain": [
       "array([[<AxesSubplot:title={'center':'Income'}>]], dtype=object)"
      ]
     },
     "execution_count": 128,
     "metadata": {},
     "output_type": "execute_result"
    },
    {
     "data": {
      "image/png": "[encoded data removed]",
      "text/plain": [
       "<Figure size 432x288 with 1 Axes>"
      ]
     },
     "metadata": {
      "needs_background": "light"
     },
     "output_type": "display_data"
    }
   ],
   "source": [
    "df.hist(column = 'Income')"
   ]
  },
  {
   "cell_type": "markdown",
   "id": "fbfff18d",
   "metadata": {},
   "source": [
    "A quick look at the numerical columns and it can be seen that they are skewed to the left. But since the main dependent variable, default, is binary we need to used a logistic regression. As a result of which scaling the data isn't necessary."
   ]
  },
  {
   "cell_type": "code",
   "execution_count": 129,
   "id": "6fea2442",
   "metadata": {},
   "outputs": [
    {
     "data": {
      "text/html": [
       "<div>\n",
       "<style scoped>\n",
       "    .dataframe tbody tr th:only-of-type {\n",
       "        vertical-align: middle;\n",
       "    }\n",
       "\n",
       "    .dataframe tbody tr th {\n",
       "        vertical-align: top;\n",
       "    }\n",
       "\n",
       "    .dataframe thead th {\n",
       "        text-align: right;\n",
       "    }\n",
       "</style>\n",
       "<table border=\"1\" class=\"dataframe\">\n",
       "  <thead>\n",
       "    <tr style=\"text-align: right;\">\n",
       "      <th></th>\n",
       "      <th>Age</th>\n",
       "      <th>Income</th>\n",
       "      <th>Years_Employed</th>\n",
       "      <th>Amount</th>\n",
       "      <th>Rate</th>\n",
       "      <th>Default</th>\n",
       "      <th>Loan_Percent_Income</th>\n",
       "      <th>Credit_History</th>\n",
       "      <th>grade_B</th>\n",
       "      <th>grade_C</th>\n",
       "      <th>...</th>\n",
       "      <th>grade_G</th>\n",
       "      <th>intent_EDUCATION</th>\n",
       "      <th>intent_HOMEIMPROVEMENT</th>\n",
       "      <th>intent_MEDICAL</th>\n",
       "      <th>intent_PERSONAL</th>\n",
       "      <th>intent_VENTURE</th>\n",
       "      <th>home ownership_OTHER</th>\n",
       "      <th>home ownership_OWN</th>\n",
       "      <th>home ownership_RENT</th>\n",
       "      <th>default on file_Y</th>\n",
       "    </tr>\n",
       "  </thead>\n",
       "  <tbody>\n",
       "    <tr>\n",
       "      <th>count</th>\n",
       "      <td>32573.000000</td>\n",
       "      <td>3.257300e+04</td>\n",
       "      <td>32573.000000</td>\n",
       "      <td>32573.000000</td>\n",
       "      <td>32573.000000</td>\n",
       "      <td>32573.000000</td>\n",
       "      <td>32573.000000</td>\n",
       "      <td>32573.000000</td>\n",
       "      <td>32573.000000</td>\n",
       "      <td>32573.000000</td>\n",
       "      <td>...</td>\n",
       "      <td>32573.000000</td>\n",
       "      <td>32573.000000</td>\n",
       "      <td>32573.000000</td>\n",
       "      <td>32573.000000</td>\n",
       "      <td>32573.000000</td>\n",
       "      <td>32573.000000</td>\n",
       "      <td>32573.000000</td>\n",
       "      <td>32573.000000</td>\n",
       "      <td>32573.000000</td>\n",
       "      <td>32573.000000</td>\n",
       "    </tr>\n",
       "    <tr>\n",
       "      <th>mean</th>\n",
       "      <td>27.716882</td>\n",
       "      <td>6.587903e+04</td>\n",
       "      <td>4.781161</td>\n",
       "      <td>9588.220305</td>\n",
       "      <td>11.009577</td>\n",
       "      <td>0.218187</td>\n",
       "      <td>0.170205</td>\n",
       "      <td>5.803518</td>\n",
       "      <td>0.320756</td>\n",
       "      <td>0.198201</td>\n",
       "      <td>...</td>\n",
       "      <td>0.001965</td>\n",
       "      <td>0.198047</td>\n",
       "      <td>0.110674</td>\n",
       "      <td>0.186351</td>\n",
       "      <td>0.169435</td>\n",
       "      <td>0.175483</td>\n",
       "      <td>0.003285</td>\n",
       "      <td>0.079330</td>\n",
       "      <td>0.504743</td>\n",
       "      <td>0.176342</td>\n",
       "    </tr>\n",
       "    <tr>\n",
       "      <th>std</th>\n",
       "      <td>6.198825</td>\n",
       "      <td>5.253265e+04</td>\n",
       "      <td>3.974126</td>\n",
       "      <td>6320.241199</td>\n",
       "      <td>3.081650</td>\n",
       "      <td>0.413021</td>\n",
       "      <td>0.106755</td>\n",
       "      <td>4.052540</td>\n",
       "      <td>0.466775</td>\n",
       "      <td>0.398650</td>\n",
       "      <td>...</td>\n",
       "      <td>0.044283</td>\n",
       "      <td>0.398534</td>\n",
       "      <td>0.313733</td>\n",
       "      <td>0.389395</td>\n",
       "      <td>0.375141</td>\n",
       "      <td>0.380385</td>\n",
       "      <td>0.057221</td>\n",
       "      <td>0.270257</td>\n",
       "      <td>0.499985</td>\n",
       "      <td>0.381117</td>\n",
       "    </tr>\n",
       "    <tr>\n",
       "      <th>min</th>\n",
       "      <td>20.000000</td>\n",
       "      <td>4.000000e+03</td>\n",
       "      <td>0.000000</td>\n",
       "      <td>500.000000</td>\n",
       "      <td>5.420000</td>\n",
       "      <td>0.000000</td>\n",
       "      <td>0.000000</td>\n",
       "      <td>2.000000</td>\n",
       "      <td>0.000000</td>\n",
       "      <td>0.000000</td>\n",
       "      <td>...</td>\n",
       "      <td>0.000000</td>\n",
       "      <td>0.000000</td>\n",
       "      <td>0.000000</td>\n",
       "      <td>0.000000</td>\n",
       "      <td>0.000000</td>\n",
       "      <td>0.000000</td>\n",
       "      <td>0.000000</td>\n",
       "      <td>0.000000</td>\n",
       "      <td>0.000000</td>\n",
       "      <td>0.000000</td>\n",
       "    </tr>\n",
       "    <tr>\n",
       "      <th>25%</th>\n",
       "      <td>23.000000</td>\n",
       "      <td>3.850000e+04</td>\n",
       "      <td>2.000000</td>\n",
       "      <td>5000.000000</td>\n",
       "      <td>8.490000</td>\n",
       "      <td>0.000000</td>\n",
       "      <td>0.090000</td>\n",
       "      <td>3.000000</td>\n",
       "      <td>0.000000</td>\n",
       "      <td>0.000000</td>\n",
       "      <td>...</td>\n",
       "      <td>0.000000</td>\n",
       "      <td>0.000000</td>\n",
       "      <td>0.000000</td>\n",
       "      <td>0.000000</td>\n",
       "      <td>0.000000</td>\n",
       "      <td>0.000000</td>\n",
       "      <td>0.000000</td>\n",
       "      <td>0.000000</td>\n",
       "      <td>0.000000</td>\n",
       "      <td>0.000000</td>\n",
       "    </tr>\n",
       "    <tr>\n",
       "      <th>50%</th>\n",
       "      <td>26.000000</td>\n",
       "      <td>5.500000e+04</td>\n",
       "      <td>4.000000</td>\n",
       "      <td>8000.000000</td>\n",
       "      <td>10.990000</td>\n",
       "      <td>0.000000</td>\n",
       "      <td>0.150000</td>\n",
       "      <td>4.000000</td>\n",
       "      <td>0.000000</td>\n",
       "      <td>0.000000</td>\n",
       "      <td>...</td>\n",
       "      <td>0.000000</td>\n",
       "      <td>0.000000</td>\n",
       "      <td>0.000000</td>\n",
       "      <td>0.000000</td>\n",
       "      <td>0.000000</td>\n",
       "      <td>0.000000</td>\n",
       "      <td>0.000000</td>\n",
       "      <td>0.000000</td>\n",
       "      <td>1.000000</td>\n",
       "      <td>0.000000</td>\n",
       "    </tr>\n",
       "    <tr>\n",
       "      <th>75%</th>\n",
       "      <td>30.000000</td>\n",
       "      <td>7.920000e+04</td>\n",
       "      <td>7.000000</td>\n",
       "      <td>12200.000000</td>\n",
       "      <td>13.110000</td>\n",
       "      <td>0.000000</td>\n",
       "      <td>0.230000</td>\n",
       "      <td>8.000000</td>\n",
       "      <td>1.000000</td>\n",
       "      <td>0.000000</td>\n",
       "      <td>...</td>\n",
       "      <td>0.000000</td>\n",
       "      <td>0.000000</td>\n",
       "      <td>0.000000</td>\n",
       "      <td>0.000000</td>\n",
       "      <td>0.000000</td>\n",
       "      <td>0.000000</td>\n",
       "      <td>0.000000</td>\n",
       "      <td>0.000000</td>\n",
       "      <td>1.000000</td>\n",
       "      <td>0.000000</td>\n",
       "    </tr>\n",
       "    <tr>\n",
       "      <th>max</th>\n",
       "      <td>94.000000</td>\n",
       "      <td>2.039784e+06</td>\n",
       "      <td>38.000000</td>\n",
       "      <td>35000.000000</td>\n",
       "      <td>23.220000</td>\n",
       "      <td>1.000000</td>\n",
       "      <td>0.830000</td>\n",
       "      <td>30.000000</td>\n",
       "      <td>1.000000</td>\n",
       "      <td>1.000000</td>\n",
       "      <td>...</td>\n",
       "      <td>1.000000</td>\n",
       "      <td>1.000000</td>\n",
       "      <td>1.000000</td>\n",
       "      <td>1.000000</td>\n",
       "      <td>1.000000</td>\n",
       "      <td>1.000000</td>\n",
       "      <td>1.000000</td>\n",
       "      <td>1.000000</td>\n",
       "      <td>1.000000</td>\n",
       "      <td>1.000000</td>\n",
       "    </tr>\n",
       "  </tbody>\n",
       "</table>\n",
       "<p>8 rows × 23 columns</p>\n",
       "</div>"
      ],
      "text/plain": [
       "                Age        Income  Years_Employed        Amount          Rate  \\\n",
       "count  32573.000000  3.257300e+04    32573.000000  32573.000000  32573.000000   \n",
       "mean      27.716882  6.587903e+04        4.781161   9588.220305     11.009577   \n",
       "std        6.198825  5.253265e+04        3.974126   6320.241199      3.081650   \n",
       "min       20.000000  4.000000e+03        0.000000    500.000000      5.420000   \n",
       "25%       23.000000  3.850000e+04        2.000000   5000.000000      8.490000   \n",
       "50%       26.000000  5.500000e+04        4.000000   8000.000000     10.990000   \n",
       "75%       30.000000  7.920000e+04        7.000000  12200.000000     13.110000   \n",
       "max       94.000000  2.039784e+06       38.000000  35000.000000     23.220000   \n",
       "\n",
       "            Default  Loan_Percent_Income  Credit_History       grade_B  \\\n",
       "count  32573.000000         32573.000000    32573.000000  32573.000000   \n",
       "mean       0.218187             0.170205        5.803518      0.320756   \n",
       "std        0.413021             0.106755        4.052540      0.466775   \n",
       "min        0.000000             0.000000        2.000000      0.000000   \n",
       "25%        0.000000             0.090000        3.000000      0.000000   \n",
       "50%        0.000000             0.150000        4.000000      0.000000   \n",
       "75%        0.000000             0.230000        8.000000      1.000000   \n",
       "max        1.000000             0.830000       30.000000      1.000000   \n",
       "\n",
       "            grade_C  ...       grade_G  intent_EDUCATION  \\\n",
       "count  32573.000000  ...  32573.000000      32573.000000   \n",
       "mean       0.198201  ...      0.001965          0.198047   \n",
       "std        0.398650  ...      0.044283          0.398534   \n",
       "min        0.000000  ...      0.000000          0.000000   \n",
       "25%        0.000000  ...      0.000000          0.000000   \n",
       "50%        0.000000  ...      0.000000          0.000000   \n",
       "75%        0.000000  ...      0.000000          0.000000   \n",
       "max        1.000000  ...      1.000000          1.000000   \n",
       "\n",
       "       intent_HOMEIMPROVEMENT  intent_MEDICAL  intent_PERSONAL  \\\n",
       "count            32573.000000    32573.000000     32573.000000   \n",
       "mean                 0.110674        0.186351         0.169435   \n",
       "std                  0.313733        0.389395         0.375141   \n",
       "min                  0.000000        0.000000         0.000000   \n",
       "25%                  0.000000        0.000000         0.000000   \n",
       "50%                  0.000000        0.000000         0.000000   \n",
       "75%                  0.000000        0.000000         0.000000   \n",
       "max                  1.000000        1.000000         1.000000   \n",
       "\n",
       "       intent_VENTURE  home ownership_OTHER  home ownership_OWN  \\\n",
       "count    32573.000000          32573.000000        32573.000000   \n",
       "mean         0.175483              0.003285            0.079330   \n",
       "std          0.380385              0.057221            0.270257   \n",
       "min          0.000000              0.000000            0.000000   \n",
       "25%          0.000000              0.000000            0.000000   \n",
       "50%          0.000000              0.000000            0.000000   \n",
       "75%          0.000000              0.000000            0.000000   \n",
       "max          1.000000              1.000000            1.000000   \n",
       "\n",
       "       home ownership_RENT  default on file_Y  \n",
       "count         32573.000000       32573.000000  \n",
       "mean              0.504743           0.176342  \n",
       "std               0.499985           0.381117  \n",
       "min               0.000000           0.000000  \n",
       "25%               0.000000           0.000000  \n",
       "50%               1.000000           0.000000  \n",
       "75%               1.000000           0.000000  \n",
       "max               1.000000           1.000000  \n",
       "\n",
       "[8 rows x 23 columns]"
      ]
     },
     "execution_count": 129,
     "metadata": {},
     "output_type": "execute_result"
    }
   ],
   "source": [
    "df.describe()"
   ]
  },
  {
   "cell_type": "markdown",
   "id": "a159d2e6",
   "metadata": {},
   "source": [
    "# Train/Split Data"
   ]
  },
  {
   "cell_type": "markdown",
   "id": "254200c2",
   "metadata": {},
   "source": [
    "Before we model out data it is import to split the data into train and test sets. I will use a 80-20 Train-test split."
   ]
  },
  {
   "cell_type": "code",
   "execution_count": 130,
   "id": "430bb237",
   "metadata": {},
   "outputs": [],
   "source": [
    "X_train, X_test, y_train, y_test = train_test_split(df.drop(columns='Default'), \n",
    "                                                    df.Default, test_size=0.2, \n",
    "                                                    random_state=50)"
   ]
  },
  {
   "cell_type": "code",
   "execution_count": 131,
   "id": "fcc05a44",
   "metadata": {},
   "outputs": [
    {
     "data": {
      "text/plain": [
       "Age                         int64\n",
       "Income                      int64\n",
       "home ownership             object\n",
       "Years_Employed            float64\n",
       "intent                     object\n",
       "grade                      object\n",
       "Amount                      int64\n",
       "Rate                      float64\n",
       "Loan_Percent_Income       float64\n",
       "default on file            object\n",
       "Credit_History              int64\n",
       "grade_B                     uint8\n",
       "grade_C                     uint8\n",
       "grade_D                     uint8\n",
       "grade_E                     uint8\n",
       "grade_F                     uint8\n",
       "grade_G                     uint8\n",
       "intent_EDUCATION            uint8\n",
       "intent_HOMEIMPROVEMENT      uint8\n",
       "intent_MEDICAL              uint8\n",
       "intent_PERSONAL             uint8\n",
       "intent_VENTURE              uint8\n",
       "home ownership_OTHER        uint8\n",
       "home ownership_OWN          uint8\n",
       "home ownership_RENT         uint8\n",
       "default on file_Y           uint8\n",
       "dtype: object"
      ]
     },
     "execution_count": 131,
     "metadata": {},
     "output_type": "execute_result"
    }
   ],
   "source": [
    "X_train.dtypes\n"
   ]
  },
  {
   "cell_type": "code",
   "execution_count": 132,
   "id": "da583a3c",
   "metadata": {},
   "outputs": [
    {
     "data": {
      "text/plain": [
       "Age                         int64\n",
       "Income                      int64\n",
       "home ownership             object\n",
       "Years_Employed            float64\n",
       "intent                     object\n",
       "grade                      object\n",
       "Amount                      int64\n",
       "Rate                      float64\n",
       "Loan_Percent_Income       float64\n",
       "default on file            object\n",
       "Credit_History              int64\n",
       "grade_B                     uint8\n",
       "grade_C                     uint8\n",
       "grade_D                     uint8\n",
       "grade_E                     uint8\n",
       "grade_F                     uint8\n",
       "grade_G                     uint8\n",
       "intent_EDUCATION            uint8\n",
       "intent_HOMEIMPROVEMENT      uint8\n",
       "intent_MEDICAL              uint8\n",
       "intent_PERSONAL             uint8\n",
       "intent_VENTURE              uint8\n",
       "home ownership_OTHER        uint8\n",
       "home ownership_OWN          uint8\n",
       "home ownership_RENT         uint8\n",
       "default on file_Y           uint8\n",
       "dtype: object"
      ]
     },
     "execution_count": 132,
     "metadata": {},
     "output_type": "execute_result"
    }
   ],
   "source": [
    "X_test.dtypes"
   ]
  },
  {
   "cell_type": "code",
   "execution_count": 133,
   "id": "d0c684e4",
   "metadata": {},
   "outputs": [],
   "source": [
    "# Dropping object columns\n",
    "names_list = ['home ownership', 'intent', 'grade', 'default on file']\n",
    "names_train = X_train[names_list]\n",
    "names_test = X_test[names_list]\n",
    "X_train.drop(columns=names_list, inplace=True)\n",
    "X_test.drop(columns=names_list, inplace=True)\n"
   ]
  },
  {
   "cell_type": "markdown",
   "id": "f47f0e78",
   "metadata": {},
   "source": [
    "# Logistic Regression"
   ]
  },
  {
   "cell_type": "code",
   "execution_count": 134,
   "id": "f90f7a90",
   "metadata": {},
   "outputs": [
    {
     "data": {
      "text/plain": [
       "LogisticRegression()"
      ]
     },
     "execution_count": 134,
     "metadata": {},
     "output_type": "execute_result"
    }
   ],
   "source": [
    "LG = LogisticRegression()\n",
    "\n",
    "LG.fit(X_train, y_train)\n",
    "\n"
   ]
  },
  {
   "cell_type": "code",
   "execution_count": 135,
   "id": "16511441",
   "metadata": {},
   "outputs": [
    {
     "data": {
      "text/plain": [
       "-2.148416749067799e-09"
      ]
     },
     "execution_count": 135,
     "metadata": {},
     "output_type": "execute_result"
    }
   ],
   "source": [
    "# Intercept of Logistic Regression\n",
    "\n",
    "LG.intercept_[0]"
   ]
  },
  {
   "cell_type": "code",
   "execution_count": 136,
   "id": "8c596811",
   "metadata": {},
   "outputs": [
    {
     "data": {
      "text/plain": [
       "array([-5.18931663e-08, -4.06783915e-05, -2.45179014e-08,  1.06479971e-04,\n",
       "        8.48250139e-08,  2.62841269e-09, -7.56052227e-09, -5.55508467e-09,\n",
       "       -1.22181467e-09,  1.08548397e-08,  3.38420324e-09,  9.89860446e-10,\n",
       "        4.05365643e-10, -2.91035222e-09,  1.68541017e-09,  1.23392867e-09,\n",
       "       -1.06083726e-09, -3.65533973e-09,  9.67316755e-11, -4.04728858e-09,\n",
       "        8.18999973e-09,  7.02606159e-09])"
      ]
     },
     "execution_count": 136,
     "metadata": {},
     "output_type": "execute_result"
    }
   ],
   "source": [
    "# Coefficients of Logistic Regression\n",
    "\n",
    "LG.coef_[0]"
   ]
  },
  {
   "cell_type": "code",
   "execution_count": 137,
   "id": "552f771f",
   "metadata": {},
   "outputs": [
    {
     "data": {
      "text/plain": [
       "0.8033768227168073"
      ]
     },
     "execution_count": 137,
     "metadata": {},
     "output_type": "execute_result"
    }
   ],
   "source": [
    "LG.score(X_test, y_test)"
   ]
  },
  {
   "cell_type": "code",
   "execution_count": 138,
   "id": "f4d30215",
   "metadata": {},
   "outputs": [
    {
     "name": "stdout",
     "output_type": "stream",
     "text": [
      "[[5005   90]\n",
      " [1191  229]]\n"
     ]
    }
   ],
   "source": [
    "# Confusion Matrix For Logistic Regression\n",
    "y_LG_Pred = LG.predict(X_test)\n",
    "LG_CM = confusion_matrix(y_test, y_LG_Pred)\n",
    "print(LG_CM)"
   ]
  },
  {
   "cell_type": "code",
   "execution_count": 139,
   "id": "3eca9445",
   "metadata": {},
   "outputs": [
    {
     "name": "stdout",
     "output_type": "stream",
     "text": [
      "              precision    recall  f1-score   support\n",
      "\n",
      "           0       0.81      0.98      0.89      5095\n",
      "           1       0.72      0.16      0.26      1420\n",
      "\n",
      "    accuracy                           0.80      6515\n",
      "   macro avg       0.76      0.57      0.57      6515\n",
      "weighted avg       0.79      0.80      0.75      6515\n",
      "\n"
     ]
    }
   ],
   "source": [
    "# Classfication Report for Logistic Regression\n",
    "\n",
    "print(classification_report(y_test,y_LG_Pred))"
   ]
  },
  {
   "cell_type": "code",
   "execution_count": 140,
   "id": "f05fcfaf",
   "metadata": {},
   "outputs": [
    {
     "name": "stdout",
     "output_type": "stream",
     "text": [
      "Training accuracy of Logistic Regression model is:0.80\n",
      "Testing accuracy of Logistic Regression model is:0.80\n"
     ]
    }
   ],
   "source": [
    "# Training and Test Accuracy for Logistic regression\n",
    "\n",
    "Training_accuracy = LG.score(X_train, y_train)\n",
    "Testing_accuracy = LG.score(X_test, y_test)\n",
    "\n",
    "print(\"Training accuracy of Logistic Regression model is:{:0.2f}\".format(Training_accuracy))\n",
    "\n",
    "print(\"Testing accuracy of Logistic Regression model is:{:0.2f}\".format(Testing_accuracy))\n",
    "\n",
    "\n"
   ]
  },
  {
   "cell_type": "markdown",
   "id": "d808ae44",
   "metadata": {},
   "source": [
    "Based on the results of the accuracy score, it seems that our Logistic Regression model, give us 80% accuracy. While this is a relative high accuracy, it is also important to explore other models to see if they would have a higher accuracy."
   ]
  },
  {
   "cell_type": "markdown",
   "id": "84b262d3",
   "metadata": {},
   "source": [
    "# kNN Model"
   ]
  },
  {
   "cell_type": "code",
   "execution_count": 141,
   "id": "56cdc9eb",
   "metadata": {},
   "outputs": [
    {
     "data": {
      "text/plain": [
       "KNeighborsClassifier(n_neighbors=150)"
      ]
     },
     "execution_count": 141,
     "metadata": {},
     "output_type": "execute_result"
    }
   ],
   "source": [
    "kNN = KNeighborsClassifier(n_neighbors=150)\n",
    "\n",
    "kNN.fit(X_train, y_train)\n",
    "\n"
   ]
  },
  {
   "cell_type": "code",
   "execution_count": 142,
   "id": "8953ed83",
   "metadata": {},
   "outputs": [
    {
     "data": {
      "text/plain": [
       "0.8359171143514965"
      ]
     },
     "execution_count": 142,
     "metadata": {},
     "output_type": "execute_result"
    }
   ],
   "source": [
    "kNN.score(X_test, y_test)"
   ]
  },
  {
   "cell_type": "code",
   "execution_count": 143,
   "id": "c1c97daf",
   "metadata": {},
   "outputs": [
    {
     "name": "stdout",
     "output_type": "stream",
     "text": [
      "[[4901  194]\n",
      " [ 875  545]]\n"
     ]
    }
   ],
   "source": [
    "y_kNN_Pred = kNN.predict(X_test)\n",
    "kNN_CM = confusion_matrix(y_test, y_kNN_Pred)\n",
    "print(kNN_CM)"
   ]
  },
  {
   "cell_type": "code",
   "execution_count": 144,
   "id": "edf1cac4",
   "metadata": {},
   "outputs": [
    {
     "name": "stdout",
     "output_type": "stream",
     "text": [
      "              precision    recall  f1-score   support\n",
      "\n",
      "           0       0.85      0.96      0.90      5095\n",
      "           1       0.74      0.38      0.50      1420\n",
      "\n",
      "    accuracy                           0.84      6515\n",
      "   macro avg       0.79      0.67      0.70      6515\n",
      "weighted avg       0.82      0.84      0.82      6515\n",
      "\n"
     ]
    }
   ],
   "source": [
    "print(classification_report(y_test,y_kNN_Pred))"
   ]
  },
  {
   "cell_type": "code",
   "execution_count": 145,
   "id": "b051f5f4",
   "metadata": {},
   "outputs": [
    {
     "name": "stdout",
     "output_type": "stream",
     "text": [
      "Training accuracy of kNN model is:0.84\n",
      "Testing accuracy of kNN model is:0.84\n"
     ]
    }
   ],
   "source": [
    "# Training and Test Accuracy for kNN\n",
    "\n",
    "Training_accuracy_kNN = kNN.score(X_train, y_train)\n",
    "Testing_accuracy_kNN = kNN.score(X_test, y_test)\n",
    "\n",
    "print(\"Training accuracy of kNN model is:{:0.2f}\".format(Training_accuracy_kNN))\n",
    "\n",
    "print(\"Testing accuracy of kNN model is:{:0.2f}\".format(Testing_accuracy_kNN))\n",
    "\n",
    "\n"
   ]
  },
  {
   "cell_type": "markdown",
   "id": "b30be0d7",
   "metadata": {},
   "source": [
    "Based on the results of the accuracy score, it seems that the kNN model, give us 84% accuracy. While this is higher than the Logistic Regression Model, it is important to test out the Decision Tree Classifier model."
   ]
  },
  {
   "cell_type": "markdown",
   "id": "fe46a053",
   "metadata": {},
   "source": [
    "# Decision Tree Classifier"
   ]
  },
  {
   "cell_type": "markdown",
   "id": "19c0a94b",
   "metadata": {},
   "source": [
    "For the Decision Tree, two models will be used: Entrophy and Gini. "
   ]
  },
  {
   "cell_type": "code",
   "execution_count": 146,
   "id": "732256ca",
   "metadata": {},
   "outputs": [
    {
     "data": {
      "text/plain": [
       "DecisionTreeClassifier(criterion='entropy', random_state=1234)"
      ]
     },
     "execution_count": 146,
     "metadata": {},
     "output_type": "execute_result"
    }
   ],
   "source": [
    "# entrophy Decision Tree\n",
    "DT_1 = DecisionTreeClassifier(criterion=\"entropy\", random_state = 1234)\n",
    "\n",
    "DT_1.fit(X_train, y_train)\n",
    "\n"
   ]
  },
  {
   "cell_type": "code",
   "execution_count": 147,
   "id": "50b18518",
   "metadata": {},
   "outputs": [
    {
     "data": {
      "text/plain": [
       "0.8990023023791252"
      ]
     },
     "execution_count": 147,
     "metadata": {},
     "output_type": "execute_result"
    }
   ],
   "source": [
    "DT_1.score(X_test, y_test)"
   ]
  },
  {
   "cell_type": "code",
   "execution_count": 148,
   "id": "095d52ed",
   "metadata": {},
   "outputs": [
    {
     "name": "stdout",
     "output_type": "stream",
     "text": [
      "[[4746  349]\n",
      " [ 309 1111]]\n"
     ]
    }
   ],
   "source": [
    "y_DT_1_Pred = DT_1.predict(X_test)\n",
    "DT_1_CM = confusion_matrix(y_test, y_DT_1_Pred)\n",
    "print(DT_1_CM)"
   ]
  },
  {
   "cell_type": "code",
   "execution_count": 149,
   "id": "ac83a302",
   "metadata": {},
   "outputs": [
    {
     "name": "stdout",
     "output_type": "stream",
     "text": [
      "              precision    recall  f1-score   support\n",
      "\n",
      "           0       0.94      0.93      0.94      5095\n",
      "           1       0.76      0.78      0.77      1420\n",
      "\n",
      "    accuracy                           0.90      6515\n",
      "   macro avg       0.85      0.86      0.85      6515\n",
      "weighted avg       0.90      0.90      0.90      6515\n",
      "\n"
     ]
    }
   ],
   "source": [
    "print(classification_report(y_test,y_DT_1_Pred))"
   ]
  },
  {
   "cell_type": "code",
   "execution_count": 150,
   "id": "d5bcba00",
   "metadata": {},
   "outputs": [
    {
     "name": "stdout",
     "output_type": "stream",
     "text": [
      "Training accuracy of Decision Tree with Entrophy model is:1.00\n",
      "Testing accuracy of Decision Tree with Entrophy model is:0.90\n"
     ]
    }
   ],
   "source": [
    "\n",
    "Training_accuracy_DT_1 = DT_1.score(X_train, y_train)\n",
    "Testing_accuracy_DT_1 = DT_1.score(X_test, y_test)\n",
    "\n",
    "print(\"Training accuracy of Decision Tree with Entrophy model is:{:0.2f}\".format(Training_accuracy_DT_1))\n",
    "\n",
    "print(\"Testing accuracy of Decision Tree with Entrophy model is:{:0.2f}\".format(Testing_accuracy_DT_1))\n",
    "\n",
    "\n"
   ]
  },
  {
   "cell_type": "markdown",
   "id": "5998fd08",
   "metadata": {},
   "source": [
    "Using the Decision Tree classifier with the entrophy method has an accuracy of 90%"
   ]
  },
  {
   "cell_type": "code",
   "execution_count": 151,
   "id": "75ce5766",
   "metadata": {},
   "outputs": [
    {
     "data": {
      "text/plain": [
       "DecisionTreeClassifier(random_state=1234)"
      ]
     },
     "execution_count": 151,
     "metadata": {},
     "output_type": "execute_result"
    }
   ],
   "source": [
    "#Gini Decision Tree\n",
    "\n",
    "# entrophy Decision Tree\n",
    "DT_2 = DecisionTreeClassifier(criterion=\"gini\", random_state = 1234)\n",
    "\n",
    "DT_2.fit(X_train, y_train)"
   ]
  },
  {
   "cell_type": "code",
   "execution_count": 152,
   "id": "fb4d4304",
   "metadata": {},
   "outputs": [
    {
     "data": {
      "text/plain": [
       "0.8867229470452801"
      ]
     },
     "execution_count": 152,
     "metadata": {},
     "output_type": "execute_result"
    }
   ],
   "source": [
    "DT_2.score(X_test, y_test)"
   ]
  },
  {
   "cell_type": "code",
   "execution_count": 153,
   "id": "8e6f3755",
   "metadata": {},
   "outputs": [
    {
     "name": "stdout",
     "output_type": "stream",
     "text": [
      "[[4691  404]\n",
      " [ 334 1086]]\n"
     ]
    }
   ],
   "source": [
    "y_DT_2_Pred = DT_2.predict(X_test)\n",
    "DT_2_CM = confusion_matrix(y_test, y_DT_2_Pred)\n",
    "print(DT_2_CM)"
   ]
  },
  {
   "cell_type": "code",
   "execution_count": 154,
   "id": "1a796b45",
   "metadata": {},
   "outputs": [
    {
     "name": "stdout",
     "output_type": "stream",
     "text": [
      "              precision    recall  f1-score   support\n",
      "\n",
      "           0       0.93      0.92      0.93      5095\n",
      "           1       0.73      0.76      0.75      1420\n",
      "\n",
      "    accuracy                           0.89      6515\n",
      "   macro avg       0.83      0.84      0.84      6515\n",
      "weighted avg       0.89      0.89      0.89      6515\n",
      "\n"
     ]
    }
   ],
   "source": [
    "print(classification_report(y_test,y_DT_2_Pred))"
   ]
  },
  {
   "cell_type": "code",
   "execution_count": 155,
   "id": "250fde71",
   "metadata": {},
   "outputs": [
    {
     "name": "stdout",
     "output_type": "stream",
     "text": [
      "Training accuracy of Decision Tree with Gini model is:1.00\n",
      "Testing accuracy of Decision Tree with Gini model is:0.89\n"
     ]
    }
   ],
   "source": [
    "Training_accuracy_DT_2 = DT_2.score(X_train, y_train)\n",
    "Testing_accuracy_DT_2 = DT_2.score(X_test, y_test)\n",
    "\n",
    "print(\"Training accuracy of Decision Tree with Gini model is:{:0.2f}\".format(Training_accuracy_DT_2))\n",
    "\n",
    "print(\"Testing accuracy of Decision Tree with Gini model is:{:0.2f}\".format(Testing_accuracy_DT_2))"
   ]
  },
  {
   "cell_type": "markdown",
   "id": "da1e2e98",
   "metadata": {},
   "source": [
    "It seems that the decision tree model, is the most accurate of the three."
   ]
  },
  {
   "cell_type": "markdown",
   "id": "4430003b",
   "metadata": {},
   "source": [
    "# ROC-AUC Curves"
   ]
  },
  {
   "cell_type": "code",
   "execution_count": 156,
   "id": "ae037457",
   "metadata": {},
   "outputs": [
    {
     "data": {
      "image/png": "[encoded data removed]",
      "text/plain": [
       "<Figure size 432x288 with 1 Axes>"
      ]
     },
     "metadata": {
      "needs_background": "light"
     },
     "output_type": "display_data"
    }
   ],
   "source": [
    "#ROC-AUC For all models\n",
    "\n",
    "# Logistic Regression\n",
    "Log_ROC = roc_auc_score(y_test, y_LG_Pred)\n",
    "fpr, tpr, thresh = metrics.roc_curve(y_test, LG.predict_proba(X_test)[:,1])\n",
    "plt.plot(fpr, tpr, label=f'Logistic Regression, AUC = {str(round(Log_ROC,3))}')\n",
    "\n",
    "#kNN\n",
    "kNN_ROC = roc_auc_score(y_test, y_kNN_Pred)\n",
    "fpr, tpr, thresh = metrics.roc_curve(y_test, kNN.predict_proba(X_test)[:,1])\n",
    "plt.plot(fpr, tpr, label=f'kNN, AUC = {str(round(kNN_ROC,3))}')\n",
    "\n",
    "#Decision Tree with entrophy\n",
    "DT_1_ROC = roc_auc_score(y_test, y_DT_1_Pred)\n",
    "fpr, tpr, thresh = metrics.roc_curve(y_test, DT_1.predict_proba(X_test)[:,1])\n",
    "plt.plot(fpr, tpr, label=f'Decision Tree (Entrophy), AUC = {str(round(DT_1_ROC,3))}')\n",
    "\n",
    "#Decision Tree with gini\n",
    "DT_2_ROC = roc_auc_score(y_test, y_DT_2_Pred)\n",
    "fpr, tpr, thresh = metrics.roc_curve(y_test, DT_2.predict_proba(X_test)[:,1])\n",
    "plt.plot(fpr, tpr, label=f'Decision Tree (Gini), AUC = {str(round(DT_2_ROC,3))}')\n",
    "\n",
    "\n",
    "plt.ylabel(\"True Positive Rate\", fontsize=12)\n",
    "plt.xlabel(\"False Positive Rate\", fontsize=12)\n",
    "plt.title(\"ROC curve\")\n",
    "plt.legend()\n",
    "plt.show()"
   ]
  },
  {
   "cell_type": "markdown",
   "id": "30a1f5cf",
   "metadata": {},
   "source": [
    "Based on the ROC-AUC Curve shown is seems that the best model is Decision Tree using the Entrophy method."
   ]
  },
  {
   "cell_type": "markdown",
   "id": "3c72bc01",
   "metadata": {},
   "source": [
    "# Hypertuning Parameters"
   ]
  },
  {
   "cell_type": "code",
   "execution_count": 157,
   "id": "d3581b5e",
   "metadata": {},
   "outputs": [
    {
     "name": "stderr",
     "output_type": "stream",
     "text": [
      "C:\\Users\\Abhijit Pawar\\anaconda3\\lib\\site-packages\\sklearn\\model_selection\\_validation.py:610: FitFailedWarning: Estimator fit failed. The score on this train-test partition for these parameters will be set to nan. Details: \n",
      "Traceback (most recent call last):\n",
      "  File \"C:\\Users\\Abhijit Pawar\\anaconda3\\lib\\site-packages\\sklearn\\model_selection\\_validation.py\", line 593, in _fit_and_score\n",
      "    estimator.fit(X_train, y_train, **fit_params)\n",
      "  File \"C:\\Users\\Abhijit Pawar\\anaconda3\\lib\\site-packages\\sklearn\\linear_model\\_logistic.py\", line 1306, in fit\n",
      "    solver = _check_solver(self.solver, self.penalty, self.dual)\n",
      "  File \"C:\\Users\\Abhijit Pawar\\anaconda3\\lib\\site-packages\\sklearn\\linear_model\\_logistic.py\", line 443, in _check_solver\n",
      "    raise ValueError(\"Solver %s supports only 'l2' or 'none' penalties, \"\n",
      "ValueError: Solver lbfgs supports only 'l2' or 'none' penalties, got l1 penalty.\n",
      "\n",
      "  warnings.warn(\"Estimator fit failed. The score on this train-test\"\n",
      "C:\\Users\\Abhijit Pawar\\anaconda3\\lib\\site-packages\\sklearn\\model_selection\\_validation.py:610: FitFailedWarning: Estimator fit failed. The score on this train-test partition for these parameters will be set to nan. Details: \n",
      "Traceback (most recent call last):\n",
      "  File \"C:\\Users\\Abhijit Pawar\\anaconda3\\lib\\site-packages\\sklearn\\model_selection\\_validation.py\", line 593, in _fit_and_score\n",
      "    estimator.fit(X_train, y_train, **fit_params)\n",
      "  File \"C:\\Users\\Abhijit Pawar\\anaconda3\\lib\\site-packages\\sklearn\\linear_model\\_logistic.py\", line 1306, in fit\n",
      "    solver = _check_solver(self.solver, self.penalty, self.dual)\n",
      "  File \"C:\\Users\\Abhijit Pawar\\anaconda3\\lib\\site-packages\\sklearn\\linear_model\\_logistic.py\", line 443, in _check_solver\n",
      "    raise ValueError(\"Solver %s supports only 'l2' or 'none' penalties, \"\n",
      "ValueError: Solver lbfgs supports only 'l2' or 'none' penalties, got l1 penalty.\n",
      "\n",
      "  warnings.warn(\"Estimator fit failed. The score on this train-test\"\n",
      "C:\\Users\\Abhijit Pawar\\anaconda3\\lib\\site-packages\\sklearn\\model_selection\\_validation.py:610: FitFailedWarning: Estimator fit failed. The score on this train-test partition for these parameters will be set to nan. Details: \n",
      "Traceback (most recent call last):\n",
      "  File \"C:\\Users\\Abhijit Pawar\\anaconda3\\lib\\site-packages\\sklearn\\model_selection\\_validation.py\", line 593, in _fit_and_score\n",
      "    estimator.fit(X_train, y_train, **fit_params)\n",
      "  File \"C:\\Users\\Abhijit Pawar\\anaconda3\\lib\\site-packages\\sklearn\\linear_model\\_logistic.py\", line 1306, in fit\n",
      "    solver = _check_solver(self.solver, self.penalty, self.dual)\n",
      "  File \"C:\\Users\\Abhijit Pawar\\anaconda3\\lib\\site-packages\\sklearn\\linear_model\\_logistic.py\", line 443, in _check_solver\n",
      "    raise ValueError(\"Solver %s supports only 'l2' or 'none' penalties, \"\n",
      "ValueError: Solver lbfgs supports only 'l2' or 'none' penalties, got l1 penalty.\n",
      "\n",
      "  warnings.warn(\"Estimator fit failed. The score on this train-test\"\n",
      "C:\\Users\\Abhijit Pawar\\anaconda3\\lib\\site-packages\\sklearn\\model_selection\\_validation.py:610: FitFailedWarning: Estimator fit failed. The score on this train-test partition for these parameters will be set to nan. Details: \n",
      "Traceback (most recent call last):\n",
      "  File \"C:\\Users\\Abhijit Pawar\\anaconda3\\lib\\site-packages\\sklearn\\model_selection\\_validation.py\", line 593, in _fit_and_score\n",
      "    estimator.fit(X_train, y_train, **fit_params)\n",
      "  File \"C:\\Users\\Abhijit Pawar\\anaconda3\\lib\\site-packages\\sklearn\\linear_model\\_logistic.py\", line 1306, in fit\n",
      "    solver = _check_solver(self.solver, self.penalty, self.dual)\n",
      "  File \"C:\\Users\\Abhijit Pawar\\anaconda3\\lib\\site-packages\\sklearn\\linear_model\\_logistic.py\", line 443, in _check_solver\n",
      "    raise ValueError(\"Solver %s supports only 'l2' or 'none' penalties, \"\n",
      "ValueError: Solver lbfgs supports only 'l2' or 'none' penalties, got l1 penalty.\n",
      "\n",
      "  warnings.warn(\"Estimator fit failed. The score on this train-test\"\n",
      "C:\\Users\\Abhijit Pawar\\anaconda3\\lib\\site-packages\\sklearn\\model_selection\\_validation.py:610: FitFailedWarning: Estimator fit failed. The score on this train-test partition for these parameters will be set to nan. Details: \n",
      "Traceback (most recent call last):\n",
      "  File \"C:\\Users\\Abhijit Pawar\\anaconda3\\lib\\site-packages\\sklearn\\model_selection\\_validation.py\", line 593, in _fit_and_score\n",
      "    estimator.fit(X_train, y_train, **fit_params)\n",
      "  File \"C:\\Users\\Abhijit Pawar\\anaconda3\\lib\\site-packages\\sklearn\\linear_model\\_logistic.py\", line 1306, in fit\n",
      "    solver = _check_solver(self.solver, self.penalty, self.dual)\n",
      "  File \"C:\\Users\\Abhijit Pawar\\anaconda3\\lib\\site-packages\\sklearn\\linear_model\\_logistic.py\", line 443, in _check_solver\n",
      "    raise ValueError(\"Solver %s supports only 'l2' or 'none' penalties, \"\n",
      "ValueError: Solver lbfgs supports only 'l2' or 'none' penalties, got l1 penalty.\n",
      "\n",
      "  warnings.warn(\"Estimator fit failed. The score on this train-test\"\n",
      "C:\\Users\\Abhijit Pawar\\anaconda3\\lib\\site-packages\\sklearn\\model_selection\\_validation.py:610: FitFailedWarning: Estimator fit failed. The score on this train-test partition for these parameters will be set to nan. Details: \n",
      "Traceback (most recent call last):\n",
      "  File \"C:\\Users\\Abhijit Pawar\\anaconda3\\lib\\site-packages\\sklearn\\model_selection\\_validation.py\", line 593, in _fit_and_score\n",
      "    estimator.fit(X_train, y_train, **fit_params)\n",
      "  File \"C:\\Users\\Abhijit Pawar\\anaconda3\\lib\\site-packages\\sklearn\\linear_model\\_logistic.py\", line 1306, in fit\n",
      "    solver = _check_solver(self.solver, self.penalty, self.dual)\n",
      "  File \"C:\\Users\\Abhijit Pawar\\anaconda3\\lib\\site-packages\\sklearn\\linear_model\\_logistic.py\", line 443, in _check_solver\n",
      "    raise ValueError(\"Solver %s supports only 'l2' or 'none' penalties, \"\n",
      "ValueError: Solver lbfgs supports only 'l2' or 'none' penalties, got l1 penalty.\n",
      "\n",
      "  warnings.warn(\"Estimator fit failed. The score on this train-test\"\n",
      "C:\\Users\\Abhijit Pawar\\anaconda3\\lib\\site-packages\\sklearn\\model_selection\\_validation.py:610: FitFailedWarning: Estimator fit failed. The score on this train-test partition for these parameters will be set to nan. Details: \n",
      "Traceback (most recent call last):\n",
      "  File \"C:\\Users\\Abhijit Pawar\\anaconda3\\lib\\site-packages\\sklearn\\model_selection\\_validation.py\", line 593, in _fit_and_score\n",
      "    estimator.fit(X_train, y_train, **fit_params)\n",
      "  File \"C:\\Users\\Abhijit Pawar\\anaconda3\\lib\\site-packages\\sklearn\\linear_model\\_logistic.py\", line 1306, in fit\n",
      "    solver = _check_solver(self.solver, self.penalty, self.dual)\n",
      "  File \"C:\\Users\\Abhijit Pawar\\anaconda3\\lib\\site-packages\\sklearn\\linear_model\\_logistic.py\", line 443, in _check_solver\n",
      "    raise ValueError(\"Solver %s supports only 'l2' or 'none' penalties, \"\n",
      "ValueError: Solver lbfgs supports only 'l2' or 'none' penalties, got l1 penalty.\n",
      "\n",
      "  warnings.warn(\"Estimator fit failed. The score on this train-test\"\n",
      "C:\\Users\\Abhijit Pawar\\anaconda3\\lib\\site-packages\\sklearn\\model_selection\\_validation.py:610: FitFailedWarning: Estimator fit failed. The score on this train-test partition for these parameters will be set to nan. Details: \n",
      "Traceback (most recent call last):\n",
      "  File \"C:\\Users\\Abhijit Pawar\\anaconda3\\lib\\site-packages\\sklearn\\model_selection\\_validation.py\", line 593, in _fit_and_score\n",
      "    estimator.fit(X_train, y_train, **fit_params)\n",
      "  File \"C:\\Users\\Abhijit Pawar\\anaconda3\\lib\\site-packages\\sklearn\\linear_model\\_logistic.py\", line 1306, in fit\n",
      "    solver = _check_solver(self.solver, self.penalty, self.dual)\n",
      "  File \"C:\\Users\\Abhijit Pawar\\anaconda3\\lib\\site-packages\\sklearn\\linear_model\\_logistic.py\", line 443, in _check_solver\n",
      "    raise ValueError(\"Solver %s supports only 'l2' or 'none' penalties, \"\n",
      "ValueError: Solver lbfgs supports only 'l2' or 'none' penalties, got l1 penalty.\n",
      "\n",
      "  warnings.warn(\"Estimator fit failed. The score on this train-test\"\n",
      "C:\\Users\\Abhijit Pawar\\anaconda3\\lib\\site-packages\\sklearn\\model_selection\\_validation.py:610: FitFailedWarning: Estimator fit failed. The score on this train-test partition for these parameters will be set to nan. Details: \n",
      "Traceback (most recent call last):\n",
      "  File \"C:\\Users\\Abhijit Pawar\\anaconda3\\lib\\site-packages\\sklearn\\model_selection\\_validation.py\", line 593, in _fit_and_score\n",
      "    estimator.fit(X_train, y_train, **fit_params)\n",
      "  File \"C:\\Users\\Abhijit Pawar\\anaconda3\\lib\\site-packages\\sklearn\\linear_model\\_logistic.py\", line 1306, in fit\n",
      "    solver = _check_solver(self.solver, self.penalty, self.dual)\n",
      "  File \"C:\\Users\\Abhijit Pawar\\anaconda3\\lib\\site-packages\\sklearn\\linear_model\\_logistic.py\", line 443, in _check_solver\n",
      "    raise ValueError(\"Solver %s supports only 'l2' or 'none' penalties, \"\n",
      "ValueError: Solver lbfgs supports only 'l2' or 'none' penalties, got l1 penalty.\n",
      "\n",
      "  warnings.warn(\"Estimator fit failed. The score on this train-test\"\n",
      "C:\\Users\\Abhijit Pawar\\anaconda3\\lib\\site-packages\\sklearn\\model_selection\\_validation.py:610: FitFailedWarning: Estimator fit failed. The score on this train-test partition for these parameters will be set to nan. Details: \n",
      "Traceback (most recent call last):\n",
      "  File \"C:\\Users\\Abhijit Pawar\\anaconda3\\lib\\site-packages\\sklearn\\model_selection\\_validation.py\", line 593, in _fit_and_score\n",
      "    estimator.fit(X_train, y_train, **fit_params)\n",
      "  File \"C:\\Users\\Abhijit Pawar\\anaconda3\\lib\\site-packages\\sklearn\\linear_model\\_logistic.py\", line 1306, in fit\n",
      "    solver = _check_solver(self.solver, self.penalty, self.dual)\n",
      "  File \"C:\\Users\\Abhijit Pawar\\anaconda3\\lib\\site-packages\\sklearn\\linear_model\\_logistic.py\", line 443, in _check_solver\n",
      "    raise ValueError(\"Solver %s supports only 'l2' or 'none' penalties, \"\n",
      "ValueError: Solver lbfgs supports only 'l2' or 'none' penalties, got l1 penalty.\n",
      "\n",
      "  warnings.warn(\"Estimator fit failed. The score on this train-test\"\n"
     ]
    },
    {
     "name": "stderr",
     "output_type": "stream",
     "text": [
      "C:\\Users\\Abhijit Pawar\\anaconda3\\lib\\site-packages\\sklearn\\model_selection\\_validation.py:610: FitFailedWarning: Estimator fit failed. The score on this train-test partition for these parameters will be set to nan. Details: \n",
      "Traceback (most recent call last):\n",
      "  File \"C:\\Users\\Abhijit Pawar\\anaconda3\\lib\\site-packages\\sklearn\\model_selection\\_validation.py\", line 593, in _fit_and_score\n",
      "    estimator.fit(X_train, y_train, **fit_params)\n",
      "  File \"C:\\Users\\Abhijit Pawar\\anaconda3\\lib\\site-packages\\sklearn\\linear_model\\_logistic.py\", line 1306, in fit\n",
      "    solver = _check_solver(self.solver, self.penalty, self.dual)\n",
      "  File \"C:\\Users\\Abhijit Pawar\\anaconda3\\lib\\site-packages\\sklearn\\linear_model\\_logistic.py\", line 443, in _check_solver\n",
      "    raise ValueError(\"Solver %s supports only 'l2' or 'none' penalties, \"\n",
      "ValueError: Solver lbfgs supports only 'l2' or 'none' penalties, got l1 penalty.\n",
      "\n",
      "  warnings.warn(\"Estimator fit failed. The score on this train-test\"\n",
      "C:\\Users\\Abhijit Pawar\\anaconda3\\lib\\site-packages\\sklearn\\model_selection\\_validation.py:610: FitFailedWarning: Estimator fit failed. The score on this train-test partition for these parameters will be set to nan. Details: \n",
      "Traceback (most recent call last):\n",
      "  File \"C:\\Users\\Abhijit Pawar\\anaconda3\\lib\\site-packages\\sklearn\\model_selection\\_validation.py\", line 593, in _fit_and_score\n",
      "    estimator.fit(X_train, y_train, **fit_params)\n",
      "  File \"C:\\Users\\Abhijit Pawar\\anaconda3\\lib\\site-packages\\sklearn\\linear_model\\_logistic.py\", line 1306, in fit\n",
      "    solver = _check_solver(self.solver, self.penalty, self.dual)\n",
      "  File \"C:\\Users\\Abhijit Pawar\\anaconda3\\lib\\site-packages\\sklearn\\linear_model\\_logistic.py\", line 443, in _check_solver\n",
      "    raise ValueError(\"Solver %s supports only 'l2' or 'none' penalties, \"\n",
      "ValueError: Solver lbfgs supports only 'l2' or 'none' penalties, got l1 penalty.\n",
      "\n",
      "  warnings.warn(\"Estimator fit failed. The score on this train-test\"\n",
      "C:\\Users\\Abhijit Pawar\\anaconda3\\lib\\site-packages\\sklearn\\model_selection\\_validation.py:610: FitFailedWarning: Estimator fit failed. The score on this train-test partition for these parameters will be set to nan. Details: \n",
      "Traceback (most recent call last):\n",
      "  File \"C:\\Users\\Abhijit Pawar\\anaconda3\\lib\\site-packages\\sklearn\\model_selection\\_validation.py\", line 593, in _fit_and_score\n",
      "    estimator.fit(X_train, y_train, **fit_params)\n",
      "  File \"C:\\Users\\Abhijit Pawar\\anaconda3\\lib\\site-packages\\sklearn\\linear_model\\_logistic.py\", line 1306, in fit\n",
      "    solver = _check_solver(self.solver, self.penalty, self.dual)\n",
      "  File \"C:\\Users\\Abhijit Pawar\\anaconda3\\lib\\site-packages\\sklearn\\linear_model\\_logistic.py\", line 443, in _check_solver\n",
      "    raise ValueError(\"Solver %s supports only 'l2' or 'none' penalties, \"\n",
      "ValueError: Solver lbfgs supports only 'l2' or 'none' penalties, got l1 penalty.\n",
      "\n",
      "  warnings.warn(\"Estimator fit failed. The score on this train-test\"\n",
      "C:\\Users\\Abhijit Pawar\\anaconda3\\lib\\site-packages\\sklearn\\model_selection\\_validation.py:610: FitFailedWarning: Estimator fit failed. The score on this train-test partition for these parameters will be set to nan. Details: \n",
      "Traceback (most recent call last):\n",
      "  File \"C:\\Users\\Abhijit Pawar\\anaconda3\\lib\\site-packages\\sklearn\\model_selection\\_validation.py\", line 593, in _fit_and_score\n",
      "    estimator.fit(X_train, y_train, **fit_params)\n",
      "  File \"C:\\Users\\Abhijit Pawar\\anaconda3\\lib\\site-packages\\sklearn\\linear_model\\_logistic.py\", line 1306, in fit\n",
      "    solver = _check_solver(self.solver, self.penalty, self.dual)\n",
      "  File \"C:\\Users\\Abhijit Pawar\\anaconda3\\lib\\site-packages\\sklearn\\linear_model\\_logistic.py\", line 443, in _check_solver\n",
      "    raise ValueError(\"Solver %s supports only 'l2' or 'none' penalties, \"\n",
      "ValueError: Solver lbfgs supports only 'l2' or 'none' penalties, got l1 penalty.\n",
      "\n",
      "  warnings.warn(\"Estimator fit failed. The score on this train-test\"\n",
      "C:\\Users\\Abhijit Pawar\\anaconda3\\lib\\site-packages\\sklearn\\model_selection\\_validation.py:610: FitFailedWarning: Estimator fit failed. The score on this train-test partition for these parameters will be set to nan. Details: \n",
      "Traceback (most recent call last):\n",
      "  File \"C:\\Users\\Abhijit Pawar\\anaconda3\\lib\\site-packages\\sklearn\\model_selection\\_validation.py\", line 593, in _fit_and_score\n",
      "    estimator.fit(X_train, y_train, **fit_params)\n",
      "  File \"C:\\Users\\Abhijit Pawar\\anaconda3\\lib\\site-packages\\sklearn\\linear_model\\_logistic.py\", line 1306, in fit\n",
      "    solver = _check_solver(self.solver, self.penalty, self.dual)\n",
      "  File \"C:\\Users\\Abhijit Pawar\\anaconda3\\lib\\site-packages\\sklearn\\linear_model\\_logistic.py\", line 443, in _check_solver\n",
      "    raise ValueError(\"Solver %s supports only 'l2' or 'none' penalties, \"\n",
      "ValueError: Solver lbfgs supports only 'l2' or 'none' penalties, got l1 penalty.\n",
      "\n",
      "  warnings.warn(\"Estimator fit failed. The score on this train-test\"\n",
      "C:\\Users\\Abhijit Pawar\\anaconda3\\lib\\site-packages\\sklearn\\model_selection\\_validation.py:610: FitFailedWarning: Estimator fit failed. The score on this train-test partition for these parameters will be set to nan. Details: \n",
      "Traceback (most recent call last):\n",
      "  File \"C:\\Users\\Abhijit Pawar\\anaconda3\\lib\\site-packages\\sklearn\\model_selection\\_validation.py\", line 593, in _fit_and_score\n",
      "    estimator.fit(X_train, y_train, **fit_params)\n",
      "  File \"C:\\Users\\Abhijit Pawar\\anaconda3\\lib\\site-packages\\sklearn\\linear_model\\_logistic.py\", line 1306, in fit\n",
      "    solver = _check_solver(self.solver, self.penalty, self.dual)\n",
      "  File \"C:\\Users\\Abhijit Pawar\\anaconda3\\lib\\site-packages\\sklearn\\linear_model\\_logistic.py\", line 443, in _check_solver\n",
      "    raise ValueError(\"Solver %s supports only 'l2' or 'none' penalties, \"\n",
      "ValueError: Solver lbfgs supports only 'l2' or 'none' penalties, got l1 penalty.\n",
      "\n",
      "  warnings.warn(\"Estimator fit failed. The score on this train-test\"\n",
      "C:\\Users\\Abhijit Pawar\\anaconda3\\lib\\site-packages\\sklearn\\model_selection\\_validation.py:610: FitFailedWarning: Estimator fit failed. The score on this train-test partition for these parameters will be set to nan. Details: \n",
      "Traceback (most recent call last):\n",
      "  File \"C:\\Users\\Abhijit Pawar\\anaconda3\\lib\\site-packages\\sklearn\\model_selection\\_validation.py\", line 593, in _fit_and_score\n",
      "    estimator.fit(X_train, y_train, **fit_params)\n",
      "  File \"C:\\Users\\Abhijit Pawar\\anaconda3\\lib\\site-packages\\sklearn\\linear_model\\_logistic.py\", line 1306, in fit\n",
      "    solver = _check_solver(self.solver, self.penalty, self.dual)\n",
      "  File \"C:\\Users\\Abhijit Pawar\\anaconda3\\lib\\site-packages\\sklearn\\linear_model\\_logistic.py\", line 443, in _check_solver\n",
      "    raise ValueError(\"Solver %s supports only 'l2' or 'none' penalties, \"\n",
      "ValueError: Solver lbfgs supports only 'l2' or 'none' penalties, got l1 penalty.\n",
      "\n",
      "  warnings.warn(\"Estimator fit failed. The score on this train-test\"\n",
      "C:\\Users\\Abhijit Pawar\\anaconda3\\lib\\site-packages\\sklearn\\model_selection\\_validation.py:610: FitFailedWarning: Estimator fit failed. The score on this train-test partition for these parameters will be set to nan. Details: \n",
      "Traceback (most recent call last):\n",
      "  File \"C:\\Users\\Abhijit Pawar\\anaconda3\\lib\\site-packages\\sklearn\\model_selection\\_validation.py\", line 593, in _fit_and_score\n",
      "    estimator.fit(X_train, y_train, **fit_params)\n",
      "  File \"C:\\Users\\Abhijit Pawar\\anaconda3\\lib\\site-packages\\sklearn\\linear_model\\_logistic.py\", line 1306, in fit\n",
      "    solver = _check_solver(self.solver, self.penalty, self.dual)\n",
      "  File \"C:\\Users\\Abhijit Pawar\\anaconda3\\lib\\site-packages\\sklearn\\linear_model\\_logistic.py\", line 443, in _check_solver\n",
      "    raise ValueError(\"Solver %s supports only 'l2' or 'none' penalties, \"\n",
      "ValueError: Solver lbfgs supports only 'l2' or 'none' penalties, got l1 penalty.\n",
      "\n",
      "  warnings.warn(\"Estimator fit failed. The score on this train-test\"\n",
      "C:\\Users\\Abhijit Pawar\\anaconda3\\lib\\site-packages\\sklearn\\model_selection\\_validation.py:610: FitFailedWarning: Estimator fit failed. The score on this train-test partition for these parameters will be set to nan. Details: \n",
      "Traceback (most recent call last):\n",
      "  File \"C:\\Users\\Abhijit Pawar\\anaconda3\\lib\\site-packages\\sklearn\\model_selection\\_validation.py\", line 593, in _fit_and_score\n",
      "    estimator.fit(X_train, y_train, **fit_params)\n",
      "  File \"C:\\Users\\Abhijit Pawar\\anaconda3\\lib\\site-packages\\sklearn\\linear_model\\_logistic.py\", line 1306, in fit\n",
      "    solver = _check_solver(self.solver, self.penalty, self.dual)\n",
      "  File \"C:\\Users\\Abhijit Pawar\\anaconda3\\lib\\site-packages\\sklearn\\linear_model\\_logistic.py\", line 443, in _check_solver\n",
      "    raise ValueError(\"Solver %s supports only 'l2' or 'none' penalties, \"\n",
      "ValueError: Solver lbfgs supports only 'l2' or 'none' penalties, got l1 penalty.\n",
      "\n",
      "  warnings.warn(\"Estimator fit failed. The score on this train-test\"\n",
      "C:\\Users\\Abhijit Pawar\\anaconda3\\lib\\site-packages\\sklearn\\model_selection\\_validation.py:610: FitFailedWarning: Estimator fit failed. The score on this train-test partition for these parameters will be set to nan. Details: \n",
      "Traceback (most recent call last):\n",
      "  File \"C:\\Users\\Abhijit Pawar\\anaconda3\\lib\\site-packages\\sklearn\\model_selection\\_validation.py\", line 593, in _fit_and_score\n",
      "    estimator.fit(X_train, y_train, **fit_params)\n",
      "  File \"C:\\Users\\Abhijit Pawar\\anaconda3\\lib\\site-packages\\sklearn\\linear_model\\_logistic.py\", line 1306, in fit\n",
      "    solver = _check_solver(self.solver, self.penalty, self.dual)\n",
      "  File \"C:\\Users\\Abhijit Pawar\\anaconda3\\lib\\site-packages\\sklearn\\linear_model\\_logistic.py\", line 443, in _check_solver\n",
      "    raise ValueError(\"Solver %s supports only 'l2' or 'none' penalties, \"\n",
      "ValueError: Solver lbfgs supports only 'l2' or 'none' penalties, got l1 penalty.\n",
      "\n",
      "  warnings.warn(\"Estimator fit failed. The score on this train-test\"\n"
     ]
    },
    {
     "name": "stderr",
     "output_type": "stream",
     "text": [
      "C:\\Users\\Abhijit Pawar\\anaconda3\\lib\\site-packages\\sklearn\\model_selection\\_validation.py:610: FitFailedWarning: Estimator fit failed. The score on this train-test partition for these parameters will be set to nan. Details: \n",
      "Traceback (most recent call last):\n",
      "  File \"C:\\Users\\Abhijit Pawar\\anaconda3\\lib\\site-packages\\sklearn\\model_selection\\_validation.py\", line 593, in _fit_and_score\n",
      "    estimator.fit(X_train, y_train, **fit_params)\n",
      "  File \"C:\\Users\\Abhijit Pawar\\anaconda3\\lib\\site-packages\\sklearn\\linear_model\\_logistic.py\", line 1306, in fit\n",
      "    solver = _check_solver(self.solver, self.penalty, self.dual)\n",
      "  File \"C:\\Users\\Abhijit Pawar\\anaconda3\\lib\\site-packages\\sklearn\\linear_model\\_logistic.py\", line 443, in _check_solver\n",
      "    raise ValueError(\"Solver %s supports only 'l2' or 'none' penalties, \"\n",
      "ValueError: Solver lbfgs supports only 'l2' or 'none' penalties, got l1 penalty.\n",
      "\n",
      "  warnings.warn(\"Estimator fit failed. The score on this train-test\"\n",
      "C:\\Users\\Abhijit Pawar\\anaconda3\\lib\\site-packages\\sklearn\\model_selection\\_validation.py:610: FitFailedWarning: Estimator fit failed. The score on this train-test partition for these parameters will be set to nan. Details: \n",
      "Traceback (most recent call last):\n",
      "  File \"C:\\Users\\Abhijit Pawar\\anaconda3\\lib\\site-packages\\sklearn\\model_selection\\_validation.py\", line 593, in _fit_and_score\n",
      "    estimator.fit(X_train, y_train, **fit_params)\n",
      "  File \"C:\\Users\\Abhijit Pawar\\anaconda3\\lib\\site-packages\\sklearn\\linear_model\\_logistic.py\", line 1306, in fit\n",
      "    solver = _check_solver(self.solver, self.penalty, self.dual)\n",
      "  File \"C:\\Users\\Abhijit Pawar\\anaconda3\\lib\\site-packages\\sklearn\\linear_model\\_logistic.py\", line 443, in _check_solver\n",
      "    raise ValueError(\"Solver %s supports only 'l2' or 'none' penalties, \"\n",
      "ValueError: Solver lbfgs supports only 'l2' or 'none' penalties, got l1 penalty.\n",
      "\n",
      "  warnings.warn(\"Estimator fit failed. The score on this train-test\"\n",
      "C:\\Users\\Abhijit Pawar\\anaconda3\\lib\\site-packages\\sklearn\\model_selection\\_validation.py:610: FitFailedWarning: Estimator fit failed. The score on this train-test partition for these parameters will be set to nan. Details: \n",
      "Traceback (most recent call last):\n",
      "  File \"C:\\Users\\Abhijit Pawar\\anaconda3\\lib\\site-packages\\sklearn\\model_selection\\_validation.py\", line 593, in _fit_and_score\n",
      "    estimator.fit(X_train, y_train, **fit_params)\n",
      "  File \"C:\\Users\\Abhijit Pawar\\anaconda3\\lib\\site-packages\\sklearn\\linear_model\\_logistic.py\", line 1306, in fit\n",
      "    solver = _check_solver(self.solver, self.penalty, self.dual)\n",
      "  File \"C:\\Users\\Abhijit Pawar\\anaconda3\\lib\\site-packages\\sklearn\\linear_model\\_logistic.py\", line 443, in _check_solver\n",
      "    raise ValueError(\"Solver %s supports only 'l2' or 'none' penalties, \"\n",
      "ValueError: Solver lbfgs supports only 'l2' or 'none' penalties, got l1 penalty.\n",
      "\n",
      "  warnings.warn(\"Estimator fit failed. The score on this train-test\"\n",
      "C:\\Users\\Abhijit Pawar\\anaconda3\\lib\\site-packages\\sklearn\\model_selection\\_validation.py:610: FitFailedWarning: Estimator fit failed. The score on this train-test partition for these parameters will be set to nan. Details: \n",
      "Traceback (most recent call last):\n",
      "  File \"C:\\Users\\Abhijit Pawar\\anaconda3\\lib\\site-packages\\sklearn\\model_selection\\_validation.py\", line 593, in _fit_and_score\n",
      "    estimator.fit(X_train, y_train, **fit_params)\n",
      "  File \"C:\\Users\\Abhijit Pawar\\anaconda3\\lib\\site-packages\\sklearn\\linear_model\\_logistic.py\", line 1306, in fit\n",
      "    solver = _check_solver(self.solver, self.penalty, self.dual)\n",
      "  File \"C:\\Users\\Abhijit Pawar\\anaconda3\\lib\\site-packages\\sklearn\\linear_model\\_logistic.py\", line 443, in _check_solver\n",
      "    raise ValueError(\"Solver %s supports only 'l2' or 'none' penalties, \"\n",
      "ValueError: Solver lbfgs supports only 'l2' or 'none' penalties, got l1 penalty.\n",
      "\n",
      "  warnings.warn(\"Estimator fit failed. The score on this train-test\"\n",
      "C:\\Users\\Abhijit Pawar\\anaconda3\\lib\\site-packages\\sklearn\\model_selection\\_validation.py:610: FitFailedWarning: Estimator fit failed. The score on this train-test partition for these parameters will be set to nan. Details: \n",
      "Traceback (most recent call last):\n",
      "  File \"C:\\Users\\Abhijit Pawar\\anaconda3\\lib\\site-packages\\sklearn\\model_selection\\_validation.py\", line 593, in _fit_and_score\n",
      "    estimator.fit(X_train, y_train, **fit_params)\n",
      "  File \"C:\\Users\\Abhijit Pawar\\anaconda3\\lib\\site-packages\\sklearn\\linear_model\\_logistic.py\", line 1306, in fit\n",
      "    solver = _check_solver(self.solver, self.penalty, self.dual)\n",
      "  File \"C:\\Users\\Abhijit Pawar\\anaconda3\\lib\\site-packages\\sklearn\\linear_model\\_logistic.py\", line 443, in _check_solver\n",
      "    raise ValueError(\"Solver %s supports only 'l2' or 'none' penalties, \"\n",
      "ValueError: Solver lbfgs supports only 'l2' or 'none' penalties, got l1 penalty.\n",
      "\n",
      "  warnings.warn(\"Estimator fit failed. The score on this train-test\"\n",
      "C:\\Users\\Abhijit Pawar\\anaconda3\\lib\\site-packages\\sklearn\\model_selection\\_search.py:918: UserWarning: One or more of the test scores are non-finite: [       nan 0.80393723        nan 0.80393723        nan 0.80393723\n",
      "        nan 0.80393723        nan 0.80393723]\n",
      "  warnings.warn(\n"
     ]
    },
    {
     "data": {
      "text/plain": [
       "0.8039372332539954"
      ]
     },
     "execution_count": 157,
     "metadata": {},
     "output_type": "execute_result"
    }
   ],
   "source": [
    "#Logistic Regression\n",
    "param_grid = {'penalty': ['l1','l2'], 'C': [0.001, 0.1, 1, 10, 100]}\n",
    "\n",
    "LG_cv = RandomizedSearchCV(LG, param_grid, cv=5)\n",
    "\n",
    "LG_cv.fit(X_train, y_train)\n",
    "\n",
    "LG_cv.best_params_\n",
    "\n",
    "LG_cv.best_score_"
   ]
  },
  {
   "cell_type": "code",
   "execution_count": 166,
   "id": "02c569d3",
   "metadata": {},
   "outputs": [
    {
     "name": "stdout",
     "output_type": "stream",
     "text": [
      "Best Score:0.839435197666899\n",
      "Best Parameters: {'n_neighbors': 32}\n"
     ]
    }
   ],
   "source": [
    "#kNN\n",
    "param_grid_knn = {'n_neighbors':np.arange(1,50)}\n",
    "KNN = KNeighborsClassifier()\n",
    "kNN_CV = RandomizedSearchCV(KNN, param_grid_knn, cv=5)\n",
    "kNN_CV.fit(X_train, y_train)\n",
    "\n",
    "print(\"Best Score:\" + str(kNN_CV.best_score_))\n",
    "print(\"Best Parameters: \" + str(kNN_CV.best_params_))\n"
   ]
  },
  {
   "cell_type": "code",
   "execution_count": 164,
   "id": "7033f2cf",
   "metadata": {},
   "outputs": [
    {
     "name": "stdout",
     "output_type": "stream",
     "text": [
      "Best Score:0.917415142388003\n",
      "Best Parameters: {'min_samples_leaf': 50, 'max_depth': 20, 'criterion': 'entropy'}\n"
     ]
    }
   ],
   "source": [
    "# Decision Tree\n",
    "\n",
    "param_grid_DT = {'max_depth': [2, 3, 5, 10, 20],'min_samples_leaf': [5, 10, 20, 50, 100],'criterion': [\"gini\", \"entropy\"]}\n",
    "\n",
    "\n",
    "DT = DecisionTreeClassifier()\n",
    "DT_CV = RandomizedSearchCV(DT, param_grid_DT, cv=5)\n",
    "DT_CV.fit(X_train, y_train)\n",
    "\n",
    "\n",
    "print(\"Best Score:\" + str(DT_CV.best_score_))\n",
    "print(\"Best Parameters: \" + str(DT_CV.best_params_))\n"
   ]
  },
  {
   "cell_type": "markdown",
   "id": "90c49c07",
   "metadata": {},
   "source": [
    "Based on the Hyperparameter Tuning using Randomized Grid Search CV, the following conclusions can be drawn:\n",
    "\n",
    "1. Even with hyperparameter tuning, the best accuracy that the Logistic Regression can have is 80%. Which means that the Logistic Regression used is the best one\n",
    "\n",
    "2. For the Decision Tree classifier the best method to use is entropy with a max depth of 20\n",
    "\n",
    "3. For kNN the best number of neighbors is 32"
   ]
  },
  {
   "cell_type": "markdown",
   "id": "b1cc4dbf",
   "metadata": {},
   "source": [
    "# Alternate Modeling Excluding Borrowers Who Defaulted Before"
   ]
  },
  {
   "cell_type": "markdown",
   "id": "6a49a8f1",
   "metadata": {},
   "source": [
    "The previous models included all borrowers, even those that had defaulted before. Therefore it important to model borrowers that didn't default before only. It is important to this type of modeling as these are borrowers who either have little to no credit history or have haven't defaulted. This will give us true representation of what the risk is associated with loans given out to borrower, as we don't know for certain if that borrower will default or not."
   ]
  },
  {
   "cell_type": "code",
   "execution_count": 168,
   "id": "ad9a4bc2",
   "metadata": {},
   "outputs": [
    {
     "data": {
      "text/html": [
       "<div>\n",
       "<style scoped>\n",
       "    .dataframe tbody tr th:only-of-type {\n",
       "        vertical-align: middle;\n",
       "    }\n",
       "\n",
       "    .dataframe tbody tr th {\n",
       "        vertical-align: top;\n",
       "    }\n",
       "\n",
       "    .dataframe thead th {\n",
       "        text-align: right;\n",
       "    }\n",
       "</style>\n",
       "<table border=\"1\" class=\"dataframe\">\n",
       "  <thead>\n",
       "    <tr style=\"text-align: right;\">\n",
       "      <th></th>\n",
       "      <th>Age</th>\n",
       "      <th>Income</th>\n",
       "      <th>home ownership</th>\n",
       "      <th>Years_Employed</th>\n",
       "      <th>intent</th>\n",
       "      <th>grade</th>\n",
       "      <th>Amount</th>\n",
       "      <th>Rate</th>\n",
       "      <th>Default</th>\n",
       "      <th>Loan_Percent_Income</th>\n",
       "      <th>...</th>\n",
       "      <th>grade_G</th>\n",
       "      <th>intent_EDUCATION</th>\n",
       "      <th>intent_HOMEIMPROVEMENT</th>\n",
       "      <th>intent_MEDICAL</th>\n",
       "      <th>intent_PERSONAL</th>\n",
       "      <th>intent_VENTURE</th>\n",
       "      <th>home ownership_OTHER</th>\n",
       "      <th>home ownership_OWN</th>\n",
       "      <th>home ownership_RENT</th>\n",
       "      <th>default on file_Y</th>\n",
       "    </tr>\n",
       "  </thead>\n",
       "  <tbody>\n",
       "    <tr>\n",
       "      <th>1</th>\n",
       "      <td>21</td>\n",
       "      <td>9600</td>\n",
       "      <td>OWN</td>\n",
       "      <td>5.0</td>\n",
       "      <td>EDUCATION</td>\n",
       "      <td>B</td>\n",
       "      <td>1000</td>\n",
       "      <td>11.14</td>\n",
       "      <td>0</td>\n",
       "      <td>0.10</td>\n",
       "      <td>...</td>\n",
       "      <td>0</td>\n",
       "      <td>1</td>\n",
       "      <td>0</td>\n",
       "      <td>0</td>\n",
       "      <td>0</td>\n",
       "      <td>0</td>\n",
       "      <td>0</td>\n",
       "      <td>1</td>\n",
       "      <td>0</td>\n",
       "      <td>0</td>\n",
       "    </tr>\n",
       "    <tr>\n",
       "      <th>2</th>\n",
       "      <td>25</td>\n",
       "      <td>9600</td>\n",
       "      <td>MORTGAGE</td>\n",
       "      <td>1.0</td>\n",
       "      <td>MEDICAL</td>\n",
       "      <td>C</td>\n",
       "      <td>5500</td>\n",
       "      <td>12.87</td>\n",
       "      <td>1</td>\n",
       "      <td>0.57</td>\n",
       "      <td>...</td>\n",
       "      <td>0</td>\n",
       "      <td>0</td>\n",
       "      <td>0</td>\n",
       "      <td>1</td>\n",
       "      <td>0</td>\n",
       "      <td>0</td>\n",
       "      <td>0</td>\n",
       "      <td>0</td>\n",
       "      <td>0</td>\n",
       "      <td>0</td>\n",
       "    </tr>\n",
       "    <tr>\n",
       "      <th>3</th>\n",
       "      <td>23</td>\n",
       "      <td>65500</td>\n",
       "      <td>RENT</td>\n",
       "      <td>4.0</td>\n",
       "      <td>MEDICAL</td>\n",
       "      <td>C</td>\n",
       "      <td>35000</td>\n",
       "      <td>15.23</td>\n",
       "      <td>1</td>\n",
       "      <td>0.53</td>\n",
       "      <td>...</td>\n",
       "      <td>0</td>\n",
       "      <td>0</td>\n",
       "      <td>0</td>\n",
       "      <td>1</td>\n",
       "      <td>0</td>\n",
       "      <td>0</td>\n",
       "      <td>0</td>\n",
       "      <td>0</td>\n",
       "      <td>1</td>\n",
       "      <td>0</td>\n",
       "    </tr>\n",
       "    <tr>\n",
       "      <th>4</th>\n",
       "      <td>24</td>\n",
       "      <td>54400</td>\n",
       "      <td>RENT</td>\n",
       "      <td>8.0</td>\n",
       "      <td>MEDICAL</td>\n",
       "      <td>C</td>\n",
       "      <td>35000</td>\n",
       "      <td>14.27</td>\n",
       "      <td>1</td>\n",
       "      <td>0.55</td>\n",
       "      <td>...</td>\n",
       "      <td>0</td>\n",
       "      <td>0</td>\n",
       "      <td>0</td>\n",
       "      <td>1</td>\n",
       "      <td>0</td>\n",
       "      <td>0</td>\n",
       "      <td>0</td>\n",
       "      <td>0</td>\n",
       "      <td>1</td>\n",
       "      <td>1</td>\n",
       "    </tr>\n",
       "    <tr>\n",
       "      <th>5</th>\n",
       "      <td>21</td>\n",
       "      <td>9900</td>\n",
       "      <td>OWN</td>\n",
       "      <td>2.0</td>\n",
       "      <td>VENTURE</td>\n",
       "      <td>A</td>\n",
       "      <td>2500</td>\n",
       "      <td>7.14</td>\n",
       "      <td>1</td>\n",
       "      <td>0.25</td>\n",
       "      <td>...</td>\n",
       "      <td>0</td>\n",
       "      <td>0</td>\n",
       "      <td>0</td>\n",
       "      <td>0</td>\n",
       "      <td>0</td>\n",
       "      <td>1</td>\n",
       "      <td>0</td>\n",
       "      <td>1</td>\n",
       "      <td>0</td>\n",
       "      <td>0</td>\n",
       "    </tr>\n",
       "  </tbody>\n",
       "</table>\n",
       "<p>5 rows × 27 columns</p>\n",
       "</div>"
      ],
      "text/plain": [
       "   Age  Income home ownership  Years_Employed     intent grade  Amount   Rate  \\\n",
       "1   21    9600            OWN             5.0  EDUCATION     B    1000  11.14   \n",
       "2   25    9600       MORTGAGE             1.0    MEDICAL     C    5500  12.87   \n",
       "3   23   65500           RENT             4.0    MEDICAL     C   35000  15.23   \n",
       "4   24   54400           RENT             8.0    MEDICAL     C   35000  14.27   \n",
       "5   21    9900            OWN             2.0    VENTURE     A    2500   7.14   \n",
       "\n",
       "   Default  Loan_Percent_Income  ... grade_G  intent_EDUCATION  \\\n",
       "1        0                 0.10  ...       0                 1   \n",
       "2        1                 0.57  ...       0                 0   \n",
       "3        1                 0.53  ...       0                 0   \n",
       "4        1                 0.55  ...       0                 0   \n",
       "5        1                 0.25  ...       0                 0   \n",
       "\n",
       "   intent_HOMEIMPROVEMENT  intent_MEDICAL  intent_PERSONAL  intent_VENTURE  \\\n",
       "1                       0               0                0               0   \n",
       "2                       0               1                0               0   \n",
       "3                       0               1                0               0   \n",
       "4                       0               1                0               0   \n",
       "5                       0               0                0               1   \n",
       "\n",
       "   home ownership_OTHER  home ownership_OWN  home ownership_RENT  \\\n",
       "1                     0                   1                    0   \n",
       "2                     0                   0                    0   \n",
       "3                     0                   0                    1   \n",
       "4                     0                   0                    1   \n",
       "5                     0                   1                    0   \n",
       "\n",
       "   default on file_Y  \n",
       "1                  0  \n",
       "2                  0  \n",
       "3                  0  \n",
       "4                  1  \n",
       "5                  0  \n",
       "\n",
       "[5 rows x 27 columns]"
      ]
     },
     "execution_count": 168,
     "metadata": {},
     "output_type": "execute_result"
    }
   ],
   "source": [
    "df.head()"
   ]
  },
  {
   "cell_type": "code",
   "execution_count": 172,
   "id": "87715ad7",
   "metadata": {},
   "outputs": [],
   "source": [
    "df_ND = df[df['default on file_Y'] == 0]"
   ]
  },
  {
   "cell_type": "code",
   "execution_count": 173,
   "id": "6b20d074",
   "metadata": {},
   "outputs": [
    {
     "name": "stdout",
     "output_type": "stream",
     "text": [
      "       Age  Income home ownership  Years_Employed           intent grade  \\\n",
      "1       21    9600            OWN             5.0        EDUCATION     B   \n",
      "2       25    9600       MORTGAGE             1.0          MEDICAL     C   \n",
      "3       23   65500           RENT             4.0          MEDICAL     C   \n",
      "5       21    9900            OWN             2.0          VENTURE     A   \n",
      "6       26   77100           RENT             8.0        EDUCATION     B   \n",
      "...    ...     ...            ...             ...              ...   ...   \n",
      "32576   57   53000       MORTGAGE             1.0         PERSONAL     C   \n",
      "32577   54  120000       MORTGAGE             4.0         PERSONAL     A   \n",
      "32578   65   76000           RENT             3.0  HOMEIMPROVEMENT     B   \n",
      "32579   56  150000       MORTGAGE             5.0         PERSONAL     B   \n",
      "32580   66   42000           RENT             2.0          MEDICAL     B   \n",
      "\n",
      "       Amount   Rate  Default  Loan_Percent_Income  ... grade_G  \\\n",
      "1        1000  11.14        0                 0.10  ...       0   \n",
      "2        5500  12.87        1                 0.57  ...       0   \n",
      "3       35000  15.23        1                 0.53  ...       0   \n",
      "5        2500   7.14        1                 0.25  ...       0   \n",
      "6       35000  12.42        1                 0.45  ...       0   \n",
      "...       ...    ...      ...                  ...  ...     ...   \n",
      "32576    5800  13.16        0                 0.11  ...       0   \n",
      "32577   17625   7.49        0                 0.15  ...       0   \n",
      "32578   35000  10.99        1                 0.46  ...       0   \n",
      "32579   15000  11.48        0                 0.10  ...       0   \n",
      "32580    6475   9.99        0                 0.15  ...       0   \n",
      "\n",
      "       intent_EDUCATION  intent_HOMEIMPROVEMENT  intent_MEDICAL  \\\n",
      "1                     1                       0               0   \n",
      "2                     0                       0               1   \n",
      "3                     0                       0               1   \n",
      "5                     0                       0               0   \n",
      "6                     1                       0               0   \n",
      "...                 ...                     ...             ...   \n",
      "32576                 0                       0               0   \n",
      "32577                 0                       0               0   \n",
      "32578                 0                       1               0   \n",
      "32579                 0                       0               0   \n",
      "32580                 0                       0               1   \n",
      "\n",
      "       intent_PERSONAL  intent_VENTURE  home ownership_OTHER  \\\n",
      "1                    0               0                     0   \n",
      "2                    0               0                     0   \n",
      "3                    0               0                     0   \n",
      "5                    0               1                     0   \n",
      "6                    0               0                     0   \n",
      "...                ...             ...                   ...   \n",
      "32576                1               0                     0   \n",
      "32577                1               0                     0   \n",
      "32578                0               0                     0   \n",
      "32579                1               0                     0   \n",
      "32580                0               0                     0   \n",
      "\n",
      "       home ownership_OWN  home ownership_RENT  default on file_Y  \n",
      "1                       1                    0                  0  \n",
      "2                       0                    0                  0  \n",
      "3                       0                    1                  0  \n",
      "5                       1                    0                  0  \n",
      "6                       0                    1                  0  \n",
      "...                   ...                  ...                ...  \n",
      "32576                   0                    0                  0  \n",
      "32577                   0                    0                  0  \n",
      "32578                   0                    1                  0  \n",
      "32579                   0                    0                  0  \n",
      "32580                   0                    1                  0  \n",
      "\n",
      "[26829 rows x 27 columns]\n"
     ]
    }
   ],
   "source": [
    "print(df_ND)"
   ]
  },
  {
   "cell_type": "code",
   "execution_count": 177,
   "id": "49c80e8b",
   "metadata": {},
   "outputs": [],
   "source": [
    "X_ND_train, X_ND_test, y_ND_train, y_ND_test = train_test_split(df_ND.drop(columns='Default'), \n",
    "                                                    df_ND.Default, test_size=0.2, \n",
    "                                                    random_state=50)"
   ]
  },
  {
   "cell_type": "code",
   "execution_count": 178,
   "id": "9907a90c",
   "metadata": {},
   "outputs": [],
   "source": [
    "names_list = ['home ownership', 'intent', 'grade', 'default on file']\n",
    "names_train = X_ND_train[names_list]\n",
    "names_test = X_ND_test[names_list]\n",
    "X_ND_train.drop(columns=names_list, inplace=True)\n",
    "X_ND_test.drop(columns=names_list, inplace=True)\n"
   ]
  },
  {
   "cell_type": "code",
   "execution_count": 179,
   "id": "4c9fed9c",
   "metadata": {},
   "outputs": [
    {
     "data": {
      "text/plain": [
       "LogisticRegression()"
      ]
     },
     "execution_count": 179,
     "metadata": {},
     "output_type": "execute_result"
    }
   ],
   "source": [
    "# Logistic Regression\n",
    "\n",
    "LG_ND = LogisticRegression()\n",
    "\n",
    "LG_ND.fit(X_ND_train, y_ND_train)"
   ]
  },
  {
   "cell_type": "code",
   "execution_count": 181,
   "id": "6b1420f1",
   "metadata": {},
   "outputs": [
    {
     "data": {
      "text/plain": [
       "0.8524040253447633"
      ]
     },
     "execution_count": 181,
     "metadata": {},
     "output_type": "execute_result"
    }
   ],
   "source": [
    "# Accuracy score for logistic Regression for non-default borrowers\n",
    "\n",
    "LG_ND.score(X_ND_test, y_ND_test)"
   ]
  },
  {
   "cell_type": "code",
   "execution_count": 183,
   "id": "eb089e08",
   "metadata": {},
   "outputs": [
    {
     "name": "stdout",
     "output_type": "stream",
     "text": [
      "[[4328   95]\n",
      " [ 697  246]]\n"
     ]
    }
   ],
   "source": [
    "# Confusion Matrix for Logistic Regression for non-default borrowers\n",
    "\n",
    "y_LG_ND_Pred = LG_ND.predict(X_ND_test)\n",
    "LG_ND_CM = confusion_matrix(y_ND_test, y_LG_ND_Pred)\n",
    "print(LG_ND_CM)"
   ]
  },
  {
   "cell_type": "code",
   "execution_count": 185,
   "id": "63fb3359",
   "metadata": {},
   "outputs": [
    {
     "name": "stdout",
     "output_type": "stream",
     "text": [
      "              precision    recall  f1-score   support\n",
      "\n",
      "           0       0.86      0.98      0.92      4423\n",
      "           1       0.72      0.26      0.38       943\n",
      "\n",
      "    accuracy                           0.85      5366\n",
      "   macro avg       0.79      0.62      0.65      5366\n",
      "weighted avg       0.84      0.85      0.82      5366\n",
      "\n"
     ]
    }
   ],
   "source": [
    "# Classification Report for Logistic Regression for non-default borrowers\n",
    "print(classification_report(y_ND_test,y_LG_ND_Pred))\n"
   ]
  },
  {
   "cell_type": "code",
   "execution_count": 186,
   "id": "e5ae35d4",
   "metadata": {},
   "outputs": [
    {
     "data": {
      "text/plain": [
       "KNeighborsClassifier(n_neighbors=150)"
      ]
     },
     "execution_count": 186,
     "metadata": {},
     "output_type": "execute_result"
    }
   ],
   "source": [
    "# fitting kNN TO Non-default borrowers\n",
    "kNN.fit(X_ND_train, y_ND_train)"
   ]
  },
  {
   "cell_type": "code",
   "execution_count": 187,
   "id": "943efce8",
   "metadata": {},
   "outputs": [
    {
     "data": {
      "text/plain": [
       "0.8715989563920984"
      ]
     },
     "execution_count": 187,
     "metadata": {},
     "output_type": "execute_result"
    }
   ],
   "source": [
    "# Accuracy score of kNN for non-default borrowers\n",
    "\n",
    "kNN.score(X_ND_test, y_ND_test)"
   ]
  },
  {
   "cell_type": "code",
   "execution_count": 188,
   "id": "189eacce",
   "metadata": {},
   "outputs": [
    {
     "name": "stdout",
     "output_type": "stream",
     "text": [
      "[[4269  154]\n",
      " [ 535  408]]\n"
     ]
    }
   ],
   "source": [
    "# Confusion Matrix for kNN  for non-default borrowers\n",
    "\n",
    "y_kNN_ND_Pred = kNN.predict(X_ND_test)\n",
    "kNN_ND_CM = confusion_matrix(y_ND_test, y_kNN_ND_Pred)\n",
    "print(kNN_ND_CM)"
   ]
  },
  {
   "cell_type": "code",
   "execution_count": 189,
   "id": "6e8e0357",
   "metadata": {},
   "outputs": [
    {
     "name": "stdout",
     "output_type": "stream",
     "text": [
      "              precision    recall  f1-score   support\n",
      "\n",
      "           0       0.89      0.97      0.93      4423\n",
      "           1       0.73      0.43      0.54       943\n",
      "\n",
      "    accuracy                           0.87      5366\n",
      "   macro avg       0.81      0.70      0.73      5366\n",
      "weighted avg       0.86      0.87      0.86      5366\n",
      "\n"
     ]
    }
   ],
   "source": [
    "# Classification Report for kNN for non-default borrowers\n",
    "print(classification_report(y_ND_test,y_kNN_ND_Pred))\n"
   ]
  },
  {
   "cell_type": "code",
   "execution_count": 190,
   "id": "69b5b239",
   "metadata": {},
   "outputs": [
    {
     "data": {
      "text/plain": [
       "DecisionTreeClassifier(criterion='entropy', random_state=1234)"
      ]
     },
     "execution_count": 190,
     "metadata": {},
     "output_type": "execute_result"
    }
   ],
   "source": [
    "# fitting Decision Tree with entropy To Non-default borrowers\n",
    "DT_1.fit(X_ND_train, y_ND_train)"
   ]
  },
  {
   "cell_type": "code",
   "execution_count": 192,
   "id": "50d56ad0",
   "metadata": {},
   "outputs": [
    {
     "data": {
      "text/plain": [
       "0.9030935519940365"
      ]
     },
     "execution_count": 192,
     "metadata": {},
     "output_type": "execute_result"
    }
   ],
   "source": [
    "# Accuracy score of Decision Tree with entropy for non-default borrowers\n",
    "\n",
    "DT_1.score(X_ND_test, y_ND_test)"
   ]
  },
  {
   "cell_type": "code",
   "execution_count": 194,
   "id": "ffe453be",
   "metadata": {},
   "outputs": [
    {
     "name": "stdout",
     "output_type": "stream",
     "text": [
      "[[4144  279]\n",
      " [ 241  702]]\n"
     ]
    }
   ],
   "source": [
    "# Confusion Matrix of Decision Tree with entropy for non-default borrowers\n",
    "\n",
    "y_DT_1_ND_Pred = DT_1.predict(X_ND_test)\n",
    "DT_1_ND_CM = confusion_matrix(y_ND_test, y_DT_1_ND_Pred)\n",
    "print(DT_1_ND_CM)"
   ]
  },
  {
   "cell_type": "code",
   "execution_count": 195,
   "id": "8ba6f7d7",
   "metadata": {},
   "outputs": [
    {
     "name": "stdout",
     "output_type": "stream",
     "text": [
      "              precision    recall  f1-score   support\n",
      "\n",
      "           0       0.95      0.94      0.94      4423\n",
      "           1       0.72      0.74      0.73       943\n",
      "\n",
      "    accuracy                           0.90      5366\n",
      "   macro avg       0.83      0.84      0.84      5366\n",
      "weighted avg       0.90      0.90      0.90      5366\n",
      "\n"
     ]
    }
   ],
   "source": [
    "# Classification Report of Decision Tree with entropy for non-default borrowers\n",
    "print(classification_report(y_ND_test,y_DT_1_ND_Pred))\n"
   ]
  },
  {
   "cell_type": "code",
   "execution_count": 196,
   "id": "68aacae6",
   "metadata": {},
   "outputs": [
    {
     "data": {
      "text/plain": [
       "DecisionTreeClassifier(random_state=1234)"
      ]
     },
     "execution_count": 196,
     "metadata": {},
     "output_type": "execute_result"
    }
   ],
   "source": [
    "# fitting Decision Tree with Gini To Non-default borrowers\n",
    "DT_2.fit(X_ND_train, y_ND_train)"
   ]
  },
  {
   "cell_type": "code",
   "execution_count": 197,
   "id": "782dd442",
   "metadata": {},
   "outputs": [
    {
     "data": {
      "text/plain": [
       "0.8956392098397317"
      ]
     },
     "execution_count": 197,
     "metadata": {},
     "output_type": "execute_result"
    }
   ],
   "source": [
    "# Accuracy score of Decision Tree with Gini for non-default borrowers\n",
    "\n",
    "DT_2.score(X_ND_test, y_ND_test)"
   ]
  },
  {
   "cell_type": "code",
   "execution_count": 198,
   "id": "4b25bd30",
   "metadata": {},
   "outputs": [
    {
     "name": "stdout",
     "output_type": "stream",
     "text": [
      "[[4094  329]\n",
      " [ 231  712]]\n"
     ]
    }
   ],
   "source": [
    "# Confusion Matrix of Decision Tree with Gini for non-default borrowers\n",
    "\n",
    "y_DT_2_ND_Pred = DT_2.predict(X_ND_test)\n",
    "DT_2_ND_CM = confusion_matrix(y_ND_test, y_DT_2_ND_Pred)\n",
    "print(DT_2_ND_CM)"
   ]
  },
  {
   "cell_type": "code",
   "execution_count": 199,
   "id": "e4667d20",
   "metadata": {},
   "outputs": [
    {
     "name": "stdout",
     "output_type": "stream",
     "text": [
      "              precision    recall  f1-score   support\n",
      "\n",
      "           0       0.95      0.93      0.94      4423\n",
      "           1       0.68      0.76      0.72       943\n",
      "\n",
      "    accuracy                           0.90      5366\n",
      "   macro avg       0.82      0.84      0.83      5366\n",
      "weighted avg       0.90      0.90      0.90      5366\n",
      "\n"
     ]
    }
   ],
   "source": [
    "# Classification Report of Decision Tree with Gini for non-default borrowers\n",
    "print(classification_report(y_ND_test,y_DT_2_ND_Pred))\n"
   ]
  },
  {
   "cell_type": "code",
   "execution_count": 200,
   "id": "137de648",
   "metadata": {},
   "outputs": [
    {
     "data": {
      "image/png": "[encoded data removed]",
      "text/plain": [
       "<Figure size 432x288 with 1 Axes>"
      ]
     },
     "metadata": {
      "needs_background": "light"
     },
     "output_type": "display_data"
    }
   ],
   "source": [
    "# ROC-AUC Curve for Non-Deafult borrowers\n",
    "\n",
    "# Logistic Regression\n",
    "Log_ND_ROC = roc_auc_score(y_ND_test, y_LG_ND_Pred)\n",
    "fpr, tpr, thresh = metrics.roc_curve(y_ND_test, LG.predict_proba(X_ND_test)[:,1])\n",
    "plt.plot(fpr, tpr, label=f'Logistic Regression, AUC = {str(round(Log_ND_ROC,3))}')\n",
    "\n",
    "#kNN\n",
    "kNN_ND_ROC = roc_auc_score(y_ND_test, y_kNN_ND_Pred)\n",
    "fpr, tpr, thresh = metrics.roc_curve(y_ND_test, kNN.predict_proba(X_ND_test)[:,1])\n",
    "plt.plot(fpr, tpr, label=f'kNN, AUC = {str(round(kNN_ND_ROC,3))}')\n",
    "\n",
    "#Decision Tree with entrophy\n",
    "DT_1_ND_ROC = roc_auc_score(y_ND_test, y_DT_1_ND_Pred)\n",
    "fpr, tpr, thresh = metrics.roc_curve(y_ND_test, DT_1.predict_proba(X_ND_test)[:,1])\n",
    "plt.plot(fpr, tpr, label=f'Decision Tree (Entrophy), AUC = {str(round(DT_1_ND_ROC,3))}')\n",
    "\n",
    "#Decision Tree with gini\n",
    "DT_2_ND_ROC = roc_auc_score(y_ND_test, y_DT_2_ND_Pred)\n",
    "fpr, tpr, thresh = metrics.roc_curve(y_ND_test, DT_2.predict_proba(X_ND_test)[:,1])\n",
    "plt.plot(fpr, tpr, label=f'Decision Tree (Gini), AUC = {str(round(DT_2_ND_ROC,3))}')\n",
    "\n",
    "\n",
    "plt.ylabel(\"True Positive Rate\", fontsize=12)\n",
    "plt.xlabel(\"False Positive Rate\", fontsize=12)\n",
    "plt.title(\"ROC curve\")\n",
    "plt.legend()\n",
    "plt.show()"
   ]
  },
  {
   "cell_type": "markdown",
   "id": "0371b8d6",
   "metadata": {},
   "source": [
    "Removing the borrowers who had defaulted before improved the accuracy of the Logistic Regression and the nearest neighbor models. The accuracy of the decision tree model remained the same."
   ]
  },
  {
   "cell_type": "markdown",
   "id": "0ebc08b0",
   "metadata": {},
   "source": [
    "# Conclusion"
   ]
  },
  {
   "cell_type": "markdown",
   "id": "d391f9de",
   "metadata": {},
   "source": [
    "Based on the the three models ran the best model to use for credit risk modeling is the decision tree model as it has the highest accuracy."
   ]
  },
  {
   "cell_type": "code",
   "execution_count": null,
   "id": "9d677568",
   "metadata": {},
   "outputs": [],
   "source": []
  }
 ],
 "metadata": {
  "kernelspec": {
   "display_name": "Python 3",
   "language": "python",
   "name": "python3"
  },
  "language_info": {
   "codemirror_mode": {
    "name": "ipython",
    "version": 3
   },
   "file_extension": ".py",
   "mimetype": "text/x-python",
   "name": "python",
   "nbconvert_exporter": "python",
   "pygments_lexer": "ipython3",
   "version": "3.8.8"
  }
 },
 "nbformat": 4,
 "nbformat_minor": 5
}
