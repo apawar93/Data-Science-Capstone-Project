{
 "cells": [
  {
   "cell_type": "markdown",
   "id": "c18dad95",
   "metadata": {},
   "source": [
    "# Pre-Processing & Data Training"
   ]
  },
  {
   "cell_type": "markdown",
   "id": "4c6f26aa",
   "metadata": {},
   "source": [
    "The next step of this project is to pre-process and train the dataset. In order to do so it is important to see the data types of the data I am working it and see which ones are discrete (boolean), categorical, or numerical (scaler). Additionally it is imporant to see the distribution of the numerical columns to see if they are normally distributed or are skewed to the right ot left. If they are skewed either way, that they need to be normalized."
   ]
  },
  {
   "cell_type": "markdown",
   "id": "c32d4e63",
   "metadata": {},
   "source": [
    "# The Data & Cleanup"
   ]
  },
  {
   "cell_type": "markdown",
   "id": "b5f62bd4",
   "metadata": {},
   "source": [
    "To start off it is important to important to upload the dataset, clean it and see the data type of the columns in the dataset. For the most part this dataset has numerical columns but also has a couple of ctaegorical and boolean columns. The main dependent variable in this dataset, the Default column, is boolean as it has either a value of 1 (if borrower defaulted) or 0 ( if the borrower didn't default). "
   ]
  },
  {
   "cell_type": "code",
   "execution_count": 39,
   "id": "ff0d8872",
   "metadata": {},
   "outputs": [],
   "source": [
    "import numpy as np\n",
    "import pandas as pd\n",
    "import seaborn as sns\n",
    "import matplotlib.pyplot as plt\n",
    "import sklearn.preprocessing\n",
    "import sklearn.model_selection"
   ]
  },
  {
   "cell_type": "code",
   "execution_count": 40,
   "id": "4515fdba",
   "metadata": {},
   "outputs": [],
   "source": [
    "from sklearn.preprocessing import StandardScaler\n",
    "from sklearn.model_selection import train_test_split\n",
    "from sklearn.preprocessing import MinMaxScaler"
   ]
  },
  {
   "cell_type": "code",
   "execution_count": 41,
   "id": "c1796702",
   "metadata": {},
   "outputs": [],
   "source": [
    "df = pd.read_csv('credit risk.csv')"
   ]
  },
  {
   "cell_type": "code",
   "execution_count": 42,
   "id": "538dffde",
   "metadata": {},
   "outputs": [
    {
     "data": {
      "text/html": [
       "<div>\n",
       "<style scoped>\n",
       "    .dataframe tbody tr th:only-of-type {\n",
       "        vertical-align: middle;\n",
       "    }\n",
       "\n",
       "    .dataframe tbody tr th {\n",
       "        vertical-align: top;\n",
       "    }\n",
       "\n",
       "    .dataframe thead th {\n",
       "        text-align: right;\n",
       "    }\n",
       "</style>\n",
       "<table border=\"1\" class=\"dataframe\">\n",
       "  <thead>\n",
       "    <tr style=\"text-align: right;\">\n",
       "      <th></th>\n",
       "      <th>person_age</th>\n",
       "      <th>person_income</th>\n",
       "      <th>person_home_ownership</th>\n",
       "      <th>person_emp_length</th>\n",
       "      <th>loan_intent</th>\n",
       "      <th>loan_grade</th>\n",
       "      <th>loan_amnt</th>\n",
       "      <th>loan_int_rate</th>\n",
       "      <th>loan_status</th>\n",
       "      <th>loan_percent_income</th>\n",
       "      <th>cb_person_default_on_file</th>\n",
       "      <th>cb_person_cred_hist_length</th>\n",
       "    </tr>\n",
       "  </thead>\n",
       "  <tbody>\n",
       "    <tr>\n",
       "      <th>0</th>\n",
       "      <td>22</td>\n",
       "      <td>59000</td>\n",
       "      <td>RENT</td>\n",
       "      <td>123.0</td>\n",
       "      <td>PERSONAL</td>\n",
       "      <td>D</td>\n",
       "      <td>35000</td>\n",
       "      <td>16.02</td>\n",
       "      <td>1</td>\n",
       "      <td>0.59</td>\n",
       "      <td>Y</td>\n",
       "      <td>3</td>\n",
       "    </tr>\n",
       "    <tr>\n",
       "      <th>1</th>\n",
       "      <td>21</td>\n",
       "      <td>9600</td>\n",
       "      <td>OWN</td>\n",
       "      <td>5.0</td>\n",
       "      <td>EDUCATION</td>\n",
       "      <td>B</td>\n",
       "      <td>1000</td>\n",
       "      <td>11.14</td>\n",
       "      <td>0</td>\n",
       "      <td>0.10</td>\n",
       "      <td>N</td>\n",
       "      <td>2</td>\n",
       "    </tr>\n",
       "    <tr>\n",
       "      <th>2</th>\n",
       "      <td>25</td>\n",
       "      <td>9600</td>\n",
       "      <td>MORTGAGE</td>\n",
       "      <td>1.0</td>\n",
       "      <td>MEDICAL</td>\n",
       "      <td>C</td>\n",
       "      <td>5500</td>\n",
       "      <td>12.87</td>\n",
       "      <td>1</td>\n",
       "      <td>0.57</td>\n",
       "      <td>N</td>\n",
       "      <td>3</td>\n",
       "    </tr>\n",
       "    <tr>\n",
       "      <th>3</th>\n",
       "      <td>23</td>\n",
       "      <td>65500</td>\n",
       "      <td>RENT</td>\n",
       "      <td>4.0</td>\n",
       "      <td>MEDICAL</td>\n",
       "      <td>C</td>\n",
       "      <td>35000</td>\n",
       "      <td>15.23</td>\n",
       "      <td>1</td>\n",
       "      <td>0.53</td>\n",
       "      <td>N</td>\n",
       "      <td>2</td>\n",
       "    </tr>\n",
       "    <tr>\n",
       "      <th>4</th>\n",
       "      <td>24</td>\n",
       "      <td>54400</td>\n",
       "      <td>RENT</td>\n",
       "      <td>8.0</td>\n",
       "      <td>MEDICAL</td>\n",
       "      <td>C</td>\n",
       "      <td>35000</td>\n",
       "      <td>14.27</td>\n",
       "      <td>1</td>\n",
       "      <td>0.55</td>\n",
       "      <td>Y</td>\n",
       "      <td>4</td>\n",
       "    </tr>\n",
       "  </tbody>\n",
       "</table>\n",
       "</div>"
      ],
      "text/plain": [
       "   person_age  person_income person_home_ownership  person_emp_length  \\\n",
       "0          22          59000                  RENT              123.0   \n",
       "1          21           9600                   OWN                5.0   \n",
       "2          25           9600              MORTGAGE                1.0   \n",
       "3          23          65500                  RENT                4.0   \n",
       "4          24          54400                  RENT                8.0   \n",
       "\n",
       "  loan_intent loan_grade  loan_amnt  loan_int_rate  loan_status  \\\n",
       "0    PERSONAL          D      35000          16.02            1   \n",
       "1   EDUCATION          B       1000          11.14            0   \n",
       "2     MEDICAL          C       5500          12.87            1   \n",
       "3     MEDICAL          C      35000          15.23            1   \n",
       "4     MEDICAL          C      35000          14.27            1   \n",
       "\n",
       "   loan_percent_income cb_person_default_on_file  cb_person_cred_hist_length  \n",
       "0                 0.59                         Y                           3  \n",
       "1                 0.10                         N                           2  \n",
       "2                 0.57                         N                           3  \n",
       "3                 0.53                         N                           2  \n",
       "4                 0.55                         Y                           4  "
      ]
     },
     "execution_count": 42,
     "metadata": {},
     "output_type": "execute_result"
    }
   ],
   "source": [
    "df.head()"
   ]
  },
  {
   "cell_type": "code",
   "execution_count": 43,
   "id": "0e302489",
   "metadata": {},
   "outputs": [],
   "source": [
    "df = df.rename(index=str, columns={\"person_age\":\"Age\", \"person_income\":\"Income\", \"person_home_ownership\":\"home ownership\", \"person_emp_length\":\"Years_Employed\",\"loan_intent\":\"intent\",\"loan_amnt\":\"Amount\",\"loan_int_rate\":\"Rate\",\"loan_status\":\"Default\",\"loan_percent_income\":\"Loan_Percent_Income\",\"cb_person_default_on_file\":\"default on file\",\"cb_person_cred_hist_length\":\"Credit_History\",\"loan_grade\":\"grade\"})"
   ]
  },
  {
   "cell_type": "code",
   "execution_count": 44,
   "id": "56e9900b",
   "metadata": {},
   "outputs": [
    {
     "data": {
      "text/html": [
       "<div>\n",
       "<style scoped>\n",
       "    .dataframe tbody tr th:only-of-type {\n",
       "        vertical-align: middle;\n",
       "    }\n",
       "\n",
       "    .dataframe tbody tr th {\n",
       "        vertical-align: top;\n",
       "    }\n",
       "\n",
       "    .dataframe thead th {\n",
       "        text-align: right;\n",
       "    }\n",
       "</style>\n",
       "<table border=\"1\" class=\"dataframe\">\n",
       "  <thead>\n",
       "    <tr style=\"text-align: right;\">\n",
       "      <th></th>\n",
       "      <th>Age</th>\n",
       "      <th>Income</th>\n",
       "      <th>home ownership</th>\n",
       "      <th>Years_Employed</th>\n",
       "      <th>intent</th>\n",
       "      <th>grade</th>\n",
       "      <th>Amount</th>\n",
       "      <th>Rate</th>\n",
       "      <th>Default</th>\n",
       "      <th>Loan_Percent_Income</th>\n",
       "      <th>default on file</th>\n",
       "      <th>Credit_History</th>\n",
       "    </tr>\n",
       "  </thead>\n",
       "  <tbody>\n",
       "    <tr>\n",
       "      <th>0</th>\n",
       "      <td>22</td>\n",
       "      <td>59000</td>\n",
       "      <td>RENT</td>\n",
       "      <td>123.0</td>\n",
       "      <td>PERSONAL</td>\n",
       "      <td>D</td>\n",
       "      <td>35000</td>\n",
       "      <td>16.02</td>\n",
       "      <td>1</td>\n",
       "      <td>0.59</td>\n",
       "      <td>Y</td>\n",
       "      <td>3</td>\n",
       "    </tr>\n",
       "    <tr>\n",
       "      <th>1</th>\n",
       "      <td>21</td>\n",
       "      <td>9600</td>\n",
       "      <td>OWN</td>\n",
       "      <td>5.0</td>\n",
       "      <td>EDUCATION</td>\n",
       "      <td>B</td>\n",
       "      <td>1000</td>\n",
       "      <td>11.14</td>\n",
       "      <td>0</td>\n",
       "      <td>0.10</td>\n",
       "      <td>N</td>\n",
       "      <td>2</td>\n",
       "    </tr>\n",
       "    <tr>\n",
       "      <th>2</th>\n",
       "      <td>25</td>\n",
       "      <td>9600</td>\n",
       "      <td>MORTGAGE</td>\n",
       "      <td>1.0</td>\n",
       "      <td>MEDICAL</td>\n",
       "      <td>C</td>\n",
       "      <td>5500</td>\n",
       "      <td>12.87</td>\n",
       "      <td>1</td>\n",
       "      <td>0.57</td>\n",
       "      <td>N</td>\n",
       "      <td>3</td>\n",
       "    </tr>\n",
       "    <tr>\n",
       "      <th>3</th>\n",
       "      <td>23</td>\n",
       "      <td>65500</td>\n",
       "      <td>RENT</td>\n",
       "      <td>4.0</td>\n",
       "      <td>MEDICAL</td>\n",
       "      <td>C</td>\n",
       "      <td>35000</td>\n",
       "      <td>15.23</td>\n",
       "      <td>1</td>\n",
       "      <td>0.53</td>\n",
       "      <td>N</td>\n",
       "      <td>2</td>\n",
       "    </tr>\n",
       "    <tr>\n",
       "      <th>4</th>\n",
       "      <td>24</td>\n",
       "      <td>54400</td>\n",
       "      <td>RENT</td>\n",
       "      <td>8.0</td>\n",
       "      <td>MEDICAL</td>\n",
       "      <td>C</td>\n",
       "      <td>35000</td>\n",
       "      <td>14.27</td>\n",
       "      <td>1</td>\n",
       "      <td>0.55</td>\n",
       "      <td>Y</td>\n",
       "      <td>4</td>\n",
       "    </tr>\n",
       "  </tbody>\n",
       "</table>\n",
       "</div>"
      ],
      "text/plain": [
       "   Age  Income home ownership  Years_Employed     intent grade  Amount   Rate  \\\n",
       "0   22   59000           RENT           123.0   PERSONAL     D   35000  16.02   \n",
       "1   21    9600            OWN             5.0  EDUCATION     B    1000  11.14   \n",
       "2   25    9600       MORTGAGE             1.0    MEDICAL     C    5500  12.87   \n",
       "3   23   65500           RENT             4.0    MEDICAL     C   35000  15.23   \n",
       "4   24   54400           RENT             8.0    MEDICAL     C   35000  14.27   \n",
       "\n",
       "   Default  Loan_Percent_Income default on file  Credit_History  \n",
       "0        1                 0.59               Y               3  \n",
       "1        0                 0.10               N               2  \n",
       "2        1                 0.57               N               3  \n",
       "3        1                 0.53               N               2  \n",
       "4        1                 0.55               Y               4  "
      ]
     },
     "execution_count": 44,
     "metadata": {},
     "output_type": "execute_result"
    }
   ],
   "source": [
    "df.head()"
   ]
  },
  {
   "cell_type": "code",
   "execution_count": 45,
   "id": "7dc90d80",
   "metadata": {},
   "outputs": [
    {
     "name": "stdout",
     "output_type": "stream",
     "text": [
      "       Age  Income home ownership  Years_Employed           intent grade  \\\n",
      "0       22   59000           RENT           123.0         PERSONAL     D   \n",
      "1       21    9600            OWN             5.0        EDUCATION     B   \n",
      "2       25    9600       MORTGAGE             1.0          MEDICAL     C   \n",
      "3       23   65500           RENT             4.0          MEDICAL     C   \n",
      "4       24   54400           RENT             8.0          MEDICAL     C   \n",
      "...    ...     ...            ...             ...              ...   ...   \n",
      "32576   57   53000       MORTGAGE             1.0         PERSONAL     C   \n",
      "32577   54  120000       MORTGAGE             4.0         PERSONAL     A   \n",
      "32578   65   76000           RENT             3.0  HOMEIMPROVEMENT     B   \n",
      "32579   56  150000       MORTGAGE             5.0         PERSONAL     B   \n",
      "32580   66   42000           RENT             2.0          MEDICAL     B   \n",
      "\n",
      "       Amount   Rate  Default  Loan_Percent_Income default on file  \\\n",
      "0       35000  16.02        1                 0.59               Y   \n",
      "1        1000  11.14        0                 0.10               N   \n",
      "2        5500  12.87        1                 0.57               N   \n",
      "3       35000  15.23        1                 0.53               N   \n",
      "4       35000  14.27        1                 0.55               Y   \n",
      "...       ...    ...      ...                  ...             ...   \n",
      "32576    5800  13.16        0                 0.11               N   \n",
      "32577   17625   7.49        0                 0.15               N   \n",
      "32578   35000  10.99        1                 0.46               N   \n",
      "32579   15000  11.48        0                 0.10               N   \n",
      "32580    6475   9.99        0                 0.15               N   \n",
      "\n",
      "       Credit_History  \n",
      "0                   3  \n",
      "1                   2  \n",
      "2                   3  \n",
      "3                   2  \n",
      "4                   4  \n",
      "...               ...  \n",
      "32576              30  \n",
      "32577              19  \n",
      "32578              28  \n",
      "32579              26  \n",
      "32580              30  \n",
      "\n",
      "[32581 rows x 12 columns]\n"
     ]
    }
   ],
   "source": [
    "print(df)"
   ]
  },
  {
   "cell_type": "code",
   "execution_count": 46,
   "id": "f708e027",
   "metadata": {},
   "outputs": [
    {
     "data": {
      "text/plain": [
       "True"
      ]
     },
     "execution_count": 46,
     "metadata": {},
     "output_type": "execute_result"
    }
   ],
   "source": [
    "df.isnull().values.any()"
   ]
  },
  {
   "cell_type": "code",
   "execution_count": 47,
   "id": "268bdec6",
   "metadata": {},
   "outputs": [
    {
     "data": {
      "text/plain": [
       "Age                      int64\n",
       "Income                   int64\n",
       "home ownership          object\n",
       "Years_Employed         float64\n",
       "intent                  object\n",
       "grade                   object\n",
       "Amount                   int64\n",
       "Rate                   float64\n",
       "Default                  int64\n",
       "Loan_Percent_Income    float64\n",
       "default on file         object\n",
       "Credit_History           int64\n",
       "dtype: object"
      ]
     },
     "execution_count": 47,
     "metadata": {},
     "output_type": "execute_result"
    }
   ],
   "source": [
    "df.dtypes"
   ]
  },
  {
   "cell_type": "markdown",
   "id": "49999dd6",
   "metadata": {},
   "source": [
    "Unsurprisingly the Age, Income, Years employed, Amount, Rate, Loan(% Income), and credit history are all numeric. While home ownership, grade, intent, and default on file are objects with home ownership, intent, and grade being categorical variables, and default on file being boolean."
   ]
  },
  {
   "cell_type": "code",
   "execution_count": 48,
   "id": "0176e4a5",
   "metadata": {},
   "outputs": [],
   "source": [
    "df = df.dropna()"
   ]
  },
  {
   "cell_type": "code",
   "execution_count": 49,
   "id": "83a710c4",
   "metadata": {},
   "outputs": [
    {
     "name": "stdout",
     "output_type": "stream",
     "text": [
      "       Age  Income home ownership  Years_Employed           intent grade  \\\n",
      "0       22   59000           RENT           123.0         PERSONAL     D   \n",
      "1       21    9600            OWN             5.0        EDUCATION     B   \n",
      "2       25    9600       MORTGAGE             1.0          MEDICAL     C   \n",
      "3       23   65500           RENT             4.0          MEDICAL     C   \n",
      "4       24   54400           RENT             8.0          MEDICAL     C   \n",
      "...    ...     ...            ...             ...              ...   ...   \n",
      "32576   57   53000       MORTGAGE             1.0         PERSONAL     C   \n",
      "32577   54  120000       MORTGAGE             4.0         PERSONAL     A   \n",
      "32578   65   76000           RENT             3.0  HOMEIMPROVEMENT     B   \n",
      "32579   56  150000       MORTGAGE             5.0         PERSONAL     B   \n",
      "32580   66   42000           RENT             2.0          MEDICAL     B   \n",
      "\n",
      "       Amount   Rate  Default  Loan_Percent_Income default on file  \\\n",
      "0       35000  16.02        1                 0.59               Y   \n",
      "1        1000  11.14        0                 0.10               N   \n",
      "2        5500  12.87        1                 0.57               N   \n",
      "3       35000  15.23        1                 0.53               N   \n",
      "4       35000  14.27        1                 0.55               Y   \n",
      "...       ...    ...      ...                  ...             ...   \n",
      "32576    5800  13.16        0                 0.11               N   \n",
      "32577   17625   7.49        0                 0.15               N   \n",
      "32578   35000  10.99        1                 0.46               N   \n",
      "32579   15000  11.48        0                 0.10               N   \n",
      "32580    6475   9.99        0                 0.15               N   \n",
      "\n",
      "       Credit_History  \n",
      "0                   3  \n",
      "1                   2  \n",
      "2                   3  \n",
      "3                   2  \n",
      "4                   4  \n",
      "...               ...  \n",
      "32576              30  \n",
      "32577              19  \n",
      "32578              28  \n",
      "32579              26  \n",
      "32580              30  \n",
      "\n",
      "[28638 rows x 12 columns]\n"
     ]
    }
   ],
   "source": [
    "print(df)"
   ]
  },
  {
   "cell_type": "markdown",
   "id": "409951a2",
   "metadata": {},
   "source": [
    "# Creating Dummy Variables"
   ]
  },
  {
   "cell_type": "markdown",
   "id": "0e8962b7",
   "metadata": {},
   "source": [
    "By Looking at the data types of the columns in this dataset there are four columns that aren't numerical. They are intent, home ownership, grade, and default of file. These are the columns for which dummy variables will need to be created. Before doing that it important to see the value counts for these columns."
   ]
  },
  {
   "cell_type": "code",
   "execution_count": 50,
   "id": "3c7a5471",
   "metadata": {},
   "outputs": [
    {
     "name": "stdout",
     "output_type": "stream",
     "text": [
      "A    9402\n",
      "B    9151\n",
      "C    5699\n",
      "D    3248\n",
      "E     870\n",
      "F     209\n",
      "G      59\n",
      "Name: grade, dtype: int64\n"
     ]
    }
   ],
   "source": [
    "print(df['grade'].value_counts())"
   ]
  },
  {
   "cell_type": "code",
   "execution_count": 51,
   "id": "e3134047",
   "metadata": {},
   "outputs": [
    {
     "name": "stdout",
     "output_type": "stream",
     "text": [
      "EDUCATION            5704\n",
      "MEDICAL              5293\n",
      "VENTURE              5001\n",
      "PERSONAL             4877\n",
      "DEBTCONSOLIDATION    4565\n",
      "HOMEIMPROVEMENT      3198\n",
      "Name: intent, dtype: int64\n"
     ]
    }
   ],
   "source": [
    "print(df['intent'].value_counts())"
   ]
  },
  {
   "cell_type": "code",
   "execution_count": 52,
   "id": "598a3994",
   "metadata": {},
   "outputs": [
    {
     "name": "stdout",
     "output_type": "stream",
     "text": [
      "RENT        14551\n",
      "MORTGAGE    11801\n",
      "OWN          2192\n",
      "OTHER          94\n",
      "Name: home ownership, dtype: int64\n"
     ]
    }
   ],
   "source": [
    "print(df['home ownership'].value_counts())"
   ]
  },
  {
   "cell_type": "code",
   "execution_count": 53,
   "id": "ad68928b",
   "metadata": {},
   "outputs": [
    {
     "name": "stdout",
     "output_type": "stream",
     "text": [
      "N    23535\n",
      "Y     5103\n",
      "Name: default on file, dtype: int64\n"
     ]
    }
   ],
   "source": [
    "print(df['default on file'].value_counts())"
   ]
  },
  {
   "cell_type": "code",
   "execution_count": 54,
   "id": "52a364e3",
   "metadata": {},
   "outputs": [],
   "source": [
    "Features = ['grade', 'intent', 'home ownership', 'default on file']\n",
    "df_features = df[Features]"
   ]
  },
  {
   "cell_type": "code",
   "execution_count": 55,
   "id": "ace5ef7a",
   "metadata": {},
   "outputs": [],
   "source": [
    "dummy = pd.get_dummies(df_features, drop_first=True)"
   ]
  },
  {
   "cell_type": "code",
   "execution_count": 56,
   "id": "8b464c97",
   "metadata": {},
   "outputs": [
    {
     "data": {
      "text/html": [
       "<div>\n",
       "<style scoped>\n",
       "    .dataframe tbody tr th:only-of-type {\n",
       "        vertical-align: middle;\n",
       "    }\n",
       "\n",
       "    .dataframe tbody tr th {\n",
       "        vertical-align: top;\n",
       "    }\n",
       "\n",
       "    .dataframe thead th {\n",
       "        text-align: right;\n",
       "    }\n",
       "</style>\n",
       "<table border=\"1\" class=\"dataframe\">\n",
       "  <thead>\n",
       "    <tr style=\"text-align: right;\">\n",
       "      <th></th>\n",
       "      <th>grade_B</th>\n",
       "      <th>grade_C</th>\n",
       "      <th>grade_D</th>\n",
       "      <th>grade_E</th>\n",
       "      <th>grade_F</th>\n",
       "      <th>grade_G</th>\n",
       "      <th>intent_EDUCATION</th>\n",
       "      <th>intent_HOMEIMPROVEMENT</th>\n",
       "      <th>intent_MEDICAL</th>\n",
       "      <th>intent_PERSONAL</th>\n",
       "      <th>intent_VENTURE</th>\n",
       "      <th>home ownership_OTHER</th>\n",
       "      <th>home ownership_OWN</th>\n",
       "      <th>home ownership_RENT</th>\n",
       "      <th>default on file_Y</th>\n",
       "    </tr>\n",
       "  </thead>\n",
       "  <tbody>\n",
       "    <tr>\n",
       "      <th>0</th>\n",
       "      <td>0</td>\n",
       "      <td>0</td>\n",
       "      <td>1</td>\n",
       "      <td>0</td>\n",
       "      <td>0</td>\n",
       "      <td>0</td>\n",
       "      <td>0</td>\n",
       "      <td>0</td>\n",
       "      <td>0</td>\n",
       "      <td>1</td>\n",
       "      <td>0</td>\n",
       "      <td>0</td>\n",
       "      <td>0</td>\n",
       "      <td>1</td>\n",
       "      <td>1</td>\n",
       "    </tr>\n",
       "    <tr>\n",
       "      <th>1</th>\n",
       "      <td>1</td>\n",
       "      <td>0</td>\n",
       "      <td>0</td>\n",
       "      <td>0</td>\n",
       "      <td>0</td>\n",
       "      <td>0</td>\n",
       "      <td>1</td>\n",
       "      <td>0</td>\n",
       "      <td>0</td>\n",
       "      <td>0</td>\n",
       "      <td>0</td>\n",
       "      <td>0</td>\n",
       "      <td>1</td>\n",
       "      <td>0</td>\n",
       "      <td>0</td>\n",
       "    </tr>\n",
       "    <tr>\n",
       "      <th>2</th>\n",
       "      <td>0</td>\n",
       "      <td>1</td>\n",
       "      <td>0</td>\n",
       "      <td>0</td>\n",
       "      <td>0</td>\n",
       "      <td>0</td>\n",
       "      <td>0</td>\n",
       "      <td>0</td>\n",
       "      <td>1</td>\n",
       "      <td>0</td>\n",
       "      <td>0</td>\n",
       "      <td>0</td>\n",
       "      <td>0</td>\n",
       "      <td>0</td>\n",
       "      <td>0</td>\n",
       "    </tr>\n",
       "    <tr>\n",
       "      <th>3</th>\n",
       "      <td>0</td>\n",
       "      <td>1</td>\n",
       "      <td>0</td>\n",
       "      <td>0</td>\n",
       "      <td>0</td>\n",
       "      <td>0</td>\n",
       "      <td>0</td>\n",
       "      <td>0</td>\n",
       "      <td>1</td>\n",
       "      <td>0</td>\n",
       "      <td>0</td>\n",
       "      <td>0</td>\n",
       "      <td>0</td>\n",
       "      <td>1</td>\n",
       "      <td>0</td>\n",
       "    </tr>\n",
       "    <tr>\n",
       "      <th>4</th>\n",
       "      <td>0</td>\n",
       "      <td>1</td>\n",
       "      <td>0</td>\n",
       "      <td>0</td>\n",
       "      <td>0</td>\n",
       "      <td>0</td>\n",
       "      <td>0</td>\n",
       "      <td>0</td>\n",
       "      <td>1</td>\n",
       "      <td>0</td>\n",
       "      <td>0</td>\n",
       "      <td>0</td>\n",
       "      <td>0</td>\n",
       "      <td>1</td>\n",
       "      <td>1</td>\n",
       "    </tr>\n",
       "  </tbody>\n",
       "</table>\n",
       "</div>"
      ],
      "text/plain": [
       "   grade_B  grade_C  grade_D  grade_E  grade_F  grade_G  intent_EDUCATION  \\\n",
       "0        0        0        1        0        0        0                 0   \n",
       "1        1        0        0        0        0        0                 1   \n",
       "2        0        1        0        0        0        0                 0   \n",
       "3        0        1        0        0        0        0                 0   \n",
       "4        0        1        0        0        0        0                 0   \n",
       "\n",
       "   intent_HOMEIMPROVEMENT  intent_MEDICAL  intent_PERSONAL  intent_VENTURE  \\\n",
       "0                       0               0                1               0   \n",
       "1                       0               0                0               0   \n",
       "2                       0               1                0               0   \n",
       "3                       0               1                0               0   \n",
       "4                       0               1                0               0   \n",
       "\n",
       "   home ownership_OTHER  home ownership_OWN  home ownership_RENT  \\\n",
       "0                     0                   0                    1   \n",
       "1                     0                   1                    0   \n",
       "2                     0                   0                    0   \n",
       "3                     0                   0                    1   \n",
       "4                     0                   0                    1   \n",
       "\n",
       "   default on file_Y  \n",
       "0                  1  \n",
       "1                  0  \n",
       "2                  0  \n",
       "3                  0  \n",
       "4                  1  "
      ]
     },
     "execution_count": 56,
     "metadata": {},
     "output_type": "execute_result"
    }
   ],
   "source": [
    "dummy.head()"
   ]
  },
  {
   "cell_type": "code",
   "execution_count": 57,
   "id": "2cf9c1e7",
   "metadata": {},
   "outputs": [],
   "source": [
    "df = pd.concat([df, dummy], axis=1)"
   ]
  },
  {
   "cell_type": "code",
   "execution_count": 58,
   "id": "9ae4522c",
   "metadata": {},
   "outputs": [
    {
     "name": "stdout",
     "output_type": "stream",
     "text": [
      "       Age  Income home ownership  Years_Employed           intent grade  \\\n",
      "0       22   59000           RENT           123.0         PERSONAL     D   \n",
      "1       21    9600            OWN             5.0        EDUCATION     B   \n",
      "2       25    9600       MORTGAGE             1.0          MEDICAL     C   \n",
      "3       23   65500           RENT             4.0          MEDICAL     C   \n",
      "4       24   54400           RENT             8.0          MEDICAL     C   \n",
      "...    ...     ...            ...             ...              ...   ...   \n",
      "32576   57   53000       MORTGAGE             1.0         PERSONAL     C   \n",
      "32577   54  120000       MORTGAGE             4.0         PERSONAL     A   \n",
      "32578   65   76000           RENT             3.0  HOMEIMPROVEMENT     B   \n",
      "32579   56  150000       MORTGAGE             5.0         PERSONAL     B   \n",
      "32580   66   42000           RENT             2.0          MEDICAL     B   \n",
      "\n",
      "       Amount   Rate  Default  Loan_Percent_Income  ... grade_G  \\\n",
      "0       35000  16.02        1                 0.59  ...       0   \n",
      "1        1000  11.14        0                 0.10  ...       0   \n",
      "2        5500  12.87        1                 0.57  ...       0   \n",
      "3       35000  15.23        1                 0.53  ...       0   \n",
      "4       35000  14.27        1                 0.55  ...       0   \n",
      "...       ...    ...      ...                  ...  ...     ...   \n",
      "32576    5800  13.16        0                 0.11  ...       0   \n",
      "32577   17625   7.49        0                 0.15  ...       0   \n",
      "32578   35000  10.99        1                 0.46  ...       0   \n",
      "32579   15000  11.48        0                 0.10  ...       0   \n",
      "32580    6475   9.99        0                 0.15  ...       0   \n",
      "\n",
      "       intent_EDUCATION  intent_HOMEIMPROVEMENT  intent_MEDICAL  \\\n",
      "0                     0                       0               0   \n",
      "1                     1                       0               0   \n",
      "2                     0                       0               1   \n",
      "3                     0                       0               1   \n",
      "4                     0                       0               1   \n",
      "...                 ...                     ...             ...   \n",
      "32576                 0                       0               0   \n",
      "32577                 0                       0               0   \n",
      "32578                 0                       1               0   \n",
      "32579                 0                       0               0   \n",
      "32580                 0                       0               1   \n",
      "\n",
      "       intent_PERSONAL  intent_VENTURE  home ownership_OTHER  \\\n",
      "0                    1               0                     0   \n",
      "1                    0               0                     0   \n",
      "2                    0               0                     0   \n",
      "3                    0               0                     0   \n",
      "4                    0               0                     0   \n",
      "...                ...             ...                   ...   \n",
      "32576                1               0                     0   \n",
      "32577                1               0                     0   \n",
      "32578                0               0                     0   \n",
      "32579                1               0                     0   \n",
      "32580                0               0                     0   \n",
      "\n",
      "       home ownership_OWN  home ownership_RENT  default on file_Y  \n",
      "0                       0                    1                  1  \n",
      "1                       1                    0                  0  \n",
      "2                       0                    0                  0  \n",
      "3                       0                    1                  0  \n",
      "4                       0                    1                  1  \n",
      "...                   ...                  ...                ...  \n",
      "32576                   0                    0                  0  \n",
      "32577                   0                    0                  0  \n",
      "32578                   0                    1                  0  \n",
      "32579                   0                    0                  0  \n",
      "32580                   0                    1                  0  \n",
      "\n",
      "[28638 rows x 27 columns]\n"
     ]
    }
   ],
   "source": [
    "print(df)"
   ]
  },
  {
   "cell_type": "markdown",
   "id": "141424c3",
   "metadata": {},
   "source": [
    "# Data Distribution"
   ]
  },
  {
   "cell_type": "markdown",
   "id": "b93c7931",
   "metadata": {},
   "source": [
    "The next step is to see how the nuemrical data is distributed and see if what if any kind of scalling is necessary for pre-processing."
   ]
  },
  {
   "cell_type": "code",
   "execution_count": 59,
   "id": "6b8acdf5",
   "metadata": {},
   "outputs": [
    {
     "data": {
      "text/plain": [
       "array([[<AxesSubplot:title={'center':'Age'}>]], dtype=object)"
      ]
     },
     "execution_count": 59,
     "metadata": {},
     "output_type": "execute_result"
    },
    {
     "data": {
      "image/png": "[encoded data removed]",
      "text/plain": [
       "<Figure size 432x288 with 1 Axes>"
      ]
     },
     "metadata": {
      "needs_background": "light"
     },
     "output_type": "display_data"
    }
   ],
   "source": [
    "df.hist(column = 'Age')"
   ]
  },
  {
   "cell_type": "code",
   "execution_count": 60,
   "id": "d13d1a80",
   "metadata": {},
   "outputs": [
    {
     "data": {
      "text/plain": [
       "array([[<AxesSubplot:title={'center':'Years_Employed'}>]], dtype=object)"
      ]
     },
     "execution_count": 60,
     "metadata": {},
     "output_type": "execute_result"
    },
    {
     "data": {
      "image/png": "[encoded data removed]",
      "text/plain": [
       "<Figure size 432x288 with 1 Axes>"
      ]
     },
     "metadata": {
      "needs_background": "light"
     },
     "output_type": "display_data"
    }
   ],
   "source": [
    "df.hist(column = 'Years_Employed')"
   ]
  },
  {
   "cell_type": "code",
   "execution_count": 61,
   "id": "67c7d62c",
   "metadata": {},
   "outputs": [
    {
     "data": {
      "text/plain": [
       "array([[<AxesSubplot:title={'center':'Rate'}>]], dtype=object)"
      ]
     },
     "execution_count": 61,
     "metadata": {},
     "output_type": "execute_result"
    },
    {
     "data": {
      "image/png": "[encoded data removed]",
      "text/plain": [
       "<Figure size 432x288 with 1 Axes>"
      ]
     },
     "metadata": {
      "needs_background": "light"
     },
     "output_type": "display_data"
    }
   ],
   "source": [
    "df.hist(column = 'Rate')"
   ]
  },
  {
   "cell_type": "code",
   "execution_count": 62,
   "id": "6eb624c8",
   "metadata": {},
   "outputs": [
    {
     "data": {
      "text/plain": [
       "array([[<AxesSubplot:title={'center':'Credit_History'}>]], dtype=object)"
      ]
     },
     "execution_count": 62,
     "metadata": {},
     "output_type": "execute_result"
    },
    {
     "data": {
      "image/png": "[encoded data removed]",
      "text/plain": [
       "<Figure size 432x288 with 1 Axes>"
      ]
     },
     "metadata": {
      "needs_background": "light"
     },
     "output_type": "display_data"
    }
   ],
   "source": [
    "df.hist(column = 'Credit_History')"
   ]
  },
  {
   "cell_type": "code",
   "execution_count": 63,
   "id": "d4492d43",
   "metadata": {},
   "outputs": [
    {
     "data": {
      "text/plain": [
       "array([[<AxesSubplot:title={'center':'Amount'}>]], dtype=object)"
      ]
     },
     "execution_count": 63,
     "metadata": {},
     "output_type": "execute_result"
    },
    {
     "data": {
      "image/png": "[encoded data removed]",
      "text/plain": [
       "<Figure size 432x288 with 1 Axes>"
      ]
     },
     "metadata": {
      "needs_background": "light"
     },
     "output_type": "display_data"
    }
   ],
   "source": [
    "df.hist(column = 'Amount')"
   ]
  },
  {
   "cell_type": "code",
   "execution_count": 64,
   "id": "35d3ea2e",
   "metadata": {},
   "outputs": [
    {
     "data": {
      "text/plain": [
       "array([[<AxesSubplot:title={'center':'Loan_Percent_Income'}>]],\n",
       "      dtype=object)"
      ]
     },
     "execution_count": 64,
     "metadata": {},
     "output_type": "execute_result"
    },
    {
     "data": {
      "image/png": "[encoded data removed]",
      "text/plain": [
       "<Figure size 432x288 with 1 Axes>"
      ]
     },
     "metadata": {
      "needs_background": "light"
     },
     "output_type": "display_data"
    }
   ],
   "source": [
    "df.hist(column = 'Loan_Percent_Income')"
   ]
  },
  {
   "cell_type": "code",
   "execution_count": 65,
   "id": "23222651",
   "metadata": {},
   "outputs": [
    {
     "data": {
      "text/plain": [
       "array([[<AxesSubplot:title={'center':'Income'}>]], dtype=object)"
      ]
     },
     "execution_count": 65,
     "metadata": {},
     "output_type": "execute_result"
    },
    {
     "data": {
      "image/png": "[encoded data removed]",
      "text/plain": [
       "<Figure size 432x288 with 1 Axes>"
      ]
     },
     "metadata": {
      "needs_background": "light"
     },
     "output_type": "display_data"
    }
   ],
   "source": [
    "df.hist(column = 'Income')"
   ]
  },
  {
   "cell_type": "markdown",
   "id": "fbfff18d",
   "metadata": {},
   "source": [
    "A quick look at the numerical columns and it can be seen that they are skewed to the left."
   ]
  },
  {
   "cell_type": "code",
   "execution_count": 66,
   "id": "6fea2442",
   "metadata": {},
   "outputs": [
    {
     "data": {
      "text/html": [
       "<div>\n",
       "<style scoped>\n",
       "    .dataframe tbody tr th:only-of-type {\n",
       "        vertical-align: middle;\n",
       "    }\n",
       "\n",
       "    .dataframe tbody tr th {\n",
       "        vertical-align: top;\n",
       "    }\n",
       "\n",
       "    .dataframe thead th {\n",
       "        text-align: right;\n",
       "    }\n",
       "</style>\n",
       "<table border=\"1\" class=\"dataframe\">\n",
       "  <thead>\n",
       "    <tr style=\"text-align: right;\">\n",
       "      <th></th>\n",
       "      <th>Age</th>\n",
       "      <th>Income</th>\n",
       "      <th>Years_Employed</th>\n",
       "      <th>Amount</th>\n",
       "      <th>Rate</th>\n",
       "      <th>Default</th>\n",
       "      <th>Loan_Percent_Income</th>\n",
       "      <th>Credit_History</th>\n",
       "      <th>grade_B</th>\n",
       "      <th>grade_C</th>\n",
       "      <th>...</th>\n",
       "      <th>grade_G</th>\n",
       "      <th>intent_EDUCATION</th>\n",
       "      <th>intent_HOMEIMPROVEMENT</th>\n",
       "      <th>intent_MEDICAL</th>\n",
       "      <th>intent_PERSONAL</th>\n",
       "      <th>intent_VENTURE</th>\n",
       "      <th>home ownership_OTHER</th>\n",
       "      <th>home ownership_OWN</th>\n",
       "      <th>home ownership_RENT</th>\n",
       "      <th>default on file_Y</th>\n",
       "    </tr>\n",
       "  </thead>\n",
       "  <tbody>\n",
       "    <tr>\n",
       "      <th>count</th>\n",
       "      <td>28638.000000</td>\n",
       "      <td>2.863800e+04</td>\n",
       "      <td>28638.000000</td>\n",
       "      <td>28638.000000</td>\n",
       "      <td>28638.000000</td>\n",
       "      <td>28638.000000</td>\n",
       "      <td>28638.000000</td>\n",
       "      <td>28638.000000</td>\n",
       "      <td>28638.000000</td>\n",
       "      <td>28638.000000</td>\n",
       "      <td>...</td>\n",
       "      <td>28638.000000</td>\n",
       "      <td>28638.000000</td>\n",
       "      <td>28638.000000</td>\n",
       "      <td>28638.000000</td>\n",
       "      <td>28638.000000</td>\n",
       "      <td>28638.000000</td>\n",
       "      <td>28638.000000</td>\n",
       "      <td>28638.000000</td>\n",
       "      <td>28638.000000</td>\n",
       "      <td>28638.000000</td>\n",
       "    </tr>\n",
       "    <tr>\n",
       "      <th>mean</th>\n",
       "      <td>27.727216</td>\n",
       "      <td>6.664937e+04</td>\n",
       "      <td>4.788672</td>\n",
       "      <td>9656.493121</td>\n",
       "      <td>11.039867</td>\n",
       "      <td>0.216600</td>\n",
       "      <td>0.169488</td>\n",
       "      <td>5.793736</td>\n",
       "      <td>0.319540</td>\n",
       "      <td>0.199001</td>\n",
       "      <td>...</td>\n",
       "      <td>0.002060</td>\n",
       "      <td>0.199176</td>\n",
       "      <td>0.111670</td>\n",
       "      <td>0.184824</td>\n",
       "      <td>0.170298</td>\n",
       "      <td>0.174628</td>\n",
       "      <td>0.003282</td>\n",
       "      <td>0.076542</td>\n",
       "      <td>0.508101</td>\n",
       "      <td>0.178190</td>\n",
       "    </tr>\n",
       "    <tr>\n",
       "      <th>std</th>\n",
       "      <td>6.310441</td>\n",
       "      <td>6.235645e+04</td>\n",
       "      <td>4.154627</td>\n",
       "      <td>6329.683361</td>\n",
       "      <td>3.229372</td>\n",
       "      <td>0.411935</td>\n",
       "      <td>0.106393</td>\n",
       "      <td>4.038483</td>\n",
       "      <td>0.466307</td>\n",
       "      <td>0.399256</td>\n",
       "      <td>...</td>\n",
       "      <td>0.045343</td>\n",
       "      <td>0.399388</td>\n",
       "      <td>0.314965</td>\n",
       "      <td>0.388162</td>\n",
       "      <td>0.375901</td>\n",
       "      <td>0.379655</td>\n",
       "      <td>0.057199</td>\n",
       "      <td>0.265867</td>\n",
       "      <td>0.499943</td>\n",
       "      <td>0.382679</td>\n",
       "    </tr>\n",
       "    <tr>\n",
       "      <th>min</th>\n",
       "      <td>20.000000</td>\n",
       "      <td>4.000000e+03</td>\n",
       "      <td>0.000000</td>\n",
       "      <td>500.000000</td>\n",
       "      <td>5.420000</td>\n",
       "      <td>0.000000</td>\n",
       "      <td>0.000000</td>\n",
       "      <td>2.000000</td>\n",
       "      <td>0.000000</td>\n",
       "      <td>0.000000</td>\n",
       "      <td>...</td>\n",
       "      <td>0.000000</td>\n",
       "      <td>0.000000</td>\n",
       "      <td>0.000000</td>\n",
       "      <td>0.000000</td>\n",
       "      <td>0.000000</td>\n",
       "      <td>0.000000</td>\n",
       "      <td>0.000000</td>\n",
       "      <td>0.000000</td>\n",
       "      <td>0.000000</td>\n",
       "      <td>0.000000</td>\n",
       "    </tr>\n",
       "    <tr>\n",
       "      <th>25%</th>\n",
       "      <td>23.000000</td>\n",
       "      <td>3.948000e+04</td>\n",
       "      <td>2.000000</td>\n",
       "      <td>5000.000000</td>\n",
       "      <td>7.900000</td>\n",
       "      <td>0.000000</td>\n",
       "      <td>0.090000</td>\n",
       "      <td>3.000000</td>\n",
       "      <td>0.000000</td>\n",
       "      <td>0.000000</td>\n",
       "      <td>...</td>\n",
       "      <td>0.000000</td>\n",
       "      <td>0.000000</td>\n",
       "      <td>0.000000</td>\n",
       "      <td>0.000000</td>\n",
       "      <td>0.000000</td>\n",
       "      <td>0.000000</td>\n",
       "      <td>0.000000</td>\n",
       "      <td>0.000000</td>\n",
       "      <td>0.000000</td>\n",
       "      <td>0.000000</td>\n",
       "    </tr>\n",
       "    <tr>\n",
       "      <th>50%</th>\n",
       "      <td>26.000000</td>\n",
       "      <td>5.595600e+04</td>\n",
       "      <td>4.000000</td>\n",
       "      <td>8000.000000</td>\n",
       "      <td>10.990000</td>\n",
       "      <td>0.000000</td>\n",
       "      <td>0.150000</td>\n",
       "      <td>4.000000</td>\n",
       "      <td>0.000000</td>\n",
       "      <td>0.000000</td>\n",
       "      <td>...</td>\n",
       "      <td>0.000000</td>\n",
       "      <td>0.000000</td>\n",
       "      <td>0.000000</td>\n",
       "      <td>0.000000</td>\n",
       "      <td>0.000000</td>\n",
       "      <td>0.000000</td>\n",
       "      <td>0.000000</td>\n",
       "      <td>0.000000</td>\n",
       "      <td>1.000000</td>\n",
       "      <td>0.000000</td>\n",
       "    </tr>\n",
       "    <tr>\n",
       "      <th>75%</th>\n",
       "      <td>30.000000</td>\n",
       "      <td>8.000000e+04</td>\n",
       "      <td>7.000000</td>\n",
       "      <td>12500.000000</td>\n",
       "      <td>13.480000</td>\n",
       "      <td>0.000000</td>\n",
       "      <td>0.230000</td>\n",
       "      <td>8.000000</td>\n",
       "      <td>1.000000</td>\n",
       "      <td>0.000000</td>\n",
       "      <td>...</td>\n",
       "      <td>0.000000</td>\n",
       "      <td>0.000000</td>\n",
       "      <td>0.000000</td>\n",
       "      <td>0.000000</td>\n",
       "      <td>0.000000</td>\n",
       "      <td>0.000000</td>\n",
       "      <td>0.000000</td>\n",
       "      <td>0.000000</td>\n",
       "      <td>1.000000</td>\n",
       "      <td>0.000000</td>\n",
       "    </tr>\n",
       "    <tr>\n",
       "      <th>max</th>\n",
       "      <td>144.000000</td>\n",
       "      <td>6.000000e+06</td>\n",
       "      <td>123.000000</td>\n",
       "      <td>35000.000000</td>\n",
       "      <td>23.220000</td>\n",
       "      <td>1.000000</td>\n",
       "      <td>0.830000</td>\n",
       "      <td>30.000000</td>\n",
       "      <td>1.000000</td>\n",
       "      <td>1.000000</td>\n",
       "      <td>...</td>\n",
       "      <td>1.000000</td>\n",
       "      <td>1.000000</td>\n",
       "      <td>1.000000</td>\n",
       "      <td>1.000000</td>\n",
       "      <td>1.000000</td>\n",
       "      <td>1.000000</td>\n",
       "      <td>1.000000</td>\n",
       "      <td>1.000000</td>\n",
       "      <td>1.000000</td>\n",
       "      <td>1.000000</td>\n",
       "    </tr>\n",
       "  </tbody>\n",
       "</table>\n",
       "<p>8 rows × 23 columns</p>\n",
       "</div>"
      ],
      "text/plain": [
       "                Age        Income  Years_Employed        Amount          Rate  \\\n",
       "count  28638.000000  2.863800e+04    28638.000000  28638.000000  28638.000000   \n",
       "mean      27.727216  6.664937e+04        4.788672   9656.493121     11.039867   \n",
       "std        6.310441  6.235645e+04        4.154627   6329.683361      3.229372   \n",
       "min       20.000000  4.000000e+03        0.000000    500.000000      5.420000   \n",
       "25%       23.000000  3.948000e+04        2.000000   5000.000000      7.900000   \n",
       "50%       26.000000  5.595600e+04        4.000000   8000.000000     10.990000   \n",
       "75%       30.000000  8.000000e+04        7.000000  12500.000000     13.480000   \n",
       "max      144.000000  6.000000e+06      123.000000  35000.000000     23.220000   \n",
       "\n",
       "            Default  Loan_Percent_Income  Credit_History       grade_B  \\\n",
       "count  28638.000000         28638.000000    28638.000000  28638.000000   \n",
       "mean       0.216600             0.169488        5.793736      0.319540   \n",
       "std        0.411935             0.106393        4.038483      0.466307   \n",
       "min        0.000000             0.000000        2.000000      0.000000   \n",
       "25%        0.000000             0.090000        3.000000      0.000000   \n",
       "50%        0.000000             0.150000        4.000000      0.000000   \n",
       "75%        0.000000             0.230000        8.000000      1.000000   \n",
       "max        1.000000             0.830000       30.000000      1.000000   \n",
       "\n",
       "            grade_C  ...       grade_G  intent_EDUCATION  \\\n",
       "count  28638.000000  ...  28638.000000      28638.000000   \n",
       "mean       0.199001  ...      0.002060          0.199176   \n",
       "std        0.399256  ...      0.045343          0.399388   \n",
       "min        0.000000  ...      0.000000          0.000000   \n",
       "25%        0.000000  ...      0.000000          0.000000   \n",
       "50%        0.000000  ...      0.000000          0.000000   \n",
       "75%        0.000000  ...      0.000000          0.000000   \n",
       "max        1.000000  ...      1.000000          1.000000   \n",
       "\n",
       "       intent_HOMEIMPROVEMENT  intent_MEDICAL  intent_PERSONAL  \\\n",
       "count            28638.000000    28638.000000     28638.000000   \n",
       "mean                 0.111670        0.184824         0.170298   \n",
       "std                  0.314965        0.388162         0.375901   \n",
       "min                  0.000000        0.000000         0.000000   \n",
       "25%                  0.000000        0.000000         0.000000   \n",
       "50%                  0.000000        0.000000         0.000000   \n",
       "75%                  0.000000        0.000000         0.000000   \n",
       "max                  1.000000        1.000000         1.000000   \n",
       "\n",
       "       intent_VENTURE  home ownership_OTHER  home ownership_OWN  \\\n",
       "count    28638.000000          28638.000000        28638.000000   \n",
       "mean         0.174628              0.003282            0.076542   \n",
       "std          0.379655              0.057199            0.265867   \n",
       "min          0.000000              0.000000            0.000000   \n",
       "25%          0.000000              0.000000            0.000000   \n",
       "50%          0.000000              0.000000            0.000000   \n",
       "75%          0.000000              0.000000            0.000000   \n",
       "max          1.000000              1.000000            1.000000   \n",
       "\n",
       "       home ownership_RENT  default on file_Y  \n",
       "count         28638.000000       28638.000000  \n",
       "mean              0.508101           0.178190  \n",
       "std               0.499943           0.382679  \n",
       "min               0.000000           0.000000  \n",
       "25%               0.000000           0.000000  \n",
       "50%               1.000000           0.000000  \n",
       "75%               1.000000           0.000000  \n",
       "max               1.000000           1.000000  \n",
       "\n",
       "[8 rows x 23 columns]"
      ]
     },
     "execution_count": 66,
     "metadata": {},
     "output_type": "execute_result"
    }
   ],
   "source": [
    "df.describe()"
   ]
  },
  {
   "cell_type": "markdown",
   "id": "a159d2e6",
   "metadata": {},
   "source": [
    "# Train/Split Data"
   ]
  },
  {
   "cell_type": "code",
   "execution_count": 67,
   "id": "430bb237",
   "metadata": {},
   "outputs": [],
   "source": [
    "X_train, X_test, y_train, y_test = train_test_split(df.drop(columns='Default'), \n",
    "                                                    df.Default, test_size=0.2, \n",
    "                                                    random_state=50)"
   ]
  },
  {
   "cell_type": "code",
   "execution_count": 68,
   "id": "fcc05a44",
   "metadata": {},
   "outputs": [
    {
     "data": {
      "text/plain": [
       "Age                         int64\n",
       "Income                      int64\n",
       "home ownership             object\n",
       "Years_Employed            float64\n",
       "intent                     object\n",
       "grade                      object\n",
       "Amount                      int64\n",
       "Rate                      float64\n",
       "Loan_Percent_Income       float64\n",
       "default on file            object\n",
       "Credit_History              int64\n",
       "grade_B                     uint8\n",
       "grade_C                     uint8\n",
       "grade_D                     uint8\n",
       "grade_E                     uint8\n",
       "grade_F                     uint8\n",
       "grade_G                     uint8\n",
       "intent_EDUCATION            uint8\n",
       "intent_HOMEIMPROVEMENT      uint8\n",
       "intent_MEDICAL              uint8\n",
       "intent_PERSONAL             uint8\n",
       "intent_VENTURE              uint8\n",
       "home ownership_OTHER        uint8\n",
       "home ownership_OWN          uint8\n",
       "home ownership_RENT         uint8\n",
       "default on file_Y           uint8\n",
       "dtype: object"
      ]
     },
     "execution_count": 68,
     "metadata": {},
     "output_type": "execute_result"
    }
   ],
   "source": [
    "X_train.dtypes\n"
   ]
  },
  {
   "cell_type": "code",
   "execution_count": 69,
   "id": "da583a3c",
   "metadata": {},
   "outputs": [
    {
     "data": {
      "text/plain": [
       "Age                         int64\n",
       "Income                      int64\n",
       "home ownership             object\n",
       "Years_Employed            float64\n",
       "intent                     object\n",
       "grade                      object\n",
       "Amount                      int64\n",
       "Rate                      float64\n",
       "Loan_Percent_Income       float64\n",
       "default on file            object\n",
       "Credit_History              int64\n",
       "grade_B                     uint8\n",
       "grade_C                     uint8\n",
       "grade_D                     uint8\n",
       "grade_E                     uint8\n",
       "grade_F                     uint8\n",
       "grade_G                     uint8\n",
       "intent_EDUCATION            uint8\n",
       "intent_HOMEIMPROVEMENT      uint8\n",
       "intent_MEDICAL              uint8\n",
       "intent_PERSONAL             uint8\n",
       "intent_VENTURE              uint8\n",
       "home ownership_OTHER        uint8\n",
       "home ownership_OWN          uint8\n",
       "home ownership_RENT         uint8\n",
       "default on file_Y           uint8\n",
       "dtype: object"
      ]
     },
     "execution_count": 69,
     "metadata": {},
     "output_type": "execute_result"
    }
   ],
   "source": [
    "X_test.dtypes"
   ]
  },
  {
   "cell_type": "code",
   "execution_count": 70,
   "id": "d0c684e4",
   "metadata": {},
   "outputs": [],
   "source": [
    "# Dropping object columns\n",
    "names_list = ['home ownership', 'intent', 'grade', 'default on file']\n",
    "names_train = X_train[names_list]\n",
    "names_test = X_test[names_list]\n",
    "X_train.drop(columns=names_list, inplace=True)\n",
    "X_test.drop(columns=names_list, inplace=True)\n"
   ]
  },
  {
   "cell_type": "code",
   "execution_count": 75,
   "id": "9200cd1a",
   "metadata": {},
   "outputs": [],
   "source": [
    "# scaling the data\n",
    "scaler = StandardScaler()\n",
    "scaler.fit(X_train)\n",
    "X_tr_scaled = scaler.transform(X_train)\n",
    "X_te_scaled = scaler.transform(X_test)"
   ]
  },
  {
   "cell_type": "code",
   "execution_count": 77,
   "id": "d79c3df2",
   "metadata": {},
   "outputs": [
    {
     "name": "stdout",
     "output_type": "stream",
     "text": [
      "[[ 1.15602471 -0.25767533  0.28986669 ... -0.28758166  0.98251856\n",
      "  -0.46291414]\n",
      " [-1.06696378 -0.14786442  0.05021148 ...  3.47727315 -1.01779248\n",
      "  -0.46291414]\n",
      " [-0.27303932 -0.3361117  -0.18944373 ... -0.28758166 -1.01779248\n",
      "  -0.46291414]\n",
      " ...\n",
      " [-0.90817889  0.13450649 -0.18944373 ... -0.28758166 -1.01779248\n",
      "  -0.46291414]\n",
      " [-0.43182421 -0.41454806 -1.14806459 ... -0.28758166  0.98251856\n",
      "  -0.46291414]\n",
      " [-0.74939399 -0.25767533 -1.14806459 ... -0.28758166  0.98251856\n",
      "  -0.46291414]]\n"
     ]
    }
   ],
   "source": [
    "print(X_tr_scaled)"
   ]
  }
 ],
 "metadata": {
  "kernelspec": {
   "display_name": "Python 3",
   "language": "python",
   "name": "python3"
  },
  "language_info": {
   "codemirror_mode": {
    "name": "ipython",
    "version": 3
   },
   "file_extension": ".py",
   "mimetype": "text/x-python",
   "name": "python",
   "nbconvert_exporter": "python",
   "pygments_lexer": "ipython3",
   "version": "3.8.8"
  }
 },
 "nbformat": 4,
 "nbformat_minor": 5
}
