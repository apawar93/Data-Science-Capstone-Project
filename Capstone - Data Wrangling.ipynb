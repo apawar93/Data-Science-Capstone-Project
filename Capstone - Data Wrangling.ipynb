{
 "cells": [
  {
   "cell_type": "markdown",
   "id": "0b0ccf73",
   "metadata": {},
   "source": [
    "# Data Wrangling"
   ]
  },
  {
   "cell_type": "markdown",
   "id": "cca6d6f6",
   "metadata": {},
   "source": [
    "In this data wrangling exercise I did the following steps:\n",
    "\n",
    "    1. Imported the data and converted it into a Pandas DataFrame\n",
    "    \n",
    "    2. Checked for null values and replaced them with the appropriate values based on their distributions\n",
    "    \n",
    "    3. Checked for other anomalies in the dataset and filtered out those columns \n",
    "    \n",
    "    4. Did preliminary analysis on the data"
   ]
  },
  {
   "cell_type": "code",
   "execution_count": null,
   "id": "08bd122f",
   "metadata": {},
   "outputs": [],
   "source": [
    "import numpy as np\n",
    "import pandas as pd"
   ]
  },
  {
   "cell_type": "code",
   "execution_count": 2,
   "id": "c1796702",
   "metadata": {},
   "outputs": [],
   "source": [
    "df = pd.read_csv('credit risk.csv')"
   ]
  },
  {
   "cell_type": "code",
   "execution_count": 3,
   "id": "538dffde",
   "metadata": {},
   "outputs": [
    {
     "data": {
      "text/html": [
       "<div>\n",
       "<style scoped>\n",
       "    .dataframe tbody tr th:only-of-type {\n",
       "        vertical-align: middle;\n",
       "    }\n",
       "\n",
       "    .dataframe tbody tr th {\n",
       "        vertical-align: top;\n",
       "    }\n",
       "\n",
       "    .dataframe thead th {\n",
       "        text-align: right;\n",
       "    }\n",
       "</style>\n",
       "<table border=\"1\" class=\"dataframe\">\n",
       "  <thead>\n",
       "    <tr style=\"text-align: right;\">\n",
       "      <th></th>\n",
       "      <th>person_age</th>\n",
       "      <th>person_income</th>\n",
       "      <th>person_home_ownership</th>\n",
       "      <th>person_emp_length</th>\n",
       "      <th>loan_intent</th>\n",
       "      <th>loan_grade</th>\n",
       "      <th>loan_amnt</th>\n",
       "      <th>loan_int_rate</th>\n",
       "      <th>loan_status</th>\n",
       "      <th>loan_percent_income</th>\n",
       "      <th>cb_person_default_on_file</th>\n",
       "      <th>cb_person_cred_hist_length</th>\n",
       "    </tr>\n",
       "  </thead>\n",
       "  <tbody>\n",
       "    <tr>\n",
       "      <th>0</th>\n",
       "      <td>22</td>\n",
       "      <td>59000</td>\n",
       "      <td>RENT</td>\n",
       "      <td>123.0</td>\n",
       "      <td>PERSONAL</td>\n",
       "      <td>D</td>\n",
       "      <td>35000</td>\n",
       "      <td>16.02</td>\n",
       "      <td>1</td>\n",
       "      <td>0.59</td>\n",
       "      <td>Y</td>\n",
       "      <td>3</td>\n",
       "    </tr>\n",
       "    <tr>\n",
       "      <th>1</th>\n",
       "      <td>21</td>\n",
       "      <td>9600</td>\n",
       "      <td>OWN</td>\n",
       "      <td>5.0</td>\n",
       "      <td>EDUCATION</td>\n",
       "      <td>B</td>\n",
       "      <td>1000</td>\n",
       "      <td>11.14</td>\n",
       "      <td>0</td>\n",
       "      <td>0.10</td>\n",
       "      <td>N</td>\n",
       "      <td>2</td>\n",
       "    </tr>\n",
       "    <tr>\n",
       "      <th>2</th>\n",
       "      <td>25</td>\n",
       "      <td>9600</td>\n",
       "      <td>MORTGAGE</td>\n",
       "      <td>1.0</td>\n",
       "      <td>MEDICAL</td>\n",
       "      <td>C</td>\n",
       "      <td>5500</td>\n",
       "      <td>12.87</td>\n",
       "      <td>1</td>\n",
       "      <td>0.57</td>\n",
       "      <td>N</td>\n",
       "      <td>3</td>\n",
       "    </tr>\n",
       "    <tr>\n",
       "      <th>3</th>\n",
       "      <td>23</td>\n",
       "      <td>65500</td>\n",
       "      <td>RENT</td>\n",
       "      <td>4.0</td>\n",
       "      <td>MEDICAL</td>\n",
       "      <td>C</td>\n",
       "      <td>35000</td>\n",
       "      <td>15.23</td>\n",
       "      <td>1</td>\n",
       "      <td>0.53</td>\n",
       "      <td>N</td>\n",
       "      <td>2</td>\n",
       "    </tr>\n",
       "    <tr>\n",
       "      <th>4</th>\n",
       "      <td>24</td>\n",
       "      <td>54400</td>\n",
       "      <td>RENT</td>\n",
       "      <td>8.0</td>\n",
       "      <td>MEDICAL</td>\n",
       "      <td>C</td>\n",
       "      <td>35000</td>\n",
       "      <td>14.27</td>\n",
       "      <td>1</td>\n",
       "      <td>0.55</td>\n",
       "      <td>Y</td>\n",
       "      <td>4</td>\n",
       "    </tr>\n",
       "  </tbody>\n",
       "</table>\n",
       "</div>"
      ],
      "text/plain": [
       "   person_age  person_income person_home_ownership  person_emp_length  \\\n",
       "0          22          59000                  RENT              123.0   \n",
       "1          21           9600                   OWN                5.0   \n",
       "2          25           9600              MORTGAGE                1.0   \n",
       "3          23          65500                  RENT                4.0   \n",
       "4          24          54400                  RENT                8.0   \n",
       "\n",
       "  loan_intent loan_grade  loan_amnt  loan_int_rate  loan_status  \\\n",
       "0    PERSONAL          D      35000          16.02            1   \n",
       "1   EDUCATION          B       1000          11.14            0   \n",
       "2     MEDICAL          C       5500          12.87            1   \n",
       "3     MEDICAL          C      35000          15.23            1   \n",
       "4     MEDICAL          C      35000          14.27            1   \n",
       "\n",
       "   loan_percent_income cb_person_default_on_file  cb_person_cred_hist_length  \n",
       "0                 0.59                         Y                           3  \n",
       "1                 0.10                         N                           2  \n",
       "2                 0.57                         N                           3  \n",
       "3                 0.53                         N                           2  \n",
       "4                 0.55                         Y                           4  "
      ]
     },
     "execution_count": 3,
     "metadata": {},
     "output_type": "execute_result"
    }
   ],
   "source": [
    "df.head()"
   ]
  },
  {
   "cell_type": "code",
   "execution_count": 5,
   "id": "0e302489",
   "metadata": {},
   "outputs": [],
   "source": [
    "df = df.rename(index=str, columns={\"person_age\":\"Age\", \"person_income\":\"Income\", \"person_home_ownership\":\"home ownership\", \"person_emp_length\":\"Years_Employed\",\"loan_intent\":\"intent\",\"loan_amnt\":\"Amount\",\"loan_int_rate\":\"Rate\",\"loan_status\":\"Default\",\"loan_percent_income\":\"Loan_Percent_Income\",\"cb_person_default_on_file\":\"default on file\",\"cb_person_cred_hist_length\":\"Credit_History\",\"loan_grade\":\"grade\"})"
   ]
  },
  {
   "cell_type": "code",
   "execution_count": 6,
   "id": "56e9900b",
   "metadata": {},
   "outputs": [
    {
     "data": {
      "text/html": [
       "<div>\n",
       "<style scoped>\n",
       "    .dataframe tbody tr th:only-of-type {\n",
       "        vertical-align: middle;\n",
       "    }\n",
       "\n",
       "    .dataframe tbody tr th {\n",
       "        vertical-align: top;\n",
       "    }\n",
       "\n",
       "    .dataframe thead th {\n",
       "        text-align: right;\n",
       "    }\n",
       "</style>\n",
       "<table border=\"1\" class=\"dataframe\">\n",
       "  <thead>\n",
       "    <tr style=\"text-align: right;\">\n",
       "      <th></th>\n",
       "      <th>Age</th>\n",
       "      <th>Income</th>\n",
       "      <th>home ownership</th>\n",
       "      <th>Years_Employed</th>\n",
       "      <th>intent</th>\n",
       "      <th>grade</th>\n",
       "      <th>Amount</th>\n",
       "      <th>Rate</th>\n",
       "      <th>Default</th>\n",
       "      <th>Loan_Percent_Income</th>\n",
       "      <th>default on file</th>\n",
       "      <th>Credit_History</th>\n",
       "    </tr>\n",
       "  </thead>\n",
       "  <tbody>\n",
       "    <tr>\n",
       "      <th>0</th>\n",
       "      <td>22</td>\n",
       "      <td>59000</td>\n",
       "      <td>RENT</td>\n",
       "      <td>123.0</td>\n",
       "      <td>PERSONAL</td>\n",
       "      <td>D</td>\n",
       "      <td>35000</td>\n",
       "      <td>16.02</td>\n",
       "      <td>1</td>\n",
       "      <td>0.59</td>\n",
       "      <td>Y</td>\n",
       "      <td>3</td>\n",
       "    </tr>\n",
       "    <tr>\n",
       "      <th>1</th>\n",
       "      <td>21</td>\n",
       "      <td>9600</td>\n",
       "      <td>OWN</td>\n",
       "      <td>5.0</td>\n",
       "      <td>EDUCATION</td>\n",
       "      <td>B</td>\n",
       "      <td>1000</td>\n",
       "      <td>11.14</td>\n",
       "      <td>0</td>\n",
       "      <td>0.10</td>\n",
       "      <td>N</td>\n",
       "      <td>2</td>\n",
       "    </tr>\n",
       "    <tr>\n",
       "      <th>2</th>\n",
       "      <td>25</td>\n",
       "      <td>9600</td>\n",
       "      <td>MORTGAGE</td>\n",
       "      <td>1.0</td>\n",
       "      <td>MEDICAL</td>\n",
       "      <td>C</td>\n",
       "      <td>5500</td>\n",
       "      <td>12.87</td>\n",
       "      <td>1</td>\n",
       "      <td>0.57</td>\n",
       "      <td>N</td>\n",
       "      <td>3</td>\n",
       "    </tr>\n",
       "    <tr>\n",
       "      <th>3</th>\n",
       "      <td>23</td>\n",
       "      <td>65500</td>\n",
       "      <td>RENT</td>\n",
       "      <td>4.0</td>\n",
       "      <td>MEDICAL</td>\n",
       "      <td>C</td>\n",
       "      <td>35000</td>\n",
       "      <td>15.23</td>\n",
       "      <td>1</td>\n",
       "      <td>0.53</td>\n",
       "      <td>N</td>\n",
       "      <td>2</td>\n",
       "    </tr>\n",
       "    <tr>\n",
       "      <th>4</th>\n",
       "      <td>24</td>\n",
       "      <td>54400</td>\n",
       "      <td>RENT</td>\n",
       "      <td>8.0</td>\n",
       "      <td>MEDICAL</td>\n",
       "      <td>C</td>\n",
       "      <td>35000</td>\n",
       "      <td>14.27</td>\n",
       "      <td>1</td>\n",
       "      <td>0.55</td>\n",
       "      <td>Y</td>\n",
       "      <td>4</td>\n",
       "    </tr>\n",
       "  </tbody>\n",
       "</table>\n",
       "</div>"
      ],
      "text/plain": [
       "   Age  Income home ownership  Years_Employed     intent grade  Amount   Rate  \\\n",
       "0   22   59000           RENT           123.0   PERSONAL     D   35000  16.02   \n",
       "1   21    9600            OWN             5.0  EDUCATION     B    1000  11.14   \n",
       "2   25    9600       MORTGAGE             1.0    MEDICAL     C    5500  12.87   \n",
       "3   23   65500           RENT             4.0    MEDICAL     C   35000  15.23   \n",
       "4   24   54400           RENT             8.0    MEDICAL     C   35000  14.27   \n",
       "\n",
       "   Default  Loan_Percent_Income default on file  Credit_History  \n",
       "0        1                 0.59               Y               3  \n",
       "1        0                 0.10               N               2  \n",
       "2        1                 0.57               N               3  \n",
       "3        1                 0.53               N               2  \n",
       "4        1                 0.55               Y               4  "
      ]
     },
     "execution_count": 6,
     "metadata": {},
     "output_type": "execute_result"
    }
   ],
   "source": [
    "df.head()"
   ]
  },
  {
   "cell_type": "code",
   "execution_count": 7,
   "id": "7dc90d80",
   "metadata": {},
   "outputs": [
    {
     "name": "stdout",
     "output_type": "stream",
     "text": [
      "       Age  Income home ownership  Years_Employed           intent grade  \\\n",
      "0       22   59000           RENT           123.0         PERSONAL     D   \n",
      "1       21    9600            OWN             5.0        EDUCATION     B   \n",
      "2       25    9600       MORTGAGE             1.0          MEDICAL     C   \n",
      "3       23   65500           RENT             4.0          MEDICAL     C   \n",
      "4       24   54400           RENT             8.0          MEDICAL     C   \n",
      "...    ...     ...            ...             ...              ...   ...   \n",
      "32576   57   53000       MORTGAGE             1.0         PERSONAL     C   \n",
      "32577   54  120000       MORTGAGE             4.0         PERSONAL     A   \n",
      "32578   65   76000           RENT             3.0  HOMEIMPROVEMENT     B   \n",
      "32579   56  150000       MORTGAGE             5.0         PERSONAL     B   \n",
      "32580   66   42000           RENT             2.0          MEDICAL     B   \n",
      "\n",
      "       Amount   Rate  Default  Loan_Percent_Income default on file  \\\n",
      "0       35000  16.02        1                 0.59               Y   \n",
      "1        1000  11.14        0                 0.10               N   \n",
      "2        5500  12.87        1                 0.57               N   \n",
      "3       35000  15.23        1                 0.53               N   \n",
      "4       35000  14.27        1                 0.55               Y   \n",
      "...       ...    ...      ...                  ...             ...   \n",
      "32576    5800  13.16        0                 0.11               N   \n",
      "32577   17625   7.49        0                 0.15               N   \n",
      "32578   35000  10.99        1                 0.46               N   \n",
      "32579   15000  11.48        0                 0.10               N   \n",
      "32580    6475   9.99        0                 0.15               N   \n",
      "\n",
      "       Credit_History  \n",
      "0                   3  \n",
      "1                   2  \n",
      "2                   3  \n",
      "3                   2  \n",
      "4                   4  \n",
      "...               ...  \n",
      "32576              30  \n",
      "32577              19  \n",
      "32578              28  \n",
      "32579              26  \n",
      "32580              30  \n",
      "\n",
      "[32581 rows x 12 columns]\n"
     ]
    }
   ],
   "source": [
    "print(df)"
   ]
  },
  {
   "cell_type": "markdown",
   "id": "b24f7afc",
   "metadata": {},
   "source": [
    "## Checking And Replacing Null Values"
   ]
  },
  {
   "cell_type": "code",
   "execution_count": 8,
   "id": "f708e027",
   "metadata": {},
   "outputs": [
    {
     "data": {
      "text/plain": [
       "True"
      ]
     },
     "execution_count": 8,
     "metadata": {},
     "output_type": "execute_result"
    }
   ],
   "source": [
    "df.isnull().values.any()"
   ]
  },
  {
   "cell_type": "code",
   "execution_count": 10,
   "id": "061f8adb",
   "metadata": {},
   "outputs": [
    {
     "data": {
      "text/html": [
       "<div>\n",
       "<style scoped>\n",
       "    .dataframe tbody tr th:only-of-type {\n",
       "        vertical-align: middle;\n",
       "    }\n",
       "\n",
       "    .dataframe tbody tr th {\n",
       "        vertical-align: top;\n",
       "    }\n",
       "\n",
       "    .dataframe thead th {\n",
       "        text-align: right;\n",
       "    }\n",
       "</style>\n",
       "<table border=\"1\" class=\"dataframe\">\n",
       "  <thead>\n",
       "    <tr style=\"text-align: right;\">\n",
       "      <th></th>\n",
       "      <th>VarName</th>\n",
       "      <th>NullCount</th>\n",
       "    </tr>\n",
       "  </thead>\n",
       "  <tbody>\n",
       "    <tr>\n",
       "      <th>0</th>\n",
       "      <td>Rate</td>\n",
       "      <td>3116</td>\n",
       "    </tr>\n",
       "    <tr>\n",
       "      <th>1</th>\n",
       "      <td>Years_Employed</td>\n",
       "      <td>895</td>\n",
       "    </tr>\n",
       "  </tbody>\n",
       "</table>\n",
       "</div>"
      ],
      "text/plain": [
       "          VarName  NullCount\n",
       "0            Rate       3116\n",
       "1  Years_Employed        895"
      ]
     },
     "execution_count": 10,
     "metadata": {},
     "output_type": "execute_result"
    }
   ],
   "source": [
    "na_df=pd.DataFrame(df.isnull().sum().sort_values(ascending=False)).reset_index()\n",
    "na_df.columns = ['VarName', 'NullCount']\n",
    "na_df[(na_df['NullCount']>0)]"
   ]
  },
  {
   "cell_type": "code",
   "execution_count": 11,
   "id": "f41eebdb",
   "metadata": {},
   "outputs": [
    {
     "data": {
      "text/plain": [
       "array([[<AxesSubplot:title={'center':'Rate'}>]], dtype=object)"
      ]
     },
     "execution_count": 11,
     "metadata": {},
     "output_type": "execute_result"
    },
    {
     "data": {
      "image/png": "[encoded data removed]",
      "text/plain": [
       "<Figure size 432x288 with 1 Axes>"
      ]
     },
     "metadata": {
      "needs_background": "light"
     },
     "output_type": "display_data"
    }
   ],
   "source": [
    "df.hist(column = 'Rate')"
   ]
  },
  {
   "cell_type": "code",
   "execution_count": 12,
   "id": "5b2ff3c9",
   "metadata": {},
   "outputs": [
    {
     "data": {
      "text/plain": [
       "array([[<AxesSubplot:title={'center':'Years_Employed'}>]], dtype=object)"
      ]
     },
     "execution_count": 12,
     "metadata": {},
     "output_type": "execute_result"
    },
    {
     "data": {
      "image/png": "[encoded data removed]",
      "text/plain": [
       "<Figure size 432x288 with 1 Axes>"
      ]
     },
     "metadata": {
      "needs_background": "light"
     },
     "output_type": "display_data"
    }
   ],
   "source": [
    "df.hist(column = 'Years_Employed')"
   ]
  },
  {
   "cell_type": "markdown",
   "id": "897cee57",
   "metadata": {},
   "source": [
    "Both the interest rate and years employed columns are left skewed. Therefore I will use median to fill in the null values in those columns."
   ]
  },
  {
   "cell_type": "code",
   "execution_count": 14,
   "id": "e04c8f2a",
   "metadata": {},
   "outputs": [],
   "source": [
    "df['Rate'].fillna((df['Rate'].median()), inplace=True)\n",
    "df['Years_Employed'].fillna((df['Years_Employed'].median()), inplace=True)"
   ]
  },
  {
   "cell_type": "code",
   "execution_count": 15,
   "id": "f1a7888b",
   "metadata": {},
   "outputs": [
    {
     "name": "stdout",
     "output_type": "stream",
     "text": [
      "23     3889\n",
      "22     3633\n",
      "24     3549\n",
      "25     3037\n",
      "26     2477\n",
      "27     2138\n",
      "28     1854\n",
      "29     1687\n",
      "30     1316\n",
      "21     1229\n",
      "31     1142\n",
      "32      964\n",
      "33      856\n",
      "34      709\n",
      "35      620\n",
      "36      548\n",
      "37      478\n",
      "38      373\n",
      "39      302\n",
      "40      271\n",
      "41      241\n",
      "42      188\n",
      "43      164\n",
      "44      141\n",
      "45      108\n",
      "47       94\n",
      "46       94\n",
      "48       75\n",
      "50       52\n",
      "49       49\n",
      "51       39\n",
      "52       36\n",
      "53       30\n",
      "54       24\n",
      "55       20\n",
      "58       19\n",
      "56       15\n",
      "20       15\n",
      "57       15\n",
      "60       15\n",
      "66        9\n",
      "65        9\n",
      "61        9\n",
      "62        7\n",
      "64        7\n",
      "70        7\n",
      "59        5\n",
      "69        5\n",
      "73        3\n",
      "144       3\n",
      "63        3\n",
      "123       2\n",
      "80        1\n",
      "76        1\n",
      "78        1\n",
      "94        1\n",
      "67        1\n",
      "84        1\n",
      "Name: Age, dtype: int64\n"
     ]
    }
   ],
   "source": [
    "print(df['Age'].value_counts())"
   ]
  },
  {
   "cell_type": "markdown",
   "id": "b6ec3668",
   "metadata": {},
   "source": [
    "It seems that there are borrowers in this dataset that are more than 100 years old. This is clearly an error and needs to fixed by filtering out those borrowers."
   ]
  },
  {
   "cell_type": "code",
   "execution_count": 16,
   "id": "592d832a",
   "metadata": {},
   "outputs": [],
   "source": [
    "df = df[df['Age']<100]"
   ]
  },
  {
   "cell_type": "code",
   "execution_count": 17,
   "id": "8a7597e7",
   "metadata": {},
   "outputs": [
    {
     "name": "stdout",
     "output_type": "stream",
     "text": [
      "0.000000      4105\n",
      "2.000000      3848\n",
      "3.000000      3456\n",
      "5.000000      2946\n",
      "1.000000      2915\n",
      "4.000000      2872\n",
      "6.000000      2666\n",
      "7.000000      2195\n",
      "8.000000      1687\n",
      "9.000000      1367\n",
      "4.789686       895\n",
      "11.000000      740\n",
      "10.000000      696\n",
      "12.000000      574\n",
      "13.000000      426\n",
      "14.000000      335\n",
      "15.000000      238\n",
      "16.000000      165\n",
      "17.000000      129\n",
      "18.000000      104\n",
      "19.000000       64\n",
      "20.000000       42\n",
      "21.000000       38\n",
      "22.000000       19\n",
      "24.000000       10\n",
      "23.000000       10\n",
      "25.000000        8\n",
      "26.000000        6\n",
      "27.000000        5\n",
      "31.000000        4\n",
      "28.000000        3\n",
      "123.000000       2\n",
      "30.000000        2\n",
      "34.000000        1\n",
      "29.000000        1\n",
      "41.000000        1\n",
      "38.000000        1\n",
      "Name: Years_Employed, dtype: int64\n"
     ]
    }
   ],
   "source": [
    "print(df['Years_Employed'].value_counts())"
   ]
  },
  {
   "cell_type": "markdown",
   "id": "9b6e3b94",
   "metadata": {},
   "source": [
    "For years employeed there borrowers who had more than 40 years of work experience. That is also a mistakes, and we need to filter columns in which borrowers had more than 40 years of work experience."
   ]
  },
  {
   "cell_type": "code",
   "execution_count": 18,
   "id": "6aac61cf",
   "metadata": {},
   "outputs": [],
   "source": [
    "df = df[df['Years_Employed']<=40]"
   ]
  },
  {
   "cell_type": "code",
   "execution_count": 19,
   "id": "71d5408f",
   "metadata": {},
   "outputs": [
    {
     "name": "stdout",
     "output_type": "stream",
     "text": [
      "0.000000     4105\n",
      "2.000000     3848\n",
      "3.000000     3456\n",
      "5.000000     2946\n",
      "1.000000     2915\n",
      "4.000000     2872\n",
      "6.000000     2666\n",
      "7.000000     2195\n",
      "8.000000     1687\n",
      "9.000000     1367\n",
      "4.789686      895\n",
      "11.000000     740\n",
      "10.000000     696\n",
      "12.000000     574\n",
      "13.000000     426\n",
      "14.000000     335\n",
      "15.000000     238\n",
      "16.000000     165\n",
      "17.000000     129\n",
      "18.000000     104\n",
      "19.000000      64\n",
      "20.000000      42\n",
      "21.000000      38\n",
      "22.000000      19\n",
      "24.000000      10\n",
      "23.000000      10\n",
      "25.000000       8\n",
      "26.000000       6\n",
      "27.000000       5\n",
      "31.000000       4\n",
      "28.000000       3\n",
      "30.000000       2\n",
      "34.000000       1\n",
      "38.000000       1\n",
      "29.000000       1\n",
      "Name: Years_Employed, dtype: int64\n"
     ]
    }
   ],
   "source": [
    "print(df['Years_Employed'].value_counts())"
   ]
  },
  {
   "cell_type": "code",
   "execution_count": 8,
   "id": "268bdec6",
   "metadata": {},
   "outputs": [
    {
     "data": {
      "text/plain": [
       "Age                      int64\n",
       "Income                   int64\n",
       "home ownership          object\n",
       "Years_Employed         float64\n",
       "intent                  object\n",
       "grade                   object\n",
       "Amount                   int64\n",
       "Rate                   float64\n",
       "Default                  int64\n",
       "Loan_Percent_Income    float64\n",
       "default on file         object\n",
       "Credit_History           int64\n",
       "dtype: object"
      ]
     },
     "execution_count": 8,
     "metadata": {},
     "output_type": "execute_result"
    }
   ],
   "source": [
    "df.dtypes"
   ]
  },
  {
   "cell_type": "code",
   "execution_count": 11,
   "id": "83a710c4",
   "metadata": {},
   "outputs": [
    {
     "name": "stdout",
     "output_type": "stream",
     "text": [
      "       Age  Income home ownership  Years_Employed           intent grade  \\\n",
      "0       22   59000           RENT           123.0         PERSONAL     D   \n",
      "1       21    9600            OWN             5.0        EDUCATION     B   \n",
      "2       25    9600       MORTGAGE             1.0          MEDICAL     C   \n",
      "3       23   65500           RENT             4.0          MEDICAL     C   \n",
      "4       24   54400           RENT             8.0          MEDICAL     C   \n",
      "...    ...     ...            ...             ...              ...   ...   \n",
      "32576   57   53000       MORTGAGE             1.0         PERSONAL     C   \n",
      "32577   54  120000       MORTGAGE             4.0         PERSONAL     A   \n",
      "32578   65   76000           RENT             3.0  HOMEIMPROVEMENT     B   \n",
      "32579   56  150000       MORTGAGE             5.0         PERSONAL     B   \n",
      "32580   66   42000           RENT             2.0          MEDICAL     B   \n",
      "\n",
      "       Amount   Rate  Default  Loan_Percent_Income default on file  \\\n",
      "0       35000  16.02        1                 0.59               Y   \n",
      "1        1000  11.14        0                 0.10               N   \n",
      "2        5500  12.87        1                 0.57               N   \n",
      "3       35000  15.23        1                 0.53               N   \n",
      "4       35000  14.27        1                 0.55               Y   \n",
      "...       ...    ...      ...                  ...             ...   \n",
      "32576    5800  13.16        0                 0.11               N   \n",
      "32577   17625   7.49        0                 0.15               N   \n",
      "32578   35000  10.99        1                 0.46               N   \n",
      "32579   15000  11.48        0                 0.10               N   \n",
      "32580    6475   9.99        0                 0.15               N   \n",
      "\n",
      "       Credit_History  \n",
      "0                   3  \n",
      "1                   2  \n",
      "2                   3  \n",
      "3                   2  \n",
      "4                   4  \n",
      "...               ...  \n",
      "32576              30  \n",
      "32577              19  \n",
      "32578              28  \n",
      "32579              26  \n",
      "32580              30  \n",
      "\n",
      "[28638 rows x 12 columns]\n"
     ]
    }
   ],
   "source": [
    "print(df)"
   ]
  },
  {
   "cell_type": "markdown",
   "id": "ec135789",
   "metadata": {},
   "source": [
    "## Data Groupings"
   ]
  },
  {
   "cell_type": "code",
   "execution_count": 13,
   "id": "586bf75c",
   "metadata": {},
   "outputs": [
    {
     "name": "stdout",
     "output_type": "stream",
     "text": [
      "intent\n",
      "DEBTCONSOLIDATION    11.022421\n",
      "EDUCATION            10.982582\n",
      "HOMEIMPROVEMENT      11.225819\n",
      "MEDICAL              11.079414\n",
      "PERSONAL             11.020906\n",
      "VENTURE              10.978850\n",
      "Name: Rate, dtype: float64\n"
     ]
    }
   ],
   "source": [
    "# average interest rate by loan intent\n",
    "\n",
    "df2= df.set_index('intent').groupby('intent').mean()\n",
    "\n",
    "intent = df2.Rate\n",
    "\n",
    "print(intent)"
   ]
  },
  {
   "cell_type": "code",
   "execution_count": 14,
   "id": "7e219700",
   "metadata": {},
   "outputs": [
    {
     "name": "stdout",
     "output_type": "stream",
     "text": [
      "home ownership\n",
      "MORTGAGE    81602.937632\n",
      "OTHER       79079.861702\n",
      "OWN         59549.615420\n",
      "RENT        55511.111333\n",
      "Name: Income, dtype: float64\n"
     ]
    }
   ],
   "source": [
    "# average income by home ownership type\n",
    "\n",
    "df3= df.set_index('home ownership').groupby('home ownership').mean()\n",
    "\n",
    "income = df3.Income\n",
    "\n",
    "print(income)"
   ]
  },
  {
   "cell_type": "code",
   "execution_count": 16,
   "id": "6c0b5d71",
   "metadata": {},
   "outputs": [
    {
     "name": "stdout",
     "output_type": "stream",
     "text": [
      "home ownership\n",
      "MORTGAGE    10.525132\n",
      "OTHER       12.030638\n",
      "OWN         10.963855\n",
      "RENT        11.462372\n",
      "Name: Rate, dtype: float64\n"
     ]
    }
   ],
   "source": [
    "# average interest by ownership type\n",
    "\n",
    "avg_int_ownership = df3.Rate\n",
    "\n",
    "print(avg_int_ownership)"
   ]
  },
  {
   "cell_type": "code",
   "execution_count": 17,
   "id": "d06178fe",
   "metadata": {},
   "outputs": [
    {
     "name": "stdout",
     "output_type": "stream",
     "text": [
      "home ownership\n",
      "MORTGAGE    10635.755444\n",
      "OTHER       11128.989362\n",
      "OWN          9130.748175\n",
      "RENT         8931.989210\n",
      "Name: Amount, dtype: float64\n"
     ]
    }
   ],
   "source": [
    "# average loan balance by ownership type\n",
    "\n",
    "avg_bal_ownership = df3.Amount\n",
    "\n",
    "print(avg_bal_ownership)"
   ]
  },
  {
   "cell_type": "code",
   "execution_count": 18,
   "id": "97061928",
   "metadata": {},
   "outputs": [
    {
     "name": "stdout",
     "output_type": "stream",
     "text": [
      "grade\n",
      "A    27.673793\n",
      "B    27.661239\n",
      "C    27.771714\n",
      "D    27.931342\n",
      "E    27.744828\n",
      "F    28.392344\n",
      "G    28.322034\n",
      "Name: Age, dtype: float64\n"
     ]
    }
   ],
   "source": [
    "df4= df.set_index('grade').groupby('grade').mean()\n",
    "\n",
    "age_grade = df4.Age\n",
    "\n",
    "print(age_grade)"
   ]
  },
  {
   "cell_type": "code",
   "execution_count": 19,
   "id": "d4ee1984",
   "metadata": {},
   "outputs": [
    {
     "name": "stdout",
     "output_type": "stream",
     "text": [
      "grade\n",
      "A     7.347094\n",
      "B    11.002471\n",
      "C    13.453041\n",
      "D    15.348901\n",
      "E    17.005655\n",
      "F    18.597321\n",
      "G    20.251525\n",
      "Name: Rate, dtype: float64\n"
     ]
    }
   ],
   "source": [
    "rate_grade = df4.Rate\n",
    "print(rate_grade)"
   ]
  },
  {
   "cell_type": "code",
   "execution_count": 21,
   "id": "aa3c7824",
   "metadata": {},
   "outputs": [
    {
     "name": "stdout",
     "output_type": "stream",
     "text": [
      "grade\n",
      "A    67028.700596\n",
      "B    66796.502240\n",
      "C    65847.889454\n",
      "D    64242.658559\n",
      "E    71174.186207\n",
      "F    80079.229665\n",
      "G    78994.898305\n",
      "Name: Income, dtype: float64\n"
     ]
    }
   ],
   "source": [
    "grade_income = df4.Income\n",
    "print(grade_income)"
   ]
  },
  {
   "cell_type": "code",
   "execution_count": 22,
   "id": "ac210f3c",
   "metadata": {},
   "outputs": [
    {
     "name": "stdout",
     "output_type": "stream",
     "text": [
      "grade\n",
      "A     8578.626888\n",
      "B    10056.633155\n",
      "C     9300.596596\n",
      "D    10879.302648\n",
      "E    12929.109195\n",
      "F    15308.014354\n",
      "G    18141.949153\n",
      "Name: Amount, dtype: float64\n"
     ]
    }
   ],
   "source": [
    "grade_amount = df4.Amount\n",
    "print(grade_amount)"
   ]
  },
  {
   "cell_type": "code",
   "execution_count": 39,
   "id": "4bf7cd67",
   "metadata": {},
   "outputs": [],
   "source": [
    "df5= df.set_index('Default').groupby('Default').mean()"
   ]
  },
  {
   "cell_type": "code",
   "execution_count": 40,
   "id": "9e798f31",
   "metadata": {},
   "outputs": [
    {
     "name": "stdout",
     "output_type": "stream",
     "text": [
      "Default\n",
      "0    27.807129\n",
      "1    27.474676\n",
      "Name: Age, dtype: float64\n"
     ]
    }
   ],
   "source": [
    "# average age of default\n",
    "\n",
    "age_Default = df5.Age\n",
    "\n",
    "print(age_Default)"
   ]
  },
  {
   "cell_type": "code",
   "execution_count": 41,
   "id": "6837ba8b",
   "metadata": {},
   "outputs": [
    {
     "name": "stdout",
     "output_type": "stream",
     "text": [
      "Default\n",
      "0    70804.361559\n",
      "1    49125.652223\n",
      "Name: Income, dtype: float64\n"
     ]
    }
   ],
   "source": [
    "income_Default = df5.Income\n",
    "print(income_Default)"
   ]
  },
  {
   "cell_type": "code",
   "execution_count": 42,
   "id": "3c66dd90",
   "metadata": {},
   "outputs": [
    {
     "name": "stdout",
     "output_type": "stream",
     "text": [
      "Default\n",
      "0    10.435999\n",
      "1    13.060207\n",
      "Name: Rate, dtype: float64\n"
     ]
    }
   ],
   "source": [
    "rate_Default = df5.Rate\n",
    "print(rate_Default)"
   ]
  },
  {
   "cell_type": "code",
   "execution_count": 43,
   "id": "b5a7ccdb",
   "metadata": {},
   "outputs": [
    {
     "name": "stdout",
     "output_type": "stream",
     "text": [
      "Default\n",
      "0     9237.464178\n",
      "1    10850.502954\n",
      "Name: Amount, dtype: float64\n"
     ]
    }
   ],
   "source": [
    "amount_Default = df5.Amount\n",
    "\n",
    "print(amount_Default)"
   ]
  },
  {
   "cell_type": "code",
   "execution_count": 53,
   "id": "7083f98e",
   "metadata": {},
   "outputs": [
    {
     "data": {
      "text/html": [
       "<div>\n",
       "<style scoped>\n",
       "    .dataframe tbody tr th:only-of-type {\n",
       "        vertical-align: middle;\n",
       "    }\n",
       "\n",
       "    .dataframe tbody tr th {\n",
       "        vertical-align: top;\n",
       "    }\n",
       "\n",
       "    .dataframe thead th {\n",
       "        text-align: right;\n",
       "    }\n",
       "</style>\n",
       "<table border=\"1\" class=\"dataframe\">\n",
       "  <thead>\n",
       "    <tr style=\"text-align: right;\">\n",
       "      <th></th>\n",
       "      <th>Age</th>\n",
       "      <th>Income</th>\n",
       "      <th>Years Employed</th>\n",
       "      <th>Amount</th>\n",
       "      <th>Rate</th>\n",
       "      <th>Loan_Percent_Income</th>\n",
       "      <th>Credit History(Years)</th>\n",
       "    </tr>\n",
       "    <tr>\n",
       "      <th>Default</th>\n",
       "      <th></th>\n",
       "      <th></th>\n",
       "      <th></th>\n",
       "      <th></th>\n",
       "      <th></th>\n",
       "      <th></th>\n",
       "      <th></th>\n",
       "    </tr>\n",
       "  </thead>\n",
       "  <tbody>\n",
       "    <tr>\n",
       "      <th>0</th>\n",
       "      <td>27.807129</td>\n",
       "      <td>70804.361559</td>\n",
       "      <td>4.968745</td>\n",
       "      <td>9237.464178</td>\n",
       "      <td>10.435999</td>\n",
       "      <td>0.148805</td>\n",
       "      <td>5.837475</td>\n",
       "    </tr>\n",
       "    <tr>\n",
       "      <th>1</th>\n",
       "      <td>27.474676</td>\n",
       "      <td>49125.652223</td>\n",
       "      <td>4.137562</td>\n",
       "      <td>10850.502954</td>\n",
       "      <td>13.060207</td>\n",
       "      <td>0.246889</td>\n",
       "      <td>5.685003</td>\n",
       "    </tr>\n",
       "  </tbody>\n",
       "</table>\n",
       "</div>"
      ],
      "text/plain": [
       "               Age        Income  Years Employed        Amount       Rate  \\\n",
       "Default                                                                     \n",
       "0        27.807129  70804.361559        4.968745   9237.464178  10.435999   \n",
       "1        27.474676  49125.652223        4.137562  10850.502954  13.060207   \n",
       "\n",
       "         Loan_Percent_Income  Credit History(Years)  \n",
       "Default                                              \n",
       "0                   0.148805               5.837475  \n",
       "1                   0.246889               5.685003  "
      ]
     },
     "execution_count": 53,
     "metadata": {},
     "output_type": "execute_result"
    }
   ],
   "source": [
    "df5.head()"
   ]
  },
  {
   "cell_type": "code",
   "execution_count": null,
   "id": "23bcd655",
   "metadata": {},
   "outputs": [],
   "source": []
  }
 ],
 "metadata": {
  "kernelspec": {
   "display_name": "Python 3",
   "language": "python",
   "name": "python3"
  },
  "language_info": {
   "codemirror_mode": {
    "name": "ipython",
    "version": 3
   },
   "file_extension": ".py",
   "mimetype": "text/x-python",
   "name": "python",
   "nbconvert_exporter": "python",
   "pygments_lexer": "ipython3",
   "version": "3.8.8"
  }
 },
 "nbformat": 4,
 "nbformat_minor": 5
}
